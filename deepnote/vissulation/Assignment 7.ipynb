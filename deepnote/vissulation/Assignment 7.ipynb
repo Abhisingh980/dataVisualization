{
  "cells": [
    {
      "cell_type": "code",
      "source": "import pandas as pd\nimport seaborn as sns\nimport matplotlib.pylab as plt\nimport numpy as np",
      "metadata": {
        "source_hash": null,
        "execution_start": 1712342591904,
        "execution_millis": 185,
        "deepnote_to_be_reexecuted": false,
        "cell_id": "1a01aca0cfd84b75bab69c4884857455",
        "deepnote_cell_type": "code"
      },
      "outputs": [],
      "outputs_reference": null,
      "execution_count": null,
      "block_group": "1a01aca0cfd84b75bab69c4884857455"
    },
    {
      "cell_type": "code",
      "source": "sale_df = pd.read_csv('CompanySalesData.csv')\nsale_df",
      "metadata": {
        "source_hash": null,
        "execution_start": 1712342591905,
        "execution_millis": 185,
        "deepnote_table_state": {
          "sortBy": [],
          "filters": [],
          "pageSize": 5,
          "pageIndex": 0
        },
        "deepnote_table_loading": false,
        "deepnote_to_be_reexecuted": false,
        "cell_id": "b0bdc6a0e4574786bd831a983d5f585c",
        "deepnote_cell_type": "code"
      },
      "outputs": [
        {
          "output_type": "execute_result",
          "execution_count": 131,
          "data": {
            "application/vnd.deepnote.dataframe.v3+json": {
              "column_count": 9,
              "row_count": 12,
              "columns": [
                {
                  "name": "month_number",
                  "dtype": "int64",
                  "stats": {
                    "unique_count": 12,
                    "nan_count": 0,
                    "min": "1",
                    "max": "12",
                    "histogram": [
                      {
                        "bin_start": 1,
                        "bin_end": 2.1,
                        "count": 2
                      },
                      {
                        "bin_start": 2.1,
                        "bin_end": 3.2,
                        "count": 1
                      },
                      {
                        "bin_start": 3.2,
                        "bin_end": 4.300000000000001,
                        "count": 1
                      },
                      {
                        "bin_start": 4.300000000000001,
                        "bin_end": 5.4,
                        "count": 1
                      },
                      {
                        "bin_start": 5.4,
                        "bin_end": 6.5,
                        "count": 1
                      },
                      {
                        "bin_start": 6.5,
                        "bin_end": 7.6000000000000005,
                        "count": 1
                      },
                      {
                        "bin_start": 7.6000000000000005,
                        "bin_end": 8.700000000000001,
                        "count": 1
                      },
                      {
                        "bin_start": 8.700000000000001,
                        "bin_end": 9.8,
                        "count": 1
                      },
                      {
                        "bin_start": 9.8,
                        "bin_end": 10.9,
                        "count": 1
                      },
                      {
                        "bin_start": 10.9,
                        "bin_end": 12,
                        "count": 2
                      }
                    ]
                  }
                },
                {
                  "name": "facecream",
                  "dtype": "int64",
                  "stats": {
                    "unique_count": 12,
                    "nan_count": 0,
                    "min": "1990",
                    "max": "3700",
                    "histogram": [
                      {
                        "bin_start": 1990,
                        "bin_end": 2161,
                        "count": 2
                      },
                      {
                        "bin_start": 2161,
                        "bin_end": 2332,
                        "count": 0
                      },
                      {
                        "bin_start": 2332,
                        "bin_end": 2503,
                        "count": 2
                      },
                      {
                        "bin_start": 2503,
                        "bin_end": 2674,
                        "count": 1
                      },
                      {
                        "bin_start": 2674,
                        "bin_end": 2845,
                        "count": 1
                      },
                      {
                        "bin_start": 2845,
                        "bin_end": 3016,
                        "count": 2
                      },
                      {
                        "bin_start": 3016,
                        "bin_end": 3187,
                        "count": 0
                      },
                      {
                        "bin_start": 3187,
                        "bin_end": 3358,
                        "count": 0
                      },
                      {
                        "bin_start": 3358,
                        "bin_end": 3529,
                        "count": 1
                      },
                      {
                        "bin_start": 3529,
                        "bin_end": 3700,
                        "count": 3
                      }
                    ]
                  }
                },
                {
                  "name": "facewash",
                  "dtype": "int64",
                  "stats": {
                    "unique_count": 12,
                    "nan_count": 0,
                    "min": "1120",
                    "max": "2100",
                    "histogram": [
                      {
                        "bin_start": 1120,
                        "bin_end": 1218,
                        "count": 3
                      },
                      {
                        "bin_start": 1218,
                        "bin_end": 1316,
                        "count": 0
                      },
                      {
                        "bin_start": 1316,
                        "bin_end": 1414,
                        "count": 2
                      },
                      {
                        "bin_start": 1414,
                        "bin_end": 1512,
                        "count": 1
                      },
                      {
                        "bin_start": 1512,
                        "bin_end": 1610,
                        "count": 1
                      },
                      {
                        "bin_start": 1610,
                        "bin_end": 1708,
                        "count": 0
                      },
                      {
                        "bin_start": 1708,
                        "bin_end": 1806,
                        "count": 3
                      },
                      {
                        "bin_start": 1806,
                        "bin_end": 1904,
                        "count": 1
                      },
                      {
                        "bin_start": 1904,
                        "bin_end": 2002,
                        "count": 0
                      },
                      {
                        "bin_start": 2002,
                        "bin_end": 2100,
                        "count": 1
                      }
                    ]
                  }
                },
                {
                  "name": "toothpaste",
                  "dtype": "int64",
                  "stats": {
                    "unique_count": 12,
                    "nan_count": 0,
                    "min": "4550",
                    "max": "8300",
                    "histogram": [
                      {
                        "bin_start": 4550,
                        "bin_end": 4925,
                        "count": 4
                      },
                      {
                        "bin_start": 4925,
                        "bin_end": 5300,
                        "count": 2
                      },
                      {
                        "bin_start": 5300,
                        "bin_end": 5675,
                        "count": 0
                      },
                      {
                        "bin_start": 5675,
                        "bin_end": 6050,
                        "count": 2
                      },
                      {
                        "bin_start": 6050,
                        "bin_end": 6425,
                        "count": 1
                      },
                      {
                        "bin_start": 6425,
                        "bin_end": 6800,
                        "count": 0
                      },
                      {
                        "bin_start": 6800,
                        "bin_end": 7175,
                        "count": 0
                      },
                      {
                        "bin_start": 7175,
                        "bin_end": 7550,
                        "count": 2
                      },
                      {
                        "bin_start": 7550,
                        "bin_end": 7925,
                        "count": 0
                      },
                      {
                        "bin_start": 7925,
                        "bin_end": 8300,
                        "count": 1
                      }
                    ]
                  }
                },
                {
                  "name": "bathingsoap",
                  "dtype": "int64",
                  "stats": {
                    "unique_count": 12,
                    "nan_count": 0,
                    "min": "6100",
                    "max": "14400",
                    "histogram": [
                      {
                        "bin_start": 6100,
                        "bin_end": 6930,
                        "count": 1
                      },
                      {
                        "bin_start": 6930,
                        "bin_end": 7760,
                        "count": 1
                      },
                      {
                        "bin_start": 7760,
                        "bin_end": 8590,
                        "count": 2
                      },
                      {
                        "bin_start": 8590,
                        "bin_end": 9420,
                        "count": 3
                      },
                      {
                        "bin_start": 9420,
                        "bin_end": 10250,
                        "count": 2
                      },
                      {
                        "bin_start": 10250,
                        "bin_end": 11080,
                        "count": 1
                      },
                      {
                        "bin_start": 11080,
                        "bin_end": 11910,
                        "count": 0
                      },
                      {
                        "bin_start": 11910,
                        "bin_end": 12740,
                        "count": 0
                      },
                      {
                        "bin_start": 12740,
                        "bin_end": 13570,
                        "count": 1
                      },
                      {
                        "bin_start": 13570,
                        "bin_end": 14400,
                        "count": 1
                      }
                    ]
                  }
                },
                {
                  "name": "shampoo",
                  "dtype": "int64",
                  "stats": {
                    "unique_count": 11,
                    "nan_count": 0,
                    "min": "1200",
                    "max": "3550",
                    "histogram": [
                      {
                        "bin_start": 1200,
                        "bin_end": 1435,
                        "count": 1
                      },
                      {
                        "bin_start": 1435,
                        "bin_end": 1670,
                        "count": 1
                      },
                      {
                        "bin_start": 1670,
                        "bin_end": 1905,
                        "count": 4
                      },
                      {
                        "bin_start": 1905,
                        "bin_end": 2140,
                        "count": 2
                      },
                      {
                        "bin_start": 2140,
                        "bin_end": 2375,
                        "count": 1
                      },
                      {
                        "bin_start": 2375,
                        "bin_end": 2610,
                        "count": 1
                      },
                      {
                        "bin_start": 2610,
                        "bin_end": 2845,
                        "count": 0
                      },
                      {
                        "bin_start": 2845,
                        "bin_end": 3080,
                        "count": 1
                      },
                      {
                        "bin_start": 3080,
                        "bin_end": 3315,
                        "count": 0
                      },
                      {
                        "bin_start": 3315,
                        "bin_end": 3550,
                        "count": 1
                      }
                    ]
                  }
                },
                {
                  "name": "moisturizer",
                  "dtype": "int64",
                  "stats": {
                    "unique_count": 12,
                    "nan_count": 0,
                    "min": "1120",
                    "max": "2100",
                    "histogram": [
                      {
                        "bin_start": 1120,
                        "bin_end": 1218,
                        "count": 3
                      },
                      {
                        "bin_start": 1218,
                        "bin_end": 1316,
                        "count": 0
                      },
                      {
                        "bin_start": 1316,
                        "bin_end": 1414,
                        "count": 2
                      },
                      {
                        "bin_start": 1414,
                        "bin_end": 1512,
                        "count": 1
                      },
                      {
                        "bin_start": 1512,
                        "bin_end": 1610,
                        "count": 1
                      },
                      {
                        "bin_start": 1610,
                        "bin_end": 1708,
                        "count": 0
                      },
                      {
                        "bin_start": 1708,
                        "bin_end": 1806,
                        "count": 3
                      },
                      {
                        "bin_start": 1806,
                        "bin_end": 1904,
                        "count": 1
                      },
                      {
                        "bin_start": 1904,
                        "bin_end": 2002,
                        "count": 0
                      },
                      {
                        "bin_start": 2002,
                        "bin_end": 2100,
                        "count": 1
                      }
                    ]
                  }
                },
                {
                  "name": "total_units",
                  "dtype": "int64",
                  "stats": {
                    "unique_count": 12,
                    "nan_count": 0,
                    "min": "18330",
                    "max": "41280",
                    "histogram": [
                      {
                        "bin_start": 18330,
                        "bin_end": 20625,
                        "count": 2
                      },
                      {
                        "bin_start": 20625,
                        "bin_end": 22920,
                        "count": 4
                      },
                      {
                        "bin_start": 22920,
                        "bin_end": 25215,
                        "count": 1
                      },
                      {
                        "bin_start": 25215,
                        "bin_end": 27510,
                        "count": 1
                      },
                      {
                        "bin_start": 27510,
                        "bin_end": 29805,
                        "count": 1
                      },
                      {
                        "bin_start": 29805,
                        "bin_end": 32100,
                        "count": 1
                      },
                      {
                        "bin_start": 32100,
                        "bin_end": 34395,
                        "count": 0
                      },
                      {
                        "bin_start": 34395,
                        "bin_end": 36690,
                        "count": 1
                      },
                      {
                        "bin_start": 36690,
                        "bin_end": 38985,
                        "count": 0
                      },
                      {
                        "bin_start": 38985,
                        "bin_end": 41280,
                        "count": 1
                      }
                    ]
                  }
                },
                {
                  "name": "total_profit",
                  "dtype": "int64",
                  "stats": {
                    "unique_count": 12,
                    "nan_count": 0,
                    "min": "183300",
                    "max": "412800",
                    "histogram": [
                      {
                        "bin_start": 183300,
                        "bin_end": 206250,
                        "count": 2
                      },
                      {
                        "bin_start": 206250,
                        "bin_end": 229200,
                        "count": 4
                      },
                      {
                        "bin_start": 229200,
                        "bin_end": 252150,
                        "count": 1
                      },
                      {
                        "bin_start": 252150,
                        "bin_end": 275100,
                        "count": 1
                      },
                      {
                        "bin_start": 275100,
                        "bin_end": 298050,
                        "count": 1
                      },
                      {
                        "bin_start": 298050,
                        "bin_end": 321000,
                        "count": 1
                      },
                      {
                        "bin_start": 321000,
                        "bin_end": 343950,
                        "count": 0
                      },
                      {
                        "bin_start": 343950,
                        "bin_end": 366900,
                        "count": 1
                      },
                      {
                        "bin_start": 366900,
                        "bin_end": 389850,
                        "count": 0
                      },
                      {
                        "bin_start": 389850,
                        "bin_end": 412800,
                        "count": 1
                      }
                    ]
                  }
                },
                {
                  "name": "_deepnote_index_column",
                  "dtype": "int64"
                }
              ],
              "rows": [
                {
                  "month_number": 1,
                  "facecream": 2500,
                  "facewash": 1500,
                  "toothpaste": 5200,
                  "bathingsoap": 9200,
                  "shampoo": 1200,
                  "moisturizer": 1500,
                  "total_units": 21100,
                  "total_profit": 211000,
                  "_deepnote_index_column": 0
                },
                {
                  "month_number": 2,
                  "facecream": 2630,
                  "facewash": 1200,
                  "toothpaste": 5100,
                  "bathingsoap": 6100,
                  "shampoo": 2100,
                  "moisturizer": 1200,
                  "total_units": 18330,
                  "total_profit": 183300,
                  "_deepnote_index_column": 1
                },
                {
                  "month_number": 3,
                  "facecream": 2140,
                  "facewash": 1340,
                  "toothpaste": 4550,
                  "bathingsoap": 9550,
                  "shampoo": 3550,
                  "moisturizer": 1340,
                  "total_units": 22470,
                  "total_profit": 224700,
                  "_deepnote_index_column": 2
                },
                {
                  "month_number": 4,
                  "facecream": 3400,
                  "facewash": 1130,
                  "toothpaste": 5870,
                  "bathingsoap": 8870,
                  "shampoo": 1870,
                  "moisturizer": 1130,
                  "total_units": 22270,
                  "total_profit": 222700,
                  "_deepnote_index_column": 3
                },
                {
                  "month_number": 5,
                  "facecream": 3600,
                  "facewash": 1740,
                  "toothpaste": 4560,
                  "bathingsoap": 7760,
                  "shampoo": 1560,
                  "moisturizer": 1740,
                  "total_units": 20960,
                  "total_profit": 209600,
                  "_deepnote_index_column": 4
                }
              ]
            },
            "text/plain": "    month_number  facecream  facewash  toothpaste  bathingsoap  shampoo  \\\n0              1       2500      1500        5200         9200     1200   \n1              2       2630      1200        5100         6100     2100   \n2              3       2140      1340        4550         9550     3550   \n3              4       3400      1130        5870         8870     1870   \n4              5       3600      1740        4560         7760     1560   \n5              6       2760      1555        4890         7490     1890   \n6              7       2980      1120        4780         8980     1780   \n7              8       3700      1400        5860         9960     2860   \n8              9       3540      1780        6100         8100     2100   \n9             10       1990      1890        8300        10300     2300   \n10            11       2340      2100        7300        13300     2400   \n11            12       2900      1760        7400        14400     1800   \n\n    moisturizer  total_units  total_profit  \n0          1500        21100        211000  \n1          1200        18330        183300  \n2          1340        22470        224700  \n3          1130        22270        222700  \n4          1740        20960        209600  \n5          1555        20140        201400  \n6          1120        29550        295500  \n7          1400        36140        361400  \n8          1780        23400        234000  \n9          1890        26670        266700  \n10         2100        41280        412800  \n11         1760        30020        300200  ",
            "text/html": "<div>\n<style scoped>\n    .dataframe tbody tr th:only-of-type {\n        vertical-align: middle;\n    }\n\n    .dataframe tbody tr th {\n        vertical-align: top;\n    }\n\n    .dataframe thead th {\n        text-align: right;\n    }\n</style>\n<table border=\"1\" class=\"dataframe\">\n  <thead>\n    <tr style=\"text-align: right;\">\n      <th></th>\n      <th>month_number</th>\n      <th>facecream</th>\n      <th>facewash</th>\n      <th>toothpaste</th>\n      <th>bathingsoap</th>\n      <th>shampoo</th>\n      <th>moisturizer</th>\n      <th>total_units</th>\n      <th>total_profit</th>\n    </tr>\n  </thead>\n  <tbody>\n    <tr>\n      <th>0</th>\n      <td>1</td>\n      <td>2500</td>\n      <td>1500</td>\n      <td>5200</td>\n      <td>9200</td>\n      <td>1200</td>\n      <td>1500</td>\n      <td>21100</td>\n      <td>211000</td>\n    </tr>\n    <tr>\n      <th>1</th>\n      <td>2</td>\n      <td>2630</td>\n      <td>1200</td>\n      <td>5100</td>\n      <td>6100</td>\n      <td>2100</td>\n      <td>1200</td>\n      <td>18330</td>\n      <td>183300</td>\n    </tr>\n    <tr>\n      <th>2</th>\n      <td>3</td>\n      <td>2140</td>\n      <td>1340</td>\n      <td>4550</td>\n      <td>9550</td>\n      <td>3550</td>\n      <td>1340</td>\n      <td>22470</td>\n      <td>224700</td>\n    </tr>\n    <tr>\n      <th>3</th>\n      <td>4</td>\n      <td>3400</td>\n      <td>1130</td>\n      <td>5870</td>\n      <td>8870</td>\n      <td>1870</td>\n      <td>1130</td>\n      <td>22270</td>\n      <td>222700</td>\n    </tr>\n    <tr>\n      <th>4</th>\n      <td>5</td>\n      <td>3600</td>\n      <td>1740</td>\n      <td>4560</td>\n      <td>7760</td>\n      <td>1560</td>\n      <td>1740</td>\n      <td>20960</td>\n      <td>209600</td>\n    </tr>\n    <tr>\n      <th>5</th>\n      <td>6</td>\n      <td>2760</td>\n      <td>1555</td>\n      <td>4890</td>\n      <td>7490</td>\n      <td>1890</td>\n      <td>1555</td>\n      <td>20140</td>\n      <td>201400</td>\n    </tr>\n    <tr>\n      <th>6</th>\n      <td>7</td>\n      <td>2980</td>\n      <td>1120</td>\n      <td>4780</td>\n      <td>8980</td>\n      <td>1780</td>\n      <td>1120</td>\n      <td>29550</td>\n      <td>295500</td>\n    </tr>\n    <tr>\n      <th>7</th>\n      <td>8</td>\n      <td>3700</td>\n      <td>1400</td>\n      <td>5860</td>\n      <td>9960</td>\n      <td>2860</td>\n      <td>1400</td>\n      <td>36140</td>\n      <td>361400</td>\n    </tr>\n    <tr>\n      <th>8</th>\n      <td>9</td>\n      <td>3540</td>\n      <td>1780</td>\n      <td>6100</td>\n      <td>8100</td>\n      <td>2100</td>\n      <td>1780</td>\n      <td>23400</td>\n      <td>234000</td>\n    </tr>\n    <tr>\n      <th>9</th>\n      <td>10</td>\n      <td>1990</td>\n      <td>1890</td>\n      <td>8300</td>\n      <td>10300</td>\n      <td>2300</td>\n      <td>1890</td>\n      <td>26670</td>\n      <td>266700</td>\n    </tr>\n    <tr>\n      <th>10</th>\n      <td>11</td>\n      <td>2340</td>\n      <td>2100</td>\n      <td>7300</td>\n      <td>13300</td>\n      <td>2400</td>\n      <td>2100</td>\n      <td>41280</td>\n      <td>412800</td>\n    </tr>\n    <tr>\n      <th>11</th>\n      <td>12</td>\n      <td>2900</td>\n      <td>1760</td>\n      <td>7400</td>\n      <td>14400</td>\n      <td>1800</td>\n      <td>1760</td>\n      <td>30020</td>\n      <td>300200</td>\n    </tr>\n  </tbody>\n</table>\n</div>"
          },
          "metadata": {}
        }
      ],
      "outputs_reference": null,
      "execution_count": null,
      "block_group": "136ebf6c99f447ab91a2a851b6a7fd50"
    },
    {
      "cell_type": "markdown",
      "source": "For a given CSE File.\na) Read Total profit of all months and show it using a bar chart",
      "metadata": {
        "formattedRanges": [
          {
            "type": "marks",
            "marks": {
              "color": "#F63E8E"
            },
            "toCodePoint": 86,
            "fromCodePoint": 0
          }
        ],
        "cell_id": "d368fc942ca24851b842487563e56574",
        "deepnote_cell_type": "text-cell-p"
      },
      "block_group": "d91b040a9b0449f48ed37e06259b5744"
    },
    {
      "cell_type": "code",
      "source": "plt.figure(figsize=(12,5))\nsns.barplot(data=sale_df,x='month_number',y='total_profit',hue='month_number',errorbar=None,gap=0.6,palette='Set1',legend=False)\nplt.title('month vs total profit',fontdict={'color':'blue','fontweight':'bold','fontstyle':'oblique','fontsize':12})\nplt.xlabel('Months',fontdict={'color':'red','fontweight':'bold','fontstyle':'italic','fontsize':10})\nplt.ylabel('Total profit',fontdict={'color':'green','fontweight':'bold','fontstyle':'italic','fontsize':10})\nplt.show()",
      "metadata": {
        "source_hash": null,
        "execution_start": 1712342592066,
        "execution_millis": 401,
        "deepnote_to_be_reexecuted": false,
        "cell_id": "da7c85ddda34467cab2a05b76a3e0a11",
        "deepnote_cell_type": "code"
      },
      "outputs": [
        {
          "data": {
            "text/plain": "<Figure size 1200x500 with 1 Axes>",
            "image/png": "[encoded data removed]"
          },
          "metadata": {
            "image/png": {
              "width": 1031,
              "height": 470
            }
          },
          "output_type": "display_data"
        }
      ],
      "outputs_reference": null,
      "execution_count": null,
      "block_group": "daa7447eb77d4b79be72839460754ef5"
    },
    {
      "cell_type": "markdown",
      "source": "b) Get total profit of all months and show line plot with the following Style properties\n• Line Style dotted and Line-color should be red\n• Show legend at the lower right location.\n• X label name = Month Number\n• Y label name = Sold units number\n• Add a circle marker.\n• Line marker color as read\n• Line width should be 3",
      "metadata": {
        "formattedRanges": [
          {
            "type": "marks",
            "marks": {
              "color": "#F63E8E"
            },
            "toCodePoint": 321,
            "fromCodePoint": 0
          }
        ],
        "cell_id": "9ed50c5fb1d646e5ba35bee1e6b4345e",
        "deepnote_cell_type": "text-cell-p"
      },
      "block_group": "1bbba82cff3a403db087fd21917a88be"
    },
    {
      "cell_type": "code",
      "source": "fig,ax = plt.subplots(figsize=(12,5))\nsns.lineplot(data=sale_df,x='month_number',y='total_profit',ax=ax,linestyle='dotted',label='profit',linewidth=3,color='red',marker='o',markersize=10)\nplt.xlabel('Month Number')\nplt.ylabel('Sold unit number')\nplt.legend(loc='lower right')\nfor i in ['top','right']: \n    ax.spines[i].set_visible(False)\nfig.show()",
      "metadata": {
        "source_hash": null,
        "execution_start": 1712342592469,
        "execution_millis": 493,
        "deepnote_to_be_reexecuted": false,
        "cell_id": "d608ea3d7aa24ab1a9f08ff4119cf008",
        "deepnote_cell_type": "code"
      },
      "outputs": [
        {
          "data": {
            "text/plain": "<Figure size 1200x500 with 1 Axes>",
            "image/png": "[encoded data removed]"
          },
          "metadata": {
            "image/png": {
              "width": 1031,
              "height": 448
            }
          },
          "output_type": "display_data"
        }
      ],
      "outputs_reference": null,
      "execution_count": null,
      "block_group": "968415374d9e4a04a573dc026428e02f"
    },
    {
      "cell_type": "markdown",
      "source": "c) Read all product sales data and show it using a scatter plot",
      "metadata": {
        "formattedRanges": [
          {
            "type": "marks",
            "marks": {
              "color": "#F63E8E"
            },
            "toCodePoint": 63,
            "fromCodePoint": 0
          }
        ],
        "cell_id": "1bc2873d78b54e62a1d2e0bc017dd147",
        "deepnote_cell_type": "text-cell-p"
      },
      "block_group": "5accc2badeb4496f9cabc6c5d3d1eed3"
    },
    {
      "cell_type": "code",
      "source": "sale_df.info()",
      "metadata": {
        "source_hash": null,
        "execution_start": 1712342592730,
        "execution_millis": 233,
        "deepnote_to_be_reexecuted": false,
        "cell_id": "4f7ee66f71044a56821c1ec086a080d6",
        "deepnote_cell_type": "code"
      },
      "outputs": [
        {
          "name": "stdout",
          "text": "<class 'pandas.core.frame.DataFrame'>\nRangeIndex: 12 entries, 0 to 11\nData columns (total 9 columns):\n #   Column        Non-Null Count  Dtype\n---  ------        --------------  -----\n 0   month_number  12 non-null     int64\n 1   facecream     12 non-null     int64\n 2   facewash      12 non-null     int64\n 3   toothpaste    12 non-null     int64\n 4   bathingsoap   12 non-null     int64\n 5   shampoo       12 non-null     int64\n 6   moisturizer   12 non-null     int64\n 7   total_units   12 non-null     int64\n 8   total_profit  12 non-null     int64\ndtypes: int64(9)\nmemory usage: 992.0 bytes\n",
          "output_type": "stream"
        }
      ],
      "outputs_reference": null,
      "execution_count": null,
      "block_group": "4445e480b978495f8e7bb96fbca66782"
    },
    {
      "cell_type": "code",
      "source": "copy_sale_data = sale_df.iloc[:,:7].copy()\ncopy_sale_data.head(2)",
      "metadata": {
        "source_hash": null,
        "execution_start": 1712342592746,
        "execution_millis": 217,
        "deepnote_to_be_reexecuted": false,
        "cell_id": "07766800713b405390ed7078c4882041",
        "deepnote_cell_type": "code"
      },
      "outputs": [
        {
          "output_type": "execute_result",
          "execution_count": 135,
          "data": {
            "application/vnd.deepnote.dataframe.v3+json": {
              "column_count": 7,
              "row_count": 2,
              "columns": [
                {
                  "name": "month_number",
                  "dtype": "int64",
                  "stats": {
                    "unique_count": 2,
                    "nan_count": 0,
                    "min": "1",
                    "max": "2",
                    "histogram": [
                      {
                        "bin_start": 1,
                        "bin_end": 1.1,
                        "count": 1
                      },
                      {
                        "bin_start": 1.1,
                        "bin_end": 1.2,
                        "count": 0
                      },
                      {
                        "bin_start": 1.2,
                        "bin_end": 1.3,
                        "count": 0
                      },
                      {
                        "bin_start": 1.3,
                        "bin_end": 1.4,
                        "count": 0
                      },
                      {
                        "bin_start": 1.4,
                        "bin_end": 1.5,
                        "count": 0
                      },
                      {
                        "bin_start": 1.5,
                        "bin_end": 1.6,
                        "count": 0
                      },
                      {
                        "bin_start": 1.6,
                        "bin_end": 1.7000000000000002,
                        "count": 0
                      },
                      {
                        "bin_start": 1.7000000000000002,
                        "bin_end": 1.8,
                        "count": 0
                      },
                      {
                        "bin_start": 1.8,
                        "bin_end": 1.9,
                        "count": 0
                      },
                      {
                        "bin_start": 1.9,
                        "bin_end": 2,
                        "count": 1
                      }
                    ]
                  }
                },
                {
                  "name": "facecream",
                  "dtype": "int64",
                  "stats": {
                    "unique_count": 2,
                    "nan_count": 0,
                    "min": "2500",
                    "max": "2630",
                    "histogram": [
                      {
                        "bin_start": 2500,
                        "bin_end": 2513,
                        "count": 1
                      },
                      {
                        "bin_start": 2513,
                        "bin_end": 2526,
                        "count": 0
                      },
                      {
                        "bin_start": 2526,
                        "bin_end": 2539,
                        "count": 0
                      },
                      {
                        "bin_start": 2539,
                        "bin_end": 2552,
                        "count": 0
                      },
                      {
                        "bin_start": 2552,
                        "bin_end": 2565,
                        "count": 0
                      },
                      {
                        "bin_start": 2565,
                        "bin_end": 2578,
                        "count": 0
                      },
                      {
                        "bin_start": 2578,
                        "bin_end": 2591,
                        "count": 0
                      },
                      {
                        "bin_start": 2591,
                        "bin_end": 2604,
                        "count": 0
                      },
                      {
                        "bin_start": 2604,
                        "bin_end": 2617,
                        "count": 0
                      },
                      {
                        "bin_start": 2617,
                        "bin_end": 2630,
                        "count": 1
                      }
                    ]
                  }
                },
                {
                  "name": "facewash",
                  "dtype": "int64",
                  "stats": {
                    "unique_count": 2,
                    "nan_count": 0,
                    "min": "1200",
                    "max": "1500",
                    "histogram": [
                      {
                        "bin_start": 1200,
                        "bin_end": 1230,
                        "count": 1
                      },
                      {
                        "bin_start": 1230,
                        "bin_end": 1260,
                        "count": 0
                      },
                      {
                        "bin_start": 1260,
                        "bin_end": 1290,
                        "count": 0
                      },
                      {
                        "bin_start": 1290,
                        "bin_end": 1320,
                        "count": 0
                      },
                      {
                        "bin_start": 1320,
                        "bin_end": 1350,
                        "count": 0
                      },
                      {
                        "bin_start": 1350,
                        "bin_end": 1380,
                        "count": 0
                      },
                      {
                        "bin_start": 1380,
                        "bin_end": 1410,
                        "count": 0
                      },
                      {
                        "bin_start": 1410,
                        "bin_end": 1440,
                        "count": 0
                      },
                      {
                        "bin_start": 1440,
                        "bin_end": 1470,
                        "count": 0
                      },
                      {
                        "bin_start": 1470,
                        "bin_end": 1500,
                        "count": 1
                      }
                    ]
                  }
                },
                {
                  "name": "toothpaste",
                  "dtype": "int64",
                  "stats": {
                    "unique_count": 2,
                    "nan_count": 0,
                    "min": "5100",
                    "max": "5200",
                    "histogram": [
                      {
                        "bin_start": 5100,
                        "bin_end": 5110,
                        "count": 1
                      },
                      {
                        "bin_start": 5110,
                        "bin_end": 5120,
                        "count": 0
                      },
                      {
                        "bin_start": 5120,
                        "bin_end": 5130,
                        "count": 0
                      },
                      {
                        "bin_start": 5130,
                        "bin_end": 5140,
                        "count": 0
                      },
                      {
                        "bin_start": 5140,
                        "bin_end": 5150,
                        "count": 0
                      },
                      {
                        "bin_start": 5150,
                        "bin_end": 5160,
                        "count": 0
                      },
                      {
                        "bin_start": 5160,
                        "bin_end": 5170,
                        "count": 0
                      },
                      {
                        "bin_start": 5170,
                        "bin_end": 5180,
                        "count": 0
                      },
                      {
                        "bin_start": 5180,
                        "bin_end": 5190,
                        "count": 0
                      },
                      {
                        "bin_start": 5190,
                        "bin_end": 5200,
                        "count": 1
                      }
                    ]
                  }
                },
                {
                  "name": "bathingsoap",
                  "dtype": "int64",
                  "stats": {
                    "unique_count": 2,
                    "nan_count": 0,
                    "min": "6100",
                    "max": "9200",
                    "histogram": [
                      {
                        "bin_start": 6100,
                        "bin_end": 6410,
                        "count": 1
                      },
                      {
                        "bin_start": 6410,
                        "bin_end": 6720,
                        "count": 0
                      },
                      {
                        "bin_start": 6720,
                        "bin_end": 7030,
                        "count": 0
                      },
                      {
                        "bin_start": 7030,
                        "bin_end": 7340,
                        "count": 0
                      },
                      {
                        "bin_start": 7340,
                        "bin_end": 7650,
                        "count": 0
                      },
                      {
                        "bin_start": 7650,
                        "bin_end": 7960,
                        "count": 0
                      },
                      {
                        "bin_start": 7960,
                        "bin_end": 8270,
                        "count": 0
                      },
                      {
                        "bin_start": 8270,
                        "bin_end": 8580,
                        "count": 0
                      },
                      {
                        "bin_start": 8580,
                        "bin_end": 8890,
                        "count": 0
                      },
                      {
                        "bin_start": 8890,
                        "bin_end": 9200,
                        "count": 1
                      }
                    ]
                  }
                },
                {
                  "name": "shampoo",
                  "dtype": "int64",
                  "stats": {
                    "unique_count": 2,
                    "nan_count": 0,
                    "min": "1200",
                    "max": "2100",
                    "histogram": [
                      {
                        "bin_start": 1200,
                        "bin_end": 1290,
                        "count": 1
                      },
                      {
                        "bin_start": 1290,
                        "bin_end": 1380,
                        "count": 0
                      },
                      {
                        "bin_start": 1380,
                        "bin_end": 1470,
                        "count": 0
                      },
                      {
                        "bin_start": 1470,
                        "bin_end": 1560,
                        "count": 0
                      },
                      {
                        "bin_start": 1560,
                        "bin_end": 1650,
                        "count": 0
                      },
                      {
                        "bin_start": 1650,
                        "bin_end": 1740,
                        "count": 0
                      },
                      {
                        "bin_start": 1740,
                        "bin_end": 1830,
                        "count": 0
                      },
                      {
                        "bin_start": 1830,
                        "bin_end": 1920,
                        "count": 0
                      },
                      {
                        "bin_start": 1920,
                        "bin_end": 2010,
                        "count": 0
                      },
                      {
                        "bin_start": 2010,
                        "bin_end": 2100,
                        "count": 1
                      }
                    ]
                  }
                },
                {
                  "name": "moisturizer",
                  "dtype": "int64",
                  "stats": {
                    "unique_count": 2,
                    "nan_count": 0,
                    "min": "1200",
                    "max": "1500",
                    "histogram": [
                      {
                        "bin_start": 1200,
                        "bin_end": 1230,
                        "count": 1
                      },
                      {
                        "bin_start": 1230,
                        "bin_end": 1260,
                        "count": 0
                      },
                      {
                        "bin_start": 1260,
                        "bin_end": 1290,
                        "count": 0
                      },
                      {
                        "bin_start": 1290,
                        "bin_end": 1320,
                        "count": 0
                      },
                      {
                        "bin_start": 1320,
                        "bin_end": 1350,
                        "count": 0
                      },
                      {
                        "bin_start": 1350,
                        "bin_end": 1380,
                        "count": 0
                      },
                      {
                        "bin_start": 1380,
                        "bin_end": 1410,
                        "count": 0
                      },
                      {
                        "bin_start": 1410,
                        "bin_end": 1440,
                        "count": 0
                      },
                      {
                        "bin_start": 1440,
                        "bin_end": 1470,
                        "count": 0
                      },
                      {
                        "bin_start": 1470,
                        "bin_end": 1500,
                        "count": 1
                      }
                    ]
                  }
                },
                {
                  "name": "_deepnote_index_column",
                  "dtype": "int64"
                }
              ],
              "rows": [
                {
                  "month_number": 1,
                  "facecream": 2500,
                  "facewash": 1500,
                  "toothpaste": 5200,
                  "bathingsoap": 9200,
                  "shampoo": 1200,
                  "moisturizer": 1500,
                  "_deepnote_index_column": 0
                },
                {
                  "month_number": 2,
                  "facecream": 2630,
                  "facewash": 1200,
                  "toothpaste": 5100,
                  "bathingsoap": 6100,
                  "shampoo": 2100,
                  "moisturizer": 1200,
                  "_deepnote_index_column": 1
                }
              ]
            },
            "text/plain": "   month_number  facecream  facewash  toothpaste  bathingsoap  shampoo  \\\n0             1       2500      1500        5200         9200     1200   \n1             2       2630      1200        5100         6100     2100   \n\n   moisturizer  \n0         1500  \n1         1200  ",
            "text/html": "<div>\n<style scoped>\n    .dataframe tbody tr th:only-of-type {\n        vertical-align: middle;\n    }\n\n    .dataframe tbody tr th {\n        vertical-align: top;\n    }\n\n    .dataframe thead th {\n        text-align: right;\n    }\n</style>\n<table border=\"1\" class=\"dataframe\">\n  <thead>\n    <tr style=\"text-align: right;\">\n      <th></th>\n      <th>month_number</th>\n      <th>facecream</th>\n      <th>facewash</th>\n      <th>toothpaste</th>\n      <th>bathingsoap</th>\n      <th>shampoo</th>\n      <th>moisturizer</th>\n    </tr>\n  </thead>\n  <tbody>\n    <tr>\n      <th>0</th>\n      <td>1</td>\n      <td>2500</td>\n      <td>1500</td>\n      <td>5200</td>\n      <td>9200</td>\n      <td>1200</td>\n      <td>1500</td>\n    </tr>\n    <tr>\n      <th>1</th>\n      <td>2</td>\n      <td>2630</td>\n      <td>1200</td>\n      <td>5100</td>\n      <td>6100</td>\n      <td>2100</td>\n      <td>1200</td>\n    </tr>\n  </tbody>\n</table>\n</div>"
          },
          "metadata": {}
        }
      ],
      "outputs_reference": null,
      "execution_count": null,
      "block_group": "d8eda661e7d249e19ebb246899c8e452"
    },
    {
      "cell_type": "code",
      "source": "fig,ax = plt.subplots(figsize=(12,5))\nfor i in copy_sale_data.columns[1:]:\n    sns.scatterplot(data=copy_sale_data,x='month_number',y=i,label=i.upper())\nm = np.arange(0,13,1)\nax.set_xticks(m) \nfig.show()",
      "metadata": {
        "source_hash": null,
        "execution_start": 1712342592751,
        "execution_millis": 468,
        "deepnote_to_be_reexecuted": false,
        "cell_id": "24bf9c5be6ac4bb9a061eb13ea214cee",
        "deepnote_cell_type": "code"
      },
      "outputs": [
        {
          "data": {
            "text/plain": "<Figure size 1200x500 with 1 Axes>",
            "image/png": "[encoded data removed]"
          },
          "metadata": {
            "image/png": {
              "width": 1023,
              "height": 448
            }
          },
          "output_type": "display_data"
        }
      ],
      "outputs_reference": null,
      "execution_count": null,
      "block_group": "51806cebb264442caef90ba383880e20"
    },
    {
      "cell_type": "markdown",
      "source": "d) Read toothpaste sales data of each month and show it using the bar chart.",
      "metadata": {
        "formattedRanges": [
          {
            "type": "marks",
            "marks": {
              "color": "#F63E8E"
            },
            "toCodePoint": 76,
            "fromCodePoint": 0
          }
        ],
        "cell_id": "4783ebb121a54fe38b44f97429b9107e",
        "deepnote_cell_type": "text-cell-p"
      },
      "block_group": "1c2222e949324069953c1c2af6db2eff"
    },
    {
      "cell_type": "code",
      "source": "fig,ax = plt.subplots(figsize=(12,5))\nsns.barplot(data=copy_sale_data,x='month_number',y='toothpaste',ax=ax,hue='month_number',legend=False,palette='Set2',)\n\nfig.show()",
      "metadata": {
        "source_hash": null,
        "execution_start": 1712342593235,
        "execution_millis": 418,
        "deepnote_to_be_reexecuted": false,
        "cell_id": "8241f360a3504b92a8faa41e7a6364f3",
        "deepnote_cell_type": "code"
      },
      "outputs": [
        {
          "data": {
            "text/plain": "<Figure size 1200x500 with 1 Axes>",
            "image/png": "[encoded data removed]"
          },
          "metadata": {
            "image/png": {
              "width": 1014,
              "height": 448
            }
          },
          "output_type": "display_data"
        }
      ],
      "outputs_reference": null,
      "execution_count": null,
      "block_group": "024a6877a6bb464a859736bccd78d35f"
    },
    {
      "cell_type": "markdown",
      "source": "e) Read face cream and facewash product sales data and show it using the multiline plot",
      "metadata": {
        "formattedRanges": [
          {
            "type": "marks",
            "marks": {
              "color": "#F63E8E"
            },
            "toCodePoint": 87,
            "fromCodePoint": 0
          }
        ],
        "cell_id": "39764d708a6248759098f94783817057",
        "deepnote_cell_type": "text-cell-p"
      },
      "block_group": "44834ea3d7cb4a30a47e315ccc753ead"
    },
    {
      "cell_type": "code",
      "source": "plt.figure(figsize=(12,8))\nsns.lineplot(data=copy_sale_data,x='month_number',y='facewash',marker='o')\nsns.lineplot(data=copy_sale_data,x='month_number',y='facecream',marker='^')\nplt.xticks(m)\nplt.show()",
      "metadata": {
        "source_hash": null,
        "execution_start": 1712342593677,
        "execution_millis": 270,
        "deepnote_to_be_reexecuted": false,
        "cell_id": "c31cfa88efdd44879ebf9871638be8fa",
        "deepnote_cell_type": "code"
      },
      "outputs": [
        {
          "data": {
            "text/plain": "<Figure size 1200x800 with 1 Axes>",
            "image/png": "[encoded data removed]"
          },
          "metadata": {
            "image/png": {
              "width": 1014,
              "height": 679
            }
          },
          "output_type": "display_data"
        }
      ],
      "outputs_reference": null,
      "execution_count": null,
      "block_group": "983d7ff9385e40388b843374b095d29c"
    },
    {
      "cell_type": "markdown",
      "source": "f) Read sales data of bathing soap of all months and show it using a line plot",
      "metadata": {
        "formattedRanges": [
          {
            "type": "marks",
            "marks": {
              "color": "#F63E8E"
            },
            "toCodePoint": 78,
            "fromCodePoint": 0
          }
        ],
        "cell_id": "f29a39fe6f124b0eb0a6528ce874a1e0",
        "deepnote_cell_type": "text-cell-p"
      },
      "block_group": "76a63777a96943a29af352781ed9a056"
    },
    {
      "cell_type": "code",
      "source": "plt.figure(figsize=(12,5))\nsns.lineplot(data=copy_sale_data,x='month_number',y='bathingsoap',color='green',legend=False)\nplt.xticks(m)\nplt.show()",
      "metadata": {
        "source_hash": null,
        "execution_start": 1712342593955,
        "execution_millis": 341,
        "deepnote_to_be_reexecuted": false,
        "cell_id": "509b03bc490447e9bb567f0d47515423",
        "deepnote_cell_type": "code"
      },
      "outputs": [
        {
          "data": {
            "text/plain": "<Figure size 1200x500 with 1 Axes>",
            "image/png": "[encoded data removed]"
          },
          "metadata": {
            "image/png": {
              "width": 1023,
              "height": 448
            }
          },
          "output_type": "display_data"
        }
      ],
      "outputs_reference": null,
      "execution_count": null,
      "block_group": "1ce05ddfc8a44320b96123030c778ad4"
    },
    {
      "cell_type": "markdown",
      "source": "g Read the total profit of each month and show it using the histogram to see the most\ncommon profit ranges",
      "metadata": {
        "formattedRanges": [
          {
            "type": "marks",
            "marks": {
              "color": "#F63E8E"
            },
            "toCodePoint": 106,
            "fromCodePoint": 0
          }
        ],
        "cell_id": "f6d21d5e670444719da499cb1a0487d6",
        "deepnote_cell_type": "text-cell-p"
      },
      "block_group": "7b688b7a8060486a89b6eaa955ca040b"
    },
    {
      "cell_type": "code",
      "source": "sale_m_profit = sale_df[['month_number','total_profit']].copy()\nsale_m_profit.groupby(['total_profit'])['month_number'].count()",
      "metadata": {
        "source_hash": null,
        "execution_start": 1712344080401,
        "execution_millis": 38,
        "deepnote_to_be_reexecuted": false,
        "cell_id": "4ca1afaa7ad64263bb6eaac4cccdb8c3",
        "deepnote_cell_type": "code"
      },
      "outputs": [
        {
          "output_type": "execute_result",
          "execution_count": 164,
          "data": {
            "text/plain": "total_profit\n183300    1\n201400    1\n209600    1\n211000    1\n222700    1\n224700    1\n234000    1\n266700    1\n295500    1\n300200    1\n361400    1\n412800    1\nName: month_number, dtype: int64"
          },
          "metadata": {}
        }
      ],
      "outputs_reference": null,
      "execution_count": null,
      "block_group": "22399518a4454f38ab7df0d21392dacd"
    },
    {
      "cell_type": "code",
      "source": "plt.figure(figsize=(12,5))\nsns.histplot(data=sale_m_profit,bins=20)\nplt.show()",
      "metadata": {
        "source_hash": null,
        "execution_start": 1712343970912,
        "execution_millis": 273,
        "deepnote_to_be_reexecuted": false,
        "cell_id": "a1fda770f2e54e9c903830eb4fb8b2e1",
        "deepnote_cell_type": "code"
      },
      "outputs": [
        {
          "data": {
            "text/plain": "<Figure size 1200x500 with 1 Axes>",
            "image/png": "[encoded data removed]"
          },
          "metadata": {
            "image/png": {
              "width": 996,
              "height": 428
            }
          },
          "output_type": "display_data"
        }
      ],
      "outputs_reference": null,
      "execution_count": null,
      "block_group": "ef3f6f47a80041a381e2bd3e5969eb35"
    },
    {
      "cell_type": "markdown",
      "source": "h) Calculate total sale data for last year for each product and show it using a Pie chart",
      "metadata": {
        "formattedRanges": [
          {
            "type": "marks",
            "marks": {
              "color": "#F63E8E"
            },
            "toCodePoint": 89,
            "fromCodePoint": 0
          }
        ],
        "cell_id": "5baeff32b5f44c67aa104df0321ba7db",
        "deepnote_cell_type": "text-cell-p"
      },
      "block_group": "d0d16664c47140d2887f630ebcb9183d"
    },
    {
      "cell_type": "code",
      "source": "last = sale_df.tail(1).iloc[-1,1:7].reset_index()\nlast.rename(columns=dict(zip(last.columns,['item','total_sale'])),inplace=True)",
      "metadata": {
        "source_hash": null,
        "execution_start": 1712345039081,
        "execution_millis": 163,
        "deepnote_to_be_reexecuted": false,
        "cell_id": "42cab4a322b642f0a2aa19f52c51c163",
        "deepnote_cell_type": "code"
      },
      "outputs": [],
      "outputs_reference": null,
      "execution_count": null,
      "block_group": "cb5dad7c24694ba6a6f8d8d0a7d658f3"
    },
    {
      "cell_type": "code",
      "source": "plt.figure(figsize=(12,5),facecolor='black')\npalette_color = sns.color_palette('Set1')\nex=[0.3,0.4,0.01,0.01,0.1,0.2]\nplt.pie(last['total_sale'],labels=last['item'],\n            colors=palette_color,explode=ex,autopct='%.2f%%',\n            shadow=True,textprops={'color':'white'},\n            frame=False)\n\nplt.show()",
      "metadata": {
        "source_hash": null,
        "execution_start": 1712346236276,
        "execution_millis": 200,
        "deepnote_to_be_reexecuted": false,
        "cell_id": "c5cf3de086d844cca9ba9fdf95c828e2",
        "deepnote_cell_type": "code"
      },
      "outputs": [
        {
          "data": {
            "text/plain": "<Figure size 1200x500 with 1 Axes>",
            "image/png": "[encoded data removed]"
          },
          "metadata": {
            "image/png": {
              "width": 493,
              "height": 405
            }
          },
          "output_type": "display_data"
        }
      ],
      "outputs_reference": null,
      "execution_count": null,
      "block_group": "5b20c0d3c9da4091bf93f52ab557b33b"
    },
    {
      "cell_type": "markdown",
      "source": "i) Read Bathing soap facewash of all months and display it using the Subplot",
      "metadata": {
        "formattedRanges": [
          {
            "type": "marks",
            "marks": {
              "color": "#008E44"
            },
            "toCodePoint": 76,
            "fromCodePoint": 0
          }
        ],
        "cell_id": "a956d29439d347c896f890d02478d7c0",
        "deepnote_cell_type": "text-cell-p"
      },
      "block_group": "2108e0fe423c4298999fa724681f8fcc"
    },
    {
      "cell_type": "code",
      "source": "sale_df.head(2)",
      "metadata": {
        "source_hash": null,
        "execution_start": 1712346416047,
        "execution_millis": 15,
        "deepnote_to_be_reexecuted": false,
        "cell_id": "c4cb3f94be7f4bd1a130ffe150851005",
        "deepnote_cell_type": "code"
      },
      "outputs": [
        {
          "output_type": "execute_result",
          "execution_count": 206,
          "data": {
            "application/vnd.deepnote.dataframe.v3+json": {
              "column_count": 9,
              "row_count": 2,
              "columns": [
                {
                  "name": "month_number",
                  "dtype": "int64",
                  "stats": {
                    "unique_count": 2,
                    "nan_count": 0,
                    "min": "1",
                    "max": "2",
                    "histogram": [
                      {
                        "bin_start": 1,
                        "bin_end": 1.1,
                        "count": 1
                      },
                      {
                        "bin_start": 1.1,
                        "bin_end": 1.2,
                        "count": 0
                      },
                      {
                        "bin_start": 1.2,
                        "bin_end": 1.3,
                        "count": 0
                      },
                      {
                        "bin_start": 1.3,
                        "bin_end": 1.4,
                        "count": 0
                      },
                      {
                        "bin_start": 1.4,
                        "bin_end": 1.5,
                        "count": 0
                      },
                      {
                        "bin_start": 1.5,
                        "bin_end": 1.6,
                        "count": 0
                      },
                      {
                        "bin_start": 1.6,
                        "bin_end": 1.7000000000000002,
                        "count": 0
                      },
                      {
                        "bin_start": 1.7000000000000002,
                        "bin_end": 1.8,
                        "count": 0
                      },
                      {
                        "bin_start": 1.8,
                        "bin_end": 1.9,
                        "count": 0
                      },
                      {
                        "bin_start": 1.9,
                        "bin_end": 2,
                        "count": 1
                      }
                    ]
                  }
                },
                {
                  "name": "facecream",
                  "dtype": "int64",
                  "stats": {
                    "unique_count": 2,
                    "nan_count": 0,
                    "min": "2500",
                    "max": "2630",
                    "histogram": [
                      {
                        "bin_start": 2500,
                        "bin_end": 2513,
                        "count": 1
                      },
                      {
                        "bin_start": 2513,
                        "bin_end": 2526,
                        "count": 0
                      },
                      {
                        "bin_start": 2526,
                        "bin_end": 2539,
                        "count": 0
                      },
                      {
                        "bin_start": 2539,
                        "bin_end": 2552,
                        "count": 0
                      },
                      {
                        "bin_start": 2552,
                        "bin_end": 2565,
                        "count": 0
                      },
                      {
                        "bin_start": 2565,
                        "bin_end": 2578,
                        "count": 0
                      },
                      {
                        "bin_start": 2578,
                        "bin_end": 2591,
                        "count": 0
                      },
                      {
                        "bin_start": 2591,
                        "bin_end": 2604,
                        "count": 0
                      },
                      {
                        "bin_start": 2604,
                        "bin_end": 2617,
                        "count": 0
                      },
                      {
                        "bin_start": 2617,
                        "bin_end": 2630,
                        "count": 1
                      }
                    ]
                  }
                },
                {
                  "name": "facewash",
                  "dtype": "int64",
                  "stats": {
                    "unique_count": 2,
                    "nan_count": 0,
                    "min": "1200",
                    "max": "1500",
                    "histogram": [
                      {
                        "bin_start": 1200,
                        "bin_end": 1230,
                        "count": 1
                      },
                      {
                        "bin_start": 1230,
                        "bin_end": 1260,
                        "count": 0
                      },
                      {
                        "bin_start": 1260,
                        "bin_end": 1290,
                        "count": 0
                      },
                      {
                        "bin_start": 1290,
                        "bin_end": 1320,
                        "count": 0
                      },
                      {
                        "bin_start": 1320,
                        "bin_end": 1350,
                        "count": 0
                      },
                      {
                        "bin_start": 1350,
                        "bin_end": 1380,
                        "count": 0
                      },
                      {
                        "bin_start": 1380,
                        "bin_end": 1410,
                        "count": 0
                      },
                      {
                        "bin_start": 1410,
                        "bin_end": 1440,
                        "count": 0
                      },
                      {
                        "bin_start": 1440,
                        "bin_end": 1470,
                        "count": 0
                      },
                      {
                        "bin_start": 1470,
                        "bin_end": 1500,
                        "count": 1
                      }
                    ]
                  }
                },
                {
                  "name": "toothpaste",
                  "dtype": "int64",
                  "stats": {
                    "unique_count": 2,
                    "nan_count": 0,
                    "min": "5100",
                    "max": "5200",
                    "histogram": [
                      {
                        "bin_start": 5100,
                        "bin_end": 5110,
                        "count": 1
                      },
                      {
                        "bin_start": 5110,
                        "bin_end": 5120,
                        "count": 0
                      },
                      {
                        "bin_start": 5120,
                        "bin_end": 5130,
                        "count": 0
                      },
                      {
                        "bin_start": 5130,
                        "bin_end": 5140,
                        "count": 0
                      },
                      {
                        "bin_start": 5140,
                        "bin_end": 5150,
                        "count": 0
                      },
                      {
                        "bin_start": 5150,
                        "bin_end": 5160,
                        "count": 0
                      },
                      {
                        "bin_start": 5160,
                        "bin_end": 5170,
                        "count": 0
                      },
                      {
                        "bin_start": 5170,
                        "bin_end": 5180,
                        "count": 0
                      },
                      {
                        "bin_start": 5180,
                        "bin_end": 5190,
                        "count": 0
                      },
                      {
                        "bin_start": 5190,
                        "bin_end": 5200,
                        "count": 1
                      }
                    ]
                  }
                },
                {
                  "name": "bathingsoap",
                  "dtype": "int64",
                  "stats": {
                    "unique_count": 2,
                    "nan_count": 0,
                    "min": "6100",
                    "max": "9200",
                    "histogram": [
                      {
                        "bin_start": 6100,
                        "bin_end": 6410,
                        "count": 1
                      },
                      {
                        "bin_start": 6410,
                        "bin_end": 6720,
                        "count": 0
                      },
                      {
                        "bin_start": 6720,
                        "bin_end": 7030,
                        "count": 0
                      },
                      {
                        "bin_start": 7030,
                        "bin_end": 7340,
                        "count": 0
                      },
                      {
                        "bin_start": 7340,
                        "bin_end": 7650,
                        "count": 0
                      },
                      {
                        "bin_start": 7650,
                        "bin_end": 7960,
                        "count": 0
                      },
                      {
                        "bin_start": 7960,
                        "bin_end": 8270,
                        "count": 0
                      },
                      {
                        "bin_start": 8270,
                        "bin_end": 8580,
                        "count": 0
                      },
                      {
                        "bin_start": 8580,
                        "bin_end": 8890,
                        "count": 0
                      },
                      {
                        "bin_start": 8890,
                        "bin_end": 9200,
                        "count": 1
                      }
                    ]
                  }
                },
                {
                  "name": "shampoo",
                  "dtype": "int64",
                  "stats": {
                    "unique_count": 2,
                    "nan_count": 0,
                    "min": "1200",
                    "max": "2100",
                    "histogram": [
                      {
                        "bin_start": 1200,
                        "bin_end": 1290,
                        "count": 1
                      },
                      {
                        "bin_start": 1290,
                        "bin_end": 1380,
                        "count": 0
                      },
                      {
                        "bin_start": 1380,
                        "bin_end": 1470,
                        "count": 0
                      },
                      {
                        "bin_start": 1470,
                        "bin_end": 1560,
                        "count": 0
                      },
                      {
                        "bin_start": 1560,
                        "bin_end": 1650,
                        "count": 0
                      },
                      {
                        "bin_start": 1650,
                        "bin_end": 1740,
                        "count": 0
                      },
                      {
                        "bin_start": 1740,
                        "bin_end": 1830,
                        "count": 0
                      },
                      {
                        "bin_start": 1830,
                        "bin_end": 1920,
                        "count": 0
                      },
                      {
                        "bin_start": 1920,
                        "bin_end": 2010,
                        "count": 0
                      },
                      {
                        "bin_start": 2010,
                        "bin_end": 2100,
                        "count": 1
                      }
                    ]
                  }
                },
                {
                  "name": "moisturizer",
                  "dtype": "int64",
                  "stats": {
                    "unique_count": 2,
                    "nan_count": 0,
                    "min": "1200",
                    "max": "1500",
                    "histogram": [
                      {
                        "bin_start": 1200,
                        "bin_end": 1230,
                        "count": 1
                      },
                      {
                        "bin_start": 1230,
                        "bin_end": 1260,
                        "count": 0
                      },
                      {
                        "bin_start": 1260,
                        "bin_end": 1290,
                        "count": 0
                      },
                      {
                        "bin_start": 1290,
                        "bin_end": 1320,
                        "count": 0
                      },
                      {
                        "bin_start": 1320,
                        "bin_end": 1350,
                        "count": 0
                      },
                      {
                        "bin_start": 1350,
                        "bin_end": 1380,
                        "count": 0
                      },
                      {
                        "bin_start": 1380,
                        "bin_end": 1410,
                        "count": 0
                      },
                      {
                        "bin_start": 1410,
                        "bin_end": 1440,
                        "count": 0
                      },
                      {
                        "bin_start": 1440,
                        "bin_end": 1470,
                        "count": 0
                      },
                      {
                        "bin_start": 1470,
                        "bin_end": 1500,
                        "count": 1
                      }
                    ]
                  }
                },
                {
                  "name": "total_units",
                  "dtype": "int64",
                  "stats": {
                    "unique_count": 2,
                    "nan_count": 0,
                    "min": "18330",
                    "max": "21100",
                    "histogram": [
                      {
                        "bin_start": 18330,
                        "bin_end": 18607,
                        "count": 1
                      },
                      {
                        "bin_start": 18607,
                        "bin_end": 18884,
                        "count": 0
                      },
                      {
                        "bin_start": 18884,
                        "bin_end": 19161,
                        "count": 0
                      },
                      {
                        "bin_start": 19161,
                        "bin_end": 19438,
                        "count": 0
                      },
                      {
                        "bin_start": 19438,
                        "bin_end": 19715,
                        "count": 0
                      },
                      {
                        "bin_start": 19715,
                        "bin_end": 19992,
                        "count": 0
                      },
                      {
                        "bin_start": 19992,
                        "bin_end": 20269,
                        "count": 0
                      },
                      {
                        "bin_start": 20269,
                        "bin_end": 20546,
                        "count": 0
                      },
                      {
                        "bin_start": 20546,
                        "bin_end": 20823,
                        "count": 0
                      },
                      {
                        "bin_start": 20823,
                        "bin_end": 21100,
                        "count": 1
                      }
                    ]
                  }
                },
                {
                  "name": "total_profit",
                  "dtype": "int64",
                  "stats": {
                    "unique_count": 2,
                    "nan_count": 0,
                    "min": "183300",
                    "max": "211000",
                    "histogram": [
                      {
                        "bin_start": 183300,
                        "bin_end": 186070,
                        "count": 1
                      },
                      {
                        "bin_start": 186070,
                        "bin_end": 188840,
                        "count": 0
                      },
                      {
                        "bin_start": 188840,
                        "bin_end": 191610,
                        "count": 0
                      },
                      {
                        "bin_start": 191610,
                        "bin_end": 194380,
                        "count": 0
                      },
                      {
                        "bin_start": 194380,
                        "bin_end": 197150,
                        "count": 0
                      },
                      {
                        "bin_start": 197150,
                        "bin_end": 199920,
                        "count": 0
                      },
                      {
                        "bin_start": 199920,
                        "bin_end": 202690,
                        "count": 0
                      },
                      {
                        "bin_start": 202690,
                        "bin_end": 205460,
                        "count": 0
                      },
                      {
                        "bin_start": 205460,
                        "bin_end": 208230,
                        "count": 0
                      },
                      {
                        "bin_start": 208230,
                        "bin_end": 211000,
                        "count": 1
                      }
                    ]
                  }
                },
                {
                  "name": "_deepnote_index_column",
                  "dtype": "int64"
                }
              ],
              "rows": [
                {
                  "month_number": 1,
                  "facecream": 2500,
                  "facewash": 1500,
                  "toothpaste": 5200,
                  "bathingsoap": 9200,
                  "shampoo": 1200,
                  "moisturizer": 1500,
                  "total_units": 21100,
                  "total_profit": 211000,
                  "_deepnote_index_column": 0
                },
                {
                  "month_number": 2,
                  "facecream": 2630,
                  "facewash": 1200,
                  "toothpaste": 5100,
                  "bathingsoap": 6100,
                  "shampoo": 2100,
                  "moisturizer": 1200,
                  "total_units": 18330,
                  "total_profit": 183300,
                  "_deepnote_index_column": 1
                }
              ]
            },
            "text/plain": "   month_number  facecream  facewash  toothpaste  bathingsoap  shampoo  \\\n0             1       2500      1500        5200         9200     1200   \n1             2       2630      1200        5100         6100     2100   \n\n   moisturizer  total_units  total_profit  \n0         1500        21100        211000  \n1         1200        18330        183300  ",
            "text/html": "<div>\n<style scoped>\n    .dataframe tbody tr th:only-of-type {\n        vertical-align: middle;\n    }\n\n    .dataframe tbody tr th {\n        vertical-align: top;\n    }\n\n    .dataframe thead th {\n        text-align: right;\n    }\n</style>\n<table border=\"1\" class=\"dataframe\">\n  <thead>\n    <tr style=\"text-align: right;\">\n      <th></th>\n      <th>month_number</th>\n      <th>facecream</th>\n      <th>facewash</th>\n      <th>toothpaste</th>\n      <th>bathingsoap</th>\n      <th>shampoo</th>\n      <th>moisturizer</th>\n      <th>total_units</th>\n      <th>total_profit</th>\n    </tr>\n  </thead>\n  <tbody>\n    <tr>\n      <th>0</th>\n      <td>1</td>\n      <td>2500</td>\n      <td>1500</td>\n      <td>5200</td>\n      <td>9200</td>\n      <td>1200</td>\n      <td>1500</td>\n      <td>21100</td>\n      <td>211000</td>\n    </tr>\n    <tr>\n      <th>1</th>\n      <td>2</td>\n      <td>2630</td>\n      <td>1200</td>\n      <td>5100</td>\n      <td>6100</td>\n      <td>2100</td>\n      <td>1200</td>\n      <td>18330</td>\n      <td>183300</td>\n    </tr>\n  </tbody>\n</table>\n</div>"
          },
          "metadata": {}
        }
      ],
      "outputs_reference": null,
      "execution_count": null,
      "block_group": "7d8aee067e204a7a9cc90a69ca13db1a"
    },
    {
      "cell_type": "code",
      "source": "b_f_data = sale_df[['month_number','facewash','bathingsoap']].copy()",
      "metadata": {
        "source_hash": null,
        "execution_start": 1712347279103,
        "execution_millis": 30,
        "deepnote_to_be_reexecuted": false,
        "cell_id": "2bd27cc4344745799956c30a328cfe1c",
        "deepnote_cell_type": "code"
      },
      "outputs": [],
      "outputs_reference": null,
      "execution_count": null,
      "block_group": "34ca0c2976724117b9bc89d4df96745c"
    },
    {
      "cell_type": "code",
      "source": "figure,ax = plt.subplots(1,2,figsize=(10,5),sharex=True)\nb_f_data.plot(x='month_number',y='facewash',ax=ax[0],kind='scatter',color='black')\nb_f_data.plot(x='month_number',y='bathingsoap',ax=ax[1],kind='bar',color='#85169e')\nspi = ['top','right']\nfor i in range(2):\n    ax[i].spines[spi[0]].set_visible(False)\n    ax[i].spines[spi[1]].set_visible(False)\nplt.title('comparision of facewash and bathingsoap vs month')\nfigure.show()",
      "metadata": {
        "source_hash": null,
        "execution_start": 1712348086152,
        "execution_millis": 370,
        "deepnote_to_be_reexecuted": false,
        "cell_id": "b147f3eafd0848e1bf11d9866dd3c8c4",
        "deepnote_cell_type": "code"
      },
      "outputs": [
        {
          "data": {
            "text/plain": "<Figure size 1000x500 with 2 Axes>",
            "image/png": "[encoded data removed]"
          },
          "metadata": {
            "image/png": {
              "width": 900,
              "height": 474
            }
          },
          "output_type": "display_data"
        }
      ],
      "outputs_reference": null,
      "execution_count": null,
      "block_group": "e5cfb0ced2044614be1f0b3e9091d64b"
    },
    {
      "cell_type": "markdown",
      "source": "<a style='text-decoration:none;line-height:16px;display:flex;color:#5B5B62;padding:10px;justify-content:end;' href='https://deepnote.com?utm_source=created-in-deepnote-cell&projectId=fa5ce7f7-b415-4054-b9ce-e555f5e878da' target=\"_blank\">\n<img alt='Created in deepnote.com' style='display:inline;max-height:16px;margin:0px;margin-right:7.5px;' src='data:image/svg+xml;base64,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' > </img>\nCreated in <span style='font-weight:600;margin-left:4px;'>Deepnote</span></a>",
      "metadata": {
        "created_in_deepnote_cell": true,
        "deepnote_cell_type": "markdown"
      }
    }
  ],
  "nbformat": 4,
  "nbformat_minor": 0,
  "metadata": {
    "deepnote_persisted_session": {
      "createdAt": "2024-04-05T20:15:21.308Z"
    },
    "deepnote_notebook_id": "c74bd37bb9b14bb79ad6121ef0bb8bc8",
    "deepnote_execution_queue": []
  }
}