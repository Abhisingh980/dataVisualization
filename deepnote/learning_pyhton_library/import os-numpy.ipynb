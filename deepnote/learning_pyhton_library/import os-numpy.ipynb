{
  "cells": [
    {
      "cell_type": "code",
      "source": "import numpy as np",
      "metadata": {
        "source_hash": null,
        "execution_start": 1711431116024,
        "execution_millis": 74,
        "deepnote_to_be_reexecuted": false,
        "cell_id": "ae1a94a26ccf4d788dd4135532f5c78b",
        "deepnote_cell_type": "code"
      },
      "outputs": [],
      "outputs_reference": null,
      "execution_count": null,
      "block_group": "ae1a94a26ccf4d788dd4135532f5c78b"
    },
    {
      "cell_type": "code",
      "source": "x = np.array([[1,9,4],[2,3,4]])\nfor i in np.nditer(x,flags=['buffered'],op_dtypes=['S']):\n    print(i)",
      "metadata": {
        "source_hash": null,
        "execution_start": 1711432041838,
        "execution_millis": 228,
        "deepnote_to_be_reexecuted": false,
        "cell_id": "6e44be402f6547168139c4cbfa9a4ee9",
        "deepnote_cell_type": "code"
      },
      "outputs": [
        {
          "name": "stdout",
          "text": "b'1'\nb'9'\nb'4'\nb'2'\nb'3'\nb'4'\n",
          "output_type": "stream"
        }
      ],
      "outputs_reference": null,
      "execution_count": null,
      "block_group": "dccd18d2dd6b4d1bbdabf1df242754dc"
    },
    {
      "cell_type": "code",
      "source": "x = np.array([[1,9,4],[2,3,4]])\nfor i in np.ndenumerate(x):\n    print(i)",
      "metadata": {
        "source_hash": null,
        "execution_start": 1711432276661,
        "execution_millis": 139,
        "deepnote_to_be_reexecuted": false,
        "cell_id": "16343d10ff80463395cfed5b670c2558",
        "deepnote_cell_type": "code"
      },
      "outputs": [
        {
          "name": "stdout",
          "text": "((0, 0), 1)\n((0, 1), 9)\n((0, 2), 4)\n((1, 0), 2)\n((1, 1), 3)\n((1, 2), 4)\n",
          "output_type": "stream"
        }
      ],
      "outputs_reference": null,
      "execution_count": null,
      "block_group": "7c72ab50c16c4fafb4c98367fae6c533"
    },
    {
      "cell_type": "code",
      "source": "# copy  view concatinate stack vstack dstack hstack array_split\n# search\n#where ,searchsorted,sort\nprint(np.where(x == 10))\nprint(np.sort(x))",
      "metadata": {
        "source_hash": null,
        "execution_start": 1711433993766,
        "execution_millis": 66,
        "deepnote_to_be_reexecuted": false,
        "cell_id": "8a5e6de13dfd4ba6ba11e88a6f505710",
        "deepnote_cell_type": "code"
      },
      "outputs": [
        {
          "name": "stdout",
          "text": "(array([], dtype=int64), array([], dtype=int64))\n[[1 4 9]\n [2 3 4]]\n",
          "output_type": "stream"
        }
      ],
      "outputs_reference": null,
      "execution_count": null,
      "block_group": "6470f330d6e94d91ac3ce596862d4c3f"
    },
    {
      "cell_type": "code",
      "source": "# shuffle unique resize. flatten revel\nvar = np.array([1,2,3,4,4,4])\nnp.random.shuffle(var)\nu = np.unique(var,return_index=True,return_counts=True,return_inverse=True)\nprint(u)\nprint(var)\nprint(np.resize(var,(2,3)))",
      "metadata": {
        "source_hash": null,
        "execution_start": 1711434464128,
        "execution_millis": 62,
        "deepnote_to_be_reexecuted": false,
        "cell_id": "ed48521c954a4a9099d366b4e9b4e6e9",
        "deepnote_cell_type": "code"
      },
      "outputs": [
        {
          "name": "stdout",
          "text": "(array([1, 2, 3, 4]), array([0, 4, 2, 1]), array([0, 3, 2, 3, 1, 3]), array([1, 1, 1, 3]))\n[1 4 3 4 2 4]\n[[1 4 3]\n [4 2 4]]\n",
          "output_type": "stream"
        }
      ],
      "outputs_reference": null,
      "execution_count": null,
      "block_group": "01be1ff514bf46a5a4917c660f6a5ad0"
    },
    {
      "cell_type": "code",
      "source": "# insert delete\nvar1 = np.array([1,2,3,4,5])\ni = np.insert(var1,(2,3),[4,20])# same as 2d with axis\nprint(i)",
      "metadata": {
        "source_hash": null,
        "execution_start": 1711434955673,
        "execution_millis": 29,
        "deepnote_to_be_reexecuted": false,
        "cell_id": "fef66d85c158486fa9859b6992f50a8a",
        "deepnote_cell_type": "code"
      },
      "outputs": [
        {
          "name": "stdout",
          "text": "[ 1  2  4  3 20  4  5]\n",
          "output_type": "stream"
        }
      ],
      "outputs_reference": null,
      "execution_count": null,
      "block_group": "017003a19b984a8b84d15d736a1ef81d"
    },
    {
      "cell_type": "code",
      "source": "# matrix \nvarm = np.matrix([[1,2],[4,5]])\nprint(varm.T)\nprint(var1.swapaxes(0,0))\nprint(np.linalg.inv(varm))\nprint(np.linalg.matrix_power(varm,-1))\nprint(np.linalg.det(varm))\n",
      "metadata": {
        "source_hash": null,
        "execution_start": 1711436446559,
        "execution_millis": 28,
        "deepnote_to_be_reexecuted": false,
        "cell_id": "16324953a81f4e3b96b6f63cff3dd05f",
        "deepnote_cell_type": "code"
      },
      "outputs": [
        {
          "name": "stdout",
          "text": "[[1 4]\n [2 5]]\n[1 2 3 4 5]\n[[-1.66666667  0.66666667]\n [ 1.33333333 -0.33333333]]\n[[-1.66666667  0.66666667]\n [ 1.33333333 -0.33333333]]\n-2.9999999999999996\n",
          "output_type": "stream"
        }
      ],
      "outputs_reference": null,
      "execution_count": null,
      "block_group": "3ac152114f824839951ff40e3d196734"
    },
    {
      "cell_type": "markdown",
      "source": "# Os",
      "metadata": {
        "formattedRanges": [],
        "cell_id": "10ba664a6fe4413199541b267b6b6e98",
        "deepnote_cell_type": "text-cell-h1"
      },
      "block_group": "feb347cde5f3451fbedcc4b3d51dfd70"
    },
    {
      "cell_type": "code",
      "source": "import os",
      "metadata": {
        "source_hash": "940d9554",
        "execution_start": 1711545844509,
        "execution_millis": 76,
        "deepnote_to_be_reexecuted": false,
        "cell_id": "e93074773e7446808f5cb5fc948e91a7",
        "deepnote_cell_type": "code"
      },
      "outputs": [],
      "outputs_reference": null,
      "execution_count": 1,
      "block_group": "2f7c70366a2c48c79257e959d51540d7"
    },
    {
      "cell_type": "code",
      "source": "os.rename('F.txt','first.txt')\nprint(os.listdir())",
      "metadata": {
        "source_hash": "3c9ab3b7",
        "execution_start": 1711546372067,
        "execution_millis": 276,
        "deepnote_to_be_reexecuted": false,
        "cell_id": "b120f7f4ddd9461fad3f7254e9abf306",
        "deepnote_cell_type": "code"
      },
      "outputs": [
        {
          "name": "stdout",
          "text": "['.deepnote', 'data', 'housing.csv', 'pizza_sales.csv', 'stemplot.png', 'first.txt']\n",
          "output_type": "stream"
        }
      ],
      "outputs_reference": null,
      "execution_count": 4,
      "block_group": "cd3f63ad8b204e478fadbe1a8c52562b"
    },
    {
      "cell_type": "markdown",
      "source": "<a style='text-decoration:none;line-height:16px;display:flex;color:#5B5B62;padding:10px;justify-content:end;' href='https://deepnote.com?utm_source=created-in-deepnote-cell&projectId=3128c5e9-85ba-4136-aeb8-73f1853178e0' target=\"_blank\">\n<img alt='Created in deepnote.com' style='display:inline;max-height:16px;margin:0px;margin-right:7.5px;' src='data:image/svg+xml;base64,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' > </img>\nCreated in <span style='font-weight:600;margin-left:4px;'>Deepnote</span></a>",
      "metadata": {
        "created_in_deepnote_cell": true,
        "deepnote_cell_type": "markdown"
      }
    }
  ],
  "nbformat": 4,
  "nbformat_minor": 0,
  "metadata": {
    "deepnote_persisted_session": {
      "createdAt": "2024-03-26T07:30:26.803Z"
    },
    "deepnote_notebook_id": "e83b42539e504146959f5b37776fa663",
    "deepnote_execution_queue": []
  }
}