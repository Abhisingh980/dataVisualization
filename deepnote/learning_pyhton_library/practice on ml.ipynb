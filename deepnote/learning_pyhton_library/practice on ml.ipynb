{
  "cells": [
    {
      "cell_type": "markdown",
      "source": "filter data for impute model in sklearn",
      "metadata": {
        "formattedRanges": [],
        "cell_id": "812066a7c8874955aebdec23622c3fb2",
        "deepnote_cell_type": "text-cell-p"
      },
      "block_group": "79f13aedbaa648b6938f46b0d4dc48db"
    },
    {
      "cell_type": "code",
      "source": "import pandas as pd\nhousing = pd.read_csv(\"housing.csv\")",
      "metadata": {
        "source_hash": null,
        "execution_start": 1711345319306,
        "execution_millis": 697,
        "deepnote_to_be_reexecuted": false,
        "cell_id": "03190a49d3cc4f87a3e6d84fc42c7ef3",
        "deepnote_cell_type": "code"
      },
      "outputs": [],
      "outputs_reference": null,
      "execution_count": null,
      "block_group": "4fa08efb993c4a0aa26e014f6817bb69"
    },
    {
      "cell_type": "markdown",
      "source": "### load data",
      "metadata": {
        "formattedRanges": [],
        "cell_id": "78897d9fe1d245aa9f5ee53f6550e42c",
        "deepnote_cell_type": "text-cell-h3"
      },
      "block_group": "512db623d9b94580987c697a44824e67"
    },
    {
      "cell_type": "code",
      "source": "housing.head()",
      "metadata": {
        "source_hash": null,
        "execution_start": 1711345320014,
        "execution_millis": 274,
        "deepnote_to_be_reexecuted": false,
        "cell_id": "02ea63fb8c774178bcf5217b0e20884f",
        "deepnote_cell_type": "code"
      },
      "outputs": [
        {
          "output_type": "execute_result",
          "execution_count": 2,
          "data": {
            "application/vnd.deepnote.dataframe.v3+json": {
              "column_count": 10,
              "row_count": 5,
              "columns": [
                {
                  "name": "longitude",
                  "dtype": "float64",
                  "stats": {
                    "unique_count": 4,
                    "nan_count": 0,
                    "min": "-122.25",
                    "max": "-122.22",
                    "histogram": [
                      {
                        "bin_start": -122.25,
                        "bin_end": -122.247,
                        "count": 2
                      },
                      {
                        "bin_start": -122.247,
                        "bin_end": -122.244,
                        "count": 0
                      },
                      {
                        "bin_start": -122.244,
                        "bin_end": -122.241,
                        "count": 0
                      },
                      {
                        "bin_start": -122.241,
                        "bin_end": -122.238,
                        "count": 1
                      },
                      {
                        "bin_start": -122.238,
                        "bin_end": -122.235,
                        "count": 0
                      },
                      {
                        "bin_start": -122.235,
                        "bin_end": -122.232,
                        "count": 0
                      },
                      {
                        "bin_start": -122.232,
                        "bin_end": -122.229,
                        "count": 1
                      },
                      {
                        "bin_start": -122.229,
                        "bin_end": -122.226,
                        "count": 0
                      },
                      {
                        "bin_start": -122.226,
                        "bin_end": -122.223,
                        "count": 0
                      },
                      {
                        "bin_start": -122.223,
                        "bin_end": -122.22,
                        "count": 1
                      }
                    ]
                  }
                },
                {
                  "name": "latitude",
                  "dtype": "float64",
                  "stats": {
                    "unique_count": 3,
                    "nan_count": 0,
                    "min": "37.85",
                    "max": "37.88",
                    "histogram": [
                      {
                        "bin_start": 37.85,
                        "bin_end": 37.853,
                        "count": 3
                      },
                      {
                        "bin_start": 37.853,
                        "bin_end": 37.856,
                        "count": 0
                      },
                      {
                        "bin_start": 37.856,
                        "bin_end": 37.859,
                        "count": 0
                      },
                      {
                        "bin_start": 37.859,
                        "bin_end": 37.862,
                        "count": 1
                      },
                      {
                        "bin_start": 37.862,
                        "bin_end": 37.865,
                        "count": 0
                      },
                      {
                        "bin_start": 37.865,
                        "bin_end": 37.868,
                        "count": 0
                      },
                      {
                        "bin_start": 37.868,
                        "bin_end": 37.871,
                        "count": 0
                      },
                      {
                        "bin_start": 37.871,
                        "bin_end": 37.874,
                        "count": 0
                      },
                      {
                        "bin_start": 37.874,
                        "bin_end": 37.877,
                        "count": 0
                      },
                      {
                        "bin_start": 37.877,
                        "bin_end": 37.88,
                        "count": 1
                      }
                    ]
                  }
                },
                {
                  "name": "housing_median_age",
                  "dtype": "float64",
                  "stats": {
                    "unique_count": 3,
                    "nan_count": 0,
                    "min": "21.0",
                    "max": "52.0",
                    "histogram": [
                      {
                        "bin_start": 21,
                        "bin_end": 24.1,
                        "count": 1
                      },
                      {
                        "bin_start": 24.1,
                        "bin_end": 27.2,
                        "count": 0
                      },
                      {
                        "bin_start": 27.2,
                        "bin_end": 30.3,
                        "count": 0
                      },
                      {
                        "bin_start": 30.3,
                        "bin_end": 33.4,
                        "count": 0
                      },
                      {
                        "bin_start": 33.4,
                        "bin_end": 36.5,
                        "count": 0
                      },
                      {
                        "bin_start": 36.5,
                        "bin_end": 39.6,
                        "count": 0
                      },
                      {
                        "bin_start": 39.6,
                        "bin_end": 42.7,
                        "count": 1
                      },
                      {
                        "bin_start": 42.7,
                        "bin_end": 45.8,
                        "count": 0
                      },
                      {
                        "bin_start": 45.8,
                        "bin_end": 48.900000000000006,
                        "count": 0
                      },
                      {
                        "bin_start": 48.900000000000006,
                        "bin_end": 52,
                        "count": 3
                      }
                    ]
                  }
                },
                {
                  "name": "total_rooms",
                  "dtype": "float64",
                  "stats": {
                    "unique_count": 5,
                    "nan_count": 0,
                    "min": "880.0",
                    "max": "7099.0",
                    "histogram": [
                      {
                        "bin_start": 880,
                        "bin_end": 1501.9,
                        "count": 3
                      },
                      {
                        "bin_start": 1501.9,
                        "bin_end": 2123.8,
                        "count": 1
                      },
                      {
                        "bin_start": 2123.8,
                        "bin_end": 2745.7,
                        "count": 0
                      },
                      {
                        "bin_start": 2745.7,
                        "bin_end": 3367.6,
                        "count": 0
                      },
                      {
                        "bin_start": 3367.6,
                        "bin_end": 3989.5,
                        "count": 0
                      },
                      {
                        "bin_start": 3989.5,
                        "bin_end": 4611.4,
                        "count": 0
                      },
                      {
                        "bin_start": 4611.4,
                        "bin_end": 5233.3,
                        "count": 0
                      },
                      {
                        "bin_start": 5233.3,
                        "bin_end": 5855.2,
                        "count": 0
                      },
                      {
                        "bin_start": 5855.2,
                        "bin_end": 6477.099999999999,
                        "count": 0
                      },
                      {
                        "bin_start": 6477.099999999999,
                        "bin_end": 7099,
                        "count": 1
                      }
                    ]
                  }
                },
                {
                  "name": "total_bedrooms",
                  "dtype": "float64",
                  "stats": {
                    "unique_count": 5,
                    "nan_count": 0,
                    "min": "129.0",
                    "max": "1106.0",
                    "histogram": [
                      {
                        "bin_start": 129,
                        "bin_end": 226.7,
                        "count": 2
                      },
                      {
                        "bin_start": 226.7,
                        "bin_end": 324.4,
                        "count": 2
                      },
                      {
                        "bin_start": 324.4,
                        "bin_end": 422.1,
                        "count": 0
                      },
                      {
                        "bin_start": 422.1,
                        "bin_end": 519.8,
                        "count": 0
                      },
                      {
                        "bin_start": 519.8,
                        "bin_end": 617.5,
                        "count": 0
                      },
                      {
                        "bin_start": 617.5,
                        "bin_end": 715.2,
                        "count": 0
                      },
                      {
                        "bin_start": 715.2,
                        "bin_end": 812.9,
                        "count": 0
                      },
                      {
                        "bin_start": 812.9,
                        "bin_end": 910.6,
                        "count": 0
                      },
                      {
                        "bin_start": 910.6,
                        "bin_end": 1008.3000000000001,
                        "count": 0
                      },
                      {
                        "bin_start": 1008.3000000000001,
                        "bin_end": 1106,
                        "count": 1
                      }
                    ]
                  }
                },
                {
                  "name": "population",
                  "dtype": "float64",
                  "stats": {
                    "unique_count": 5,
                    "nan_count": 0,
                    "min": "322.0",
                    "max": "2401.0",
                    "histogram": [
                      {
                        "bin_start": 322,
                        "bin_end": 529.9,
                        "count": 2
                      },
                      {
                        "bin_start": 529.9,
                        "bin_end": 737.8,
                        "count": 2
                      },
                      {
                        "bin_start": 737.8,
                        "bin_end": 945.7,
                        "count": 0
                      },
                      {
                        "bin_start": 945.7,
                        "bin_end": 1153.6,
                        "count": 0
                      },
                      {
                        "bin_start": 1153.6,
                        "bin_end": 1361.5,
                        "count": 0
                      },
                      {
                        "bin_start": 1361.5,
                        "bin_end": 1569.4,
                        "count": 0
                      },
                      {
                        "bin_start": 1569.4,
                        "bin_end": 1777.3,
                        "count": 0
                      },
                      {
                        "bin_start": 1777.3,
                        "bin_end": 1985.2,
                        "count": 0
                      },
                      {
                        "bin_start": 1985.2,
                        "bin_end": 2193.1000000000004,
                        "count": 0
                      },
                      {
                        "bin_start": 2193.1000000000004,
                        "bin_end": 2401,
                        "count": 1
                      }
                    ]
                  }
                },
                {
                  "name": "households",
                  "dtype": "float64",
                  "stats": {
                    "unique_count": 5,
                    "nan_count": 0,
                    "min": "126.0",
                    "max": "1138.0",
                    "histogram": [
                      {
                        "bin_start": 126,
                        "bin_end": 227.2,
                        "count": 3
                      },
                      {
                        "bin_start": 227.2,
                        "bin_end": 328.4,
                        "count": 1
                      },
                      {
                        "bin_start": 328.4,
                        "bin_end": 429.6,
                        "count": 0
                      },
                      {
                        "bin_start": 429.6,
                        "bin_end": 530.8,
                        "count": 0
                      },
                      {
                        "bin_start": 530.8,
                        "bin_end": 632,
                        "count": 0
                      },
                      {
                        "bin_start": 632,
                        "bin_end": 733.2,
                        "count": 0
                      },
                      {
                        "bin_start": 733.2,
                        "bin_end": 834.4,
                        "count": 0
                      },
                      {
                        "bin_start": 834.4,
                        "bin_end": 935.6,
                        "count": 0
                      },
                      {
                        "bin_start": 935.6,
                        "bin_end": 1036.8000000000002,
                        "count": 0
                      },
                      {
                        "bin_start": 1036.8000000000002,
                        "bin_end": 1138,
                        "count": 1
                      }
                    ]
                  }
                },
                {
                  "name": "median_income",
                  "dtype": "float64",
                  "stats": {
                    "unique_count": 5,
                    "nan_count": 0,
                    "min": "3.8462",
                    "max": "8.3252",
                    "histogram": [
                      {
                        "bin_start": 3.8462,
                        "bin_end": 4.2941,
                        "count": 1
                      },
                      {
                        "bin_start": 4.2941,
                        "bin_end": 4.742,
                        "count": 0
                      },
                      {
                        "bin_start": 4.742,
                        "bin_end": 5.1899,
                        "count": 0
                      },
                      {
                        "bin_start": 5.1899,
                        "bin_end": 5.6378,
                        "count": 0
                      },
                      {
                        "bin_start": 5.6378,
                        "bin_end": 6.085700000000001,
                        "count": 1
                      },
                      {
                        "bin_start": 6.085700000000001,
                        "bin_end": 6.5336,
                        "count": 0
                      },
                      {
                        "bin_start": 6.5336,
                        "bin_end": 6.9815000000000005,
                        "count": 0
                      },
                      {
                        "bin_start": 6.9815000000000005,
                        "bin_end": 7.429400000000001,
                        "count": 1
                      },
                      {
                        "bin_start": 7.429400000000001,
                        "bin_end": 7.8773,
                        "count": 0
                      },
                      {
                        "bin_start": 7.8773,
                        "bin_end": 8.3252,
                        "count": 2
                      }
                    ]
                  }
                },
                {
                  "name": "median_house_value",
                  "dtype": "float64",
                  "stats": {
                    "unique_count": 5,
                    "nan_count": 0,
                    "min": "341300.0",
                    "max": "452600.0",
                    "histogram": [
                      {
                        "bin_start": 341300,
                        "bin_end": 352430,
                        "count": 3
                      },
                      {
                        "bin_start": 352430,
                        "bin_end": 363560,
                        "count": 1
                      },
                      {
                        "bin_start": 363560,
                        "bin_end": 374690,
                        "count": 0
                      },
                      {
                        "bin_start": 374690,
                        "bin_end": 385820,
                        "count": 0
                      },
                      {
                        "bin_start": 385820,
                        "bin_end": 396950,
                        "count": 0
                      },
                      {
                        "bin_start": 396950,
                        "bin_end": 408080,
                        "count": 0
                      },
                      {
                        "bin_start": 408080,
                        "bin_end": 419210,
                        "count": 0
                      },
                      {
                        "bin_start": 419210,
                        "bin_end": 430340,
                        "count": 0
                      },
                      {
                        "bin_start": 430340,
                        "bin_end": 441470,
                        "count": 0
                      },
                      {
                        "bin_start": 441470,
                        "bin_end": 452600,
                        "count": 1
                      }
                    ]
                  }
                },
                {
                  "name": "ocean_proximity",
                  "dtype": "object",
                  "stats": {
                    "unique_count": 1,
                    "nan_count": 0,
                    "categories": [
                      {
                        "name": "NEAR BAY",
                        "count": 5
                      }
                    ]
                  }
                },
                {
                  "name": "_deepnote_index_column",
                  "dtype": "int64"
                }
              ],
              "rows": [
                {
                  "longitude": -122.23,
                  "latitude": 37.88,
                  "housing_median_age": 41,
                  "total_rooms": 880,
                  "total_bedrooms": 129,
                  "population": 322,
                  "households": 126,
                  "median_income": 8.3252,
                  "median_house_value": 452600,
                  "ocean_proximity": "NEAR BAY",
                  "_deepnote_index_column": 0
                },
                {
                  "longitude": -122.22,
                  "latitude": 37.86,
                  "housing_median_age": 21,
                  "total_rooms": 7099,
                  "total_bedrooms": 1106,
                  "population": 2401,
                  "households": 1138,
                  "median_income": 8.3014,
                  "median_house_value": 358500,
                  "ocean_proximity": "NEAR BAY",
                  "_deepnote_index_column": 1
                },
                {
                  "longitude": -122.24,
                  "latitude": 37.85,
                  "housing_median_age": 52,
                  "total_rooms": 1467,
                  "total_bedrooms": 190,
                  "population": 496,
                  "households": 177,
                  "median_income": 7.2574,
                  "median_house_value": 352100,
                  "ocean_proximity": "NEAR BAY",
                  "_deepnote_index_column": 2
                },
                {
                  "longitude": -122.25,
                  "latitude": 37.85,
                  "housing_median_age": 52,
                  "total_rooms": 1274,
                  "total_bedrooms": 235,
                  "population": 558,
                  "households": 219,
                  "median_income": 5.6431,
                  "median_house_value": 341300,
                  "ocean_proximity": "NEAR BAY",
                  "_deepnote_index_column": 3
                },
                {
                  "longitude": -122.25,
                  "latitude": 37.85,
                  "housing_median_age": 52,
                  "total_rooms": 1627,
                  "total_bedrooms": 280,
                  "population": 565,
                  "households": 259,
                  "median_income": 3.8462,
                  "median_house_value": 342200,
                  "ocean_proximity": "NEAR BAY",
                  "_deepnote_index_column": 4
                }
              ]
            },
            "text/plain": "   longitude  latitude  housing_median_age  total_rooms  total_bedrooms  \\\n0    -122.23     37.88                41.0        880.0           129.0   \n1    -122.22     37.86                21.0       7099.0          1106.0   \n2    -122.24     37.85                52.0       1467.0           190.0   \n3    -122.25     37.85                52.0       1274.0           235.0   \n4    -122.25     37.85                52.0       1627.0           280.0   \n\n   population  households  median_income  median_house_value ocean_proximity  \n0       322.0       126.0         8.3252            452600.0        NEAR BAY  \n1      2401.0      1138.0         8.3014            358500.0        NEAR BAY  \n2       496.0       177.0         7.2574            352100.0        NEAR BAY  \n3       558.0       219.0         5.6431            341300.0        NEAR BAY  \n4       565.0       259.0         3.8462            342200.0        NEAR BAY  ",
            "text/html": "<div>\n<style scoped>\n    .dataframe tbody tr th:only-of-type {\n        vertical-align: middle;\n    }\n\n    .dataframe tbody tr th {\n        vertical-align: top;\n    }\n\n    .dataframe thead th {\n        text-align: right;\n    }\n</style>\n<table border=\"1\" class=\"dataframe\">\n  <thead>\n    <tr style=\"text-align: right;\">\n      <th></th>\n      <th>longitude</th>\n      <th>latitude</th>\n      <th>housing_median_age</th>\n      <th>total_rooms</th>\n      <th>total_bedrooms</th>\n      <th>population</th>\n      <th>households</th>\n      <th>median_income</th>\n      <th>median_house_value</th>\n      <th>ocean_proximity</th>\n    </tr>\n  </thead>\n  <tbody>\n    <tr>\n      <th>0</th>\n      <td>-122.23</td>\n      <td>37.88</td>\n      <td>41.0</td>\n      <td>880.0</td>\n      <td>129.0</td>\n      <td>322.0</td>\n      <td>126.0</td>\n      <td>8.3252</td>\n      <td>452600.0</td>\n      <td>NEAR BAY</td>\n    </tr>\n    <tr>\n      <th>1</th>\n      <td>-122.22</td>\n      <td>37.86</td>\n      <td>21.0</td>\n      <td>7099.0</td>\n      <td>1106.0</td>\n      <td>2401.0</td>\n      <td>1138.0</td>\n      <td>8.3014</td>\n      <td>358500.0</td>\n      <td>NEAR BAY</td>\n    </tr>\n    <tr>\n      <th>2</th>\n      <td>-122.24</td>\n      <td>37.85</td>\n      <td>52.0</td>\n      <td>1467.0</td>\n      <td>190.0</td>\n      <td>496.0</td>\n      <td>177.0</td>\n      <td>7.2574</td>\n      <td>352100.0</td>\n      <td>NEAR BAY</td>\n    </tr>\n    <tr>\n      <th>3</th>\n      <td>-122.25</td>\n      <td>37.85</td>\n      <td>52.0</td>\n      <td>1274.0</td>\n      <td>235.0</td>\n      <td>558.0</td>\n      <td>219.0</td>\n      <td>5.6431</td>\n      <td>341300.0</td>\n      <td>NEAR BAY</td>\n    </tr>\n    <tr>\n      <th>4</th>\n      <td>-122.25</td>\n      <td>37.85</td>\n      <td>52.0</td>\n      <td>1627.0</td>\n      <td>280.0</td>\n      <td>565.0</td>\n      <td>259.0</td>\n      <td>3.8462</td>\n      <td>342200.0</td>\n      <td>NEAR BAY</td>\n    </tr>\n  </tbody>\n</table>\n</div>"
          },
          "metadata": {}
        }
      ],
      "outputs_reference": null,
      "execution_count": null,
      "block_group": "024bf67f8f87483a81d517761f82fbaf"
    },
    {
      "cell_type": "markdown",
      "source": "### add more constraints in data frame ",
      "metadata": {
        "formattedRanges": [],
        "cell_id": "05ff383fd37e439098bbeffc0273bdb8",
        "deepnote_cell_type": "text-cell-h3"
      },
      "block_group": "da0a185c32da4c459738fc21f4072ce4"
    },
    {
      "cell_type": "code",
      "source": "housing[\"rooms_per_household\"]=housing[\"total_rooms\"]/housing[\"households\"]\nhousing[\"bedrooms_per_rooms\"]=housing[\"total_bedrooms\"]/housing[\"total_rooms\"]\nhousing[\"population_per_household\"] = housing[\"population\"]/housing[\"households\"]",
      "metadata": {
        "source_hash": null,
        "execution_start": 1711345320155,
        "execution_millis": 311,
        "deepnote_to_be_reexecuted": false,
        "cell_id": "347e256e4c6741dfaee2a2827bf712b9",
        "deepnote_cell_type": "code"
      },
      "outputs": [],
      "outputs_reference": null,
      "execution_count": null,
      "block_group": "53e5f42744eb457baa890dffc16af983"
    },
    {
      "cell_type": "code",
      "source": "housing.head()",
      "metadata": {
        "source_hash": null,
        "execution_start": 1711345320198,
        "execution_millis": 268,
        "deepnote_to_be_reexecuted": false,
        "cell_id": "536b9ffef6184d3bb1ac0d15989318c9",
        "deepnote_cell_type": "code"
      },
      "outputs": [
        {
          "output_type": "execute_result",
          "execution_count": 4,
          "data": {
            "application/vnd.deepnote.dataframe.v3+json": {
              "column_count": 13,
              "row_count": 5,
              "columns": [
                {
                  "name": "longitude",
                  "dtype": "float64",
                  "stats": {
                    "unique_count": 4,
                    "nan_count": 0,
                    "min": "-122.25",
                    "max": "-122.22",
                    "histogram": [
                      {
                        "bin_start": -122.25,
                        "bin_end": -122.247,
                        "count": 2
                      },
                      {
                        "bin_start": -122.247,
                        "bin_end": -122.244,
                        "count": 0
                      },
                      {
                        "bin_start": -122.244,
                        "bin_end": -122.241,
                        "count": 0
                      },
                      {
                        "bin_start": -122.241,
                        "bin_end": -122.238,
                        "count": 1
                      },
                      {
                        "bin_start": -122.238,
                        "bin_end": -122.235,
                        "count": 0
                      },
                      {
                        "bin_start": -122.235,
                        "bin_end": -122.232,
                        "count": 0
                      },
                      {
                        "bin_start": -122.232,
                        "bin_end": -122.229,
                        "count": 1
                      },
                      {
                        "bin_start": -122.229,
                        "bin_end": -122.226,
                        "count": 0
                      },
                      {
                        "bin_start": -122.226,
                        "bin_end": -122.223,
                        "count": 0
                      },
                      {
                        "bin_start": -122.223,
                        "bin_end": -122.22,
                        "count": 1
                      }
                    ]
                  }
                },
                {
                  "name": "latitude",
                  "dtype": "float64",
                  "stats": {
                    "unique_count": 3,
                    "nan_count": 0,
                    "min": "37.85",
                    "max": "37.88",
                    "histogram": [
                      {
                        "bin_start": 37.85,
                        "bin_end": 37.853,
                        "count": 3
                      },
                      {
                        "bin_start": 37.853,
                        "bin_end": 37.856,
                        "count": 0
                      },
                      {
                        "bin_start": 37.856,
                        "bin_end": 37.859,
                        "count": 0
                      },
                      {
                        "bin_start": 37.859,
                        "bin_end": 37.862,
                        "count": 1
                      },
                      {
                        "bin_start": 37.862,
                        "bin_end": 37.865,
                        "count": 0
                      },
                      {
                        "bin_start": 37.865,
                        "bin_end": 37.868,
                        "count": 0
                      },
                      {
                        "bin_start": 37.868,
                        "bin_end": 37.871,
                        "count": 0
                      },
                      {
                        "bin_start": 37.871,
                        "bin_end": 37.874,
                        "count": 0
                      },
                      {
                        "bin_start": 37.874,
                        "bin_end": 37.877,
                        "count": 0
                      },
                      {
                        "bin_start": 37.877,
                        "bin_end": 37.88,
                        "count": 1
                      }
                    ]
                  }
                },
                {
                  "name": "housing_median_age",
                  "dtype": "float64",
                  "stats": {
                    "unique_count": 3,
                    "nan_count": 0,
                    "min": "21.0",
                    "max": "52.0",
                    "histogram": [
                      {
                        "bin_start": 21,
                        "bin_end": 24.1,
                        "count": 1
                      },
                      {
                        "bin_start": 24.1,
                        "bin_end": 27.2,
                        "count": 0
                      },
                      {
                        "bin_start": 27.2,
                        "bin_end": 30.3,
                        "count": 0
                      },
                      {
                        "bin_start": 30.3,
                        "bin_end": 33.4,
                        "count": 0
                      },
                      {
                        "bin_start": 33.4,
                        "bin_end": 36.5,
                        "count": 0
                      },
                      {
                        "bin_start": 36.5,
                        "bin_end": 39.6,
                        "count": 0
                      },
                      {
                        "bin_start": 39.6,
                        "bin_end": 42.7,
                        "count": 1
                      },
                      {
                        "bin_start": 42.7,
                        "bin_end": 45.8,
                        "count": 0
                      },
                      {
                        "bin_start": 45.8,
                        "bin_end": 48.900000000000006,
                        "count": 0
                      },
                      {
                        "bin_start": 48.900000000000006,
                        "bin_end": 52,
                        "count": 3
                      }
                    ]
                  }
                },
                {
                  "name": "total_rooms",
                  "dtype": "float64",
                  "stats": {
                    "unique_count": 5,
                    "nan_count": 0,
                    "min": "880.0",
                    "max": "7099.0",
                    "histogram": [
                      {
                        "bin_start": 880,
                        "bin_end": 1501.9,
                        "count": 3
                      },
                      {
                        "bin_start": 1501.9,
                        "bin_end": 2123.8,
                        "count": 1
                      },
                      {
                        "bin_start": 2123.8,
                        "bin_end": 2745.7,
                        "count": 0
                      },
                      {
                        "bin_start": 2745.7,
                        "bin_end": 3367.6,
                        "count": 0
                      },
                      {
                        "bin_start": 3367.6,
                        "bin_end": 3989.5,
                        "count": 0
                      },
                      {
                        "bin_start": 3989.5,
                        "bin_end": 4611.4,
                        "count": 0
                      },
                      {
                        "bin_start": 4611.4,
                        "bin_end": 5233.3,
                        "count": 0
                      },
                      {
                        "bin_start": 5233.3,
                        "bin_end": 5855.2,
                        "count": 0
                      },
                      {
                        "bin_start": 5855.2,
                        "bin_end": 6477.099999999999,
                        "count": 0
                      },
                      {
                        "bin_start": 6477.099999999999,
                        "bin_end": 7099,
                        "count": 1
                      }
                    ]
                  }
                },
                {
                  "name": "total_bedrooms",
                  "dtype": "float64",
                  "stats": {
                    "unique_count": 5,
                    "nan_count": 0,
                    "min": "129.0",
                    "max": "1106.0",
                    "histogram": [
                      {
                        "bin_start": 129,
                        "bin_end": 226.7,
                        "count": 2
                      },
                      {
                        "bin_start": 226.7,
                        "bin_end": 324.4,
                        "count": 2
                      },
                      {
                        "bin_start": 324.4,
                        "bin_end": 422.1,
                        "count": 0
                      },
                      {
                        "bin_start": 422.1,
                        "bin_end": 519.8,
                        "count": 0
                      },
                      {
                        "bin_start": 519.8,
                        "bin_end": 617.5,
                        "count": 0
                      },
                      {
                        "bin_start": 617.5,
                        "bin_end": 715.2,
                        "count": 0
                      },
                      {
                        "bin_start": 715.2,
                        "bin_end": 812.9,
                        "count": 0
                      },
                      {
                        "bin_start": 812.9,
                        "bin_end": 910.6,
                        "count": 0
                      },
                      {
                        "bin_start": 910.6,
                        "bin_end": 1008.3000000000001,
                        "count": 0
                      },
                      {
                        "bin_start": 1008.3000000000001,
                        "bin_end": 1106,
                        "count": 1
                      }
                    ]
                  }
                },
                {
                  "name": "population",
                  "dtype": "float64",
                  "stats": {
                    "unique_count": 5,
                    "nan_count": 0,
                    "min": "322.0",
                    "max": "2401.0",
                    "histogram": [
                      {
                        "bin_start": 322,
                        "bin_end": 529.9,
                        "count": 2
                      },
                      {
                        "bin_start": 529.9,
                        "bin_end": 737.8,
                        "count": 2
                      },
                      {
                        "bin_start": 737.8,
                        "bin_end": 945.7,
                        "count": 0
                      },
                      {
                        "bin_start": 945.7,
                        "bin_end": 1153.6,
                        "count": 0
                      },
                      {
                        "bin_start": 1153.6,
                        "bin_end": 1361.5,
                        "count": 0
                      },
                      {
                        "bin_start": 1361.5,
                        "bin_end": 1569.4,
                        "count": 0
                      },
                      {
                        "bin_start": 1569.4,
                        "bin_end": 1777.3,
                        "count": 0
                      },
                      {
                        "bin_start": 1777.3,
                        "bin_end": 1985.2,
                        "count": 0
                      },
                      {
                        "bin_start": 1985.2,
                        "bin_end": 2193.1000000000004,
                        "count": 0
                      },
                      {
                        "bin_start": 2193.1000000000004,
                        "bin_end": 2401,
                        "count": 1
                      }
                    ]
                  }
                },
                {
                  "name": "households",
                  "dtype": "float64",
                  "stats": {
                    "unique_count": 5,
                    "nan_count": 0,
                    "min": "126.0",
                    "max": "1138.0",
                    "histogram": [
                      {
                        "bin_start": 126,
                        "bin_end": 227.2,
                        "count": 3
                      },
                      {
                        "bin_start": 227.2,
                        "bin_end": 328.4,
                        "count": 1
                      },
                      {
                        "bin_start": 328.4,
                        "bin_end": 429.6,
                        "count": 0
                      },
                      {
                        "bin_start": 429.6,
                        "bin_end": 530.8,
                        "count": 0
                      },
                      {
                        "bin_start": 530.8,
                        "bin_end": 632,
                        "count": 0
                      },
                      {
                        "bin_start": 632,
                        "bin_end": 733.2,
                        "count": 0
                      },
                      {
                        "bin_start": 733.2,
                        "bin_end": 834.4,
                        "count": 0
                      },
                      {
                        "bin_start": 834.4,
                        "bin_end": 935.6,
                        "count": 0
                      },
                      {
                        "bin_start": 935.6,
                        "bin_end": 1036.8000000000002,
                        "count": 0
                      },
                      {
                        "bin_start": 1036.8000000000002,
                        "bin_end": 1138,
                        "count": 1
                      }
                    ]
                  }
                },
                {
                  "name": "median_income",
                  "dtype": "float64",
                  "stats": {
                    "unique_count": 5,
                    "nan_count": 0,
                    "min": "3.8462",
                    "max": "8.3252",
                    "histogram": [
                      {
                        "bin_start": 3.8462,
                        "bin_end": 4.2941,
                        "count": 1
                      },
                      {
                        "bin_start": 4.2941,
                        "bin_end": 4.742,
                        "count": 0
                      },
                      {
                        "bin_start": 4.742,
                        "bin_end": 5.1899,
                        "count": 0
                      },
                      {
                        "bin_start": 5.1899,
                        "bin_end": 5.6378,
                        "count": 0
                      },
                      {
                        "bin_start": 5.6378,
                        "bin_end": 6.085700000000001,
                        "count": 1
                      },
                      {
                        "bin_start": 6.085700000000001,
                        "bin_end": 6.5336,
                        "count": 0
                      },
                      {
                        "bin_start": 6.5336,
                        "bin_end": 6.9815000000000005,
                        "count": 0
                      },
                      {
                        "bin_start": 6.9815000000000005,
                        "bin_end": 7.429400000000001,
                        "count": 1
                      },
                      {
                        "bin_start": 7.429400000000001,
                        "bin_end": 7.8773,
                        "count": 0
                      },
                      {
                        "bin_start": 7.8773,
                        "bin_end": 8.3252,
                        "count": 2
                      }
                    ]
                  }
                },
                {
                  "name": "median_house_value",
                  "dtype": "float64",
                  "stats": {
                    "unique_count": 5,
                    "nan_count": 0,
                    "min": "341300.0",
                    "max": "452600.0",
                    "histogram": [
                      {
                        "bin_start": 341300,
                        "bin_end": 352430,
                        "count": 3
                      },
                      {
                        "bin_start": 352430,
                        "bin_end": 363560,
                        "count": 1
                      },
                      {
                        "bin_start": 363560,
                        "bin_end": 374690,
                        "count": 0
                      },
                      {
                        "bin_start": 374690,
                        "bin_end": 385820,
                        "count": 0
                      },
                      {
                        "bin_start": 385820,
                        "bin_end": 396950,
                        "count": 0
                      },
                      {
                        "bin_start": 396950,
                        "bin_end": 408080,
                        "count": 0
                      },
                      {
                        "bin_start": 408080,
                        "bin_end": 419210,
                        "count": 0
                      },
                      {
                        "bin_start": 419210,
                        "bin_end": 430340,
                        "count": 0
                      },
                      {
                        "bin_start": 430340,
                        "bin_end": 441470,
                        "count": 0
                      },
                      {
                        "bin_start": 441470,
                        "bin_end": 452600,
                        "count": 1
                      }
                    ]
                  }
                },
                {
                  "name": "ocean_proximity",
                  "dtype": "object",
                  "stats": {
                    "unique_count": 1,
                    "nan_count": 0,
                    "categories": [
                      {
                        "name": "NEAR BAY",
                        "count": 5
                      }
                    ]
                  }
                },
                {
                  "name": "rooms_per_household",
                  "dtype": "float64",
                  "stats": {
                    "unique_count": 5,
                    "nan_count": 0,
                    "min": "5.8173515981735155",
                    "max": "8.288135593220339",
                    "histogram": [
                      {
                        "bin_start": 5.8173515981735155,
                        "bin_end": 6.064429997678198,
                        "count": 1
                      },
                      {
                        "bin_start": 6.064429997678198,
                        "bin_end": 6.31150839718288,
                        "count": 2
                      },
                      {
                        "bin_start": 6.31150839718288,
                        "bin_end": 6.558586796687562,
                        "count": 0
                      },
                      {
                        "bin_start": 6.558586796687562,
                        "bin_end": 6.805665196192245,
                        "count": 0
                      },
                      {
                        "bin_start": 6.805665196192245,
                        "bin_end": 7.052743595696928,
                        "count": 1
                      },
                      {
                        "bin_start": 7.052743595696928,
                        "bin_end": 7.29982199520161,
                        "count": 0
                      },
                      {
                        "bin_start": 7.29982199520161,
                        "bin_end": 7.546900394706292,
                        "count": 0
                      },
                      {
                        "bin_start": 7.546900394706292,
                        "bin_end": 7.793978794210974,
                        "count": 0
                      },
                      {
                        "bin_start": 7.793978794210974,
                        "bin_end": 8.041057193715657,
                        "count": 0
                      },
                      {
                        "bin_start": 8.041057193715657,
                        "bin_end": 8.288135593220339,
                        "count": 1
                      }
                    ]
                  }
                },
                {
                  "name": "bedrooms_per_rooms",
                  "dtype": "float64",
                  "stats": {
                    "unique_count": 5,
                    "nan_count": 0,
                    "min": "0.12951601908657123",
                    "max": "0.18445839874411302",
                    "histogram": [
                      {
                        "bin_start": 0.12951601908657123,
                        "bin_end": 0.13501025705232542,
                        "count": 1
                      },
                      {
                        "bin_start": 0.13501025705232542,
                        "bin_end": 0.1405044950180796,
                        "count": 0
                      },
                      {
                        "bin_start": 0.1405044950180796,
                        "bin_end": 0.14599873298383376,
                        "count": 0
                      },
                      {
                        "bin_start": 0.14599873298383376,
                        "bin_end": 0.15149297094958794,
                        "count": 1
                      },
                      {
                        "bin_start": 0.15149297094958794,
                        "bin_end": 0.15698720891534212,
                        "count": 1
                      },
                      {
                        "bin_start": 0.15698720891534212,
                        "bin_end": 0.1624814468810963,
                        "count": 0
                      },
                      {
                        "bin_start": 0.1624814468810963,
                        "bin_end": 0.1679756848468505,
                        "count": 0
                      },
                      {
                        "bin_start": 0.1679756848468505,
                        "bin_end": 0.17346992281260465,
                        "count": 1
                      },
                      {
                        "bin_start": 0.17346992281260465,
                        "bin_end": 0.17896416077835883,
                        "count": 0
                      },
                      {
                        "bin_start": 0.17896416077835883,
                        "bin_end": 0.18445839874411302,
                        "count": 1
                      }
                    ]
                  }
                },
                {
                  "name": "population_per_household",
                  "dtype": "float64",
                  "stats": {
                    "unique_count": 5,
                    "nan_count": 0,
                    "min": "2.109841827768014",
                    "max": "2.8022598870056497",
                    "histogram": [
                      {
                        "bin_start": 2.109841827768014,
                        "bin_end": 2.1790836336917776,
                        "count": 1
                      },
                      {
                        "bin_start": 2.1790836336917776,
                        "bin_end": 2.248325439615541,
                        "count": 1
                      },
                      {
                        "bin_start": 2.248325439615541,
                        "bin_end": 2.317567245539305,
                        "count": 0
                      },
                      {
                        "bin_start": 2.317567245539305,
                        "bin_end": 2.3868090514630684,
                        "count": 0
                      },
                      {
                        "bin_start": 2.3868090514630684,
                        "bin_end": 2.456050857386832,
                        "count": 0
                      },
                      {
                        "bin_start": 2.456050857386832,
                        "bin_end": 2.525292663310595,
                        "count": 0
                      },
                      {
                        "bin_start": 2.525292663310595,
                        "bin_end": 2.594534469234359,
                        "count": 2
                      },
                      {
                        "bin_start": 2.594534469234359,
                        "bin_end": 2.6637762751581224,
                        "count": 0
                      },
                      {
                        "bin_start": 2.6637762751581224,
                        "bin_end": 2.733018081081886,
                        "count": 0
                      },
                      {
                        "bin_start": 2.733018081081886,
                        "bin_end": 2.8022598870056497,
                        "count": 1
                      }
                    ]
                  }
                },
                {
                  "name": "_deepnote_index_column",
                  "dtype": "int64"
                }
              ],
              "rows": [
                {
                  "longitude": -122.23,
                  "latitude": 37.88,
                  "housing_median_age": 41,
                  "total_rooms": 880,
                  "total_bedrooms": 129,
                  "population": 322,
                  "households": 126,
                  "median_income": 8.3252,
                  "median_house_value": 452600,
                  "ocean_proximity": "NEAR BAY",
                  "rooms_per_household": 6.984126984126984,
                  "bedrooms_per_rooms": 0.14659090909090908,
                  "population_per_household": 2.5555555555555554,
                  "_deepnote_index_column": 0
                },
                {
                  "longitude": -122.22,
                  "latitude": 37.86,
                  "housing_median_age": 21,
                  "total_rooms": 7099,
                  "total_bedrooms": 1106,
                  "population": 2401,
                  "households": 1138,
                  "median_income": 8.3014,
                  "median_house_value": 358500,
                  "ocean_proximity": "NEAR BAY",
                  "rooms_per_household": 6.238137082601054,
                  "bedrooms_per_rooms": 0.15579659106916466,
                  "population_per_household": 2.109841827768014,
                  "_deepnote_index_column": 1
                },
                {
                  "longitude": -122.24,
                  "latitude": 37.85,
                  "housing_median_age": 52,
                  "total_rooms": 1467,
                  "total_bedrooms": 190,
                  "population": 496,
                  "households": 177,
                  "median_income": 7.2574,
                  "median_house_value": 352100,
                  "ocean_proximity": "NEAR BAY",
                  "rooms_per_household": 8.288135593220339,
                  "bedrooms_per_rooms": 0.12951601908657123,
                  "population_per_household": 2.8022598870056497,
                  "_deepnote_index_column": 2
                },
                {
                  "longitude": -122.25,
                  "latitude": 37.85,
                  "housing_median_age": 52,
                  "total_rooms": 1274,
                  "total_bedrooms": 235,
                  "population": 558,
                  "households": 219,
                  "median_income": 5.6431,
                  "median_house_value": 341300,
                  "ocean_proximity": "NEAR BAY",
                  "rooms_per_household": 5.8173515981735155,
                  "bedrooms_per_rooms": 0.18445839874411302,
                  "population_per_household": 2.547945205479452,
                  "_deepnote_index_column": 3
                },
                {
                  "longitude": -122.25,
                  "latitude": 37.85,
                  "housing_median_age": 52,
                  "total_rooms": 1627,
                  "total_bedrooms": 280,
                  "population": 565,
                  "households": 259,
                  "median_income": 3.8462,
                  "median_house_value": 342200,
                  "ocean_proximity": "NEAR BAY",
                  "rooms_per_household": 6.281853281853282,
                  "bedrooms_per_rooms": 0.1720958819913952,
                  "population_per_household": 2.1814671814671813,
                  "_deepnote_index_column": 4
                }
              ]
            },
            "text/plain": "   longitude  latitude  housing_median_age  total_rooms  total_bedrooms  \\\n0    -122.23     37.88                41.0        880.0           129.0   \n1    -122.22     37.86                21.0       7099.0          1106.0   \n2    -122.24     37.85                52.0       1467.0           190.0   \n3    -122.25     37.85                52.0       1274.0           235.0   \n4    -122.25     37.85                52.0       1627.0           280.0   \n\n   population  households  median_income  median_house_value ocean_proximity  \\\n0       322.0       126.0         8.3252            452600.0        NEAR BAY   \n1      2401.0      1138.0         8.3014            358500.0        NEAR BAY   \n2       496.0       177.0         7.2574            352100.0        NEAR BAY   \n3       558.0       219.0         5.6431            341300.0        NEAR BAY   \n4       565.0       259.0         3.8462            342200.0        NEAR BAY   \n\n   rooms_per_household  bedrooms_per_rooms  population_per_household  \n0             6.984127            0.146591                  2.555556  \n1             6.238137            0.155797                  2.109842  \n2             8.288136            0.129516                  2.802260  \n3             5.817352            0.184458                  2.547945  \n4             6.281853            0.172096                  2.181467  ",
            "text/html": "<div>\n<style scoped>\n    .dataframe tbody tr th:only-of-type {\n        vertical-align: middle;\n    }\n\n    .dataframe tbody tr th {\n        vertical-align: top;\n    }\n\n    .dataframe thead th {\n        text-align: right;\n    }\n</style>\n<table border=\"1\" class=\"dataframe\">\n  <thead>\n    <tr style=\"text-align: right;\">\n      <th></th>\n      <th>longitude</th>\n      <th>latitude</th>\n      <th>housing_median_age</th>\n      <th>total_rooms</th>\n      <th>total_bedrooms</th>\n      <th>population</th>\n      <th>households</th>\n      <th>median_income</th>\n      <th>median_house_value</th>\n      <th>ocean_proximity</th>\n      <th>rooms_per_household</th>\n      <th>bedrooms_per_rooms</th>\n      <th>population_per_household</th>\n    </tr>\n  </thead>\n  <tbody>\n    <tr>\n      <th>0</th>\n      <td>-122.23</td>\n      <td>37.88</td>\n      <td>41.0</td>\n      <td>880.0</td>\n      <td>129.0</td>\n      <td>322.0</td>\n      <td>126.0</td>\n      <td>8.3252</td>\n      <td>452600.0</td>\n      <td>NEAR BAY</td>\n      <td>6.984127</td>\n      <td>0.146591</td>\n      <td>2.555556</td>\n    </tr>\n    <tr>\n      <th>1</th>\n      <td>-122.22</td>\n      <td>37.86</td>\n      <td>21.0</td>\n      <td>7099.0</td>\n      <td>1106.0</td>\n      <td>2401.0</td>\n      <td>1138.0</td>\n      <td>8.3014</td>\n      <td>358500.0</td>\n      <td>NEAR BAY</td>\n      <td>6.238137</td>\n      <td>0.155797</td>\n      <td>2.109842</td>\n    </tr>\n    <tr>\n      <th>2</th>\n      <td>-122.24</td>\n      <td>37.85</td>\n      <td>52.0</td>\n      <td>1467.0</td>\n      <td>190.0</td>\n      <td>496.0</td>\n      <td>177.0</td>\n      <td>7.2574</td>\n      <td>352100.0</td>\n      <td>NEAR BAY</td>\n      <td>8.288136</td>\n      <td>0.129516</td>\n      <td>2.802260</td>\n    </tr>\n    <tr>\n      <th>3</th>\n      <td>-122.25</td>\n      <td>37.85</td>\n      <td>52.0</td>\n      <td>1274.0</td>\n      <td>235.0</td>\n      <td>558.0</td>\n      <td>219.0</td>\n      <td>5.6431</td>\n      <td>341300.0</td>\n      <td>NEAR BAY</td>\n      <td>5.817352</td>\n      <td>0.184458</td>\n      <td>2.547945</td>\n    </tr>\n    <tr>\n      <th>4</th>\n      <td>-122.25</td>\n      <td>37.85</td>\n      <td>52.0</td>\n      <td>1627.0</td>\n      <td>280.0</td>\n      <td>565.0</td>\n      <td>259.0</td>\n      <td>3.8462</td>\n      <td>342200.0</td>\n      <td>NEAR BAY</td>\n      <td>6.281853</td>\n      <td>0.172096</td>\n      <td>2.181467</td>\n    </tr>\n  </tbody>\n</table>\n</div>"
          },
          "metadata": {}
        }
      ],
      "outputs_reference": null,
      "execution_count": null,
      "block_group": "7dbcdaf1ba0c4bf7b7e62b8c6cadf96e"
    },
    {
      "cell_type": "markdown",
      "source": "### add income _cat",
      "metadata": {
        "formattedRanges": [],
        "cell_id": "48f1c57c585f4698961d71ac6108238e",
        "deepnote_cell_type": "text-cell-h3"
      },
      "block_group": "4e8b3761cc4c449291d758f586542634"
    },
    {
      "cell_type": "code",
      "source": "import numpy as np\nhousing[\"income_cat\"] = pd.cut(housing[\"median_income\"],bins=[0,1.5,3.0,4.5,6.,np.inf],\n                                labels=[1,2,3,4,5])",
      "metadata": {
        "source_hash": null,
        "execution_start": 1711345320318,
        "execution_millis": 309,
        "deepnote_to_be_reexecuted": false,
        "cell_id": "acf971ba986c46ffbbbf32d351774fc0",
        "deepnote_cell_type": "code"
      },
      "outputs": [],
      "outputs_reference": null,
      "execution_count": null,
      "block_group": "883fd76aac5b45b3be7db57e3e165afa"
    },
    {
      "cell_type": "code",
      "source": "from sklearn.model_selection import StratifiedShuffleSplit\n\nsplit = StratifiedShuffleSplit(n_splits=1,test_size=0.2,random_state=42)\nfor train_index,test_index in split.split(housing,housing['income_cat']):\n    start_train_set = housing.loc[train_index]\n    start_test_set = housing.loc[test_index]\nstart_test_set['income_cat'].value_counts() / len(start_test_set)",
      "metadata": {
        "source_hash": null,
        "execution_start": 1711345320319,
        "execution_millis": 1153,
        "deepnote_to_be_reexecuted": false,
        "cell_id": "08b27a49193e428585048374df96a507",
        "deepnote_cell_type": "code"
      },
      "outputs": [
        {
          "output_type": "execute_result",
          "execution_count": 6,
          "data": {
            "text/plain": "income_cat\n3    0.350533\n2    0.318798\n4    0.176357\n5    0.114341\n1    0.039971\nName: count, dtype: float64"
          },
          "metadata": {}
        }
      ],
      "outputs_reference": null,
      "execution_count": null,
      "block_group": "37a0833f01fd43e299bf81fb66119061"
    },
    {
      "cell_type": "code",
      "source": "for set_ in (start_train_set,start_test_set):\n    set_.drop(\"income_cat\",axis=1,inplace=True)",
      "metadata": {
        "source_hash": null,
        "execution_start": 1711345321479,
        "execution_millis": 18,
        "deepnote_to_be_reexecuted": false,
        "cell_id": "b3641b7c5c3345798d1dbe029ac80be7",
        "deepnote_cell_type": "code"
      },
      "outputs": [],
      "outputs_reference": null,
      "execution_count": null,
      "block_group": "0a202cef1f2842e6b094d91cb72eae7d"
    },
    {
      "cell_type": "code",
      "source": "housing = start_train_set.copy()",
      "metadata": {
        "source_hash": null,
        "execution_start": 1711345321486,
        "execution_millis": 12,
        "deepnote_to_be_reexecuted": false,
        "cell_id": "a25206cd3e3b4f41a86afd37a2595194",
        "deepnote_cell_type": "code"
      },
      "outputs": [],
      "outputs_reference": null,
      "execution_count": null,
      "block_group": "576432af81724b559d7ed050516833c8"
    },
    {
      "cell_type": "code",
      "source": "from sklearn.model_selection import train_test_split\ntrain_set,test_set = train_test_split(housing,test_size=0.2)",
      "metadata": {
        "source_hash": null,
        "execution_start": 1711345321552,
        "execution_millis": 88,
        "deepnote_to_be_reexecuted": false,
        "cell_id": "ad8befce72714e8a93232386bce1f94c",
        "deepnote_cell_type": "code"
      },
      "outputs": [],
      "outputs_reference": null,
      "execution_count": null,
      "block_group": "72cfee50b6474f8ebdc758be6124ced2"
    },
    {
      "cell_type": "code",
      "source": "housing = start_train_set.drop(\"median_house_value\",axis=1)\nhousing_lable = start_train_set[\"median_house_value\"].copy()",
      "metadata": {
        "source_hash": null,
        "execution_start": 1711345321562,
        "execution_millis": 91,
        "deepnote_to_be_reexecuted": false,
        "cell_id": "834f126cd72c499b86f6961b369ebf12",
        "deepnote_cell_type": "code"
      },
      "outputs": [],
      "outputs_reference": null,
      "execution_count": null,
      "block_group": "0c7f42396e414319b4a1aa9261c4aecb"
    },
    {
      "cell_type": "markdown",
      "source": "## import impute from sklearn",
      "metadata": {
        "formattedRanges": [],
        "cell_id": "79f0ee6fc8154949aff0015dfed4d0bb",
        "deepnote_cell_type": "text-cell-h2"
      },
      "block_group": "960776c0fa6e45d5b15fd13e8522c634"
    },
    {
      "cell_type": "code",
      "source": "from sklearn.impute import SimpleImputer\nimpute = SimpleImputer(strategy=\"median\")\nhousing_num = housing.drop(\"ocean_proximity\",axis=1)",
      "metadata": {
        "source_hash": null,
        "execution_start": 1711345321610,
        "execution_millis": 186,
        "deepnote_to_be_reexecuted": false,
        "cell_id": "7115ceae86604fa0bd48d6f8dfa8693e",
        "deepnote_cell_type": "code"
      },
      "outputs": [],
      "outputs_reference": null,
      "execution_count": null,
      "block_group": "d34a6f23b5a443379636dc131147966b"
    },
    {
      "cell_type": "code",
      "source": "atribute = [\"rooms_per_household\",\"bedrooms_per_rooms\",\"population_per_household\"]\nhousing.drop(atribute,axis=1)",
      "metadata": {
        "source_hash": null,
        "execution_start": 1711345321805,
        "execution_millis": 164,
        "deepnote_to_be_reexecuted": false,
        "cell_id": "86032465702d49e998eee30a45a367df",
        "deepnote_cell_type": "code"
      },
      "outputs": [
        {
          "output_type": "execute_result",
          "execution_count": 12,
          "data": {
            "application/vnd.deepnote.dataframe.v3+json": {
              "column_count": 9,
              "row_count": 16512,
              "columns": [
                {
                  "name": "longitude",
                  "dtype": "float64",
                  "stats": {
                    "unique_count": 825,
                    "nan_count": 0,
                    "min": "-124.35",
                    "max": "-114.31",
                    "histogram": [
                      {
                        "bin_start": -124.35,
                        "bin_end": -123.34599999999999,
                        "count": 154
                      },
                      {
                        "bin_start": -123.34599999999999,
                        "bin_end": -122.342,
                        "count": 1232
                      },
                      {
                        "bin_start": -122.342,
                        "bin_end": -121.338,
                        "count": 3665
                      },
                      {
                        "bin_start": -121.338,
                        "bin_end": -120.334,
                        "count": 1351
                      },
                      {
                        "bin_start": -120.334,
                        "bin_end": -119.33,
                        "count": 886
                      },
                      {
                        "bin_start": -119.33,
                        "bin_end": -118.326,
                        "count": 2328
                      },
                      {
                        "bin_start": -118.326,
                        "bin_end": -117.322,
                        "count": 4935
                      },
                      {
                        "bin_start": -117.322,
                        "bin_end": -116.318,
                        "count": 1787
                      },
                      {
                        "bin_start": -116.318,
                        "bin_end": -115.31400000000001,
                        "count": 152
                      },
                      {
                        "bin_start": -115.31400000000001,
                        "bin_end": -114.31,
                        "count": 22
                      }
                    ]
                  }
                },
                {
                  "name": "latitude",
                  "dtype": "float64",
                  "stats": {
                    "unique_count": 839,
                    "nan_count": 0,
                    "min": "32.54",
                    "max": "41.95",
                    "histogram": [
                      {
                        "bin_start": 32.54,
                        "bin_end": 33.481,
                        "count": 1445
                      },
                      {
                        "bin_start": 33.481,
                        "bin_end": 34.422,
                        "count": 7144
                      },
                      {
                        "bin_start": 34.422,
                        "bin_end": 35.363,
                        "count": 614
                      },
                      {
                        "bin_start": 35.363,
                        "bin_end": 36.304,
                        "count": 379
                      },
                      {
                        "bin_start": 36.304,
                        "bin_end": 37.245000000000005,
                        "count": 1031
                      },
                      {
                        "bin_start": 37.245000000000005,
                        "bin_end": 38.186,
                        "count": 3786
                      },
                      {
                        "bin_start": 38.186,
                        "bin_end": 39.127,
                        "count": 1406
                      },
                      {
                        "bin_start": 39.127,
                        "bin_end": 40.068000000000005,
                        "count": 377
                      },
                      {
                        "bin_start": 40.068000000000005,
                        "bin_end": 41.009,
                        "count": 264
                      },
                      {
                        "bin_start": 41.009,
                        "bin_end": 41.95,
                        "count": 66
                      }
                    ]
                  }
                },
                {
                  "name": "housing_median_age",
                  "dtype": "float64",
                  "stats": {
                    "unique_count": 52,
                    "nan_count": 0,
                    "min": "1.0",
                    "max": "52.0",
                    "histogram": [
                      {
                        "bin_start": 1,
                        "bin_end": 6.1,
                        "count": 569
                      },
                      {
                        "bin_start": 6.1,
                        "bin_end": 11.2,
                        "count": 890
                      },
                      {
                        "bin_start": 11.2,
                        "bin_end": 16.299999999999997,
                        "count": 1780
                      },
                      {
                        "bin_start": 16.299999999999997,
                        "bin_end": 21.4,
                        "count": 2155
                      },
                      {
                        "bin_start": 21.4,
                        "bin_end": 26.5,
                        "count": 1981
                      },
                      {
                        "bin_start": 26.5,
                        "bin_end": 31.599999999999998,
                        "count": 1892
                      },
                      {
                        "bin_start": 31.599999999999998,
                        "bin_end": 36.699999999999996,
                        "count": 2874
                      },
                      {
                        "bin_start": 36.699999999999996,
                        "bin_end": 41.8,
                        "count": 1522
                      },
                      {
                        "bin_start": 41.8,
                        "bin_end": 46.9,
                        "count": 1271
                      },
                      {
                        "bin_start": 46.9,
                        "bin_end": 52,
                        "count": 1578
                      }
                    ]
                  }
                },
                {
                  "name": "total_rooms",
                  "dtype": "float64",
                  "stats": {
                    "unique_count": 5494,
                    "nan_count": 0,
                    "min": "6.0",
                    "max": "39320.0",
                    "histogram": [
                      {
                        "bin_start": 6,
                        "bin_end": 3937.4,
                        "count": 14040
                      },
                      {
                        "bin_start": 3937.4,
                        "bin_end": 7868.8,
                        "count": 2034
                      },
                      {
                        "bin_start": 7868.8,
                        "bin_end": 11800.2,
                        "count": 298
                      },
                      {
                        "bin_start": 11800.2,
                        "bin_end": 15731.6,
                        "count": 84
                      },
                      {
                        "bin_start": 15731.6,
                        "bin_end": 19663,
                        "count": 35
                      },
                      {
                        "bin_start": 19663,
                        "bin_end": 23594.4,
                        "count": 11
                      },
                      {
                        "bin_start": 23594.4,
                        "bin_end": 27525.8,
                        "count": 3
                      },
                      {
                        "bin_start": 27525.8,
                        "bin_end": 31457.2,
                        "count": 4
                      },
                      {
                        "bin_start": 31457.2,
                        "bin_end": 35388.6,
                        "count": 1
                      },
                      {
                        "bin_start": 35388.6,
                        "bin_end": 39320,
                        "count": 2
                      }
                    ]
                  }
                },
                {
                  "name": "total_bedrooms",
                  "dtype": "float64",
                  "stats": {
                    "unique_count": 1810,
                    "nan_count": 158,
                    "min": "2.0",
                    "max": "6210.0",
                    "histogram": [
                      {
                        "bin_start": 2,
                        "bin_end": 622.8,
                        "count": 11940
                      },
                      {
                        "bin_start": 622.8,
                        "bin_end": 1243.6,
                        "count": 3548
                      },
                      {
                        "bin_start": 1243.6,
                        "bin_end": 1864.3999999999999,
                        "count": 612
                      },
                      {
                        "bin_start": 1864.3999999999999,
                        "bin_end": 2485.2,
                        "count": 144
                      },
                      {
                        "bin_start": 2485.2,
                        "bin_end": 3106,
                        "count": 69
                      },
                      {
                        "bin_start": 3106,
                        "bin_end": 3726.7999999999997,
                        "count": 20
                      },
                      {
                        "bin_start": 3726.7999999999997,
                        "bin_end": 4347.599999999999,
                        "count": 11
                      },
                      {
                        "bin_start": 4347.599999999999,
                        "bin_end": 4968.4,
                        "count": 6
                      },
                      {
                        "bin_start": 4968.4,
                        "bin_end": 5589.2,
                        "count": 3
                      },
                      {
                        "bin_start": 5589.2,
                        "bin_end": 6210,
                        "count": 1
                      }
                    ]
                  }
                },
                {
                  "name": "population",
                  "dtype": "float64",
                  "stats": {
                    "unique_count": 3619,
                    "nan_count": 0,
                    "min": "3.0",
                    "max": "35682.0",
                    "histogram": [
                      {
                        "bin_start": 3,
                        "bin_end": 3570.9,
                        "count": 15862
                      },
                      {
                        "bin_start": 3570.9,
                        "bin_end": 7138.8,
                        "count": 562
                      },
                      {
                        "bin_start": 7138.8,
                        "bin_end": 10706.7,
                        "count": 75
                      },
                      {
                        "bin_start": 10706.7,
                        "bin_end": 14274.6,
                        "count": 8
                      },
                      {
                        "bin_start": 14274.6,
                        "bin_end": 17842.5,
                        "count": 4
                      },
                      {
                        "bin_start": 17842.5,
                        "bin_end": 21410.4,
                        "count": 0
                      },
                      {
                        "bin_start": 21410.4,
                        "bin_end": 24978.3,
                        "count": 0
                      },
                      {
                        "bin_start": 24978.3,
                        "bin_end": 28546.2,
                        "count": 0
                      },
                      {
                        "bin_start": 28546.2,
                        "bin_end": 32114.100000000002,
                        "count": 0
                      },
                      {
                        "bin_start": 32114.100000000002,
                        "bin_end": 35682,
                        "count": 1
                      }
                    ]
                  }
                },
                {
                  "name": "households",
                  "dtype": "float64"
                },
                {
                  "name": "median_income",
                  "dtype": "float64"
                },
                {
                  "name": "ocean_proximity",
                  "dtype": "object"
                },
                {
                  "name": "_deepnote_index_column",
                  "dtype": "int64"
                }
              ],
              "rows": [
                {
                  "longitude": -121.46,
                  "latitude": 38.52,
                  "housing_median_age": 29,
                  "total_rooms": 3873,
                  "total_bedrooms": 797,
                  "population": 2237,
                  "households": 706,
                  "median_income": 2.1736,
                  "ocean_proximity": "INLAND",
                  "_deepnote_index_column": 12655
                },
                {
                  "longitude": -117.23,
                  "latitude": 33.09,
                  "housing_median_age": 7,
                  "total_rooms": 5320,
                  "total_bedrooms": 855,
                  "population": 2015,
                  "households": 768,
                  "median_income": 6.3373,
                  "ocean_proximity": "NEAR OCEAN",
                  "_deepnote_index_column": 15502
                },
                {
                  "longitude": -119.04,
                  "latitude": 35.37,
                  "housing_median_age": 44,
                  "total_rooms": 1618,
                  "total_bedrooms": 310,
                  "population": 667,
                  "households": 300,
                  "median_income": 2.875,
                  "ocean_proximity": "INLAND",
                  "_deepnote_index_column": 2908
                },
                {
                  "longitude": -117.13,
                  "latitude": 32.75,
                  "housing_median_age": 24,
                  "total_rooms": 1877,
                  "total_bedrooms": 519,
                  "population": 898,
                  "households": 483,
                  "median_income": 2.2264,
                  "ocean_proximity": "NEAR OCEAN",
                  "_deepnote_index_column": 14053
                },
                {
                  "longitude": -118.7,
                  "latitude": 34.28,
                  "housing_median_age": 27,
                  "total_rooms": 3536,
                  "total_bedrooms": 646,
                  "population": 1837,
                  "households": 580,
                  "median_income": 4.4964,
                  "ocean_proximity": "<1H OCEAN",
                  "_deepnote_index_column": 20496
                },
                {
                  "longitude": -122.04,
                  "latitude": 37.96,
                  "housing_median_age": 28,
                  "total_rooms": 1207,
                  "total_bedrooms": 252,
                  "population": 724,
                  "households": 252,
                  "median_income": 3.6964,
                  "ocean_proximity": "NEAR BAY",
                  "_deepnote_index_column": 1481
                },
                {
                  "longitude": -122.03,
                  "latitude": 37.33,
                  "housing_median_age": 23,
                  "total_rooms": 4221,
                  "total_bedrooms": 671,
                  "population": 1782,
                  "households": 641,
                  "median_income": 7.4863,
                  "ocean_proximity": "<1H OCEAN",
                  "_deepnote_index_column": 18125
                },
                {
                  "longitude": -118.31,
                  "latitude": 34.2,
                  "housing_median_age": 36,
                  "total_rooms": 1692,
                  "total_bedrooms": 263,
                  "population": 778,
                  "households": 278,
                  "median_income": 5.0865,
                  "ocean_proximity": "<1H OCEAN",
                  "_deepnote_index_column": 5830
                },
                {
                  "longitude": -121.95,
                  "latitude": 37.27,
                  "housing_median_age": 17,
                  "total_rooms": 1330,
                  "total_bedrooms": 271,
                  "population": 408,
                  "households": 258,
                  "median_income": 1.7171,
                  "ocean_proximity": "<1H OCEAN",
                  "_deepnote_index_column": 17989
                },
                {
                  "longitude": -118.28,
                  "latitude": 34.02,
                  "housing_median_age": 29,
                  "total_rooms": 515,
                  "total_bedrooms": 229,
                  "population": 2690,
                  "households": 217,
                  "median_income": 0.4999,
                  "ocean_proximity": "<1H OCEAN",
                  "_deepnote_index_column": 4861
                }
              ]
            },
            "text/plain": "       longitude  latitude  housing_median_age  total_rooms  total_bedrooms  \\\n12655    -121.46     38.52                29.0       3873.0           797.0   \n15502    -117.23     33.09                 7.0       5320.0           855.0   \n2908     -119.04     35.37                44.0       1618.0           310.0   \n14053    -117.13     32.75                24.0       1877.0           519.0   \n20496    -118.70     34.28                27.0       3536.0           646.0   \n...          ...       ...                 ...          ...             ...   \n15174    -117.07     33.03                14.0       6665.0          1231.0   \n12661    -121.42     38.51                15.0       7901.0          1422.0   \n19263    -122.72     38.44                48.0        707.0           166.0   \n19140    -122.70     38.31                14.0       3155.0           580.0   \n19773    -122.14     39.97                27.0       1079.0           222.0   \n\n       population  households  median_income ocean_proximity  \n12655      2237.0       706.0         2.1736          INLAND  \n15502      2015.0       768.0         6.3373      NEAR OCEAN  \n2908        667.0       300.0         2.8750          INLAND  \n14053       898.0       483.0         2.2264      NEAR OCEAN  \n20496      1837.0       580.0         4.4964       <1H OCEAN  \n...           ...         ...            ...             ...  \n15174      2026.0      1001.0         5.0900       <1H OCEAN  \n12661      4769.0      1418.0         2.8139          INLAND  \n19263       458.0       172.0         3.1797       <1H OCEAN  \n19140      1208.0       501.0         4.1964       <1H OCEAN  \n19773       625.0       197.0         3.1319          INLAND  \n\n[16512 rows x 9 columns]",
            "text/html": "<div>\n<style scoped>\n    .dataframe tbody tr th:only-of-type {\n        vertical-align: middle;\n    }\n\n    .dataframe tbody tr th {\n        vertical-align: top;\n    }\n\n    .dataframe thead th {\n        text-align: right;\n    }\n</style>\n<table border=\"1\" class=\"dataframe\">\n  <thead>\n    <tr style=\"text-align: right;\">\n      <th></th>\n      <th>longitude</th>\n      <th>latitude</th>\n      <th>housing_median_age</th>\n      <th>total_rooms</th>\n      <th>total_bedrooms</th>\n      <th>population</th>\n      <th>households</th>\n      <th>median_income</th>\n      <th>ocean_proximity</th>\n    </tr>\n  </thead>\n  <tbody>\n    <tr>\n      <th>12655</th>\n      <td>-121.46</td>\n      <td>38.52</td>\n      <td>29.0</td>\n      <td>3873.0</td>\n      <td>797.0</td>\n      <td>2237.0</td>\n      <td>706.0</td>\n      <td>2.1736</td>\n      <td>INLAND</td>\n    </tr>\n    <tr>\n      <th>15502</th>\n      <td>-117.23</td>\n      <td>33.09</td>\n      <td>7.0</td>\n      <td>5320.0</td>\n      <td>855.0</td>\n      <td>2015.0</td>\n      <td>768.0</td>\n      <td>6.3373</td>\n      <td>NEAR OCEAN</td>\n    </tr>\n    <tr>\n      <th>2908</th>\n      <td>-119.04</td>\n      <td>35.37</td>\n      <td>44.0</td>\n      <td>1618.0</td>\n      <td>310.0</td>\n      <td>667.0</td>\n      <td>300.0</td>\n      <td>2.8750</td>\n      <td>INLAND</td>\n    </tr>\n    <tr>\n      <th>14053</th>\n      <td>-117.13</td>\n      <td>32.75</td>\n      <td>24.0</td>\n      <td>1877.0</td>\n      <td>519.0</td>\n      <td>898.0</td>\n      <td>483.0</td>\n      <td>2.2264</td>\n      <td>NEAR OCEAN</td>\n    </tr>\n    <tr>\n      <th>20496</th>\n      <td>-118.70</td>\n      <td>34.28</td>\n      <td>27.0</td>\n      <td>3536.0</td>\n      <td>646.0</td>\n      <td>1837.0</td>\n      <td>580.0</td>\n      <td>4.4964</td>\n      <td>&lt;1H OCEAN</td>\n    </tr>\n    <tr>\n      <th>...</th>\n      <td>...</td>\n      <td>...</td>\n      <td>...</td>\n      <td>...</td>\n      <td>...</td>\n      <td>...</td>\n      <td>...</td>\n      <td>...</td>\n      <td>...</td>\n    </tr>\n    <tr>\n      <th>15174</th>\n      <td>-117.07</td>\n      <td>33.03</td>\n      <td>14.0</td>\n      <td>6665.0</td>\n      <td>1231.0</td>\n      <td>2026.0</td>\n      <td>1001.0</td>\n      <td>5.0900</td>\n      <td>&lt;1H OCEAN</td>\n    </tr>\n    <tr>\n      <th>12661</th>\n      <td>-121.42</td>\n      <td>38.51</td>\n      <td>15.0</td>\n      <td>7901.0</td>\n      <td>1422.0</td>\n      <td>4769.0</td>\n      <td>1418.0</td>\n      <td>2.8139</td>\n      <td>INLAND</td>\n    </tr>\n    <tr>\n      <th>19263</th>\n      <td>-122.72</td>\n      <td>38.44</td>\n      <td>48.0</td>\n      <td>707.0</td>\n      <td>166.0</td>\n      <td>458.0</td>\n      <td>172.0</td>\n      <td>3.1797</td>\n      <td>&lt;1H OCEAN</td>\n    </tr>\n    <tr>\n      <th>19140</th>\n      <td>-122.70</td>\n      <td>38.31</td>\n      <td>14.0</td>\n      <td>3155.0</td>\n      <td>580.0</td>\n      <td>1208.0</td>\n      <td>501.0</td>\n      <td>4.1964</td>\n      <td>&lt;1H OCEAN</td>\n    </tr>\n    <tr>\n      <th>19773</th>\n      <td>-122.14</td>\n      <td>39.97</td>\n      <td>27.0</td>\n      <td>1079.0</td>\n      <td>222.0</td>\n      <td>625.0</td>\n      <td>197.0</td>\n      <td>3.1319</td>\n      <td>INLAND</td>\n    </tr>\n  </tbody>\n</table>\n<p>16512 rows × 9 columns</p>\n</div>"
          },
          "metadata": {}
        }
      ],
      "outputs_reference": null,
      "execution_count": null,
      "block_group": "8882db17cad14dab953944aa76d74ceb"
    },
    {
      "cell_type": "code",
      "source": "impute.fit(housing_num)",
      "metadata": {
        "source_hash": null,
        "execution_start": 1711345322018,
        "execution_millis": 231,
        "deepnote_to_be_reexecuted": false,
        "cell_id": "bb97230a4232409c9d8a73d3903a491d",
        "deepnote_cell_type": "code"
      },
      "outputs": [
        {
          "output_type": "execute_result",
          "execution_count": 13,
          "data": {
            "text/plain": "SimpleImputer(strategy='median')",
            "text/html": "<style>#sk-container-id-1 {color: black;}#sk-container-id-1 pre{padding: 0;}#sk-container-id-1 div.sk-toggleable {background-color: white;}#sk-container-id-1 label.sk-toggleable__label {cursor: pointer;display: block;width: 100%;margin-bottom: 0;padding: 0.3em;box-sizing: border-box;text-align: center;}#sk-container-id-1 label.sk-toggleable__label-arrow:before {content: \"▸\";float: left;margin-right: 0.25em;color: #696969;}#sk-container-id-1 label.sk-toggleable__label-arrow:hover:before {color: black;}#sk-container-id-1 div.sk-estimator:hover label.sk-toggleable__label-arrow:before {color: black;}#sk-container-id-1 div.sk-toggleable__content {max-height: 0;max-width: 0;overflow: hidden;text-align: left;background-color: #f0f8ff;}#sk-container-id-1 div.sk-toggleable__content pre {margin: 0.2em;color: black;border-radius: 0.25em;background-color: #f0f8ff;}#sk-container-id-1 input.sk-toggleable__control:checked~div.sk-toggleable__content {max-height: 200px;max-width: 100%;overflow: auto;}#sk-container-id-1 input.sk-toggleable__control:checked~label.sk-toggleable__label-arrow:before {content: \"▾\";}#sk-container-id-1 div.sk-estimator input.sk-toggleable__control:checked~label.sk-toggleable__label {background-color: #d4ebff;}#sk-container-id-1 div.sk-label input.sk-toggleable__control:checked~label.sk-toggleable__label {background-color: #d4ebff;}#sk-container-id-1 input.sk-hidden--visually {border: 0;clip: rect(1px 1px 1px 1px);clip: rect(1px, 1px, 1px, 1px);height: 1px;margin: -1px;overflow: hidden;padding: 0;position: absolute;width: 1px;}#sk-container-id-1 div.sk-estimator {font-family: monospace;background-color: #f0f8ff;border: 1px dotted black;border-radius: 0.25em;box-sizing: border-box;margin-bottom: 0.5em;}#sk-container-id-1 div.sk-estimator:hover {background-color: #d4ebff;}#sk-container-id-1 div.sk-parallel-item::after {content: \"\";width: 100%;border-bottom: 1px solid gray;flex-grow: 1;}#sk-container-id-1 div.sk-label:hover label.sk-toggleable__label {background-color: #d4ebff;}#sk-container-id-1 div.sk-serial::before {content: \"\";position: absolute;border-left: 1px solid gray;box-sizing: border-box;top: 0;bottom: 0;left: 50%;z-index: 0;}#sk-container-id-1 div.sk-serial {display: flex;flex-direction: column;align-items: center;background-color: white;padding-right: 0.2em;padding-left: 0.2em;position: relative;}#sk-container-id-1 div.sk-item {position: relative;z-index: 1;}#sk-container-id-1 div.sk-parallel {display: flex;align-items: stretch;justify-content: center;background-color: white;position: relative;}#sk-container-id-1 div.sk-item::before, #sk-container-id-1 div.sk-parallel-item::before {content: \"\";position: absolute;border-left: 1px solid gray;box-sizing: border-box;top: 0;bottom: 0;left: 50%;z-index: -1;}#sk-container-id-1 div.sk-parallel-item {display: flex;flex-direction: column;z-index: 1;position: relative;background-color: white;}#sk-container-id-1 div.sk-parallel-item:first-child::after {align-self: flex-end;width: 50%;}#sk-container-id-1 div.sk-parallel-item:last-child::after {align-self: flex-start;width: 50%;}#sk-container-id-1 div.sk-parallel-item:only-child::after {width: 0;}#sk-container-id-1 div.sk-dashed-wrapped {border: 1px dashed gray;margin: 0 0.4em 0.5em 0.4em;box-sizing: border-box;padding-bottom: 0.4em;background-color: white;}#sk-container-id-1 div.sk-label label {font-family: monospace;font-weight: bold;display: inline-block;line-height: 1.2em;}#sk-container-id-1 div.sk-label-container {text-align: center;}#sk-container-id-1 div.sk-container {/* jupyter's `normalize.less` sets `[hidden] { display: none; }` but bootstrap.min.css set `[hidden] { display: none !important; }` so we also need the `!important` here to be able to override the default hidden behavior on the sphinx rendered scikit-learn.org. See: https://github.com/scikit-learn/scikit-learn/issues/21755 */display: inline-block !important;position: relative;}#sk-container-id-1 div.sk-text-repr-fallback {display: none;}</style><div id=\"sk-container-id-1\" class=\"sk-top-container\"><div class=\"sk-text-repr-fallback\"><pre>SimpleImputer(strategy=&#x27;median&#x27;)</pre><b>In a Jupyter environment, please rerun this cell to show the HTML representation or trust the notebook. <br />On GitHub, the HTML representation is unable to render, please try loading this page with nbviewer.org.</b></div><div class=\"sk-container\" hidden><div class=\"sk-item\"><div class=\"sk-estimator sk-toggleable\"><input class=\"sk-toggleable__control sk-hidden--visually\" id=\"sk-estimator-id-1\" type=\"checkbox\" checked><label for=\"sk-estimator-id-1\" class=\"sk-toggleable__label sk-toggleable__label-arrow\">SimpleImputer</label><div class=\"sk-toggleable__content\"><pre>SimpleImputer(strategy=&#x27;median&#x27;)</pre></div></div></div></div></div>"
          },
          "metadata": {}
        }
      ],
      "outputs_reference": null,
      "execution_count": null,
      "block_group": "e3ddfa5695ac45c0936c6b17c49c54ba"
    },
    {
      "cell_type": "code",
      "source": "impute.statistics_",
      "metadata": {
        "source_hash": null,
        "execution_start": 1711345322098,
        "execution_millis": 152,
        "deepnote_to_be_reexecuted": false,
        "cell_id": "793f7f2934e0449d88e45bd58f03cfd1",
        "deepnote_cell_type": "code"
      },
      "outputs": [
        {
          "output_type": "execute_result",
          "execution_count": 14,
          "data": {
            "text/plain": "array([-1.18510000e+02,  3.42600000e+01,  2.90000000e+01,  2.11900000e+03,\n        4.33000000e+02,  1.16400000e+03,  4.08000000e+02,  3.54155000e+00,\n        5.23234164e+00,  2.03027043e-01,  2.81766108e+00])"
          },
          "metadata": {}
        }
      ],
      "outputs_reference": null,
      "execution_count": null,
      "block_group": "ffb36e0f05984cfeae697ffe6eb0dd95"
    },
    {
      "cell_type": "code",
      "source": "housing_num.median().values",
      "metadata": {
        "source_hash": null,
        "execution_start": 1711345322099,
        "execution_millis": 151,
        "deepnote_to_be_reexecuted": false,
        "cell_id": "49e551129eb4495d90e9ec15c3034cad",
        "deepnote_cell_type": "code"
      },
      "outputs": [
        {
          "output_type": "execute_result",
          "execution_count": 15,
          "data": {
            "text/plain": "array([-1.18510000e+02,  3.42600000e+01,  2.90000000e+01,  2.11900000e+03,\n        4.33000000e+02,  1.16400000e+03,  4.08000000e+02,  3.54155000e+00,\n        5.23234164e+00,  2.03027043e-01,  2.81766108e+00])"
          },
          "metadata": {}
        }
      ],
      "outputs_reference": null,
      "execution_count": null,
      "block_group": "1ff2021e44e347198c940ba6b029ac90"
    },
    {
      "cell_type": "markdown",
      "source": "# heatmap",
      "metadata": {
        "formattedRanges": [],
        "cell_id": "4b8a0398df334ed7a829d674f7b8b0a8",
        "deepnote_cell_type": "text-cell-h1"
      },
      "block_group": "ab71de56c74d42a182edb49a5e67e820"
    },
    {
      "cell_type": "code",
      "source": "import seaborn as sns",
      "metadata": {
        "source_hash": "56a43a0",
        "execution_start": 1711942487213,
        "execution_millis": 80,
        "deepnote_to_be_reexecuted": false,
        "cell_id": "7c1837d8f8e54cf190bc3bb59e4a0806",
        "deepnote_cell_type": "code"
      },
      "outputs": [],
      "outputs_reference": null,
      "execution_count": 2,
      "block_group": "b509ec8734c24228b7c7650d3f937b32"
    },
    {
      "cell_type": "code",
      "source": "df = sns.load_dataset('tips')",
      "metadata": {
        "source_hash": "d980de1c",
        "execution_start": 1711942595688,
        "execution_millis": 79,
        "deepnote_to_be_reexecuted": false,
        "cell_id": "2fab7ddc54874303862a9269ffd7fc94",
        "deepnote_cell_type": "code"
      },
      "outputs": [],
      "outputs_reference": null,
      "execution_count": 3,
      "block_group": "785e67252a26462e808834c7c76ed68d"
    },
    {
      "cell_type": "code",
      "source": "df.head()",
      "metadata": {
        "source_hash": "c085b6ba",
        "execution_start": 1711942606694,
        "execution_millis": 43,
        "deepnote_to_be_reexecuted": false,
        "cell_id": "c258d8fd99e54137927a5cc1a5da668a",
        "deepnote_cell_type": "code"
      },
      "outputs": [
        {
          "output_type": "execute_result",
          "execution_count": 4,
          "data": {
            "application/vnd.deepnote.dataframe.v3+json": {
              "column_count": 7,
              "row_count": 5,
              "columns": [
                {
                  "name": "total_bill",
                  "dtype": "float64",
                  "stats": {
                    "unique_count": 5,
                    "nan_count": 0,
                    "min": "10.34",
                    "max": "24.59",
                    "histogram": [
                      {
                        "bin_start": 10.34,
                        "bin_end": 11.765,
                        "count": 1
                      },
                      {
                        "bin_start": 11.765,
                        "bin_end": 13.19,
                        "count": 0
                      },
                      {
                        "bin_start": 13.19,
                        "bin_end": 14.615,
                        "count": 0
                      },
                      {
                        "bin_start": 14.615,
                        "bin_end": 16.04,
                        "count": 0
                      },
                      {
                        "bin_start": 16.04,
                        "bin_end": 17.465,
                        "count": 1
                      },
                      {
                        "bin_start": 17.465,
                        "bin_end": 18.89,
                        "count": 0
                      },
                      {
                        "bin_start": 18.89,
                        "bin_end": 20.314999999999998,
                        "count": 0
                      },
                      {
                        "bin_start": 20.314999999999998,
                        "bin_end": 21.740000000000002,
                        "count": 1
                      },
                      {
                        "bin_start": 21.740000000000002,
                        "bin_end": 23.165,
                        "count": 0
                      },
                      {
                        "bin_start": 23.165,
                        "bin_end": 24.59,
                        "count": 2
                      }
                    ]
                  }
                },
                {
                  "name": "tip",
                  "dtype": "float64",
                  "stats": {
                    "unique_count": 5,
                    "nan_count": 0,
                    "min": "1.01",
                    "max": "3.61",
                    "histogram": [
                      {
                        "bin_start": 1.01,
                        "bin_end": 1.27,
                        "count": 1
                      },
                      {
                        "bin_start": 1.27,
                        "bin_end": 1.5299999999999998,
                        "count": 0
                      },
                      {
                        "bin_start": 1.5299999999999998,
                        "bin_end": 1.7899999999999998,
                        "count": 1
                      },
                      {
                        "bin_start": 1.7899999999999998,
                        "bin_end": 2.05,
                        "count": 0
                      },
                      {
                        "bin_start": 2.05,
                        "bin_end": 2.3099999999999996,
                        "count": 0
                      },
                      {
                        "bin_start": 2.3099999999999996,
                        "bin_end": 2.5699999999999994,
                        "count": 0
                      },
                      {
                        "bin_start": 2.5699999999999994,
                        "bin_end": 2.8299999999999996,
                        "count": 0
                      },
                      {
                        "bin_start": 2.8299999999999996,
                        "bin_end": 3.09,
                        "count": 0
                      },
                      {
                        "bin_start": 3.09,
                        "bin_end": 3.3499999999999996,
                        "count": 1
                      },
                      {
                        "bin_start": 3.3499999999999996,
                        "bin_end": 3.61,
                        "count": 2
                      }
                    ]
                  }
                },
                {
                  "name": "sex",
                  "dtype": "category",
                  "stats": {
                    "unique_count": 2,
                    "nan_count": 0,
                    "categories": [
                      {
                        "name": "Male",
                        "count": 3
                      },
                      {
                        "name": "Female",
                        "count": 2
                      }
                    ]
                  }
                },
                {
                  "name": "smoker",
                  "dtype": "category",
                  "stats": {
                    "unique_count": 1,
                    "nan_count": 0,
                    "categories": [
                      {
                        "name": "No",
                        "count": 5
                      }
                    ]
                  }
                },
                {
                  "name": "day",
                  "dtype": "category",
                  "stats": {
                    "unique_count": 1,
                    "nan_count": 0,
                    "categories": [
                      {
                        "name": "Sun",
                        "count": 5
                      }
                    ]
                  }
                },
                {
                  "name": "time",
                  "dtype": "category",
                  "stats": {
                    "unique_count": 1,
                    "nan_count": 0,
                    "categories": [
                      {
                        "name": "Dinner",
                        "count": 5
                      }
                    ]
                  }
                },
                {
                  "name": "size",
                  "dtype": "int64",
                  "stats": {
                    "unique_count": 3,
                    "nan_count": 0,
                    "min": "2",
                    "max": "4",
                    "histogram": [
                      {
                        "bin_start": 2,
                        "bin_end": 2.2,
                        "count": 2
                      },
                      {
                        "bin_start": 2.2,
                        "bin_end": 2.4,
                        "count": 0
                      },
                      {
                        "bin_start": 2.4,
                        "bin_end": 2.6,
                        "count": 0
                      },
                      {
                        "bin_start": 2.6,
                        "bin_end": 2.8,
                        "count": 0
                      },
                      {
                        "bin_start": 2.8,
                        "bin_end": 3,
                        "count": 0
                      },
                      {
                        "bin_start": 3,
                        "bin_end": 3.2,
                        "count": 2
                      },
                      {
                        "bin_start": 3.2,
                        "bin_end": 3.4000000000000004,
                        "count": 0
                      },
                      {
                        "bin_start": 3.4000000000000004,
                        "bin_end": 3.6,
                        "count": 0
                      },
                      {
                        "bin_start": 3.6,
                        "bin_end": 3.8,
                        "count": 0
                      },
                      {
                        "bin_start": 3.8,
                        "bin_end": 4,
                        "count": 1
                      }
                    ]
                  }
                },
                {
                  "name": "_deepnote_index_column",
                  "dtype": "int64"
                }
              ],
              "rows": [
                {
                  "total_bill": 16.99,
                  "tip": 1.01,
                  "sex": "Female",
                  "smoker": "No",
                  "day": "Sun",
                  "time": "Dinner",
                  "size": 2,
                  "_deepnote_index_column": 0
                },
                {
                  "total_bill": 10.34,
                  "tip": 1.66,
                  "sex": "Male",
                  "smoker": "No",
                  "day": "Sun",
                  "time": "Dinner",
                  "size": 3,
                  "_deepnote_index_column": 1
                },
                {
                  "total_bill": 21.01,
                  "tip": 3.5,
                  "sex": "Male",
                  "smoker": "No",
                  "day": "Sun",
                  "time": "Dinner",
                  "size": 3,
                  "_deepnote_index_column": 2
                },
                {
                  "total_bill": 23.68,
                  "tip": 3.31,
                  "sex": "Male",
                  "smoker": "No",
                  "day": "Sun",
                  "time": "Dinner",
                  "size": 2,
                  "_deepnote_index_column": 3
                },
                {
                  "total_bill": 24.59,
                  "tip": 3.61,
                  "sex": "Female",
                  "smoker": "No",
                  "day": "Sun",
                  "time": "Dinner",
                  "size": 4,
                  "_deepnote_index_column": 4
                }
              ]
            },
            "text/plain": "   total_bill   tip     sex smoker  day    time  size\n0       16.99  1.01  Female     No  Sun  Dinner     2\n1       10.34  1.66    Male     No  Sun  Dinner     3\n2       21.01  3.50    Male     No  Sun  Dinner     3\n3       23.68  3.31    Male     No  Sun  Dinner     2\n4       24.59  3.61  Female     No  Sun  Dinner     4",
            "text/html": "<div>\n<style scoped>\n    .dataframe tbody tr th:only-of-type {\n        vertical-align: middle;\n    }\n\n    .dataframe tbody tr th {\n        vertical-align: top;\n    }\n\n    .dataframe thead th {\n        text-align: right;\n    }\n</style>\n<table border=\"1\" class=\"dataframe\">\n  <thead>\n    <tr style=\"text-align: right;\">\n      <th></th>\n      <th>total_bill</th>\n      <th>tip</th>\n      <th>sex</th>\n      <th>smoker</th>\n      <th>day</th>\n      <th>time</th>\n      <th>size</th>\n    </tr>\n  </thead>\n  <tbody>\n    <tr>\n      <th>0</th>\n      <td>16.99</td>\n      <td>1.01</td>\n      <td>Female</td>\n      <td>No</td>\n      <td>Sun</td>\n      <td>Dinner</td>\n      <td>2</td>\n    </tr>\n    <tr>\n      <th>1</th>\n      <td>10.34</td>\n      <td>1.66</td>\n      <td>Male</td>\n      <td>No</td>\n      <td>Sun</td>\n      <td>Dinner</td>\n      <td>3</td>\n    </tr>\n    <tr>\n      <th>2</th>\n      <td>21.01</td>\n      <td>3.50</td>\n      <td>Male</td>\n      <td>No</td>\n      <td>Sun</td>\n      <td>Dinner</td>\n      <td>3</td>\n    </tr>\n    <tr>\n      <th>3</th>\n      <td>23.68</td>\n      <td>3.31</td>\n      <td>Male</td>\n      <td>No</td>\n      <td>Sun</td>\n      <td>Dinner</td>\n      <td>2</td>\n    </tr>\n    <tr>\n      <th>4</th>\n      <td>24.59</td>\n      <td>3.61</td>\n      <td>Female</td>\n      <td>No</td>\n      <td>Sun</td>\n      <td>Dinner</td>\n      <td>4</td>\n    </tr>\n  </tbody>\n</table>\n</div>"
          },
          "metadata": {}
        }
      ],
      "outputs_reference": null,
      "execution_count": 4,
      "block_group": "91882ec2dd1543269c0b30104c8a91c0"
    },
    {
      "cell_type": "code",
      "source": "df.groupby('time')['total_bill'].mean()",
      "metadata": {
        "source_hash": "1fd062db",
        "execution_start": 1711942669685,
        "execution_millis": 95,
        "deepnote_to_be_reexecuted": false,
        "cell_id": "72a689eb91b2437b8e5d1a3831513cf4",
        "deepnote_cell_type": "code"
      },
      "outputs": [
        {
          "name": "stderr",
          "text": "/tmp/ipykernel_34/1690409114.py:1: FutureWarning: The default of observed=False is deprecated and will be changed to True in a future version of pandas. Pass observed=False to retain current behavior or observed=True to adopt the future default and silence this warning.\n  df.groupby('time')['total_bill'].mean()\n",
          "output_type": "stream"
        },
        {
          "output_type": "execute_result",
          "execution_count": 6,
          "data": {
            "text/plain": "time\nLunch     17.168676\nDinner    20.797159\nName: total_bill, dtype: float64"
          },
          "metadata": {}
        }
      ],
      "outputs_reference": null,
      "execution_count": 6,
      "block_group": "45cbcf0a9b824a5388b5b581fc5357aa"
    },
    {
      "cell_type": "code",
      "source": "df.groupby('time')['total_bill'].mean().to_frame('avg_bill')",
      "metadata": {
        "source_hash": "9b729f08",
        "execution_start": 1711942693453,
        "execution_millis": 30,
        "deepnote_to_be_reexecuted": false,
        "cell_id": "ee7818f6b23d495db01ec2b75cf0402d",
        "deepnote_cell_type": "code"
      },
      "outputs": [
        {
          "name": "stderr",
          "text": "/tmp/ipykernel_34/1771128690.py:1: FutureWarning: The default of observed=False is deprecated and will be changed to True in a future version of pandas. Pass observed=False to retain current behavior or observed=True to adopt the future default and silence this warning.\n  df.groupby('time')['total_bill'].mean().to_frame('avg_bill')\n",
          "output_type": "stream"
        },
        {
          "output_type": "execute_result",
          "execution_count": 7,
          "data": {
            "application/vnd.deepnote.dataframe.v3+json": {
              "column_count": 1,
              "row_count": 2,
              "columns": [
                {
                  "name": "avg_bill",
                  "dtype": "float64",
                  "stats": {
                    "unique_count": 2,
                    "nan_count": 0,
                    "min": "17.168676470588235",
                    "max": "20.79715909090909",
                    "histogram": [
                      {
                        "bin_start": 17.168676470588235,
                        "bin_end": 17.53152473262032,
                        "count": 1
                      },
                      {
                        "bin_start": 17.53152473262032,
                        "bin_end": 17.894372994652407,
                        "count": 0
                      },
                      {
                        "bin_start": 17.894372994652407,
                        "bin_end": 18.257221256684492,
                        "count": 0
                      },
                      {
                        "bin_start": 18.257221256684492,
                        "bin_end": 18.620069518716576,
                        "count": 0
                      },
                      {
                        "bin_start": 18.620069518716576,
                        "bin_end": 18.982917780748664,
                        "count": 0
                      },
                      {
                        "bin_start": 18.982917780748664,
                        "bin_end": 19.34576604278075,
                        "count": 0
                      },
                      {
                        "bin_start": 19.34576604278075,
                        "bin_end": 19.708614304812833,
                        "count": 0
                      },
                      {
                        "bin_start": 19.708614304812833,
                        "bin_end": 20.071462566844918,
                        "count": 0
                      },
                      {
                        "bin_start": 20.071462566844918,
                        "bin_end": 20.434310828877006,
                        "count": 0
                      },
                      {
                        "bin_start": 20.434310828877006,
                        "bin_end": 20.79715909090909,
                        "count": 1
                      }
                    ]
                  }
                },
                {
                  "name": "_deepnote_index_column",
                  "dtype": "category"
                }
              ],
              "rows": [
                {
                  "avg_bill": 17.168676470588235,
                  "_deepnote_index_column": "Lunch"
                },
                {
                  "avg_bill": 20.79715909090909,
                  "_deepnote_index_column": "Dinner"
                }
              ]
            },
            "text/plain": "         avg_bill\ntime             \nLunch   17.168676\nDinner  20.797159",
            "text/html": "<div>\n<style scoped>\n    .dataframe tbody tr th:only-of-type {\n        vertical-align: middle;\n    }\n\n    .dataframe tbody tr th {\n        vertical-align: top;\n    }\n\n    .dataframe thead th {\n        text-align: right;\n    }\n</style>\n<table border=\"1\" class=\"dataframe\">\n  <thead>\n    <tr style=\"text-align: right;\">\n      <th></th>\n      <th>avg_bill</th>\n    </tr>\n    <tr>\n      <th>time</th>\n      <th></th>\n    </tr>\n  </thead>\n  <tbody>\n    <tr>\n      <th>Lunch</th>\n      <td>17.168676</td>\n    </tr>\n    <tr>\n      <th>Dinner</th>\n      <td>20.797159</td>\n    </tr>\n  </tbody>\n</table>\n</div>"
          },
          "metadata": {}
        }
      ],
      "outputs_reference": null,
      "execution_count": 7,
      "block_group": "ac0e6be691c54a76b7a7fe3aec83b939"
    },
    {
      "cell_type": "code",
      "source": "df.groupby('time')['total_bill'].mean().to_frame('avg_bill').reset_index() ",
      "metadata": {
        "source_hash": "6e773c7b",
        "execution_start": 1711942742960,
        "execution_millis": 42,
        "deepnote_to_be_reexecuted": false,
        "cell_id": "4a3c4306dd2f4e9db746d138698439bf",
        "deepnote_cell_type": "code"
      },
      "outputs": [
        {
          "name": "stderr",
          "text": "/tmp/ipykernel_34/3736943209.py:1: FutureWarning: The default of observed=False is deprecated and will be changed to True in a future version of pandas. Pass observed=False to retain current behavior or observed=True to adopt the future default and silence this warning.\n  df.groupby('time')['total_bill'].mean().to_frame('avg_bill').reset_index()\n",
          "output_type": "stream"
        },
        {
          "output_type": "execute_result",
          "execution_count": 8,
          "data": {
            "application/vnd.deepnote.dataframe.v3+json": {
              "column_count": 2,
              "row_count": 2,
              "columns": [
                {
                  "name": "time",
                  "dtype": "category",
                  "stats": {
                    "unique_count": 2,
                    "nan_count": 0,
                    "categories": [
                      {
                        "name": "Lunch",
                        "count": 1
                      },
                      {
                        "name": "Dinner",
                        "count": 1
                      }
                    ]
                  }
                },
                {
                  "name": "avg_bill",
                  "dtype": "float64",
                  "stats": {
                    "unique_count": 2,
                    "nan_count": 0,
                    "min": "17.168676470588235",
                    "max": "20.79715909090909",
                    "histogram": [
                      {
                        "bin_start": 17.168676470588235,
                        "bin_end": 17.53152473262032,
                        "count": 1
                      },
                      {
                        "bin_start": 17.53152473262032,
                        "bin_end": 17.894372994652407,
                        "count": 0
                      },
                      {
                        "bin_start": 17.894372994652407,
                        "bin_end": 18.257221256684492,
                        "count": 0
                      },
                      {
                        "bin_start": 18.257221256684492,
                        "bin_end": 18.620069518716576,
                        "count": 0
                      },
                      {
                        "bin_start": 18.620069518716576,
                        "bin_end": 18.982917780748664,
                        "count": 0
                      },
                      {
                        "bin_start": 18.982917780748664,
                        "bin_end": 19.34576604278075,
                        "count": 0
                      },
                      {
                        "bin_start": 19.34576604278075,
                        "bin_end": 19.708614304812833,
                        "count": 0
                      },
                      {
                        "bin_start": 19.708614304812833,
                        "bin_end": 20.071462566844918,
                        "count": 0
                      },
                      {
                        "bin_start": 20.071462566844918,
                        "bin_end": 20.434310828877006,
                        "count": 0
                      },
                      {
                        "bin_start": 20.434310828877006,
                        "bin_end": 20.79715909090909,
                        "count": 1
                      }
                    ]
                  }
                },
                {
                  "name": "_deepnote_index_column",
                  "dtype": "int64"
                }
              ],
              "rows": [
                {
                  "time": "Lunch",
                  "avg_bill": 17.168676470588235,
                  "_deepnote_index_column": 0
                },
                {
                  "time": "Dinner",
                  "avg_bill": 20.79715909090909,
                  "_deepnote_index_column": 1
                }
              ]
            },
            "text/plain": "     time   avg_bill\n0   Lunch  17.168676\n1  Dinner  20.797159",
            "text/html": "<div>\n<style scoped>\n    .dataframe tbody tr th:only-of-type {\n        vertical-align: middle;\n    }\n\n    .dataframe tbody tr th {\n        vertical-align: top;\n    }\n\n    .dataframe thead th {\n        text-align: right;\n    }\n</style>\n<table border=\"1\" class=\"dataframe\">\n  <thead>\n    <tr style=\"text-align: right;\">\n      <th></th>\n      <th>time</th>\n      <th>avg_bill</th>\n    </tr>\n  </thead>\n  <tbody>\n    <tr>\n      <th>0</th>\n      <td>Lunch</td>\n      <td>17.168676</td>\n    </tr>\n    <tr>\n      <th>1</th>\n      <td>Dinner</td>\n      <td>20.797159</td>\n    </tr>\n  </tbody>\n</table>\n</div>"
          },
          "metadata": {}
        }
      ],
      "outputs_reference": null,
      "execution_count": 8,
      "block_group": "23cf519be2484c2b9cbc4421cda50457"
    },
    {
      "cell_type": "code",
      "source": "df.groupby('day')['tip'].mean().to_frame('avg_tip').reset_index()",
      "metadata": {
        "source_hash": "d0f528da",
        "execution_start": 1711943256149,
        "execution_millis": 37,
        "deepnote_to_be_reexecuted": false,
        "cell_id": "c3451833d7704f408fa8f0ee3bd865b4",
        "deepnote_cell_type": "code"
      },
      "outputs": [
        {
          "name": "stderr",
          "text": "/tmp/ipykernel_34/1294528372.py:1: FutureWarning: The default of observed=False is deprecated and will be changed to True in a future version of pandas. Pass observed=False to retain current behavior or observed=True to adopt the future default and silence this warning.\n  df.groupby('day')['tip'].mean().to_frame('avg_tip').reset_index()\n",
          "output_type": "stream"
        },
        {
          "output_type": "execute_result",
          "execution_count": 9,
          "data": {
            "application/vnd.deepnote.dataframe.v3+json": {
              "column_count": 2,
              "row_count": 4,
              "columns": [
                {
                  "name": "day",
                  "dtype": "category",
                  "stats": {
                    "unique_count": 4,
                    "nan_count": 0,
                    "categories": [
                      {
                        "name": "Thur",
                        "count": 1
                      },
                      {
                        "name": "Fri",
                        "count": 1
                      },
                      {
                        "name": "2 others",
                        "count": 2
                      }
                    ]
                  }
                },
                {
                  "name": "avg_tip",
                  "dtype": "float64",
                  "stats": {
                    "unique_count": 4,
                    "nan_count": 0,
                    "min": "2.734736842105263",
                    "max": "3.2551315789473683",
                    "histogram": [
                      {
                        "bin_start": 2.734736842105263,
                        "bin_end": 2.786776315789474,
                        "count": 2
                      },
                      {
                        "bin_start": 2.786776315789474,
                        "bin_end": 2.838815789473684,
                        "count": 0
                      },
                      {
                        "bin_start": 2.838815789473684,
                        "bin_end": 2.8908552631578948,
                        "count": 0
                      },
                      {
                        "bin_start": 2.8908552631578948,
                        "bin_end": 2.942894736842105,
                        "count": 0
                      },
                      {
                        "bin_start": 2.942894736842105,
                        "bin_end": 2.9949342105263157,
                        "count": 1
                      },
                      {
                        "bin_start": 2.9949342105263157,
                        "bin_end": 3.046973684210526,
                        "count": 0
                      },
                      {
                        "bin_start": 3.046973684210526,
                        "bin_end": 3.0990131578947366,
                        "count": 0
                      },
                      {
                        "bin_start": 3.0990131578947366,
                        "bin_end": 3.1510526315789473,
                        "count": 0
                      },
                      {
                        "bin_start": 3.1510526315789473,
                        "bin_end": 3.2030921052631576,
                        "count": 0
                      },
                      {
                        "bin_start": 3.2030921052631576,
                        "bin_end": 3.2551315789473683,
                        "count": 1
                      }
                    ]
                  }
                },
                {
                  "name": "_deepnote_index_column",
                  "dtype": "int64"
                }
              ],
              "rows": [
                {
                  "day": "Thur",
                  "avg_tip": 2.7714516129032254,
                  "_deepnote_index_column": 0
                },
                {
                  "day": "Fri",
                  "avg_tip": 2.734736842105263,
                  "_deepnote_index_column": 1
                },
                {
                  "day": "Sat",
                  "avg_tip": 2.993103448275862,
                  "_deepnote_index_column": 2
                },
                {
                  "day": "Sun",
                  "avg_tip": 3.2551315789473683,
                  "_deepnote_index_column": 3
                }
              ]
            },
            "text/plain": "    day   avg_tip\n0  Thur  2.771452\n1   Fri  2.734737\n2   Sat  2.993103\n3   Sun  3.255132",
            "text/html": "<div>\n<style scoped>\n    .dataframe tbody tr th:only-of-type {\n        vertical-align: middle;\n    }\n\n    .dataframe tbody tr th {\n        vertical-align: top;\n    }\n\n    .dataframe thead th {\n        text-align: right;\n    }\n</style>\n<table border=\"1\" class=\"dataframe\">\n  <thead>\n    <tr style=\"text-align: right;\">\n      <th></th>\n      <th>day</th>\n      <th>avg_tip</th>\n    </tr>\n  </thead>\n  <tbody>\n    <tr>\n      <th>0</th>\n      <td>Thur</td>\n      <td>2.771452</td>\n    </tr>\n    <tr>\n      <th>1</th>\n      <td>Fri</td>\n      <td>2.734737</td>\n    </tr>\n    <tr>\n      <th>2</th>\n      <td>Sat</td>\n      <td>2.993103</td>\n    </tr>\n    <tr>\n      <th>3</th>\n      <td>Sun</td>\n      <td>3.255132</td>\n    </tr>\n  </tbody>\n</table>\n</div>"
          },
          "metadata": {}
        }
      ],
      "outputs_reference": null,
      "execution_count": 9,
      "block_group": "1e44f6e875a04c83a52df0942b0d478e"
    },
    {
      "cell_type": "markdown",
      "source": "<a style='text-decoration:none;line-height:16px;display:flex;color:#5B5B62;padding:10px;justify-content:end;' href='https://deepnote.com?utm_source=created-in-deepnote-cell&projectId=3128c5e9-85ba-4136-aeb8-73f1853178e0' target=\"_blank\">\n<img alt='Created in deepnote.com' style='display:inline;max-height:16px;margin:0px;margin-right:7.5px;' src='data:image/svg+xml;base64,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' > </img>\nCreated in <span style='font-weight:600;margin-left:4px;'>Deepnote</span></a>",
      "metadata": {
        "created_in_deepnote_cell": true,
        "deepnote_cell_type": "markdown"
      }
    }
  ],
  "nbformat": 4,
  "nbformat_minor": 0,
  "metadata": {
    "deepnote_persisted_session": {
      "createdAt": "2024-03-25T06:00:05.672Z"
    },
    "deepnote_full_width": false,
    "deepnote_notebook_id": "049a658bffed441288588111ebb763d9",
    "deepnote_execution_queue": []
  }
}