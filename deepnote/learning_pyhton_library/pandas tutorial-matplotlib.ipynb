{
  "cells": [
    {
      "cell_type": "markdown",
      "source": "# pandas library",
      "metadata": {
        "formattedRanges": [],
        "cell_id": "bcc34e8357be47febac795ffa4c4ecd0",
        "deepnote_cell_type": "text-cell-h1"
      },
      "block_group": "d8885bd2e1cc41afae1a3f88e62f598f"
    },
    {
      "cell_type": "code",
      "source": "import os\npath = os.path.join(\"data\",\"survey_results_public.csv\")\nimport pandas as pd \ndf = pd.read_csv(path)\n",
      "metadata": {
        "source_hash": "b93746d5",
        "execution_start": 1711520177745,
        "execution_millis": 1991,
        "deepnote_to_be_reexecuted": false,
        "cell_id": "0bfa2762e02041518ef31316e08945a2",
        "deepnote_cell_type": "code"
      },
      "outputs": [],
      "outputs_reference": null,
      "execution_count": 2,
      "block_group": "a88aace589354301a34bde930b30a0f2"
    },
    {
      "cell_type": "code",
      "source": "df.info()",
      "metadata": {
        "source_hash": null,
        "execution_start": 1709700183791,
        "execution_millis": 222,
        "deepnote_to_be_reexecuted": false,
        "cell_id": "3c91081f6c744225b4cc9e1425d6d5e2",
        "deepnote_cell_type": "code"
      },
      "outputs": [
        {
          "name": "stdout",
          "text": "<class 'pandas.core.frame.DataFrame'>\nRangeIndex: 88883 entries, 0 to 88882\nData columns (total 85 columns):\n #   Column                  Non-Null Count  Dtype  \n---  ------                  --------------  -----  \n 0   Respondent              88883 non-null  int64  \n 1   MainBranch              88331 non-null  object \n 2   Hobbyist                88883 non-null  object \n 3   OpenSourcer             88883 non-null  object \n 4   OpenSource              86842 non-null  object \n 5   Employment              87181 non-null  object \n 6   Country                 88751 non-null  object \n 7   Student                 87014 non-null  object \n 8   EdLevel                 86390 non-null  object \n 9   UndergradMajor          75614 non-null  object \n 10  EduOther                84260 non-null  object \n 11  OrgSize                 71791 non-null  object \n 12  DevType                 81335 non-null  object \n 13  YearsCode               87938 non-null  object \n 14  Age1stCode              87634 non-null  object \n 15  YearsCodePro            74331 non-null  object \n 16  CareerSat               72847 non-null  object \n 17  JobSat                  70988 non-null  object \n 18  MgrIdiot                61159 non-null  object \n 19  MgrMoney                61157 non-null  object \n 20  MgrWant                 61232 non-null  object \n 21  JobSeek                 80555 non-null  object \n 22  LastHireDate            79854 non-null  object \n 23  LastInt                 67155 non-null  object \n 24  FizzBuzz                71344 non-null  object \n 25  JobFactors              79371 non-null  object \n 26  ResumeUpdate            77877 non-null  object \n 27  CurrencySymbol          71392 non-null  object \n 28  CurrencyDesc            71392 non-null  object \n 29  CompTotal               55945 non-null  float64\n 30  CompFreq                63268 non-null  object \n 31  ConvertedComp           55823 non-null  float64\n 32  WorkWeekHrs             64503 non-null  float64\n 33  WorkPlan                68914 non-null  object \n 34  WorkChallenge           68141 non-null  object \n 35  WorkRemote              70284 non-null  object \n 36  WorkLoc                 70055 non-null  object \n 37  ImpSyn                  71779 non-null  object \n 38  CodeRev                 70390 non-null  object \n 39  CodeRevHrs              49790 non-null  float64\n 40  UnitTests               62668 non-null  object \n 41  PurchaseHow             61108 non-null  object \n 42  PurchaseWhat            62029 non-null  object \n 43  LanguageWorkedWith      87569 non-null  object \n 44  LanguageDesireNextYear  84088 non-null  object \n 45  DatabaseWorkedWith      76026 non-null  object \n 46  DatabaseDesireNextYear  69147 non-null  object \n 47  PlatformWorkedWith      80714 non-null  object \n 48  PlatformDesireNextYear  77443 non-null  object \n 49  WebFrameWorkedWith      65022 non-null  object \n 50  WebFrameDesireNextYear  62944 non-null  object \n 51  MiscTechWorkedWith      59586 non-null  object \n 52  MiscTechDesireNextYear  64511 non-null  object \n 53  DevEnviron              87317 non-null  object \n 54  OpSys                   87851 non-null  object \n 55  Containers              85366 non-null  object \n 56  BlockchainOrg           48175 non-null  object \n 57  BlockchainIs            60165 non-null  object \n 58  BetterLife              86269 non-null  object \n 59  ITperson                87141 non-null  object \n 60  OffOn                   86663 non-null  object \n 61  SocialMedia             84437 non-null  object \n 62  Extraversion            87305 non-null  object \n 63  ScreenName              80486 non-null  object \n 64  SOVisit1st              83877 non-null  object \n 65  SOVisitFreq             88263 non-null  object \n 66  SOVisitTo               88086 non-null  object \n 67  SOFindAnswer            87816 non-null  object \n 68  SOTimeSaved             86344 non-null  object \n 69  SOHowMuchTime           68378 non-null  object \n 70  SOAccount               87828 non-null  object \n 71  SOPartFreq              74692 non-null  object \n 72  SOJobs                  88066 non-null  object \n 73  EntTeams                87841 non-null  object \n 74  SOComm                  88131 non-null  object \n 75  WelcomeChange           85855 non-null  object \n 76  SONewContent            69560 non-null  object \n 77  Age                     79210 non-null  float64\n 78  Gender                  85406 non-null  object \n 79  Trans                   83607 non-null  object \n 80  Sexuality               76147 non-null  object \n 81  Ethnicity               76668 non-null  object \n 82  Dependents              83059 non-null  object \n 83  SurveyLength            86984 non-null  object \n 84  SurveyEase              87081 non-null  object \ndtypes: float64(5), int64(1), object(79)\nmemory usage: 57.6+ MB\n",
          "output_type": "stream"
        }
      ],
      "outputs_reference": null,
      "execution_count": null,
      "block_group": "05440b417bdb417ea82a44952213d026"
    },
    {
      "cell_type": "code",
      "source": "# i loc is vary important to get list of the cloumns and row\ndf.iloc[[0,1,2,104,1000,5000],[0,3,4,18,20]]",
      "metadata": {
        "source_hash": null,
        "execution_start": 1709700183822,
        "execution_millis": 357,
        "deepnote_to_be_reexecuted": false,
        "cell_id": "1f0d580e44e74f04863ca418daac2c7c",
        "deepnote_cell_type": "code"
      },
      "outputs": [
        {
          "output_type": "execute_result",
          "execution_count": 3,
          "data": {
            "application/vnd.deepnote.dataframe.v3+json": {
              "column_count": 5,
              "row_count": 6,
              "columns": [
                {
                  "name": "Respondent",
                  "dtype": "int64",
                  "stats": {
                    "unique_count": 6,
                    "nan_count": 0,
                    "min": "1",
                    "max": "5023",
                    "histogram": [
                      {
                        "bin_start": 1,
                        "bin_end": 503.2,
                        "count": 4
                      },
                      {
                        "bin_start": 503.2,
                        "bin_end": 1005.4,
                        "count": 1
                      },
                      {
                        "bin_start": 1005.4,
                        "bin_end": 1507.6,
                        "count": 0
                      },
                      {
                        "bin_start": 1507.6,
                        "bin_end": 2009.8,
                        "count": 0
                      },
                      {
                        "bin_start": 2009.8,
                        "bin_end": 2512,
                        "count": 0
                      },
                      {
                        "bin_start": 2512,
                        "bin_end": 3014.2,
                        "count": 0
                      },
                      {
                        "bin_start": 3014.2,
                        "bin_end": 3516.4,
                        "count": 0
                      },
                      {
                        "bin_start": 3516.4,
                        "bin_end": 4018.6,
                        "count": 0
                      },
                      {
                        "bin_start": 4018.6,
                        "bin_end": 4520.8,
                        "count": 0
                      },
                      {
                        "bin_start": 4520.8,
                        "bin_end": 5023,
                        "count": 1
                      }
                    ]
                  }
                },
                {
                  "name": "OpenSourcer",
                  "dtype": "object",
                  "stats": {
                    "unique_count": 3,
                    "nan_count": 0,
                    "categories": [
                      {
                        "name": "Less than once per year",
                        "count": 3
                      },
                      {
                        "name": "Never",
                        "count": 2
                      },
                      {
                        "name": "Less than once a month but more than once per year",
                        "count": 1
                      }
                    ]
                  }
                },
                {
                  "name": "OpenSource",
                  "dtype": "object",
                  "stats": {
                    "unique_count": 1,
                    "nan_count": 0,
                    "categories": [
                      {
                        "name": "The quality of OSS and closed source software is about the same",
                        "count": 6
                      }
                    ]
                  }
                },
                {
                  "name": "MgrIdiot",
                  "dtype": "object",
                  "stats": {
                    "unique_count": 3,
                    "nan_count": 3,
                    "categories": [
                      {
                        "name": "Not at all confident",
                        "count": 1
                      },
                      {
                        "name": "2 others",
                        "count": 2
                      },
                      {
                        "name": "Missing",
                        "count": 3
                      }
                    ]
                  }
                },
                {
                  "name": "MgrWant",
                  "dtype": "object",
                  "stats": {
                    "unique_count": 2,
                    "nan_count": 3,
                    "categories": [
                      {
                        "name": "Not sure",
                        "count": 2
                      },
                      {
                        "name": "No",
                        "count": 1
                      },
                      {
                        "name": "Missing",
                        "count": 3
                      }
                    ]
                  }
                },
                {
                  "name": "_deepnote_index_column",
                  "dtype": "int64"
                }
              ],
              "rows": [
                {
                  "Respondent": 1,
                  "OpenSourcer": "Never",
                  "OpenSource": "The quality of OSS and closed source software is about the same",
                  "MgrIdiot": "nan",
                  "MgrWant": "nan",
                  "_deepnote_index_column": 0
                },
                {
                  "Respondent": 2,
                  "OpenSourcer": "Less than once per year",
                  "OpenSource": "The quality of OSS and closed source software is about the same",
                  "MgrIdiot": "nan",
                  "MgrWant": "nan",
                  "_deepnote_index_column": 1
                },
                {
                  "Respondent": 3,
                  "OpenSourcer": "Never",
                  "OpenSource": "The quality of OSS and closed source software is about the same",
                  "MgrIdiot": "Not at all confident",
                  "MgrWant": "Not sure",
                  "_deepnote_index_column": 2
                },
                {
                  "Respondent": 105,
                  "OpenSourcer": "Less than once per year",
                  "OpenSource": "The quality of OSS and closed source software is about the same",
                  "MgrIdiot": "Very confident",
                  "MgrWant": "No",
                  "_deepnote_index_column": 104
                },
                {
                  "Respondent": 1004,
                  "OpenSourcer": "Less than once a month but more than once per year",
                  "OpenSource": "The quality of OSS and closed source software is about the same",
                  "MgrIdiot": "nan",
                  "MgrWant": "nan",
                  "_deepnote_index_column": 1000
                },
                {
                  "Respondent": 5023,
                  "OpenSourcer": "Less than once per year",
                  "OpenSource": "The quality of OSS and closed source software is about the same",
                  "MgrIdiot": "Somewhat confident",
                  "MgrWant": "Not sure",
                  "_deepnote_index_column": 5000
                }
              ]
            },
            "text/plain": "      Respondent                                        OpenSourcer  \\\n0              1                                              Never   \n1              2                            Less than once per year   \n2              3                                              Never   \n104          105                            Less than once per year   \n1000        1004  Less than once a month but more than once per ...   \n5000        5023                            Less than once per year   \n\n                                             OpenSource              MgrIdiot  \\\n0     The quality of OSS and closed source software ...                   NaN   \n1     The quality of OSS and closed source software ...                   NaN   \n2     The quality of OSS and closed source software ...  Not at all confident   \n104   The quality of OSS and closed source software ...        Very confident   \n1000  The quality of OSS and closed source software ...                   NaN   \n5000  The quality of OSS and closed source software ...    Somewhat confident   \n\n       MgrWant  \n0          NaN  \n1          NaN  \n2     Not sure  \n104         No  \n1000       NaN  \n5000  Not sure  ",
            "text/html": "<div>\n<style scoped>\n    .dataframe tbody tr th:only-of-type {\n        vertical-align: middle;\n    }\n\n    .dataframe tbody tr th {\n        vertical-align: top;\n    }\n\n    .dataframe thead th {\n        text-align: right;\n    }\n</style>\n<table border=\"1\" class=\"dataframe\">\n  <thead>\n    <tr style=\"text-align: right;\">\n      <th></th>\n      <th>Respondent</th>\n      <th>OpenSourcer</th>\n      <th>OpenSource</th>\n      <th>MgrIdiot</th>\n      <th>MgrWant</th>\n    </tr>\n  </thead>\n  <tbody>\n    <tr>\n      <th>0</th>\n      <td>1</td>\n      <td>Never</td>\n      <td>The quality of OSS and closed source software ...</td>\n      <td>NaN</td>\n      <td>NaN</td>\n    </tr>\n    <tr>\n      <th>1</th>\n      <td>2</td>\n      <td>Less than once per year</td>\n      <td>The quality of OSS and closed source software ...</td>\n      <td>NaN</td>\n      <td>NaN</td>\n    </tr>\n    <tr>\n      <th>2</th>\n      <td>3</td>\n      <td>Never</td>\n      <td>The quality of OSS and closed source software ...</td>\n      <td>Not at all confident</td>\n      <td>Not sure</td>\n    </tr>\n    <tr>\n      <th>104</th>\n      <td>105</td>\n      <td>Less than once per year</td>\n      <td>The quality of OSS and closed source software ...</td>\n      <td>Very confident</td>\n      <td>No</td>\n    </tr>\n    <tr>\n      <th>1000</th>\n      <td>1004</td>\n      <td>Less than once a month but more than once per ...</td>\n      <td>The quality of OSS and closed source software ...</td>\n      <td>NaN</td>\n      <td>NaN</td>\n    </tr>\n    <tr>\n      <th>5000</th>\n      <td>5023</td>\n      <td>Less than once per year</td>\n      <td>The quality of OSS and closed source software ...</td>\n      <td>Somewhat confident</td>\n      <td>Not sure</td>\n    </tr>\n  </tbody>\n</table>\n</div>"
          },
          "metadata": {}
        }
      ],
      "outputs_reference": null,
      "execution_count": null,
      "block_group": "3e96f4bca5ff4921bf1dd36669558366"
    },
    {
      "cell_type": "code",
      "source": "pd.set_option(\"display.max_columns\",85)\ndf",
      "metadata": {
        "source_hash": null,
        "execution_start": 1709700183863,
        "execution_millis": 316,
        "deepnote_table_state": {
          "sortBy": [],
          "filters": [],
          "pageSize": 5,
          "pageIndex": 0
        },
        "deepnote_table_loading": false,
        "deepnote_to_be_reexecuted": false,
        "cell_id": "672e02ec7c5d4b6284c9de10cde95000",
        "deepnote_cell_type": "code"
      },
      "outputs": [
        {
          "output_type": "execute_result",
          "execution_count": 4,
          "data": {
            "application/vnd.deepnote.dataframe.v3+json": {
              "column_count": 85,
              "row_count": 88883,
              "columns": [
                {
                  "name": "Respondent",
                  "dtype": "int64",
                  "stats": {
                    "unique_count": 88883,
                    "nan_count": 0,
                    "min": "1",
                    "max": "88883",
                    "histogram": [
                      {
                        "bin_start": 1,
                        "bin_end": 8889.2,
                        "count": 8889
                      },
                      {
                        "bin_start": 8889.2,
                        "bin_end": 17777.4,
                        "count": 8888
                      },
                      {
                        "bin_start": 17777.4,
                        "bin_end": 26665.600000000002,
                        "count": 8888
                      },
                      {
                        "bin_start": 26665.600000000002,
                        "bin_end": 35553.8,
                        "count": 8888
                      },
                      {
                        "bin_start": 35553.8,
                        "bin_end": 44442,
                        "count": 8888
                      },
                      {
                        "bin_start": 44442,
                        "bin_end": 53330.200000000004,
                        "count": 8889
                      },
                      {
                        "bin_start": 53330.200000000004,
                        "bin_end": 62218.40000000001,
                        "count": 8888
                      },
                      {
                        "bin_start": 62218.40000000001,
                        "bin_end": 71106.6,
                        "count": 8888
                      },
                      {
                        "bin_start": 71106.6,
                        "bin_end": 79994.8,
                        "count": 8888
                      },
                      {
                        "bin_start": 79994.8,
                        "bin_end": 88883,
                        "count": 8889
                      }
                    ]
                  }
                },
                {
                  "name": "MainBranch",
                  "dtype": "object"
                },
                {
                  "name": "Hobbyist",
                  "dtype": "object"
                },
                {
                  "name": "OpenSourcer",
                  "dtype": "object"
                },
                {
                  "name": "OpenSource",
                  "dtype": "object"
                },
                {
                  "name": "Employment",
                  "dtype": "object"
                },
                {
                  "name": "Country",
                  "dtype": "object"
                },
                {
                  "name": "Student",
                  "dtype": "object"
                },
                {
                  "name": "EdLevel",
                  "dtype": "object"
                },
                {
                  "name": "UndergradMajor",
                  "dtype": "object"
                },
                {
                  "name": "EduOther",
                  "dtype": "object"
                },
                {
                  "name": "OrgSize",
                  "dtype": "object"
                },
                {
                  "name": "DevType",
                  "dtype": "object"
                },
                {
                  "name": "YearsCode",
                  "dtype": "object"
                },
                {
                  "name": "Age1stCode",
                  "dtype": "object"
                },
                {
                  "name": "YearsCodePro",
                  "dtype": "object"
                },
                {
                  "name": "CareerSat",
                  "dtype": "object"
                },
                {
                  "name": "JobSat",
                  "dtype": "object"
                },
                {
                  "name": "MgrIdiot",
                  "dtype": "object"
                },
                {
                  "name": "MgrMoney",
                  "dtype": "object"
                },
                {
                  "name": "MgrWant",
                  "dtype": "object"
                },
                {
                  "name": "JobSeek",
                  "dtype": "object"
                },
                {
                  "name": "LastHireDate",
                  "dtype": "object"
                },
                {
                  "name": "LastInt",
                  "dtype": "object"
                },
                {
                  "name": "FizzBuzz",
                  "dtype": "object"
                },
                {
                  "name": "JobFactors",
                  "dtype": "object"
                },
                {
                  "name": "ResumeUpdate",
                  "dtype": "object"
                },
                {
                  "name": "CurrencySymbol",
                  "dtype": "object"
                },
                {
                  "name": "CurrencyDesc",
                  "dtype": "object"
                },
                {
                  "name": "CompTotal",
                  "dtype": "float64"
                },
                {
                  "name": "CompFreq",
                  "dtype": "object"
                },
                {
                  "name": "ConvertedComp",
                  "dtype": "float64"
                },
                {
                  "name": "WorkWeekHrs",
                  "dtype": "float64"
                },
                {
                  "name": "WorkPlan",
                  "dtype": "object"
                },
                {
                  "name": "WorkChallenge",
                  "dtype": "object"
                },
                {
                  "name": "WorkRemote",
                  "dtype": "object"
                },
                {
                  "name": "WorkLoc",
                  "dtype": "object"
                },
                {
                  "name": "ImpSyn",
                  "dtype": "object"
                },
                {
                  "name": "CodeRev",
                  "dtype": "object"
                },
                {
                  "name": "CodeRevHrs",
                  "dtype": "float64"
                },
                {
                  "name": "UnitTests",
                  "dtype": "object"
                },
                {
                  "name": "PurchaseHow",
                  "dtype": "object"
                },
                {
                  "name": "PurchaseWhat",
                  "dtype": "object"
                },
                {
                  "name": "LanguageWorkedWith",
                  "dtype": "object"
                },
                {
                  "name": "LanguageDesireNextYear",
                  "dtype": "object"
                },
                {
                  "name": "DatabaseWorkedWith",
                  "dtype": "object"
                },
                {
                  "name": "DatabaseDesireNextYear",
                  "dtype": "object"
                },
                {
                  "name": "PlatformWorkedWith",
                  "dtype": "object"
                },
                {
                  "name": "PlatformDesireNextYear",
                  "dtype": "object"
                },
                {
                  "name": "WebFrameWorkedWith",
                  "dtype": "object"
                },
                {
                  "name": "WebFrameDesireNextYear",
                  "dtype": "object"
                },
                {
                  "name": "MiscTechWorkedWith",
                  "dtype": "object"
                },
                {
                  "name": "MiscTechDesireNextYear",
                  "dtype": "object"
                },
                {
                  "name": "DevEnviron",
                  "dtype": "object"
                },
                {
                  "name": "OpSys",
                  "dtype": "object"
                },
                {
                  "name": "Containers",
                  "dtype": "object"
                },
                {
                  "name": "BlockchainOrg",
                  "dtype": "object"
                },
                {
                  "name": "BlockchainIs",
                  "dtype": "object"
                },
                {
                  "name": "BetterLife",
                  "dtype": "object"
                },
                {
                  "name": "ITperson",
                  "dtype": "object"
                },
                {
                  "name": "OffOn",
                  "dtype": "object"
                },
                {
                  "name": "SocialMedia",
                  "dtype": "object"
                },
                {
                  "name": "Extraversion",
                  "dtype": "object"
                },
                {
                  "name": "ScreenName",
                  "dtype": "object"
                },
                {
                  "name": "SOVisit1st",
                  "dtype": "object"
                },
                {
                  "name": "SOVisitFreq",
                  "dtype": "object"
                },
                {
                  "name": "SOVisitTo",
                  "dtype": "object"
                },
                {
                  "name": "SOFindAnswer",
                  "dtype": "object"
                },
                {
                  "name": "SOTimeSaved",
                  "dtype": "object"
                },
                {
                  "name": "SOHowMuchTime",
                  "dtype": "object"
                },
                {
                  "name": "SOAccount",
                  "dtype": "object"
                },
                {
                  "name": "SOPartFreq",
                  "dtype": "object"
                },
                {
                  "name": "SOJobs",
                  "dtype": "object"
                },
                {
                  "name": "EntTeams",
                  "dtype": "object"
                },
                {
                  "name": "SOComm",
                  "dtype": "object"
                },
                {
                  "name": "WelcomeChange",
                  "dtype": "object"
                },
                {
                  "name": "SONewContent",
                  "dtype": "object"
                },
                {
                  "name": "Age",
                  "dtype": "float64"
                },
                {
                  "name": "Gender",
                  "dtype": "object"
                },
                {
                  "name": "Trans",
                  "dtype": "object"
                },
                {
                  "name": "Sexuality",
                  "dtype": "object"
                },
                {
                  "name": "Ethnicity",
                  "dtype": "object"
                },
                {
                  "name": "Dependents",
                  "dtype": "object"
                },
                {
                  "name": "SurveyLength",
                  "dtype": "object"
                },
                {
                  "name": "SurveyEase",
                  "dtype": "object"
                },
                {
                  "name": "_deepnote_index_column",
                  "dtype": "int64"
                }
              ],
              "rows": [
                {
                  "Respondent": 1,
                  "MainBranch": "I am a student who is learning to code",
                  "Hobbyist": "Yes",
                  "OpenSourcer": "Never",
                  "OpenSource": "The quality of OSS and closed source software is about the same",
                  "Employment": "Not employed, and not looking for work",
                  "Country": "United Kingdom",
                  "Student": "No",
                  "EdLevel": "Primary/elementary school",
                  "UndergradMajor": "nan",
                  "EduOther": "Taught yourself a new language, framework, or tool without taking a formal course",
                  "OrgSize": "nan",
                  "DevType": "nan",
                  "YearsCode": "4",
                  "Age1stCode": "10",
                  "YearsCodePro": "nan",
                  "CareerSat": "nan",
                  "JobSat": "nan",
                  "MgrIdiot": "nan",
                  "MgrMoney": "nan",
                  "MgrWant": "nan",
                  "JobSeek": "nan",
                  "LastHireDate": "nan",
                  "LastInt": "nan",
                  "FizzBuzz": "nan",
                  "JobFactors": "nan",
                  "ResumeUpdate": "nan",
                  "CurrencySymbol": "nan",
                  "CurrencyDesc": "nan",
                  "CompTotal": "nan",
                  "CompFreq": "nan",
                  "ConvertedComp": "nan",
                  "WorkWeekHrs": "nan",
                  "WorkPlan": "nan",
                  "WorkChallenge": "nan",
                  "WorkRemote": "nan",
                  "WorkLoc": "nan",
                  "ImpSyn": "nan",
                  "CodeRev": "nan",
                  "CodeRevHrs": "nan",
                  "UnitTests": "nan",
                  "PurchaseHow": "nan",
                  "PurchaseWhat": "nan",
                  "LanguageWorkedWith": "HTML/CSS;Java;JavaScript;Python",
                  "LanguageDesireNextYear": "C;C++;C#;Go;HTML/CSS;Java;JavaScript;Python;SQL",
                  "DatabaseWorkedWith": "SQLite",
                  "DatabaseDesireNextYear": "MySQL",
                  "PlatformWorkedWith": "MacOS;Windows",
                  "PlatformDesireNextYear": "Android;Arduino;Windows",
                  "WebFrameWorkedWith": "Django;Flask",
                  "WebFrameDesireNextYear": "Flask;jQuery",
                  "MiscTechWorkedWith": "Node.js",
                  "MiscTechDesireNextYear": "Node.js",
                  "DevEnviron": "IntelliJ;Notepad++;PyCharm",
                  "OpSys": "Windows",
                  "Containers": "I do not use containers",
                  "BlockchainOrg": "nan",
                  "BlockchainIs": "nan",
                  "BetterLife": "Yes",
                  "ITperson": "Fortunately, someone else has that title",
                  "OffOn": "Yes",
                  "SocialMedia": "Twitter",
                  "Extraversion": "Online",
                  "ScreenName": "Username",
                  "SOVisit1st": "2017",
                  "SOVisitFreq": "A few times per month or weekly",
                  "SOVisitTo": "Find answers to specific questions;Learn how to do things I didn’t necessarily look for",
                  "SOFindAnswer": "3-5 times per week",
                  "SOTimeSaved": "Stack Overflow was much faster",
                  "SOHowMuchTime": "31-60 minutes",
                  "SOAccount": "No",
                  "SOPartFreq": "nan",
                  "SOJobs": "No, I didn't know that Stack Overflow had a job board",
                  "EntTeams": "No, and I don't know what those are",
                  "SOComm": "Neutral",
                  "WelcomeChange": "Just as welcome now as I felt last year",
                  "SONewContent": "Tech articles written by other developers;Industry news about technologies you're interested in;Courses on technologies you're interested in",
                  "Age": 14,
                  "Gender": "Man",
                  "Trans": "No",
                  "Sexuality": "Straight / Heterosexual",
                  "Ethnicity": "nan",
                  "Dependents": "No",
                  "SurveyLength": "Appropriate in length",
                  "SurveyEase": "Neither easy nor difficult",
                  "_deepnote_index_column": 0
                },
                {
                  "Respondent": 2,
                  "MainBranch": "I am a student who is learning to code",
                  "Hobbyist": "No",
                  "OpenSourcer": "Less than once per year",
                  "OpenSource": "The quality of OSS and closed source software is about the same",
                  "Employment": "Not employed, but looking for work",
                  "Country": "Bosnia and Herzegovina",
                  "Student": "Yes, full-time",
                  "EdLevel": "Secondary school (e.g. American high school, German Realschule or Gymnasium, etc.)",
                  "UndergradMajor": "nan",
                  "EduOther": "Taken an online course in programming or software development (e.g. a MOOC)",
                  "OrgSize": "nan",
                  "DevType": "Developer, desktop or enterprise applications;Developer, front-end",
                  "YearsCode": "nan",
                  "Age1stCode": "17",
                  "YearsCodePro": "nan",
                  "CareerSat": "nan",
                  "JobSat": "nan",
                  "MgrIdiot": "nan",
                  "MgrMoney": "nan",
                  "MgrWant": "nan",
                  "JobSeek": "I am actively looking for a job",
                  "LastHireDate": "I've never had a job",
                  "LastInt": "nan",
                  "FizzBuzz": "nan",
                  "JobFactors": "Financial performance or funding status of the company or organization;Specific department or team I'd be working on;Languages, frameworks, and other technologies I'd be working with",
                  "ResumeUpdate": "Something else changed (education, award, media, etc.)",
                  "CurrencySymbol": "nan",
                  "CurrencyDesc": "nan",
                  "CompTotal": "nan",
                  "CompFreq": "nan",
                  "ConvertedComp": "nan",
                  "WorkWeekHrs": "nan",
                  "WorkPlan": "nan",
                  "WorkChallenge": "nan",
                  "WorkRemote": "nan",
                  "WorkLoc": "nan",
                  "ImpSyn": "nan",
                  "CodeRev": "nan",
                  "CodeRevHrs": "nan",
                  "UnitTests": "nan",
                  "PurchaseHow": "nan",
                  "PurchaseWhat": "nan",
                  "LanguageWorkedWith": "C++;HTML/CSS;Python",
                  "LanguageDesireNextYear": "C++;HTML/CSS;JavaScript;SQL",
                  "DatabaseWorkedWith": "nan",
                  "DatabaseDesireNextYear": "MySQL",
                  "PlatformWorkedWith": "Windows",
                  "PlatformDesireNextYear": "Windows",
                  "WebFrameWorkedWith": "Django",
                  "WebFrameDesireNextYear": "Django",
                  "MiscTechWorkedWith": "nan",
                  "MiscTechDesireNextYear": "nan",
                  "DevEnviron": "Atom;PyCharm",
                  "OpSys": "Windows",
                  "Containers": "I do not use containers",
                  "BlockchainOrg": "nan",
                  "BlockchainIs": "Useful across many domains and could change many aspects of our lives",
                  "BetterLife": "Yes",
                  "ITperson": "Yes",
                  "OffOn": "Yes",
                  "SocialMedia": "Instagram",
                  "Extraversion": "Online",
                  "ScreenName": "Username",
                  "SOVisit1st": "2017",
                  "SOVisitFreq": "Daily or almost daily",
                  "SOVisitTo": "Find answers to specific questions;Learn how to do things I didn’t necessarily look for",
                  "SOFindAnswer": "3-5 times per week",
                  "SOTimeSaved": "Stack Overflow was much faster",
                  "SOHowMuchTime": "11-30 minutes",
                  "SOAccount": "Yes",
                  "SOPartFreq": "A few times per month or weekly",
                  "SOJobs": "No, I knew that Stack Overflow had a job board but have never used or visited it",
                  "EntTeams": "No, and I don't know what those are",
                  "SOComm": "Yes, somewhat",
                  "WelcomeChange": "Just as welcome now as I felt last year",
                  "SONewContent": "Tech articles written by other developers;Industry news about technologies you're interested in;Tech meetups or events in your area;Courses on technologies you're interested in",
                  "Age": 19,
                  "Gender": "Man",
                  "Trans": "No",
                  "Sexuality": "Straight / Heterosexual",
                  "Ethnicity": "nan",
                  "Dependents": "No",
                  "SurveyLength": "Appropriate in length",
                  "SurveyEase": "Neither easy nor difficult",
                  "_deepnote_index_column": 1
                },
                {
                  "Respondent": 3,
                  "MainBranch": "I am not primarily a developer, but I write code sometimes as part of my work",
                  "Hobbyist": "Yes",
                  "OpenSourcer": "Never",
                  "OpenSource": "The quality of OSS and closed source software is about the same",
                  "Employment": "Employed full-time",
                  "Country": "Thailand",
                  "Student": "No",
                  "EdLevel": "Bachelor’s degree (BA, BS, B.Eng., etc.)",
                  "UndergradMajor": "Web development or web design",
                  "EduOther": "Taught yourself a new language, framework, or tool without taking a formal course",
                  "OrgSize": "100 to 499 employees",
                  "DevType": "Designer;Developer, back-end;Developer, front-end;Developer, full-stack",
                  "YearsCode": "3",
                  "Age1stCode": "22",
                  "YearsCodePro": "1",
                  "CareerSat": "Slightly satisfied",
                  "JobSat": "Slightly satisfied",
                  "MgrIdiot": "Not at all confident",
                  "MgrMoney": "Not sure",
                  "MgrWant": "Not sure",
                  "JobSeek": "I’m not actively looking, but I am open to new opportunities",
                  "LastHireDate": "1-2 years ago",
                  "LastInt": "Interview with people in peer roles",
                  "FizzBuzz": "No",
                  "JobFactors": "Languages, frameworks, and other technologies I'd be working with;Remote work options;Flex time or a flexible schedule",
                  "ResumeUpdate": "I was preparing for a job search",
                  "CurrencySymbol": "THB",
                  "CurrencyDesc": "Thai baht",
                  "CompTotal": 23000,
                  "CompFreq": "Monthly",
                  "ConvertedComp": 8820,
                  "WorkWeekHrs": 40,
                  "WorkPlan": "There's no schedule or spec; I work on what seems most important or urgent",
                  "WorkChallenge": "Distracting work environment;Inadequate access to necessary tools;Lack of support from management",
                  "WorkRemote": "Less than once per month / Never",
                  "WorkLoc": "Home",
                  "ImpSyn": "Average",
                  "CodeRev": "No",
                  "CodeRevHrs": "nan",
                  "UnitTests": "No, but I think we should",
                  "PurchaseHow": "Not sure",
                  "PurchaseWhat": "I have little or no influence",
                  "LanguageWorkedWith": "HTML/CSS",
                  "LanguageDesireNextYear": "Elixir;HTML/CSS",
                  "DatabaseWorkedWith": "PostgreSQL",
                  "DatabaseDesireNextYear": "PostgreSQL",
                  "PlatformWorkedWith": "nan",
                  "PlatformDesireNextYear": "nan",
                  "WebFrameWorkedWith": "nan",
                  "WebFrameDesireNextYear": "Other(s):",
                  "MiscTechWorkedWith": "nan",
                  "MiscTechDesireNextYear": "nan",
                  "DevEnviron": "Vim;Visual Studio Code",
                  "OpSys": "Linux-based",
                  "Containers": "I do not use containers",
                  "BlockchainOrg": "nan",
                  "BlockchainIs": "nan",
                  "BetterLife": "Yes",
                  "ITperson": "Yes",
                  "OffOn": "Yes",
                  "SocialMedia": "Reddit",
                  "Extraversion": "In real life (in person)",
                  "ScreenName": "Username",
                  "SOVisit1st": "2011",
                  "SOVisitFreq": "A few times per week",
                  "SOVisitTo": "Find answers to specific questions;Learn how to do things I didn’t necessarily look for",
                  "SOFindAnswer": "6-10 times per week",
                  "SOTimeSaved": "They were about the same",
                  "SOHowMuchTime": "nan",
                  "SOAccount": "Yes",
                  "SOPartFreq": "Less than once per month or monthly",
                  "SOJobs": "Yes",
                  "EntTeams": "No, I've heard of them, but I am not part of a private Q&A instance",
                  "SOComm": "Neutral",
                  "WelcomeChange": "Just as welcome now as I felt last year",
                  "SONewContent": "Tech meetups or events in your area;Courses on technologies you're interested in",
                  "Age": 28,
                  "Gender": "Man",
                  "Trans": "No",
                  "Sexuality": "Straight / Heterosexual",
                  "Ethnicity": "nan",
                  "Dependents": "Yes",
                  "SurveyLength": "Appropriate in length",
                  "SurveyEase": "Neither easy nor difficult",
                  "_deepnote_index_column": 2
                },
                {
                  "Respondent": 4,
                  "MainBranch": "I am a developer by profession",
                  "Hobbyist": "No",
                  "OpenSourcer": "Never",
                  "OpenSource": "The quality of OSS and closed source software is about the same",
                  "Employment": "Employed full-time",
                  "Country": "United States",
                  "Student": "No",
                  "EdLevel": "Bachelor’s degree (BA, BS, B.Eng., etc.)",
                  "UndergradMajor": "Computer science, computer engineering, or software engineering",
                  "EduOther": "Taken an online course in programming or software development (e.g. a MOOC);Received on-the-job training in software development;Taught yourself a new language, framework, or tool without taking a formal course",
                  "OrgSize": "100 to 499 employees",
                  "DevType": "Developer, full-stack",
                  "YearsCode": "3",
                  "Age1stCode": "16",
                  "YearsCodePro": "Less than 1 year",
                  "CareerSat": "Very satisfied",
                  "JobSat": "Slightly satisfied",
                  "MgrIdiot": "Very confident",
                  "MgrMoney": "No",
                  "MgrWant": "Not sure",
                  "JobSeek": "I am not interested in new job opportunities",
                  "LastHireDate": "Less than a year ago",
                  "LastInt": "Write code by hand (e.g., on a whiteboard);Interview with people in senior / management roles",
                  "FizzBuzz": "No",
                  "JobFactors": "Languages, frameworks, and other technologies I'd be working with;Office environment or company culture;Opportunities for professional development",
                  "ResumeUpdate": "I was preparing for a job search",
                  "CurrencySymbol": "USD",
                  "CurrencyDesc": "United States dollar",
                  "CompTotal": 61000,
                  "CompFreq": "Yearly",
                  "ConvertedComp": 61000,
                  "WorkWeekHrs": 80,
                  "WorkPlan": "There's no schedule or spec; I work on what seems most important or urgent",
                  "WorkChallenge": "nan",
                  "WorkRemote": "Less than once per month / Never",
                  "WorkLoc": "Home",
                  "ImpSyn": "A little below average",
                  "CodeRev": "No",
                  "CodeRevHrs": "nan",
                  "UnitTests": "No, but I think we should",
                  "PurchaseHow": "Developers typically have the most influence on purchasing new technology",
                  "PurchaseWhat": "I have little or no influence",
                  "LanguageWorkedWith": "C;C++;C#;Python;SQL",
                  "LanguageDesireNextYear": "C;C#;JavaScript;SQL",
                  "DatabaseWorkedWith": "MySQL;SQLite",
                  "DatabaseDesireNextYear": "MySQL;SQLite",
                  "PlatformWorkedWith": "Linux;Windows",
                  "PlatformDesireNextYear": "Linux;Windows",
                  "WebFrameWorkedWith": "nan",
                  "WebFrameDesireNextYear": "nan",
                  "MiscTechWorkedWith": ".NET",
                  "MiscTechDesireNextYear": ".NET",
                  "DevEnviron": "Eclipse;Vim;Visual Studio;Visual Studio Code",
                  "OpSys": "Windows",
                  "Containers": "I do not use containers",
                  "BlockchainOrg": "Not at all",
                  "BlockchainIs": "Useful for decentralized currency (i.e., Bitcoin)",
                  "BetterLife": "Yes",
                  "ITperson": "SIGH",
                  "OffOn": "Yes",
                  "SocialMedia": "Reddit",
                  "Extraversion": "In real life (in person)",
                  "ScreenName": "Username",
                  "SOVisit1st": "2014",
                  "SOVisitFreq": "Daily or almost daily",
                  "SOVisitTo": "Find answers to specific questions;Pass the time / relax",
                  "SOFindAnswer": "1-2 times per week",
                  "SOTimeSaved": "Stack Overflow was much faster",
                  "SOHowMuchTime": "31-60 minutes",
                  "SOAccount": "Yes",
                  "SOPartFreq": "Less than once per month or monthly",
                  "SOJobs": "Yes",
                  "EntTeams": "No, and I don't know what those are",
                  "SOComm": "No, not really",
                  "WelcomeChange": "Just as welcome now as I felt last year",
                  "SONewContent": "Tech articles written by other developers;Industry news about technologies you're interested in;Tech meetups or events in your area;Courses on technologies you're interested in",
                  "Age": 22,
                  "Gender": "Man",
                  "Trans": "No",
                  "Sexuality": "Straight / Heterosexual",
                  "Ethnicity": "White or of European descent",
                  "Dependents": "No",
                  "SurveyLength": "Appropriate in length",
                  "SurveyEase": "Easy",
                  "_deepnote_index_column": 3
                },
                {
                  "Respondent": 5,
                  "MainBranch": "I am a developer by profession",
                  "Hobbyist": "Yes",
                  "OpenSourcer": "Once a month or more often",
                  "OpenSource": "OSS is, on average, of HIGHER quality than proprietary / closed source software",
                  "Employment": "Employed full-time",
                  "Country": "Ukraine",
                  "Student": "No",
                  "EdLevel": "Bachelor’s degree (BA, BS, B.Eng., etc.)",
                  "UndergradMajor": "Computer science, computer engineering, or software engineering",
                  "EduOther": "Taken an online course in programming or software development (e.g. a MOOC);Received on-the-job training in software development;Taught yourself a new language, framework, or tool without taking a formal course;Contributed to open source software",
                  "OrgSize": "10,000 or more employees",
                  "DevType": "Academic researcher;Developer, desktop or enterprise applications;Developer, full-stack;Developer, mobile",
                  "YearsCode": "16",
                  "Age1stCode": "14",
                  "YearsCodePro": "9",
                  "CareerSat": "Very dissatisfied",
                  "JobSat": "Slightly dissatisfied",
                  "MgrIdiot": "Somewhat confident",
                  "MgrMoney": "Yes",
                  "MgrWant": "No",
                  "JobSeek": "I am not interested in new job opportunities",
                  "LastHireDate": "Less than a year ago",
                  "LastInt": "Write any code;Write code by hand (e.g., on a whiteboard);Solve a brain-teaser style puzzle;Interview with people in senior / management roles",
                  "FizzBuzz": "No",
                  "JobFactors": "Industry that I'd be working in;Languages, frameworks, and other technologies I'd be working with;Flex time or a flexible schedule",
                  "ResumeUpdate": "I was preparing for a job search",
                  "CurrencySymbol": "UAH",
                  "CurrencyDesc": "Ukrainian hryvnia",
                  "CompTotal": "nan",
                  "CompFreq": "nan",
                  "ConvertedComp": "nan",
                  "WorkWeekHrs": 55,
                  "WorkPlan": "There is a schedule and/or spec (made by me or by a colleague), and I follow it very closely",
                  "WorkChallenge": "Being tasked with non-development work;Inadequate access to necessary tools;Non-work commitments (parenting, school work, hobbies, etc.)",
                  "WorkRemote": "A few days each month",
                  "WorkLoc": "Office",
                  "ImpSyn": "A little above average",
                  "CodeRev": "Yes, because I see value in code review",
                  "CodeRevHrs": "nan",
                  "UnitTests": "Yes, it's part of our process",
                  "PurchaseHow": "Not sure",
                  "PurchaseWhat": "I have little or no influence",
                  "LanguageWorkedWith": "C++;HTML/CSS;Java;JavaScript;Python;SQL;VBA",
                  "LanguageDesireNextYear": "HTML/CSS;Java;JavaScript;SQL;WebAssembly",
                  "DatabaseWorkedWith": "Couchbase;MongoDB;MySQL;Oracle;PostgreSQL;SQLite",
                  "DatabaseDesireNextYear": "Couchbase;Firebase;MongoDB;MySQL;Oracle;PostgreSQL;SQLite",
                  "PlatformWorkedWith": "Android;Linux;MacOS;Slack;Windows",
                  "PlatformDesireNextYear": "Android;Docker;Kubernetes;Linux;Slack",
                  "WebFrameWorkedWith": "Django;Express;Flask;jQuery;React.js;Spring",
                  "WebFrameDesireNextYear": "Flask;jQuery;React.js;Spring",
                  "MiscTechWorkedWith": "Cordova;Node.js",
                  "MiscTechDesireNextYear": "Apache Spark;Hadoop;Node.js;React Native",
                  "DevEnviron": "IntelliJ;Notepad++;Vim",
                  "OpSys": "Linux-based",
                  "Containers": "Outside of work, for personal projects",
                  "BlockchainOrg": "Not at all",
                  "BlockchainIs": "nan",
                  "BetterLife": "Yes",
                  "ITperson": "Also Yes",
                  "OffOn": "Yes",
                  "SocialMedia": "Facebook",
                  "Extraversion": "In real life (in person)",
                  "ScreenName": "Username",
                  "SOVisit1st": "I don't remember",
                  "SOVisitFreq": "Multiple times per day",
                  "SOVisitTo": "Find answers to specific questions",
                  "SOFindAnswer": "More than 10 times per week",
                  "SOTimeSaved": "Stack Overflow was much faster",
                  "SOHowMuchTime": "nan",
                  "SOAccount": "Yes",
                  "SOPartFreq": "A few times per month or weekly",
                  "SOJobs": "No, I knew that Stack Overflow had a job board but have never used or visited it",
                  "EntTeams": "No, I've heard of them, but I am not part of a private Q&A instance",
                  "SOComm": "Yes, definitely",
                  "WelcomeChange": "Just as welcome now as I felt last year",
                  "SONewContent": "Tech meetups or events in your area;Courses on technologies you're interested in",
                  "Age": 30,
                  "Gender": "Man",
                  "Trans": "No",
                  "Sexuality": "Straight / Heterosexual",
                  "Ethnicity": "White or of European descent;Multiracial",
                  "Dependents": "No",
                  "SurveyLength": "Appropriate in length",
                  "SurveyEase": "Easy",
                  "_deepnote_index_column": 4
                }
              ]
            },
            "text/plain": "       Respondent                                         MainBranch Hobbyist  \\\n0               1             I am a student who is learning to code      Yes   \n1               2             I am a student who is learning to code       No   \n2               3  I am not primarily a developer, but I write co...      Yes   \n3               4                     I am a developer by profession       No   \n4               5                     I am a developer by profession      Yes   \n...           ...                                                ...      ...   \n88878       88377                                                NaN      Yes   \n88879       88601                                                NaN       No   \n88880       88802                                                NaN       No   \n88881       88816                                                NaN       No   \n88882       88863                                                NaN      Yes   \n\n                                             OpenSourcer  \\\n0                                                  Never   \n1                                Less than once per year   \n2                                                  Never   \n3                                                  Never   \n4                             Once a month or more often   \n...                                                  ...   \n88878  Less than once a month but more than once per ...   \n88879                                              Never   \n88880                                              Never   \n88881                                              Never   \n88882                            Less than once per year   \n\n                                              OpenSource  \\\n0      The quality of OSS and closed source software ...   \n1      The quality of OSS and closed source software ...   \n2      The quality of OSS and closed source software ...   \n3      The quality of OSS and closed source software ...   \n4      OSS is, on average, of HIGHER quality than pro...   \n...                                                  ...   \n88878  The quality of OSS and closed source software ...   \n88879  The quality of OSS and closed source software ...   \n88880                                                NaN   \n88881  OSS is, on average, of HIGHER quality than pro...   \n88882  OSS is, on average, of HIGHER quality than pro...   \n\n                                              Employment  \\\n0                 Not employed, and not looking for work   \n1                     Not employed, but looking for work   \n2                                     Employed full-time   \n3                                     Employed full-time   \n4                                     Employed full-time   \n...                                                  ...   \n88878             Not employed, and not looking for work   \n88879                                                NaN   \n88880                                 Employed full-time   \n88881  Independent contractor, freelancer, or self-em...   \n88882             Not employed, and not looking for work   \n\n                      Country         Student  \\\n0              United Kingdom              No   \n1      Bosnia and Herzegovina  Yes, full-time   \n2                    Thailand              No   \n3               United States              No   \n4                     Ukraine              No   \n...                       ...             ...   \n88878                  Canada              No   \n88879                     NaN             NaN   \n88880                     NaN             NaN   \n88881                     NaN             NaN   \n88882                   Spain  Yes, full-time   \n\n                                                 EdLevel  \\\n0                              Primary/elementary school   \n1      Secondary school (e.g. American high school, G...   \n2               Bachelor’s degree (BA, BS, B.Eng., etc.)   \n3               Bachelor’s degree (BA, BS, B.Eng., etc.)   \n4               Bachelor’s degree (BA, BS, B.Eng., etc.)   \n...                                                  ...   \n88878                          Primary/elementary school   \n88879                                                NaN   \n88880                                                NaN   \n88881                                                NaN   \n88882                 Professional degree (JD, MD, etc.)   \n\n                                          UndergradMajor  \\\n0                                                    NaN   \n1                                                    NaN   \n2                          Web development or web design   \n3      Computer science, computer engineering, or sof...   \n4      Computer science, computer engineering, or sof...   \n...                                                  ...   \n88878                                                NaN   \n88879                                                NaN   \n88880                                                NaN   \n88881                                                NaN   \n88882  Computer science, computer engineering, or sof...   \n\n                                                EduOther  \\\n0      Taught yourself a new language, framework, or ...   \n1      Taken an online course in programming or softw...   \n2      Taught yourself a new language, framework, or ...   \n3      Taken an online course in programming or softw...   \n4      Taken an online course in programming or softw...   \n...                                                  ...   \n88878  Taught yourself a new language, framework, or ...   \n88879                                                NaN   \n88880                                                NaN   \n88881                                                NaN   \n88882  Taken an online course in programming or softw...   \n\n                        OrgSize  \\\n0                           NaN   \n1                           NaN   \n2          100 to 499 employees   \n3          100 to 499 employees   \n4      10,000 or more employees   \n...                         ...   \n88878                       NaN   \n88879                       NaN   \n88880                       NaN   \n88881                       NaN   \n88882                       NaN   \n\n                                                 DevType YearsCode Age1stCode  \\\n0                                                    NaN         4         10   \n1      Developer, desktop or enterprise applications;...       NaN         17   \n2      Designer;Developer, back-end;Developer, front-...         3         22   \n3                                  Developer, full-stack         3         16   \n4      Academic researcher;Developer, desktop or ente...        16         14   \n...                                                  ...       ...        ...   \n88878                                                NaN       NaN        NaN   \n88879                                                NaN       NaN        NaN   \n88880                                                NaN       NaN        NaN   \n88881                                                NaN       NaN        NaN   \n88882                                                NaN         8         11   \n\n           YearsCodePro           CareerSat                 JobSat  \\\n0                   NaN                 NaN                    NaN   \n1                   NaN                 NaN                    NaN   \n2                     1  Slightly satisfied     Slightly satisfied   \n3      Less than 1 year      Very satisfied     Slightly satisfied   \n4                     9   Very dissatisfied  Slightly dissatisfied   \n...                 ...                 ...                    ...   \n88878               NaN                 NaN                    NaN   \n88879               NaN                 NaN                    NaN   \n88880               NaN                 NaN                    NaN   \n88881               NaN                 NaN                    NaN   \n88882                 3                 NaN                    NaN   \n\n                   MgrIdiot  MgrMoney   MgrWant  \\\n0                       NaN       NaN       NaN   \n1                       NaN       NaN       NaN   \n2      Not at all confident  Not sure  Not sure   \n3            Very confident        No  Not sure   \n4        Somewhat confident       Yes        No   \n...                     ...       ...       ...   \n88878                   NaN       NaN       NaN   \n88879                   NaN       NaN       NaN   \n88880                   NaN       NaN       NaN   \n88881                   NaN       NaN       NaN   \n88882                   NaN       NaN       NaN   \n\n                                                 JobSeek  \\\n0                                                    NaN   \n1                        I am actively looking for a job   \n2      I’m not actively looking, but I am open to new...   \n3           I am not interested in new job opportunities   \n4           I am not interested in new job opportunities   \n...                                                  ...   \n88878                                                NaN   \n88879                                                NaN   \n88880                                                NaN   \n88881                                                NaN   \n88882                                                NaN   \n\n               LastHireDate  \\\n0                       NaN   \n1      I've never had a job   \n2             1-2 years ago   \n3      Less than a year ago   \n4      Less than a year ago   \n...                     ...   \n88878                   NaN   \n88879                   NaN   \n88880                   NaN   \n88881                   NaN   \n88882                   NaN   \n\n                                                 LastInt FizzBuzz  \\\n0                                                    NaN      NaN   \n1                                                    NaN      NaN   \n2                    Interview with people in peer roles       No   \n3      Write code by hand (e.g., on a whiteboard);Int...       No   \n4      Write any code;Write code by hand (e.g., on a ...       No   \n...                                                  ...      ...   \n88878                                                NaN      NaN   \n88879                                                NaN      NaN   \n88880                                                NaN      NaN   \n88881                                                NaN      NaN   \n88882                                                NaN      NaN   \n\n                                              JobFactors  \\\n0                                                    NaN   \n1      Financial performance or funding status of the...   \n2      Languages, frameworks, and other technologies ...   \n3      Languages, frameworks, and other technologies ...   \n4      Industry that I'd be working in;Languages, fra...   \n...                                                  ...   \n88878                                                NaN   \n88879                                                NaN   \n88880                                                NaN   \n88881                                                NaN   \n88882                                                NaN   \n\n                                            ResumeUpdate CurrencySymbol  \\\n0                                                    NaN            NaN   \n1      Something else changed (education, award, medi...            NaN   \n2                       I was preparing for a job search            THB   \n3                       I was preparing for a job search            USD   \n4                       I was preparing for a job search            UAH   \n...                                                  ...            ...   \n88878                                                NaN            NaN   \n88879                                                NaN            NaN   \n88880                                                NaN            NaN   \n88881                                                NaN            NaN   \n88882                                                NaN            NaN   \n\n               CurrencyDesc  CompTotal CompFreq  ConvertedComp  WorkWeekHrs  \\\n0                       NaN        NaN      NaN            NaN          NaN   \n1                       NaN        NaN      NaN            NaN          NaN   \n2                 Thai baht    23000.0  Monthly         8820.0         40.0   \n3      United States dollar    61000.0   Yearly        61000.0         80.0   \n4         Ukrainian hryvnia        NaN      NaN            NaN         55.0   \n...                     ...        ...      ...            ...          ...   \n88878                   NaN        NaN      NaN            NaN          NaN   \n88879                   NaN        NaN      NaN            NaN          NaN   \n88880                   NaN        NaN      NaN            NaN          NaN   \n88881                   NaN        NaN      NaN            NaN          NaN   \n88882                   NaN        NaN      NaN            NaN          NaN   \n\n                                                WorkPlan  \\\n0                                                    NaN   \n1                                                    NaN   \n2      There's no schedule or spec; I work on what se...   \n3      There's no schedule or spec; I work on what se...   \n4      There is a schedule and/or spec (made by me or...   \n...                                                  ...   \n88878                                                NaN   \n88879                                                NaN   \n88880                                                NaN   \n88881                                                NaN   \n88882                                                NaN   \n\n                                           WorkChallenge  \\\n0                                                    NaN   \n1                                                    NaN   \n2      Distracting work environment;Inadequate access...   \n3                                                    NaN   \n4      Being tasked with non-development work;Inadequ...   \n...                                                  ...   \n88878                                                NaN   \n88879                                                NaN   \n88880                                                NaN   \n88881                                                NaN   \n88882                                                NaN   \n\n                             WorkRemote WorkLoc                  ImpSyn  \\\n0                                   NaN     NaN                     NaN   \n1                                   NaN     NaN                     NaN   \n2      Less than once per month / Never    Home                 Average   \n3      Less than once per month / Never    Home  A little below average   \n4                 A few days each month  Office  A little above average   \n...                                 ...     ...                     ...   \n88878                               NaN     NaN                     NaN   \n88879                               NaN     NaN                     NaN   \n88880                               NaN     NaN                     NaN   \n88881                               NaN     NaN                     NaN   \n88882                               NaN     NaN                     NaN   \n\n                                       CodeRev  CodeRevHrs  \\\n0                                          NaN         NaN   \n1                                          NaN         NaN   \n2                                           No         NaN   \n3                                           No         NaN   \n4      Yes, because I see value in code review         NaN   \n...                                        ...         ...   \n88878                                      NaN         NaN   \n88879                                      NaN         NaN   \n88880                                      NaN         NaN   \n88881                                      NaN         NaN   \n88882                                      NaN         NaN   \n\n                           UnitTests  \\\n0                                NaN   \n1                                NaN   \n2          No, but I think we should   \n3          No, but I think we should   \n4      Yes, it's part of our process   \n...                              ...   \n88878                            NaN   \n88879                            NaN   \n88880                            NaN   \n88881                            NaN   \n88882                            NaN   \n\n                                             PurchaseHow  \\\n0                                                    NaN   \n1                                                    NaN   \n2                                               Not sure   \n3      Developers typically have the most influence o...   \n4                                               Not sure   \n...                                                  ...   \n88878                                                NaN   \n88879                                                NaN   \n88880                                                NaN   \n88881                                                NaN   \n88882                                                NaN   \n\n                        PurchaseWhat  \\\n0                                NaN   \n1                                NaN   \n2      I have little or no influence   \n3      I have little or no influence   \n4      I have little or no influence   \n...                              ...   \n88878                            NaN   \n88879                            NaN   \n88880                            NaN   \n88881                            NaN   \n88882                            NaN   \n\n                                      LanguageWorkedWith  \\\n0                        HTML/CSS;Java;JavaScript;Python   \n1                                    C++;HTML/CSS;Python   \n2                                               HTML/CSS   \n3                                    C;C++;C#;Python;SQL   \n4            C++;HTML/CSS;Java;JavaScript;Python;SQL;VBA   \n...                                                  ...   \n88878                      HTML/CSS;JavaScript;Other(s):   \n88879                                                NaN   \n88880                                                NaN   \n88881                                                NaN   \n88882  Bash/Shell/PowerShell;HTML/CSS;Java;JavaScript...   \n\n                                  LanguageDesireNextYear  \\\n0        C;C++;C#;Go;HTML/CSS;Java;JavaScript;Python;SQL   \n1                            C++;HTML/CSS;JavaScript;SQL   \n2                                        Elixir;HTML/CSS   \n3                                    C;C#;JavaScript;SQL   \n4               HTML/CSS;Java;JavaScript;SQL;WebAssembly   \n...                                                  ...   \n88878  C++;HTML/CSS;JavaScript;SQL;WebAssembly;Other(s):   \n88879                                                NaN   \n88880                                                NaN   \n88881                                                NaN   \n88882       C;C++;C#;HTML/CSS;Java;Objective-C;SQL;Swift   \n\n                                     DatabaseWorkedWith  \\\n0                                                SQLite   \n1                                                   NaN   \n2                                            PostgreSQL   \n3                                          MySQL;SQLite   \n4      Couchbase;MongoDB;MySQL;Oracle;PostgreSQL;SQLite   \n...                                                 ...   \n88878                                   Firebase;SQLite   \n88879                                               NaN   \n88880                                               NaN   \n88881                                               NaN   \n88882       DynamoDB;MariaDB;Microsoft SQL Server;MySQL   \n\n                                  DatabaseDesireNextYear  \\\n0                                                  MySQL   \n1                                                  MySQL   \n2                                             PostgreSQL   \n3                                           MySQL;SQLite   \n4      Couchbase;Firebase;MongoDB;MySQL;Oracle;Postgr...   \n...                                                  ...   \n88878                              Firebase;MySQL;SQLite   \n88879                                                NaN   \n88880                                                NaN   \n88881                                                NaN   \n88882                        MariaDB;MySQL;Oracle;SQLite   \n\n                      PlatformWorkedWith  \\\n0                          MacOS;Windows   \n1                                Windows   \n2                                    NaN   \n3                          Linux;Windows   \n4      Android;Linux;MacOS;Slack;Windows   \n...                                  ...   \n88878                              Linux   \n88879                                NaN   \n88880                                NaN   \n88881                                NaN   \n88882          iOS;Linux;MacOS;WordPress   \n\n                                  PlatformDesireNextYear  \\\n0                                Android;Arduino;Windows   \n1                                                Windows   \n2                                                    NaN   \n3                                          Linux;Windows   \n4                  Android;Docker;Kubernetes;Linux;Slack   \n...                                                  ...   \n88878                        Google Cloud Platform;Linux   \n88879                                                NaN   \n88880                                                NaN   \n88881                                                NaN   \n88882  Android;AWS;Google Cloud Platform;IBM Cloud or...   \n\n                                WebFrameWorkedWith  \\\n0                                     Django;Flask   \n1                                           Django   \n2                                              NaN   \n3                                              NaN   \n4      Django;Express;Flask;jQuery;React.js;Spring   \n...                                            ...   \n88878                                       jQuery   \n88879                                          NaN   \n88880                                          NaN   \n88881                                          NaN   \n88882                       Django;jQuery;React.js   \n\n             WebFrameDesireNextYear      MiscTechWorkedWith  \\\n0                      Flask;jQuery                 Node.js   \n1                            Django                     NaN   \n2                         Other(s):                     NaN   \n3                               NaN                    .NET   \n4      Flask;jQuery;React.js;Spring         Cordova;Node.js   \n...                             ...                     ...   \n88878                 jQuery;Vue.js                 Node.js   \n88879                           NaN                     NaN   \n88880                           NaN                     NaN   \n88881                           NaN                     NaN   \n88882                        Django  Unity 3D;Unreal Engine   \n\n                         MiscTechDesireNextYear  \\\n0                                       Node.js   \n1                                           NaN   \n2                                           NaN   \n3                                          .NET   \n4      Apache Spark;Hadoop;Node.js;React Native   \n...                                         ...   \n88878       React Native;Unity 3D;Unreal Engine   \n88879                                       NaN   \n88880                                       NaN   \n88881                                       NaN   \n88882                                       NaN   \n\n                                              DevEnviron        OpSys  \\\n0                             IntelliJ;Notepad++;PyCharm      Windows   \n1                                           Atom;PyCharm      Windows   \n2                                 Vim;Visual Studio Code  Linux-based   \n3           Eclipse;Vim;Visual Studio;Visual Studio Code      Windows   \n4                                 IntelliJ;Notepad++;Vim  Linux-based   \n...                                                  ...          ...   \n88878              Atom;Visual Studio;Visual Studio Code      Windows   \n88879                                                NaN          NaN   \n88880                                                NaN          NaN   \n88881                                                NaN          NaN   \n88882  Android Studio;Atom;Eclipse;NetBeans;Notepad++...  Linux-based   \n\n                                   Containers BlockchainOrg  \\\n0                     I do not use containers           NaN   \n1                     I do not use containers           NaN   \n2                     I do not use containers           NaN   \n3                     I do not use containers    Not at all   \n4      Outside of work, for personal projects    Not at all   \n...                                       ...           ...   \n88878                 I do not use containers           NaN   \n88879                                     NaN           NaN   \n88880                                     NaN           NaN   \n88881                                     NaN           NaN   \n88882                              Production           NaN   \n\n                                            BlockchainIs BetterLife  \\\n0                                                    NaN        Yes   \n1      Useful across many domains and could change ma...        Yes   \n2                                                    NaN        Yes   \n3      Useful for decentralized currency (i.e., Bitcoin)        Yes   \n4                                                    NaN        Yes   \n...                                                  ...        ...   \n88878  Useful across many domains and could change ma...        Yes   \n88879                                                NaN        NaN   \n88880                                                NaN        NaN   \n88881                                                NaN        NaN   \n88882  Useful for decentralized currency (i.e., Bitcoin)        Yes   \n\n                                       ITperson  OffOn SocialMedia  \\\n0      Fortunately, someone else has that title    Yes     Twitter   \n1                                           Yes    Yes   Instagram   \n2                                           Yes    Yes      Reddit   \n3                                          SIGH    Yes      Reddit   \n4                                      Also Yes    Yes    Facebook   \n...                                         ...    ...         ...   \n88878                                       Yes  What?     YouTube   \n88879                                       NaN    NaN         NaN   \n88880                                       NaN    NaN         NaN   \n88881                                       NaN    NaN         NaN   \n88882                                  Also Yes    Yes    WhatsApp   \n\n                   Extraversion ScreenName        SOVisit1st  \\\n0                        Online   Username              2017   \n1                        Online   Username              2017   \n2      In real life (in person)   Username              2011   \n3      In real life (in person)   Username              2014   \n4      In real life (in person)   Username  I don't remember   \n...                         ...        ...               ...   \n88878                       NaN   Username  I don't remember   \n88879                       NaN        NaN               NaN   \n88880                       NaN        NaN               NaN   \n88881                       NaN        NaN               NaN   \n88882  In real life (in person)        NaN              2012   \n\n                           SOVisitFreq  \\\n0      A few times per month or weekly   \n1                Daily or almost daily   \n2                 A few times per week   \n3                Daily or almost daily   \n4               Multiple times per day   \n...                                ...   \n88878             A few times per week   \n88879                              NaN   \n88880                              NaN   \n88881                              NaN   \n88882            Daily or almost daily   \n\n                                               SOVisitTo  \\\n0      Find answers to specific questions;Learn how t...   \n1      Find answers to specific questions;Learn how t...   \n2      Find answers to specific questions;Learn how t...   \n3      Find answers to specific questions;Pass the ti...   \n4                     Find answers to specific questions   \n...                                                  ...   \n88878  Find answers to specific questions;Learn how t...   \n88879                                                NaN   \n88880                                                NaN   \n88881                                                NaN   \n88882  Find answers to specific questions;Learn how t...   \n\n                      SOFindAnswer                         SOTimeSaved  \\\n0               3-5 times per week      Stack Overflow was much faster   \n1               3-5 times per week      Stack Overflow was much faster   \n2              6-10 times per week            They were about the same   \n3               1-2 times per week      Stack Overflow was much faster   \n4      More than 10 times per week      Stack Overflow was much faster   \n...                            ...                                 ...   \n88878           3-5 times per week  Stack Overflow was slightly faster   \n88879                          NaN                                 NaN   \n88880                          NaN                                 NaN   \n88881                          NaN                                 NaN   \n88882          6-10 times per week      Stack Overflow was much faster   \n\n       SOHowMuchTime SOAccount  \\\n0      31-60 minutes        No   \n1      11-30 minutes       Yes   \n2                NaN       Yes   \n3      31-60 minutes       Yes   \n4                NaN       Yes   \n...              ...       ...   \n88878  11-30 minutes       Yes   \n88879            NaN       NaN   \n88880            NaN       NaN   \n88881            NaN       NaN   \n88882  11-30 minutes       Yes   \n\n                                              SOPartFreq  \\\n0                                                    NaN   \n1                        A few times per month or weekly   \n2                    Less than once per month or monthly   \n3                    Less than once per month or monthly   \n4                        A few times per month or weekly   \n...                                                  ...   \n88878  I have never participated in Q&A on Stack Over...   \n88879                                                NaN   \n88880                                                NaN   \n88881                                                NaN   \n88882                    A few times per month or weekly   \n\n                                                  SOJobs  \\\n0      No, I didn't know that Stack Overflow had a jo...   \n1      No, I knew that Stack Overflow had a job board...   \n2                                                    Yes   \n3                                                    Yes   \n4      No, I knew that Stack Overflow had a job board...   \n...                                                  ...   \n88878  No, I knew that Stack Overflow had a job board...   \n88879                                                NaN   \n88880                                                NaN   \n88881                                                NaN   \n88882                                                Yes   \n\n                                                EntTeams           SOComm  \\\n0                    No, and I don't know what those are          Neutral   \n1                    No, and I don't know what those are    Yes, somewhat   \n2      No, I've heard of them, but I am not part of a...          Neutral   \n3                    No, and I don't know what those are   No, not really   \n4      No, I've heard of them, but I am not part of a...  Yes, definitely   \n...                                                  ...              ...   \n88878  No, I've heard of them, but I am not part of a...   No, not at all   \n88879                                                NaN              NaN   \n88880                                                NaN              NaN   \n88881                                                NaN              NaN   \n88882  No, I've heard of them, but I am not part of a...    Yes, somewhat   \n\n                                  WelcomeChange  \\\n0       Just as welcome now as I felt last year   \n1       Just as welcome now as I felt last year   \n2       Just as welcome now as I felt last year   \n3       Just as welcome now as I felt last year   \n4       Just as welcome now as I felt last year   \n...                                         ...   \n88878                                       NaN   \n88879                                       NaN   \n88880                                       NaN   \n88881                                       NaN   \n88882  Somewhat less welcome now than last year   \n\n                                            SONewContent   Age Gender Trans  \\\n0      Tech articles written by other developers;Indu...  14.0    Man    No   \n1      Tech articles written by other developers;Indu...  19.0    Man    No   \n2      Tech meetups or events in your area;Courses on...  28.0    Man    No   \n3      Tech articles written by other developers;Indu...  22.0    Man    No   \n4      Tech meetups or events in your area;Courses on...  30.0    Man    No   \n...                                                  ...   ...    ...   ...   \n88878  Tech articles written by other developers;Tech...   NaN    Man    No   \n88879                                                NaN   NaN    NaN   NaN   \n88880                                                NaN   NaN    NaN   NaN   \n88881                                                NaN   NaN    NaN   NaN   \n88882  Tech articles written by other developers;Indu...  18.0    Man    No   \n\n                     Sexuality  \\\n0      Straight / Heterosexual   \n1      Straight / Heterosexual   \n2      Straight / Heterosexual   \n3      Straight / Heterosexual   \n4      Straight / Heterosexual   \n...                        ...   \n88878                      NaN   \n88879                      NaN   \n88880                      NaN   \n88881                      NaN   \n88882  Straight / Heterosexual   \n\n                                               Ethnicity Dependents  \\\n0                                                    NaN         No   \n1                                                    NaN         No   \n2                                                    NaN        Yes   \n3                           White or of European descent         No   \n4               White or of European descent;Multiracial         No   \n...                                                  ...        ...   \n88878                                                NaN         No   \n88879                                                NaN        NaN   \n88880                                                NaN        NaN   \n88881                                                NaN        NaN   \n88882  Hispanic or Latino/Latina;White or of European...         No   \n\n                SurveyLength                  SurveyEase  \n0      Appropriate in length  Neither easy nor difficult  \n1      Appropriate in length  Neither easy nor difficult  \n2      Appropriate in length  Neither easy nor difficult  \n3      Appropriate in length                        Easy  \n4      Appropriate in length                        Easy  \n...                      ...                         ...  \n88878  Appropriate in length                        Easy  \n88879                    NaN                         NaN  \n88880                    NaN                         NaN  \n88881                    NaN                         NaN  \n88882  Appropriate in length                        Easy  \n\n[88883 rows x 85 columns]",
            "text/html": "<div>\n<style scoped>\n    .dataframe tbody tr th:only-of-type {\n        vertical-align: middle;\n    }\n\n    .dataframe tbody tr th {\n        vertical-align: top;\n    }\n\n    .dataframe thead th {\n        text-align: right;\n    }\n</style>\n<table border=\"1\" class=\"dataframe\">\n  <thead>\n    <tr style=\"text-align: right;\">\n      <th></th>\n      <th>Respondent</th>\n      <th>MainBranch</th>\n      <th>Hobbyist</th>\n      <th>OpenSourcer</th>\n      <th>OpenSource</th>\n      <th>Employment</th>\n      <th>Country</th>\n      <th>Student</th>\n      <th>EdLevel</th>\n      <th>UndergradMajor</th>\n      <th>EduOther</th>\n      <th>OrgSize</th>\n      <th>DevType</th>\n      <th>YearsCode</th>\n      <th>Age1stCode</th>\n      <th>YearsCodePro</th>\n      <th>CareerSat</th>\n      <th>JobSat</th>\n      <th>MgrIdiot</th>\n      <th>MgrMoney</th>\n      <th>MgrWant</th>\n      <th>JobSeek</th>\n      <th>LastHireDate</th>\n      <th>LastInt</th>\n      <th>FizzBuzz</th>\n      <th>JobFactors</th>\n      <th>ResumeUpdate</th>\n      <th>CurrencySymbol</th>\n      <th>CurrencyDesc</th>\n      <th>CompTotal</th>\n      <th>CompFreq</th>\n      <th>ConvertedComp</th>\n      <th>WorkWeekHrs</th>\n      <th>WorkPlan</th>\n      <th>WorkChallenge</th>\n      <th>WorkRemote</th>\n      <th>WorkLoc</th>\n      <th>ImpSyn</th>\n      <th>CodeRev</th>\n      <th>CodeRevHrs</th>\n      <th>UnitTests</th>\n      <th>PurchaseHow</th>\n      <th>PurchaseWhat</th>\n      <th>LanguageWorkedWith</th>\n      <th>LanguageDesireNextYear</th>\n      <th>DatabaseWorkedWith</th>\n      <th>DatabaseDesireNextYear</th>\n      <th>PlatformWorkedWith</th>\n      <th>PlatformDesireNextYear</th>\n      <th>WebFrameWorkedWith</th>\n      <th>WebFrameDesireNextYear</th>\n      <th>MiscTechWorkedWith</th>\n      <th>MiscTechDesireNextYear</th>\n      <th>DevEnviron</th>\n      <th>OpSys</th>\n      <th>Containers</th>\n      <th>BlockchainOrg</th>\n      <th>BlockchainIs</th>\n      <th>BetterLife</th>\n      <th>ITperson</th>\n      <th>OffOn</th>\n      <th>SocialMedia</th>\n      <th>Extraversion</th>\n      <th>ScreenName</th>\n      <th>SOVisit1st</th>\n      <th>SOVisitFreq</th>\n      <th>SOVisitTo</th>\n      <th>SOFindAnswer</th>\n      <th>SOTimeSaved</th>\n      <th>SOHowMuchTime</th>\n      <th>SOAccount</th>\n      <th>SOPartFreq</th>\n      <th>SOJobs</th>\n      <th>EntTeams</th>\n      <th>SOComm</th>\n      <th>WelcomeChange</th>\n      <th>SONewContent</th>\n      <th>Age</th>\n      <th>Gender</th>\n      <th>Trans</th>\n      <th>Sexuality</th>\n      <th>Ethnicity</th>\n      <th>Dependents</th>\n      <th>SurveyLength</th>\n      <th>SurveyEase</th>\n    </tr>\n  </thead>\n  <tbody>\n    <tr>\n      <th>0</th>\n      <td>1</td>\n      <td>I am a student who is learning to code</td>\n      <td>Yes</td>\n      <td>Never</td>\n      <td>The quality of OSS and closed source software ...</td>\n      <td>Not employed, and not looking for work</td>\n      <td>United Kingdom</td>\n      <td>No</td>\n      <td>Primary/elementary school</td>\n      <td>NaN</td>\n      <td>Taught yourself a new language, framework, or ...</td>\n      <td>NaN</td>\n      <td>NaN</td>\n      <td>4</td>\n      <td>10</td>\n      <td>NaN</td>\n      <td>NaN</td>\n      <td>NaN</td>\n      <td>NaN</td>\n      <td>NaN</td>\n      <td>NaN</td>\n      <td>NaN</td>\n      <td>NaN</td>\n      <td>NaN</td>\n      <td>NaN</td>\n      <td>NaN</td>\n      <td>NaN</td>\n      <td>NaN</td>\n      <td>NaN</td>\n      <td>NaN</td>\n      <td>NaN</td>\n      <td>NaN</td>\n      <td>NaN</td>\n      <td>NaN</td>\n      <td>NaN</td>\n      <td>NaN</td>\n      <td>NaN</td>\n      <td>NaN</td>\n      <td>NaN</td>\n      <td>NaN</td>\n      <td>NaN</td>\n      <td>NaN</td>\n      <td>NaN</td>\n      <td>HTML/CSS;Java;JavaScript;Python</td>\n      <td>C;C++;C#;Go;HTML/CSS;Java;JavaScript;Python;SQL</td>\n      <td>SQLite</td>\n      <td>MySQL</td>\n      <td>MacOS;Windows</td>\n      <td>Android;Arduino;Windows</td>\n      <td>Django;Flask</td>\n      <td>Flask;jQuery</td>\n      <td>Node.js</td>\n      <td>Node.js</td>\n      <td>IntelliJ;Notepad++;PyCharm</td>\n      <td>Windows</td>\n      <td>I do not use containers</td>\n      <td>NaN</td>\n      <td>NaN</td>\n      <td>Yes</td>\n      <td>Fortunately, someone else has that title</td>\n      <td>Yes</td>\n      <td>Twitter</td>\n      <td>Online</td>\n      <td>Username</td>\n      <td>2017</td>\n      <td>A few times per month or weekly</td>\n      <td>Find answers to specific questions;Learn how t...</td>\n      <td>3-5 times per week</td>\n      <td>Stack Overflow was much faster</td>\n      <td>31-60 minutes</td>\n      <td>No</td>\n      <td>NaN</td>\n      <td>No, I didn't know that Stack Overflow had a jo...</td>\n      <td>No, and I don't know what those are</td>\n      <td>Neutral</td>\n      <td>Just as welcome now as I felt last year</td>\n      <td>Tech articles written by other developers;Indu...</td>\n      <td>14.0</td>\n      <td>Man</td>\n      <td>No</td>\n      <td>Straight / Heterosexual</td>\n      <td>NaN</td>\n      <td>No</td>\n      <td>Appropriate in length</td>\n      <td>Neither easy nor difficult</td>\n    </tr>\n    <tr>\n      <th>1</th>\n      <td>2</td>\n      <td>I am a student who is learning to code</td>\n      <td>No</td>\n      <td>Less than once per year</td>\n      <td>The quality of OSS and closed source software ...</td>\n      <td>Not employed, but looking for work</td>\n      <td>Bosnia and Herzegovina</td>\n      <td>Yes, full-time</td>\n      <td>Secondary school (e.g. American high school, G...</td>\n      <td>NaN</td>\n      <td>Taken an online course in programming or softw...</td>\n      <td>NaN</td>\n      <td>Developer, desktop or enterprise applications;...</td>\n      <td>NaN</td>\n      <td>17</td>\n      <td>NaN</td>\n      <td>NaN</td>\n      <td>NaN</td>\n      <td>NaN</td>\n      <td>NaN</td>\n      <td>NaN</td>\n      <td>I am actively looking for a job</td>\n      <td>I've never had a job</td>\n      <td>NaN</td>\n      <td>NaN</td>\n      <td>Financial performance or funding status of the...</td>\n      <td>Something else changed (education, award, medi...</td>\n      <td>NaN</td>\n      <td>NaN</td>\n      <td>NaN</td>\n      <td>NaN</td>\n      <td>NaN</td>\n      <td>NaN</td>\n      <td>NaN</td>\n      <td>NaN</td>\n      <td>NaN</td>\n      <td>NaN</td>\n      <td>NaN</td>\n      <td>NaN</td>\n      <td>NaN</td>\n      <td>NaN</td>\n      <td>NaN</td>\n      <td>NaN</td>\n      <td>C++;HTML/CSS;Python</td>\n      <td>C++;HTML/CSS;JavaScript;SQL</td>\n      <td>NaN</td>\n      <td>MySQL</td>\n      <td>Windows</td>\n      <td>Windows</td>\n      <td>Django</td>\n      <td>Django</td>\n      <td>NaN</td>\n      <td>NaN</td>\n      <td>Atom;PyCharm</td>\n      <td>Windows</td>\n      <td>I do not use containers</td>\n      <td>NaN</td>\n      <td>Useful across many domains and could change ma...</td>\n      <td>Yes</td>\n      <td>Yes</td>\n      <td>Yes</td>\n      <td>Instagram</td>\n      <td>Online</td>\n      <td>Username</td>\n      <td>2017</td>\n      <td>Daily or almost daily</td>\n      <td>Find answers to specific questions;Learn how t...</td>\n      <td>3-5 times per week</td>\n      <td>Stack Overflow was much faster</td>\n      <td>11-30 minutes</td>\n      <td>Yes</td>\n      <td>A few times per month or weekly</td>\n      <td>No, I knew that Stack Overflow had a job board...</td>\n      <td>No, and I don't know what those are</td>\n      <td>Yes, somewhat</td>\n      <td>Just as welcome now as I felt last year</td>\n      <td>Tech articles written by other developers;Indu...</td>\n      <td>19.0</td>\n      <td>Man</td>\n      <td>No</td>\n      <td>Straight / Heterosexual</td>\n      <td>NaN</td>\n      <td>No</td>\n      <td>Appropriate in length</td>\n      <td>Neither easy nor difficult</td>\n    </tr>\n    <tr>\n      <th>2</th>\n      <td>3</td>\n      <td>I am not primarily a developer, but I write co...</td>\n      <td>Yes</td>\n      <td>Never</td>\n      <td>The quality of OSS and closed source software ...</td>\n      <td>Employed full-time</td>\n      <td>Thailand</td>\n      <td>No</td>\n      <td>Bachelor’s degree (BA, BS, B.Eng., etc.)</td>\n      <td>Web development or web design</td>\n      <td>Taught yourself a new language, framework, or ...</td>\n      <td>100 to 499 employees</td>\n      <td>Designer;Developer, back-end;Developer, front-...</td>\n      <td>3</td>\n      <td>22</td>\n      <td>1</td>\n      <td>Slightly satisfied</td>\n      <td>Slightly satisfied</td>\n      <td>Not at all confident</td>\n      <td>Not sure</td>\n      <td>Not sure</td>\n      <td>I’m not actively looking, but I am open to new...</td>\n      <td>1-2 years ago</td>\n      <td>Interview with people in peer roles</td>\n      <td>No</td>\n      <td>Languages, frameworks, and other technologies ...</td>\n      <td>I was preparing for a job search</td>\n      <td>THB</td>\n      <td>Thai baht</td>\n      <td>23000.0</td>\n      <td>Monthly</td>\n      <td>8820.0</td>\n      <td>40.0</td>\n      <td>There's no schedule or spec; I work on what se...</td>\n      <td>Distracting work environment;Inadequate access...</td>\n      <td>Less than once per month / Never</td>\n      <td>Home</td>\n      <td>Average</td>\n      <td>No</td>\n      <td>NaN</td>\n      <td>No, but I think we should</td>\n      <td>Not sure</td>\n      <td>I have little or no influence</td>\n      <td>HTML/CSS</td>\n      <td>Elixir;HTML/CSS</td>\n      <td>PostgreSQL</td>\n      <td>PostgreSQL</td>\n      <td>NaN</td>\n      <td>NaN</td>\n      <td>NaN</td>\n      <td>Other(s):</td>\n      <td>NaN</td>\n      <td>NaN</td>\n      <td>Vim;Visual Studio Code</td>\n      <td>Linux-based</td>\n      <td>I do not use containers</td>\n      <td>NaN</td>\n      <td>NaN</td>\n      <td>Yes</td>\n      <td>Yes</td>\n      <td>Yes</td>\n      <td>Reddit</td>\n      <td>In real life (in person)</td>\n      <td>Username</td>\n      <td>2011</td>\n      <td>A few times per week</td>\n      <td>Find answers to specific questions;Learn how t...</td>\n      <td>6-10 times per week</td>\n      <td>They were about the same</td>\n      <td>NaN</td>\n      <td>Yes</td>\n      <td>Less than once per month or monthly</td>\n      <td>Yes</td>\n      <td>No, I've heard of them, but I am not part of a...</td>\n      <td>Neutral</td>\n      <td>Just as welcome now as I felt last year</td>\n      <td>Tech meetups or events in your area;Courses on...</td>\n      <td>28.0</td>\n      <td>Man</td>\n      <td>No</td>\n      <td>Straight / Heterosexual</td>\n      <td>NaN</td>\n      <td>Yes</td>\n      <td>Appropriate in length</td>\n      <td>Neither easy nor difficult</td>\n    </tr>\n    <tr>\n      <th>3</th>\n      <td>4</td>\n      <td>I am a developer by profession</td>\n      <td>No</td>\n      <td>Never</td>\n      <td>The quality of OSS and closed source software ...</td>\n      <td>Employed full-time</td>\n      <td>United States</td>\n      <td>No</td>\n      <td>Bachelor’s degree (BA, BS, B.Eng., etc.)</td>\n      <td>Computer science, computer engineering, or sof...</td>\n      <td>Taken an online course in programming or softw...</td>\n      <td>100 to 499 employees</td>\n      <td>Developer, full-stack</td>\n      <td>3</td>\n      <td>16</td>\n      <td>Less than 1 year</td>\n      <td>Very satisfied</td>\n      <td>Slightly satisfied</td>\n      <td>Very confident</td>\n      <td>No</td>\n      <td>Not sure</td>\n      <td>I am not interested in new job opportunities</td>\n      <td>Less than a year ago</td>\n      <td>Write code by hand (e.g., on a whiteboard);Int...</td>\n      <td>No</td>\n      <td>Languages, frameworks, and other technologies ...</td>\n      <td>I was preparing for a job search</td>\n      <td>USD</td>\n      <td>United States dollar</td>\n      <td>61000.0</td>\n      <td>Yearly</td>\n      <td>61000.0</td>\n      <td>80.0</td>\n      <td>There's no schedule or spec; I work on what se...</td>\n      <td>NaN</td>\n      <td>Less than once per month / Never</td>\n      <td>Home</td>\n      <td>A little below average</td>\n      <td>No</td>\n      <td>NaN</td>\n      <td>No, but I think we should</td>\n      <td>Developers typically have the most influence o...</td>\n      <td>I have little or no influence</td>\n      <td>C;C++;C#;Python;SQL</td>\n      <td>C;C#;JavaScript;SQL</td>\n      <td>MySQL;SQLite</td>\n      <td>MySQL;SQLite</td>\n      <td>Linux;Windows</td>\n      <td>Linux;Windows</td>\n      <td>NaN</td>\n      <td>NaN</td>\n      <td>.NET</td>\n      <td>.NET</td>\n      <td>Eclipse;Vim;Visual Studio;Visual Studio Code</td>\n      <td>Windows</td>\n      <td>I do not use containers</td>\n      <td>Not at all</td>\n      <td>Useful for decentralized currency (i.e., Bitcoin)</td>\n      <td>Yes</td>\n      <td>SIGH</td>\n      <td>Yes</td>\n      <td>Reddit</td>\n      <td>In real life (in person)</td>\n      <td>Username</td>\n      <td>2014</td>\n      <td>Daily or almost daily</td>\n      <td>Find answers to specific questions;Pass the ti...</td>\n      <td>1-2 times per week</td>\n      <td>Stack Overflow was much faster</td>\n      <td>31-60 minutes</td>\n      <td>Yes</td>\n      <td>Less than once per month or monthly</td>\n      <td>Yes</td>\n      <td>No, and I don't know what those are</td>\n      <td>No, not really</td>\n      <td>Just as welcome now as I felt last year</td>\n      <td>Tech articles written by other developers;Indu...</td>\n      <td>22.0</td>\n      <td>Man</td>\n      <td>No</td>\n      <td>Straight / Heterosexual</td>\n      <td>White or of European descent</td>\n      <td>No</td>\n      <td>Appropriate in length</td>\n      <td>Easy</td>\n    </tr>\n    <tr>\n      <th>4</th>\n      <td>5</td>\n      <td>I am a developer by profession</td>\n      <td>Yes</td>\n      <td>Once a month or more often</td>\n      <td>OSS is, on average, of HIGHER quality than pro...</td>\n      <td>Employed full-time</td>\n      <td>Ukraine</td>\n      <td>No</td>\n      <td>Bachelor’s degree (BA, BS, B.Eng., etc.)</td>\n      <td>Computer science, computer engineering, or sof...</td>\n      <td>Taken an online course in programming or softw...</td>\n      <td>10,000 or more employees</td>\n      <td>Academic researcher;Developer, desktop or ente...</td>\n      <td>16</td>\n      <td>14</td>\n      <td>9</td>\n      <td>Very dissatisfied</td>\n      <td>Slightly dissatisfied</td>\n      <td>Somewhat confident</td>\n      <td>Yes</td>\n      <td>No</td>\n      <td>I am not interested in new job opportunities</td>\n      <td>Less than a year ago</td>\n      <td>Write any code;Write code by hand (e.g., on a ...</td>\n      <td>No</td>\n      <td>Industry that I'd be working in;Languages, fra...</td>\n      <td>I was preparing for a job search</td>\n      <td>UAH</td>\n      <td>Ukrainian hryvnia</td>\n      <td>NaN</td>\n      <td>NaN</td>\n      <td>NaN</td>\n      <td>55.0</td>\n      <td>There is a schedule and/or spec (made by me or...</td>\n      <td>Being tasked with non-development work;Inadequ...</td>\n      <td>A few days each month</td>\n      <td>Office</td>\n      <td>A little above average</td>\n      <td>Yes, because I see value in code review</td>\n      <td>NaN</td>\n      <td>Yes, it's part of our process</td>\n      <td>Not sure</td>\n      <td>I have little or no influence</td>\n      <td>C++;HTML/CSS;Java;JavaScript;Python;SQL;VBA</td>\n      <td>HTML/CSS;Java;JavaScript;SQL;WebAssembly</td>\n      <td>Couchbase;MongoDB;MySQL;Oracle;PostgreSQL;SQLite</td>\n      <td>Couchbase;Firebase;MongoDB;MySQL;Oracle;Postgr...</td>\n      <td>Android;Linux;MacOS;Slack;Windows</td>\n      <td>Android;Docker;Kubernetes;Linux;Slack</td>\n      <td>Django;Express;Flask;jQuery;React.js;Spring</td>\n      <td>Flask;jQuery;React.js;Spring</td>\n      <td>Cordova;Node.js</td>\n      <td>Apache Spark;Hadoop;Node.js;React Native</td>\n      <td>IntelliJ;Notepad++;Vim</td>\n      <td>Linux-based</td>\n      <td>Outside of work, for personal projects</td>\n      <td>Not at all</td>\n      <td>NaN</td>\n      <td>Yes</td>\n      <td>Also Yes</td>\n      <td>Yes</td>\n      <td>Facebook</td>\n      <td>In real life (in person)</td>\n      <td>Username</td>\n      <td>I don't remember</td>\n      <td>Multiple times per day</td>\n      <td>Find answers to specific questions</td>\n      <td>More than 10 times per week</td>\n      <td>Stack Overflow was much faster</td>\n      <td>NaN</td>\n      <td>Yes</td>\n      <td>A few times per month or weekly</td>\n      <td>No, I knew that Stack Overflow had a job board...</td>\n      <td>No, I've heard of them, but I am not part of a...</td>\n      <td>Yes, definitely</td>\n      <td>Just as welcome now as I felt last year</td>\n      <td>Tech meetups or events in your area;Courses on...</td>\n      <td>30.0</td>\n      <td>Man</td>\n      <td>No</td>\n      <td>Straight / Heterosexual</td>\n      <td>White or of European descent;Multiracial</td>\n      <td>No</td>\n      <td>Appropriate in length</td>\n      <td>Easy</td>\n    </tr>\n    <tr>\n      <th>...</th>\n      <td>...</td>\n      <td>...</td>\n      <td>...</td>\n      <td>...</td>\n      <td>...</td>\n      <td>...</td>\n      <td>...</td>\n      <td>...</td>\n      <td>...</td>\n      <td>...</td>\n      <td>...</td>\n      <td>...</td>\n      <td>...</td>\n      <td>...</td>\n      <td>...</td>\n      <td>...</td>\n      <td>...</td>\n      <td>...</td>\n      <td>...</td>\n      <td>...</td>\n      <td>...</td>\n      <td>...</td>\n      <td>...</td>\n      <td>...</td>\n      <td>...</td>\n      <td>...</td>\n      <td>...</td>\n      <td>...</td>\n      <td>...</td>\n      <td>...</td>\n      <td>...</td>\n      <td>...</td>\n      <td>...</td>\n      <td>...</td>\n      <td>...</td>\n      <td>...</td>\n      <td>...</td>\n      <td>...</td>\n      <td>...</td>\n      <td>...</td>\n      <td>...</td>\n      <td>...</td>\n      <td>...</td>\n      <td>...</td>\n      <td>...</td>\n      <td>...</td>\n      <td>...</td>\n      <td>...</td>\n      <td>...</td>\n      <td>...</td>\n      <td>...</td>\n      <td>...</td>\n      <td>...</td>\n      <td>...</td>\n      <td>...</td>\n      <td>...</td>\n      <td>...</td>\n      <td>...</td>\n      <td>...</td>\n      <td>...</td>\n      <td>...</td>\n      <td>...</td>\n      <td>...</td>\n      <td>...</td>\n      <td>...</td>\n      <td>...</td>\n      <td>...</td>\n      <td>...</td>\n      <td>...</td>\n      <td>...</td>\n      <td>...</td>\n      <td>...</td>\n      <td>...</td>\n      <td>...</td>\n      <td>...</td>\n      <td>...</td>\n      <td>...</td>\n      <td>...</td>\n      <td>...</td>\n      <td>...</td>\n      <td>...</td>\n      <td>...</td>\n      <td>...</td>\n      <td>...</td>\n      <td>...</td>\n    </tr>\n    <tr>\n      <th>88878</th>\n      <td>88377</td>\n      <td>NaN</td>\n      <td>Yes</td>\n      <td>Less than once a month but more than once per ...</td>\n      <td>The quality of OSS and closed source software ...</td>\n      <td>Not employed, and not looking for work</td>\n      <td>Canada</td>\n      <td>No</td>\n      <td>Primary/elementary school</td>\n      <td>NaN</td>\n      <td>Taught yourself a new language, framework, or ...</td>\n      <td>NaN</td>\n      <td>NaN</td>\n      <td>NaN</td>\n      <td>NaN</td>\n      <td>NaN</td>\n      <td>NaN</td>\n      <td>NaN</td>\n      <td>NaN</td>\n      <td>NaN</td>\n      <td>NaN</td>\n      <td>NaN</td>\n      <td>NaN</td>\n      <td>NaN</td>\n      <td>NaN</td>\n      <td>NaN</td>\n      <td>NaN</td>\n      <td>NaN</td>\n      <td>NaN</td>\n      <td>NaN</td>\n      <td>NaN</td>\n      <td>NaN</td>\n      <td>NaN</td>\n      <td>NaN</td>\n      <td>NaN</td>\n      <td>NaN</td>\n      <td>NaN</td>\n      <td>NaN</td>\n      <td>NaN</td>\n      <td>NaN</td>\n      <td>NaN</td>\n      <td>NaN</td>\n      <td>NaN</td>\n      <td>HTML/CSS;JavaScript;Other(s):</td>\n      <td>C++;HTML/CSS;JavaScript;SQL;WebAssembly;Other(s):</td>\n      <td>Firebase;SQLite</td>\n      <td>Firebase;MySQL;SQLite</td>\n      <td>Linux</td>\n      <td>Google Cloud Platform;Linux</td>\n      <td>jQuery</td>\n      <td>jQuery;Vue.js</td>\n      <td>Node.js</td>\n      <td>React Native;Unity 3D;Unreal Engine</td>\n      <td>Atom;Visual Studio;Visual Studio Code</td>\n      <td>Windows</td>\n      <td>I do not use containers</td>\n      <td>NaN</td>\n      <td>Useful across many domains and could change ma...</td>\n      <td>Yes</td>\n      <td>Yes</td>\n      <td>What?</td>\n      <td>YouTube</td>\n      <td>NaN</td>\n      <td>Username</td>\n      <td>I don't remember</td>\n      <td>A few times per week</td>\n      <td>Find answers to specific questions;Learn how t...</td>\n      <td>3-5 times per week</td>\n      <td>Stack Overflow was slightly faster</td>\n      <td>11-30 minutes</td>\n      <td>Yes</td>\n      <td>I have never participated in Q&amp;A on Stack Over...</td>\n      <td>No, I knew that Stack Overflow had a job board...</td>\n      <td>No, I've heard of them, but I am not part of a...</td>\n      <td>No, not at all</td>\n      <td>NaN</td>\n      <td>Tech articles written by other developers;Tech...</td>\n      <td>NaN</td>\n      <td>Man</td>\n      <td>No</td>\n      <td>NaN</td>\n      <td>NaN</td>\n      <td>No</td>\n      <td>Appropriate in length</td>\n      <td>Easy</td>\n    </tr>\n    <tr>\n      <th>88879</th>\n      <td>88601</td>\n      <td>NaN</td>\n      <td>No</td>\n      <td>Never</td>\n      <td>The quality of OSS and closed source software ...</td>\n      <td>NaN</td>\n      <td>NaN</td>\n      <td>NaN</td>\n      <td>NaN</td>\n      <td>NaN</td>\n      <td>NaN</td>\n      <td>NaN</td>\n      <td>NaN</td>\n      <td>NaN</td>\n      <td>NaN</td>\n      <td>NaN</td>\n      <td>NaN</td>\n      <td>NaN</td>\n      <td>NaN</td>\n      <td>NaN</td>\n      <td>NaN</td>\n      <td>NaN</td>\n      <td>NaN</td>\n      <td>NaN</td>\n      <td>NaN</td>\n      <td>NaN</td>\n      <td>NaN</td>\n      <td>NaN</td>\n      <td>NaN</td>\n      <td>NaN</td>\n      <td>NaN</td>\n      <td>NaN</td>\n      <td>NaN</td>\n      <td>NaN</td>\n      <td>NaN</td>\n      <td>NaN</td>\n      <td>NaN</td>\n      <td>NaN</td>\n      <td>NaN</td>\n      <td>NaN</td>\n      <td>NaN</td>\n      <td>NaN</td>\n      <td>NaN</td>\n      <td>NaN</td>\n      <td>NaN</td>\n      <td>NaN</td>\n      <td>NaN</td>\n      <td>NaN</td>\n      <td>NaN</td>\n      <td>NaN</td>\n      <td>NaN</td>\n      <td>NaN</td>\n      <td>NaN</td>\n      <td>NaN</td>\n      <td>NaN</td>\n      <td>NaN</td>\n      <td>NaN</td>\n      <td>NaN</td>\n      <td>NaN</td>\n      <td>NaN</td>\n      <td>NaN</td>\n      <td>NaN</td>\n      <td>NaN</td>\n      <td>NaN</td>\n      <td>NaN</td>\n      <td>NaN</td>\n      <td>NaN</td>\n      <td>NaN</td>\n      <td>NaN</td>\n      <td>NaN</td>\n      <td>NaN</td>\n      <td>NaN</td>\n      <td>NaN</td>\n      <td>NaN</td>\n      <td>NaN</td>\n      <td>NaN</td>\n      <td>NaN</td>\n      <td>NaN</td>\n      <td>NaN</td>\n      <td>NaN</td>\n      <td>NaN</td>\n      <td>NaN</td>\n      <td>NaN</td>\n      <td>NaN</td>\n      <td>NaN</td>\n    </tr>\n    <tr>\n      <th>88880</th>\n      <td>88802</td>\n      <td>NaN</td>\n      <td>No</td>\n      <td>Never</td>\n      <td>NaN</td>\n      <td>Employed full-time</td>\n      <td>NaN</td>\n      <td>NaN</td>\n      <td>NaN</td>\n      <td>NaN</td>\n      <td>NaN</td>\n      <td>NaN</td>\n      <td>NaN</td>\n      <td>NaN</td>\n      <td>NaN</td>\n      <td>NaN</td>\n      <td>NaN</td>\n      <td>NaN</td>\n      <td>NaN</td>\n      <td>NaN</td>\n      <td>NaN</td>\n      <td>NaN</td>\n      <td>NaN</td>\n      <td>NaN</td>\n      <td>NaN</td>\n      <td>NaN</td>\n      <td>NaN</td>\n      <td>NaN</td>\n      <td>NaN</td>\n      <td>NaN</td>\n      <td>NaN</td>\n      <td>NaN</td>\n      <td>NaN</td>\n      <td>NaN</td>\n      <td>NaN</td>\n      <td>NaN</td>\n      <td>NaN</td>\n      <td>NaN</td>\n      <td>NaN</td>\n      <td>NaN</td>\n      <td>NaN</td>\n      <td>NaN</td>\n      <td>NaN</td>\n      <td>NaN</td>\n      <td>NaN</td>\n      <td>NaN</td>\n      <td>NaN</td>\n      <td>NaN</td>\n      <td>NaN</td>\n      <td>NaN</td>\n      <td>NaN</td>\n      <td>NaN</td>\n      <td>NaN</td>\n      <td>NaN</td>\n      <td>NaN</td>\n      <td>NaN</td>\n      <td>NaN</td>\n      <td>NaN</td>\n      <td>NaN</td>\n      <td>NaN</td>\n      <td>NaN</td>\n      <td>NaN</td>\n      <td>NaN</td>\n      <td>NaN</td>\n      <td>NaN</td>\n      <td>NaN</td>\n      <td>NaN</td>\n      <td>NaN</td>\n      <td>NaN</td>\n      <td>NaN</td>\n      <td>NaN</td>\n      <td>NaN</td>\n      <td>NaN</td>\n      <td>NaN</td>\n      <td>NaN</td>\n      <td>NaN</td>\n      <td>NaN</td>\n      <td>NaN</td>\n      <td>NaN</td>\n      <td>NaN</td>\n      <td>NaN</td>\n      <td>NaN</td>\n      <td>NaN</td>\n      <td>NaN</td>\n      <td>NaN</td>\n    </tr>\n    <tr>\n      <th>88881</th>\n      <td>88816</td>\n      <td>NaN</td>\n      <td>No</td>\n      <td>Never</td>\n      <td>OSS is, on average, of HIGHER quality than pro...</td>\n      <td>Independent contractor, freelancer, or self-em...</td>\n      <td>NaN</td>\n      <td>NaN</td>\n      <td>NaN</td>\n      <td>NaN</td>\n      <td>NaN</td>\n      <td>NaN</td>\n      <td>NaN</td>\n      <td>NaN</td>\n      <td>NaN</td>\n      <td>NaN</td>\n      <td>NaN</td>\n      <td>NaN</td>\n      <td>NaN</td>\n      <td>NaN</td>\n      <td>NaN</td>\n      <td>NaN</td>\n      <td>NaN</td>\n      <td>NaN</td>\n      <td>NaN</td>\n      <td>NaN</td>\n      <td>NaN</td>\n      <td>NaN</td>\n      <td>NaN</td>\n      <td>NaN</td>\n      <td>NaN</td>\n      <td>NaN</td>\n      <td>NaN</td>\n      <td>NaN</td>\n      <td>NaN</td>\n      <td>NaN</td>\n      <td>NaN</td>\n      <td>NaN</td>\n      <td>NaN</td>\n      <td>NaN</td>\n      <td>NaN</td>\n      <td>NaN</td>\n      <td>NaN</td>\n      <td>NaN</td>\n      <td>NaN</td>\n      <td>NaN</td>\n      <td>NaN</td>\n      <td>NaN</td>\n      <td>NaN</td>\n      <td>NaN</td>\n      <td>NaN</td>\n      <td>NaN</td>\n      <td>NaN</td>\n      <td>NaN</td>\n      <td>NaN</td>\n      <td>NaN</td>\n      <td>NaN</td>\n      <td>NaN</td>\n      <td>NaN</td>\n      <td>NaN</td>\n      <td>NaN</td>\n      <td>NaN</td>\n      <td>NaN</td>\n      <td>NaN</td>\n      <td>NaN</td>\n      <td>NaN</td>\n      <td>NaN</td>\n      <td>NaN</td>\n      <td>NaN</td>\n      <td>NaN</td>\n      <td>NaN</td>\n      <td>NaN</td>\n      <td>NaN</td>\n      <td>NaN</td>\n      <td>NaN</td>\n      <td>NaN</td>\n      <td>NaN</td>\n      <td>NaN</td>\n      <td>NaN</td>\n      <td>NaN</td>\n      <td>NaN</td>\n      <td>NaN</td>\n      <td>NaN</td>\n      <td>NaN</td>\n      <td>NaN</td>\n    </tr>\n    <tr>\n      <th>88882</th>\n      <td>88863</td>\n      <td>NaN</td>\n      <td>Yes</td>\n      <td>Less than once per year</td>\n      <td>OSS is, on average, of HIGHER quality than pro...</td>\n      <td>Not employed, and not looking for work</td>\n      <td>Spain</td>\n      <td>Yes, full-time</td>\n      <td>Professional degree (JD, MD, etc.)</td>\n      <td>Computer science, computer engineering, or sof...</td>\n      <td>Taken an online course in programming or softw...</td>\n      <td>NaN</td>\n      <td>NaN</td>\n      <td>8</td>\n      <td>11</td>\n      <td>3</td>\n      <td>NaN</td>\n      <td>NaN</td>\n      <td>NaN</td>\n      <td>NaN</td>\n      <td>NaN</td>\n      <td>NaN</td>\n      <td>NaN</td>\n      <td>NaN</td>\n      <td>NaN</td>\n      <td>NaN</td>\n      <td>NaN</td>\n      <td>NaN</td>\n      <td>NaN</td>\n      <td>NaN</td>\n      <td>NaN</td>\n      <td>NaN</td>\n      <td>NaN</td>\n      <td>NaN</td>\n      <td>NaN</td>\n      <td>NaN</td>\n      <td>NaN</td>\n      <td>NaN</td>\n      <td>NaN</td>\n      <td>NaN</td>\n      <td>NaN</td>\n      <td>NaN</td>\n      <td>NaN</td>\n      <td>Bash/Shell/PowerShell;HTML/CSS;Java;JavaScript...</td>\n      <td>C;C++;C#;HTML/CSS;Java;Objective-C;SQL;Swift</td>\n      <td>DynamoDB;MariaDB;Microsoft SQL Server;MySQL</td>\n      <td>MariaDB;MySQL;Oracle;SQLite</td>\n      <td>iOS;Linux;MacOS;WordPress</td>\n      <td>Android;AWS;Google Cloud Platform;IBM Cloud or...</td>\n      <td>Django;jQuery;React.js</td>\n      <td>Django</td>\n      <td>Unity 3D;Unreal Engine</td>\n      <td>NaN</td>\n      <td>Android Studio;Atom;Eclipse;NetBeans;Notepad++...</td>\n      <td>Linux-based</td>\n      <td>Production</td>\n      <td>NaN</td>\n      <td>Useful for decentralized currency (i.e., Bitcoin)</td>\n      <td>Yes</td>\n      <td>Also Yes</td>\n      <td>Yes</td>\n      <td>WhatsApp</td>\n      <td>In real life (in person)</td>\n      <td>NaN</td>\n      <td>2012</td>\n      <td>Daily or almost daily</td>\n      <td>Find answers to specific questions;Learn how t...</td>\n      <td>6-10 times per week</td>\n      <td>Stack Overflow was much faster</td>\n      <td>11-30 minutes</td>\n      <td>Yes</td>\n      <td>A few times per month or weekly</td>\n      <td>Yes</td>\n      <td>No, I've heard of them, but I am not part of a...</td>\n      <td>Yes, somewhat</td>\n      <td>Somewhat less welcome now than last year</td>\n      <td>Tech articles written by other developers;Indu...</td>\n      <td>18.0</td>\n      <td>Man</td>\n      <td>No</td>\n      <td>Straight / Heterosexual</td>\n      <td>Hispanic or Latino/Latina;White or of European...</td>\n      <td>No</td>\n      <td>Appropriate in length</td>\n      <td>Easy</td>\n    </tr>\n  </tbody>\n</table>\n<p>88883 rows × 85 columns</p>\n</div>"
          },
          "metadata": {}
        }
      ],
      "outputs_reference": null,
      "execution_count": null,
      "block_group": "f3d02c678f224598a25655c0781d8330"
    },
    {
      "cell_type": "code",
      "source": "# schema of data frame\nschema_df = pd.read_csv(os.path.join(\"data\",\"survey_results_schema.csv\"))\nschema_df",
      "metadata": {
        "source_hash": null,
        "execution_start": 1709700184159,
        "execution_millis": 257,
        "deepnote_table_state": {
          "sortBy": [],
          "filters": [],
          "pageSize": 10,
          "pageIndex": 0
        },
        "deepnote_table_loading": false,
        "deepnote_to_be_reexecuted": false,
        "cell_id": "78c739c92cb7488191d30455eccd9fe3",
        "deepnote_cell_type": "code"
      },
      "outputs": [
        {
          "output_type": "execute_result",
          "execution_count": 5,
          "data": {
            "application/vnd.deepnote.dataframe.v3+json": {
              "column_count": 2,
              "row_count": 85,
              "columns": [
                {
                  "name": "Column",
                  "dtype": "object",
                  "stats": {
                    "unique_count": 85,
                    "nan_count": 0,
                    "categories": [
                      {
                        "name": "Respondent",
                        "count": 1
                      },
                      {
                        "name": "MainBranch",
                        "count": 1
                      },
                      {
                        "name": "83 others",
                        "count": 83
                      }
                    ]
                  }
                },
                {
                  "name": "QuestionText",
                  "dtype": "object",
                  "stats": {
                    "unique_count": 78,
                    "nan_count": 0,
                    "categories": [
                      {
                        "name": "Which currency do you use day-to-day? If your answer is complicated, please pick the one you're most comfortable estimating in.",
                        "count": 2
                      },
                      {
                        "name": "Which of the following programming, scripting, and markup languages have you done extensive development work in over the past year, and which do you want to work in over the next year?  (If you both worked with the language and want to continue to do so, please check both boxes in that row.)",
                        "count": 2
                      },
                      {
                        "name": "76 others",
                        "count": 81
                      }
                    ]
                  }
                },
                {
                  "name": "_deepnote_index_column",
                  "dtype": "int64"
                }
              ],
              "rows": [
                {
                  "Column": "Respondent",
                  "QuestionText": "Randomized respondent ID number (not in order of survey response time)",
                  "_deepnote_index_column": 0
                },
                {
                  "Column": "MainBranch",
                  "QuestionText": "Which of the following options best describes you today? Here, by \"developer\" we mean \"someone who writes code.\"",
                  "_deepnote_index_column": 1
                },
                {
                  "Column": "Hobbyist",
                  "QuestionText": "Do you code as a hobby?",
                  "_deepnote_index_column": 2
                },
                {
                  "Column": "OpenSourcer",
                  "QuestionText": "How often do you contribute to open source?",
                  "_deepnote_index_column": 3
                },
                {
                  "Column": "OpenSource",
                  "QuestionText": "How do you feel about the quality of open source software (OSS)?",
                  "_deepnote_index_column": 4
                },
                {
                  "Column": "Employment",
                  "QuestionText": "Which of the following best describes your current employment status?",
                  "_deepnote_index_column": 5
                },
                {
                  "Column": "Country",
                  "QuestionText": "In which country do you currently reside?",
                  "_deepnote_index_column": 6
                },
                {
                  "Column": "Student",
                  "QuestionText": "Are you currently enrolled in a formal, degree-granting college or university program?",
                  "_deepnote_index_column": 7
                },
                {
                  "Column": "EdLevel",
                  "QuestionText": "Which of the following best describes the highest level of formal education that you’ve completed?",
                  "_deepnote_index_column": 8
                },
                {
                  "Column": "UndergradMajor",
                  "QuestionText": "What was your main or most important field of study?",
                  "_deepnote_index_column": 9
                }
              ]
            },
            "text/plain": "          Column                                       QuestionText\n0     Respondent  Randomized respondent ID number (not in order ...\n1     MainBranch  Which of the following options best describes ...\n2       Hobbyist                            Do you code as a hobby?\n3    OpenSourcer        How often do you contribute to open source?\n4     OpenSource  How do you feel about the quality of open sour...\n..           ...                                                ...\n80     Sexuality  Which of the following do you currently identi...\n81     Ethnicity  Which of the following do you identify as? Ple...\n82    Dependents  Do you have any dependents (e.g., children, el...\n83  SurveyLength  How do you feel about the length of the survey...\n84    SurveyEase  How easy or difficult was this survey to compl...\n\n[85 rows x 2 columns]",
            "text/html": "<div>\n<style scoped>\n    .dataframe tbody tr th:only-of-type {\n        vertical-align: middle;\n    }\n\n    .dataframe tbody tr th {\n        vertical-align: top;\n    }\n\n    .dataframe thead th {\n        text-align: right;\n    }\n</style>\n<table border=\"1\" class=\"dataframe\">\n  <thead>\n    <tr style=\"text-align: right;\">\n      <th></th>\n      <th>Column</th>\n      <th>QuestionText</th>\n    </tr>\n  </thead>\n  <tbody>\n    <tr>\n      <th>0</th>\n      <td>Respondent</td>\n      <td>Randomized respondent ID number (not in order ...</td>\n    </tr>\n    <tr>\n      <th>1</th>\n      <td>MainBranch</td>\n      <td>Which of the following options best describes ...</td>\n    </tr>\n    <tr>\n      <th>2</th>\n      <td>Hobbyist</td>\n      <td>Do you code as a hobby?</td>\n    </tr>\n    <tr>\n      <th>3</th>\n      <td>OpenSourcer</td>\n      <td>How often do you contribute to open source?</td>\n    </tr>\n    <tr>\n      <th>4</th>\n      <td>OpenSource</td>\n      <td>How do you feel about the quality of open sour...</td>\n    </tr>\n    <tr>\n      <th>...</th>\n      <td>...</td>\n      <td>...</td>\n    </tr>\n    <tr>\n      <th>80</th>\n      <td>Sexuality</td>\n      <td>Which of the following do you currently identi...</td>\n    </tr>\n    <tr>\n      <th>81</th>\n      <td>Ethnicity</td>\n      <td>Which of the following do you identify as? Ple...</td>\n    </tr>\n    <tr>\n      <th>82</th>\n      <td>Dependents</td>\n      <td>Do you have any dependents (e.g., children, el...</td>\n    </tr>\n    <tr>\n      <th>83</th>\n      <td>SurveyLength</td>\n      <td>How do you feel about the length of the survey...</td>\n    </tr>\n    <tr>\n      <th>84</th>\n      <td>SurveyEase</td>\n      <td>How easy or difficult was this survey to compl...</td>\n    </tr>\n  </tbody>\n</table>\n<p>85 rows × 2 columns</p>\n</div>"
          },
          "metadata": {}
        }
      ],
      "outputs_reference": null,
      "execution_count": null,
      "block_group": "40a33f3875fb4d5585791b44bc248c0e"
    },
    {
      "cell_type": "code",
      "source": "people = {\n    \"first\":[\"corey\",\"jane\",\"john\"],\n    \"last\" :[\"Schafer\",\"Doe\",\"doe\"],\n    \"email\" :[\"corey@gmail.com\",\"jane@gmail.com\",\"johm@gmail.com\"]\n}\npeople = pd.DataFrame(people)",
      "metadata": {
        "source_hash": null,
        "execution_start": 1709700184378,
        "execution_millis": 286,
        "deepnote_to_be_reexecuted": false,
        "cell_id": "0a5c920827814b72be8749dc93b5fdd7",
        "deepnote_cell_type": "code"
      },
      "outputs": [],
      "outputs_reference": null,
      "execution_count": null,
      "block_group": "daa6c9d135b74deb880e31a0fdd63b6d"
    },
    {
      "cell_type": "code",
      "source": "# lock iloc roe and column  \npeople.iloc[[1,2],[0,1]]",
      "metadata": {
        "source_hash": null,
        "execution_start": 1709700184396,
        "execution_millis": 269,
        "deepnote_to_be_reexecuted": false,
        "cell_id": "c487ca4748e84e4a996120a9f6141c28",
        "deepnote_cell_type": "code"
      },
      "outputs": [
        {
          "output_type": "execute_result",
          "execution_count": 7,
          "data": {
            "application/vnd.deepnote.dataframe.v3+json": {
              "column_count": 2,
              "row_count": 2,
              "columns": [
                {
                  "name": "first",
                  "dtype": "object",
                  "stats": {
                    "unique_count": 2,
                    "nan_count": 0,
                    "categories": [
                      {
                        "name": "jane",
                        "count": 1
                      },
                      {
                        "name": "john",
                        "count": 1
                      }
                    ]
                  }
                },
                {
                  "name": "last",
                  "dtype": "object",
                  "stats": {
                    "unique_count": 2,
                    "nan_count": 0,
                    "categories": [
                      {
                        "name": "Doe",
                        "count": 1
                      },
                      {
                        "name": "doe",
                        "count": 1
                      }
                    ]
                  }
                },
                {
                  "name": "_deepnote_index_column",
                  "dtype": "int64"
                }
              ],
              "rows": [
                {
                  "first": "jane",
                  "last": "Doe",
                  "_deepnote_index_column": 1
                },
                {
                  "first": "john",
                  "last": "doe",
                  "_deepnote_index_column": 2
                }
              ]
            },
            "text/plain": "  first last\n1  jane  Doe\n2  john  doe",
            "text/html": "<div>\n<style scoped>\n    .dataframe tbody tr th:only-of-type {\n        vertical-align: middle;\n    }\n\n    .dataframe tbody tr th {\n        vertical-align: top;\n    }\n\n    .dataframe thead th {\n        text-align: right;\n    }\n</style>\n<table border=\"1\" class=\"dataframe\">\n  <thead>\n    <tr style=\"text-align: right;\">\n      <th></th>\n      <th>first</th>\n      <th>last</th>\n    </tr>\n  </thead>\n  <tbody>\n    <tr>\n      <th>1</th>\n      <td>jane</td>\n      <td>Doe</td>\n    </tr>\n    <tr>\n      <th>2</th>\n      <td>john</td>\n      <td>doe</td>\n    </tr>\n  </tbody>\n</table>\n</div>"
          },
          "metadata": {}
        }
      ],
      "outputs_reference": null,
      "execution_count": null,
      "block_group": "d31283ccafc9459395c88dce3f7a4ef3"
    },
    {
      "cell_type": "code",
      "source": "# loc\npeople.loc[[0,1],[\"email\",\"last\"]]",
      "metadata": {
        "source_hash": null,
        "execution_start": 1709700184402,
        "execution_millis": 264,
        "deepnote_to_be_reexecuted": false,
        "cell_id": "3d3cdb12c11f447cb8c29a8dca773d08",
        "deepnote_cell_type": "code"
      },
      "outputs": [
        {
          "output_type": "execute_result",
          "execution_count": 8,
          "data": {
            "application/vnd.deepnote.dataframe.v3+json": {
              "column_count": 2,
              "row_count": 2,
              "columns": [
                {
                  "name": "email",
                  "dtype": "object",
                  "stats": {
                    "unique_count": 2,
                    "nan_count": 0,
                    "categories": [
                      {
                        "name": "corey@gmail.com",
                        "count": 1
                      },
                      {
                        "name": "jane@gmail.com",
                        "count": 1
                      }
                    ]
                  }
                },
                {
                  "name": "last",
                  "dtype": "object",
                  "stats": {
                    "unique_count": 2,
                    "nan_count": 0,
                    "categories": [
                      {
                        "name": "Schafer",
                        "count": 1
                      },
                      {
                        "name": "Doe",
                        "count": 1
                      }
                    ]
                  }
                },
                {
                  "name": "_deepnote_index_column",
                  "dtype": "int64"
                }
              ],
              "rows": [
                {
                  "email": "corey@gmail.com",
                  "last": "Schafer",
                  "_deepnote_index_column": 0
                },
                {
                  "email": "jane@gmail.com",
                  "last": "Doe",
                  "_deepnote_index_column": 1
                }
              ]
            },
            "text/plain": "             email     last\n0  corey@gmail.com  Schafer\n1   jane@gmail.com      Doe",
            "text/html": "<div>\n<style scoped>\n    .dataframe tbody tr th:only-of-type {\n        vertical-align: middle;\n    }\n\n    .dataframe tbody tr th {\n        vertical-align: top;\n    }\n\n    .dataframe thead th {\n        text-align: right;\n    }\n</style>\n<table border=\"1\" class=\"dataframe\">\n  <thead>\n    <tr style=\"text-align: right;\">\n      <th></th>\n      <th>email</th>\n      <th>last</th>\n    </tr>\n  </thead>\n  <tbody>\n    <tr>\n      <th>0</th>\n      <td>corey@gmail.com</td>\n      <td>Schafer</td>\n    </tr>\n    <tr>\n      <th>1</th>\n      <td>jane@gmail.com</td>\n      <td>Doe</td>\n    </tr>\n  </tbody>\n</table>\n</div>"
          },
          "metadata": {}
        }
      ],
      "outputs_reference": null,
      "execution_count": null,
      "block_group": "f399938daea6475fae09525b0c45fe15"
    },
    {
      "cell_type": "code",
      "source": "people.reset_index(inplace=True)\npeople.index",
      "metadata": {
        "source_hash": null,
        "execution_start": 1709700184415,
        "execution_millis": 251,
        "deepnote_to_be_reexecuted": false,
        "cell_id": "c5fa81f02dc547d4a54affde08494df7",
        "deepnote_cell_type": "code"
      },
      "outputs": [
        {
          "output_type": "execute_result",
          "execution_count": 9,
          "data": {
            "text/plain": "RangeIndex(start=0, stop=3, step=1)"
          },
          "metadata": {}
        }
      ],
      "outputs_reference": null,
      "execution_count": null,
      "block_group": "a2c10b56272b452eabdefa56ea36f7d1"
    },
    {
      "cell_type": "code",
      "source": "high_salary = (df.ConvertedComp > 70000)\ndf.loc[high_salary,\"Country\"][:10]",
      "metadata": {
        "source_hash": null,
        "execution_start": 1709700184423,
        "execution_millis": 458,
        "deepnote_to_be_reexecuted": false,
        "cell_id": "0e42e247a1684aa59f4080f324fc77a4",
        "deepnote_cell_type": "code"
      },
      "outputs": [
        {
          "output_type": "execute_result",
          "execution_count": 10,
          "data": {
            "text/plain": "5             Canada\n8        New Zealand\n12     United States\n15    United Kingdom\n21     United States\n25     United States\n28     United States\n29       Switzerland\n31     United States\n34     United States\nName: Country, dtype: object"
          },
          "metadata": {}
        }
      ],
      "outputs_reference": null,
      "execution_count": null,
      "block_group": "10f979469a55414ca866034c657bc767"
    },
    {
      "cell_type": "code",
      "source": "\n# Assuming \"Country\" is a column in your DataFrame\nindia_rows = df.loc[df[\"Country\"].str.contains(\"India\",case=False ,na=False)]\n",
      "metadata": {
        "source_hash": null,
        "execution_start": 1709700184478,
        "execution_millis": 404,
        "deepnote_to_be_reexecuted": false,
        "cell_id": "ee3e8fc76074455a82dbd56ca326274a",
        "deepnote_cell_type": "code"
      },
      "outputs": [],
      "outputs_reference": null,
      "execution_count": null,
      "block_group": "abac874e7b1243bd997a4d96f084025d"
    },
    {
      "cell_type": "code",
      "source": "india_rows",
      "metadata": {
        "source_hash": null,
        "execution_start": 1709700184517,
        "execution_millis": 365,
        "deepnote_to_be_reexecuted": false,
        "cell_id": "3b5257e5d0d94beea7964e6aa16b5ff1",
        "deepnote_cell_type": "code"
      },
      "outputs": [
        {
          "output_type": "execute_result",
          "execution_count": 12,
          "data": {
            "application/vnd.deepnote.dataframe.v3+json": {
              "column_count": 85,
              "row_count": 9061,
              "columns": [
                {
                  "name": "Respondent",
                  "dtype": "int64",
                  "stats": {
                    "unique_count": 9061,
                    "nan_count": 0,
                    "min": "8",
                    "max": "88872",
                    "histogram": [
                      {
                        "bin_start": 8,
                        "bin_end": 8894.4,
                        "count": 884
                      },
                      {
                        "bin_start": 8894.4,
                        "bin_end": 17780.8,
                        "count": 899
                      },
                      {
                        "bin_start": 17780.8,
                        "bin_end": 26667.199999999997,
                        "count": 919
                      },
                      {
                        "bin_start": 26667.199999999997,
                        "bin_end": 35553.6,
                        "count": 919
                      },
                      {
                        "bin_start": 35553.6,
                        "bin_end": 44440,
                        "count": 906
                      },
                      {
                        "bin_start": 44440,
                        "bin_end": 53326.399999999994,
                        "count": 921
                      },
                      {
                        "bin_start": 53326.399999999994,
                        "bin_end": 62212.799999999996,
                        "count": 908
                      },
                      {
                        "bin_start": 62212.799999999996,
                        "bin_end": 71099.2,
                        "count": 906
                      },
                      {
                        "bin_start": 71099.2,
                        "bin_end": 79985.59999999999,
                        "count": 901
                      },
                      {
                        "bin_start": 79985.59999999999,
                        "bin_end": 88872,
                        "count": 898
                      }
                    ]
                  }
                },
                {
                  "name": "MainBranch",
                  "dtype": "object",
                  "stats": {
                    "unique_count": 5,
                    "nan_count": 26,
                    "categories": [
                      {
                        "name": "I am a developer by profession",
                        "count": 6657
                      },
                      {
                        "name": "4 others",
                        "count": 2378
                      },
                      {
                        "name": "Missing",
                        "count": 26
                      }
                    ]
                  }
                },
                {
                  "name": "Hobbyist",
                  "dtype": "object",
                  "stats": {
                    "unique_count": 2,
                    "nan_count": 0,
                    "categories": [
                      {
                        "name": "Yes",
                        "count": 7194
                      },
                      {
                        "name": "No",
                        "count": 1867
                      }
                    ]
                  }
                },
                {
                  "name": "OpenSourcer",
                  "dtype": "object",
                  "stats": {
                    "unique_count": 4,
                    "nan_count": 0,
                    "categories": [
                      {
                        "name": "Never",
                        "count": 3236
                      },
                      {
                        "name": "Less than once per year",
                        "count": 2244
                      },
                      {
                        "name": "2 others",
                        "count": 3581
                      }
                    ]
                  }
                },
                {
                  "name": "OpenSource",
                  "dtype": "object",
                  "stats": {
                    "unique_count": 3,
                    "nan_count": 289,
                    "categories": [
                      {
                        "name": "OSS is, on average, of HIGHER quality than proprietary / closed source software",
                        "count": 4545
                      },
                      {
                        "name": "2 others",
                        "count": 4227
                      },
                      {
                        "name": "Missing",
                        "count": 289
                      }
                    ]
                  }
                },
                {
                  "name": "Employment",
                  "dtype": "object",
                  "stats": {
                    "unique_count": 6,
                    "nan_count": 253,
                    "categories": [
                      {
                        "name": "Employed full-time",
                        "count": 6613
                      },
                      {
                        "name": "5 others",
                        "count": 2195
                      },
                      {
                        "name": "Missing",
                        "count": 253
                      }
                    ]
                  }
                },
                {
                  "name": "Country",
                  "dtype": "object",
                  "stats": {
                    "unique_count": 1,
                    "nan_count": 0,
                    "categories": [
                      {
                        "name": "India",
                        "count": 9061
                      }
                    ]
                  }
                },
                {
                  "name": "Student",
                  "dtype": "object",
                  "stats": {
                    "unique_count": 3,
                    "nan_count": 356,
                    "categories": [
                      {
                        "name": "No",
                        "count": 5443
                      },
                      {
                        "name": "2 others",
                        "count": 3262
                      },
                      {
                        "name": "Missing",
                        "count": 356
                      }
                    ]
                  }
                },
                {
                  "name": "EdLevel",
                  "dtype": "object",
                  "stats": {
                    "unique_count": 9,
                    "nan_count": 362,
                    "categories": [
                      {
                        "name": "Bachelor’s degree (BA, BS, B.Eng., etc.)",
                        "count": 5564
                      },
                      {
                        "name": "8 others",
                        "count": 3135
                      },
                      {
                        "name": "Missing",
                        "count": 362
                      }
                    ]
                  }
                },
                {
                  "name": "UndergradMajor",
                  "dtype": "object",
                  "stats": {
                    "unique_count": 12,
                    "nan_count": 1094,
                    "categories": [
                      {
                        "name": "Computer science, computer engineering, or software engineering",
                        "count": 5680
                      },
                      {
                        "name": "11 others",
                        "count": 2287
                      },
                      {
                        "name": "Missing",
                        "count": 1094
                      }
                    ]
                  }
                },
                {
                  "name": "EduOther",
                  "dtype": "object",
                  "stats": {
                    "unique_count": 428,
                    "nan_count": 1131,
                    "categories": [
                      {
                        "name": "Taught yourself a new language, framework, or tool without taking a formal course",
                        "count": 521
                      },
                      {
                        "name": "427 others",
                        "count": 7409
                      },
                      {
                        "name": "Missing",
                        "count": 1131
                      }
                    ]
                  }
                },
                {
                  "name": "OrgSize",
                  "dtype": "object"
                },
                {
                  "name": "DevType",
                  "dtype": "object"
                },
                {
                  "name": "YearsCode",
                  "dtype": "object"
                },
                {
                  "name": "Age1stCode",
                  "dtype": "object"
                },
                {
                  "name": "YearsCodePro",
                  "dtype": "object"
                },
                {
                  "name": "CareerSat",
                  "dtype": "object"
                },
                {
                  "name": "JobSat",
                  "dtype": "object"
                },
                {
                  "name": "MgrIdiot",
                  "dtype": "object"
                },
                {
                  "name": "MgrMoney",
                  "dtype": "object"
                },
                {
                  "name": "MgrWant",
                  "dtype": "object"
                },
                {
                  "name": "JobSeek",
                  "dtype": "object"
                },
                {
                  "name": "LastHireDate",
                  "dtype": "object"
                },
                {
                  "name": "LastInt",
                  "dtype": "object"
                },
                {
                  "name": "FizzBuzz",
                  "dtype": "object"
                },
                {
                  "name": "JobFactors",
                  "dtype": "object"
                },
                {
                  "name": "ResumeUpdate",
                  "dtype": "object"
                },
                {
                  "name": "CurrencySymbol",
                  "dtype": "object"
                },
                {
                  "name": "CurrencyDesc",
                  "dtype": "object"
                },
                {
                  "name": "CompTotal",
                  "dtype": "float64"
                },
                {
                  "name": "CompFreq",
                  "dtype": "object"
                },
                {
                  "name": "ConvertedComp",
                  "dtype": "float64"
                },
                {
                  "name": "WorkWeekHrs",
                  "dtype": "float64"
                },
                {
                  "name": "WorkPlan",
                  "dtype": "object"
                },
                {
                  "name": "WorkChallenge",
                  "dtype": "object"
                },
                {
                  "name": "WorkRemote",
                  "dtype": "object"
                },
                {
                  "name": "WorkLoc",
                  "dtype": "object"
                },
                {
                  "name": "ImpSyn",
                  "dtype": "object"
                },
                {
                  "name": "CodeRev",
                  "dtype": "object"
                },
                {
                  "name": "CodeRevHrs",
                  "dtype": "float64"
                },
                {
                  "name": "UnitTests",
                  "dtype": "object"
                },
                {
                  "name": "PurchaseHow",
                  "dtype": "object"
                },
                {
                  "name": "PurchaseWhat",
                  "dtype": "object"
                },
                {
                  "name": "LanguageWorkedWith",
                  "dtype": "object"
                },
                {
                  "name": "LanguageDesireNextYear",
                  "dtype": "object"
                },
                {
                  "name": "DatabaseWorkedWith",
                  "dtype": "object"
                },
                {
                  "name": "DatabaseDesireNextYear",
                  "dtype": "object"
                },
                {
                  "name": "PlatformWorkedWith",
                  "dtype": "object"
                },
                {
                  "name": "PlatformDesireNextYear",
                  "dtype": "object"
                },
                {
                  "name": "WebFrameWorkedWith",
                  "dtype": "object"
                },
                {
                  "name": "WebFrameDesireNextYear",
                  "dtype": "object"
                },
                {
                  "name": "MiscTechWorkedWith",
                  "dtype": "object"
                },
                {
                  "name": "MiscTechDesireNextYear",
                  "dtype": "object"
                },
                {
                  "name": "DevEnviron",
                  "dtype": "object"
                },
                {
                  "name": "OpSys",
                  "dtype": "object"
                },
                {
                  "name": "Containers",
                  "dtype": "object"
                },
                {
                  "name": "BlockchainOrg",
                  "dtype": "object"
                },
                {
                  "name": "BlockchainIs",
                  "dtype": "object"
                },
                {
                  "name": "BetterLife",
                  "dtype": "object"
                },
                {
                  "name": "ITperson",
                  "dtype": "object"
                },
                {
                  "name": "OffOn",
                  "dtype": "object"
                },
                {
                  "name": "SocialMedia",
                  "dtype": "object"
                },
                {
                  "name": "Extraversion",
                  "dtype": "object"
                },
                {
                  "name": "ScreenName",
                  "dtype": "object"
                },
                {
                  "name": "SOVisit1st",
                  "dtype": "object"
                },
                {
                  "name": "SOVisitFreq",
                  "dtype": "object"
                },
                {
                  "name": "SOVisitTo",
                  "dtype": "object"
                },
                {
                  "name": "SOFindAnswer",
                  "dtype": "object"
                },
                {
                  "name": "SOTimeSaved",
                  "dtype": "object"
                },
                {
                  "name": "SOHowMuchTime",
                  "dtype": "object"
                },
                {
                  "name": "SOAccount",
                  "dtype": "object"
                },
                {
                  "name": "SOPartFreq",
                  "dtype": "object"
                },
                {
                  "name": "SOJobs",
                  "dtype": "object"
                },
                {
                  "name": "EntTeams",
                  "dtype": "object"
                },
                {
                  "name": "SOComm",
                  "dtype": "object"
                },
                {
                  "name": "WelcomeChange",
                  "dtype": "object"
                },
                {
                  "name": "SONewContent",
                  "dtype": "object"
                },
                {
                  "name": "Age",
                  "dtype": "float64"
                },
                {
                  "name": "Gender",
                  "dtype": "object"
                },
                {
                  "name": "Trans",
                  "dtype": "object"
                },
                {
                  "name": "Sexuality",
                  "dtype": "object"
                },
                {
                  "name": "Ethnicity",
                  "dtype": "object"
                },
                {
                  "name": "Dependents",
                  "dtype": "object"
                },
                {
                  "name": "SurveyLength",
                  "dtype": "object"
                },
                {
                  "name": "SurveyEase",
                  "dtype": "object"
                },
                {
                  "name": "_deepnote_index_column",
                  "dtype": "int64"
                }
              ],
              "rows": [
                {
                  "Respondent": 8,
                  "MainBranch": "I code primarily as a hobby",
                  "Hobbyist": "Yes",
                  "OpenSourcer": "Less than once per year",
                  "OpenSource": "OSS is, on average, of HIGHER quality than proprietary / closed source software",
                  "Employment": "Not employed, but looking for work",
                  "Country": "India",
                  "Student": "nan",
                  "EdLevel": "Bachelor’s degree (BA, BS, B.Eng., etc.)",
                  "UndergradMajor": "Computer science, computer engineering, or software engineering",
                  "EduOther": "Taught yourself a new language, framework, or tool without taking a formal course;Participated in online coding competitions (e.g. HackerRank, CodeChef, TopCoder);Contributed to open source software",
                  "OrgSize": "nan",
                  "DevType": "Developer, back-end;Engineer, site reliability",
                  "YearsCode": "8",
                  "Age1stCode": "16",
                  "YearsCodePro": "nan",
                  "CareerSat": "nan",
                  "JobSat": "nan",
                  "MgrIdiot": "nan",
                  "MgrMoney": "nan",
                  "MgrWant": "nan",
                  "JobSeek": "nan",
                  "LastHireDate": "nan",
                  "LastInt": "nan",
                  "FizzBuzz": "nan",
                  "JobFactors": "nan",
                  "ResumeUpdate": "nan",
                  "CurrencySymbol": "nan",
                  "CurrencyDesc": "nan",
                  "CompTotal": "nan",
                  "CompFreq": "nan",
                  "ConvertedComp": "nan",
                  "WorkWeekHrs": "nan",
                  "WorkPlan": "nan",
                  "WorkChallenge": "nan",
                  "WorkRemote": "nan",
                  "WorkLoc": "nan",
                  "ImpSyn": "nan",
                  "CodeRev": "nan",
                  "CodeRevHrs": "nan",
                  "UnitTests": "nan",
                  "PurchaseHow": "nan",
                  "PurchaseWhat": "nan",
                  "LanguageWorkedWith": "Bash/Shell/PowerShell;C;C++;HTML/CSS;Java;JavaScript;Python;SQL",
                  "LanguageDesireNextYear": "Bash/Shell/PowerShell;C;C++;Elixir;Erlang;Go;Python;SQL;WebAssembly",
                  "DatabaseWorkedWith": "Cassandra;Elasticsearch;MongoDB;MySQL;Oracle;Redis;SQLite",
                  "DatabaseDesireNextYear": "Cassandra;DynamoDB;Elasticsearch;Firebase;MongoDB;MySQL;PostgreSQL;Redis",
                  "PlatformWorkedWith": "AWS;Docker;Heroku;Linux;MacOS;Slack",
                  "PlatformDesireNextYear": "Android;Arduino;AWS;Docker;Google Cloud Platform;IBM Cloud or Watson;Kubernetes;Linux;MacOS;Raspberry Pi;Slack",
                  "WebFrameWorkedWith": "Express;Flask;React.js;Spring",
                  "WebFrameDesireNextYear": "Django;Express;Flask;React.js;Vue.js",
                  "MiscTechWorkedWith": "Hadoop;Node.js;Pandas",
                  "MiscTechDesireNextYear": "Ansible;Apache Spark;Chef;Hadoop;Node.js;Pandas;Puppet;React Native;TensorFlow;Torch/PyTorch;Unreal Engine",
                  "DevEnviron": "Atom;IntelliJ;IPython / Jupyter;PyCharm;Visual Studio Code",
                  "OpSys": "Linux-based",
                  "Containers": "Development;Testing;Production;Outside of work, for personal projects",
                  "BlockchainOrg": "nan",
                  "BlockchainIs": "Useful across many domains and could change many aspects of our lives",
                  "BetterLife": "Yes",
                  "ITperson": "SIGH",
                  "OffOn": "Yes",
                  "SocialMedia": "YouTube",
                  "Extraversion": "In real life (in person)",
                  "ScreenName": "Handle",
                  "SOVisit1st": "2012",
                  "SOVisitFreq": "A few times per week",
                  "SOVisitTo": "Find answers to specific questions;Learn how to do things I didn’t necessarily look for;Contribute to a library of information",
                  "SOFindAnswer": "Less than once per week",
                  "SOTimeSaved": "Stack Overflow was slightly faster",
                  "SOHowMuchTime": "11-30 minutes",
                  "SOAccount": "Yes",
                  "SOPartFreq": "Less than once per month or monthly",
                  "SOJobs": "Yes",
                  "EntTeams": "No, and I don't know what those are",
                  "SOComm": "Yes, definitely",
                  "WelcomeChange": "A lot more welcome now than last year",
                  "SONewContent": "Tech articles written by other developers;Industry news about technologies you're interested in;Tech meetups or events in your area;Courses on technologies you're interested in",
                  "Age": 24,
                  "Gender": "Man",
                  "Trans": "No",
                  "Sexuality": "Straight / Heterosexual",
                  "Ethnicity": "nan",
                  "Dependents": "nan",
                  "SurveyLength": "Appropriate in length",
                  "SurveyEase": "Neither easy nor difficult",
                  "_deepnote_index_column": 7
                },
                {
                  "Respondent": 10,
                  "MainBranch": "I am a developer by profession",
                  "Hobbyist": "Yes",
                  "OpenSourcer": "Once a month or more often",
                  "OpenSource": "OSS is, on average, of HIGHER quality than proprietary / closed source software",
                  "Employment": "Employed full-time",
                  "Country": "India",
                  "Student": "No",
                  "EdLevel": "Master’s degree (MA, MS, M.Eng., MBA, etc.)",
                  "UndergradMajor": "nan",
                  "EduOther": "nan",
                  "OrgSize": "10,000 or more employees",
                  "DevType": "Data or business analyst;Data scientist or machine learning specialist;Database administrator;Developer, back-end;Developer, desktop or enterprise applications;Developer, front-end;Developer, full-stack;Developer, game or graphics;Educator",
                  "YearsCode": "12",
                  "Age1stCode": "20",
                  "YearsCodePro": "10",
                  "CareerSat": "Slightly dissatisfied",
                  "JobSat": "Slightly dissatisfied",
                  "MgrIdiot": "Somewhat confident",
                  "MgrMoney": "Yes",
                  "MgrWant": "Yes",
                  "JobSeek": "I’m not actively looking, but I am open to new opportunities",
                  "LastHireDate": "3-4 years ago",
                  "LastInt": "nan",
                  "FizzBuzz": "No",
                  "JobFactors": "Languages, frameworks, and other technologies I'd be working with;Remote work options;Flex time or a flexible schedule",
                  "ResumeUpdate": "nan",
                  "CurrencySymbol": "INR",
                  "CurrencyDesc": "Indian rupee",
                  "CompTotal": 950000,
                  "CompFreq": "Yearly",
                  "ConvertedComp": 13293,
                  "WorkWeekHrs": 70,
                  "WorkPlan": "There's no schedule or spec; I work on what seems most important or urgent",
                  "WorkChallenge": "nan",
                  "WorkRemote": "A few days each month",
                  "WorkLoc": "Home",
                  "ImpSyn": "Far above average",
                  "CodeRev": "Yes, because I see value in code review",
                  "CodeRevHrs": 4,
                  "UnitTests": "Yes, it's part of our process",
                  "PurchaseHow": "nan",
                  "PurchaseWhat": "nan",
                  "LanguageWorkedWith": "C#;Go;JavaScript;Python;R;SQL",
                  "LanguageDesireNextYear": "C#;Go;JavaScript;Kotlin;Python;R;SQL",
                  "DatabaseWorkedWith": "Elasticsearch;MongoDB;Microsoft SQL Server;MySQL;SQLite",
                  "DatabaseDesireNextYear": "Elasticsearch;MongoDB;Microsoft SQL Server",
                  "PlatformWorkedWith": "Linux;Windows",
                  "PlatformDesireNextYear": "Android;Linux;Raspberry Pi;Windows",
                  "WebFrameWorkedWith": "Angular/Angular.js;ASP.NET;Django;Express;Flask;jQuery",
                  "WebFrameDesireNextYear": "Angular/Angular.js;ASP.NET;Django;Express;Flask;jQuery",
                  "MiscTechWorkedWith": ".NET;Node.js;Pandas;Torch/PyTorch",
                  "MiscTechDesireNextYear": ".NET;Node.js;TensorFlow;Torch/PyTorch",
                  "DevEnviron": "Android Studio;Eclipse;IPython / Jupyter;Notepad++;RStudio;Vim;Visual Studio;Visual Studio Code",
                  "OpSys": "Windows",
                  "Containers": "nan",
                  "BlockchainOrg": "Not at all",
                  "BlockchainIs": "Useful for immutable record keeping outside of currency",
                  "BetterLife": "No",
                  "ITperson": "Yes",
                  "OffOn": "Yes",
                  "SocialMedia": "YouTube",
                  "Extraversion": "Neither",
                  "ScreenName": "Screen Name",
                  "SOVisit1st": "nan",
                  "SOVisitFreq": "Multiple times per day",
                  "SOVisitTo": "Find answers to specific questions;Get a sense of belonging to the developer community;Meet other people with similar skills or interests",
                  "SOFindAnswer": "3-5 times per week",
                  "SOTimeSaved": "They were about the same",
                  "SOHowMuchTime": "nan",
                  "SOAccount": "Yes",
                  "SOPartFreq": "A few times per month or weekly",
                  "SOJobs": "Yes",
                  "EntTeams": "No, and I don't know what those are",
                  "SOComm": "Yes, somewhat",
                  "WelcomeChange": "Somewhat less welcome now than last year",
                  "SONewContent": "Tech articles written by other developers;Tech meetups or events in your area",
                  "Age": "nan",
                  "Gender": "nan",
                  "Trans": "nan",
                  "Sexuality": "nan",
                  "Ethnicity": "nan",
                  "Dependents": "Yes",
                  "SurveyLength": "Too long",
                  "SurveyEase": "Difficult",
                  "_deepnote_index_column": 9
                },
                {
                  "Respondent": 15,
                  "MainBranch": "I am a student who is learning to code",
                  "Hobbyist": "Yes",
                  "OpenSourcer": "Never",
                  "OpenSource": "OSS is, on average, of HIGHER quality than proprietary / closed source software",
                  "Employment": "Not employed, but looking for work",
                  "Country": "India",
                  "Student": "Yes, full-time",
                  "EdLevel": "Secondary school (e.g. American high school, German Realschule or Gymnasium, etc.)",
                  "UndergradMajor": "nan",
                  "EduOther": "Taken an online course in programming or software development (e.g. a MOOC);Taken a part-time in-person course in programming or software development;Taught yourself a new language, framework, or tool without taking a formal course",
                  "OrgSize": "nan",
                  "DevType": "Student",
                  "YearsCode": "3",
                  "Age1stCode": "13",
                  "YearsCodePro": "nan",
                  "CareerSat": "nan",
                  "JobSat": "nan",
                  "MgrIdiot": "nan",
                  "MgrMoney": "nan",
                  "MgrWant": "nan",
                  "JobSeek": "I’m not actively looking, but I am open to new opportunities",
                  "LastHireDate": "I've never had a job",
                  "LastInt": "nan",
                  "FizzBuzz": "nan",
                  "JobFactors": "Industry that I'd be working in;Languages, frameworks, and other technologies I'd be working with;Opportunities for professional development",
                  "ResumeUpdate": "Something else changed (education, award, media, etc.)",
                  "CurrencySymbol": "nan",
                  "CurrencyDesc": "nan",
                  "CompTotal": "nan",
                  "CompFreq": "nan",
                  "ConvertedComp": "nan",
                  "WorkWeekHrs": "nan",
                  "WorkPlan": "nan",
                  "WorkChallenge": "nan",
                  "WorkRemote": "nan",
                  "WorkLoc": "nan",
                  "ImpSyn": "nan",
                  "CodeRev": "nan",
                  "CodeRevHrs": "nan",
                  "UnitTests": "nan",
                  "PurchaseHow": "nan",
                  "PurchaseWhat": "nan",
                  "LanguageWorkedWith": "Assembly;Bash/Shell/PowerShell;C;C++;HTML/CSS;Java;JavaScript;PHP;SQL",
                  "LanguageDesireNextYear": "Assembly;Bash/Shell/PowerShell;C;C++;C#;Go;HTML/CSS;Java;JavaScript;Kotlin;Objective-C;PHP;Python;Ruby;SQL;Swift;VBA",
                  "DatabaseWorkedWith": "MariaDB;MySQL;Oracle;SQLite",
                  "DatabaseDesireNextYear": "MariaDB;MongoDB;Microsoft SQL Server;MySQL;Oracle;SQLite",
                  "PlatformWorkedWith": "Linux;Windows",
                  "PlatformDesireNextYear": "Android;Google Cloud Platform;iOS;Linux;MacOS;Windows",
                  "WebFrameWorkedWith": "nan",
                  "WebFrameDesireNextYear": "Angular/Angular.js;ASP.NET;Django;Drupal;jQuery;React.js;Vue.js",
                  "MiscTechWorkedWith": "nan",
                  "MiscTechDesireNextYear": ".NET;.NET Core;Node.js;TensorFlow;Unity 3D;Unreal Engine",
                  "DevEnviron": "Atom;NetBeans;Notepad++;Sublime Text;Vim",
                  "OpSys": "Linux-based",
                  "Containers": "Development",
                  "BlockchainOrg": "nan",
                  "BlockchainIs": "nan",
                  "BetterLife": "Yes",
                  "ITperson": "Yes",
                  "OffOn": "What?",
                  "SocialMedia": "YouTube",
                  "Extraversion": "In real life (in person)",
                  "ScreenName": "nan",
                  "SOVisit1st": "2018",
                  "SOVisitFreq": "Daily or almost daily",
                  "SOVisitTo": "Find answers to specific questions;Learn how to do things I didn’t necessarily look for;Get a sense of belonging to the developer community",
                  "SOFindAnswer": "More than 10 times per week",
                  "SOTimeSaved": "They were about the same",
                  "SOHowMuchTime": "nan",
                  "SOAccount": "Yes",
                  "SOPartFreq": "Less than once per month or monthly",
                  "SOJobs": "Yes",
                  "EntTeams": "No, I've heard of them, but I am not part of a private Q&A instance",
                  "SOComm": "Yes, somewhat",
                  "WelcomeChange": "Just as welcome now as I felt last year",
                  "SONewContent": "Tech articles written by other developers;Industry news about technologies you're interested in;Tech meetups or events in your area;Courses on technologies you're interested in",
                  "Age": 20,
                  "Gender": "Man",
                  "Trans": "No",
                  "Sexuality": "nan",
                  "Ethnicity": "nan",
                  "Dependents": "Yes",
                  "SurveyLength": "Too long",
                  "SurveyEase": "Neither easy nor difficult",
                  "_deepnote_index_column": 14
                },
                {
                  "Respondent": 50,
                  "MainBranch": "I am a developer by profession",
                  "Hobbyist": "Yes",
                  "OpenSourcer": "Once a month or more often",
                  "OpenSource": "OSS is, on average, of LOWER quality than proprietary / closed source software",
                  "Employment": "Employed full-time",
                  "Country": "India",
                  "Student": "No",
                  "EdLevel": "Bachelor’s degree (BA, BS, B.Eng., etc.)",
                  "UndergradMajor": "Another engineering discipline (ex. civil, electrical, mechanical)",
                  "EduOther": "Received on-the-job training in software development;Taught yourself a new language, framework, or tool without taking a formal course;Participated in online coding competitions (e.g. HackerRank, CodeChef, TopCoder)",
                  "OrgSize": "10,000 or more employees",
                  "DevType": "Developer, back-end;DevOps specialist",
                  "YearsCode": "7",
                  "Age1stCode": "15",
                  "YearsCodePro": "2",
                  "CareerSat": "Slightly satisfied",
                  "JobSat": "Very satisfied",
                  "MgrIdiot": "Very confident",
                  "MgrMoney": "Not sure",
                  "MgrWant": "Yes",
                  "JobSeek": "I’m not actively looking, but I am open to new opportunities",
                  "LastHireDate": "1-2 years ago",
                  "LastInt": "Write code by hand (e.g., on a whiteboard);Interview with people in senior / management roles",
                  "FizzBuzz": "No",
                  "JobFactors": "Specific department or team I'd be working on;Languages, frameworks, and other technologies I'd be working with;Opportunities for professional development",
                  "ResumeUpdate": "I was preparing for a job search",
                  "CurrencySymbol": "INR",
                  "CurrencyDesc": "Indian rupee",
                  "CompTotal": 400000,
                  "CompFreq": "Yearly",
                  "ConvertedComp": 5597,
                  "WorkWeekHrs": 7,
                  "WorkPlan": "There is a schedule and/or spec (made by me or by a colleague), and my work somewhat aligns",
                  "WorkChallenge": "Meetings;Time spent commuting",
                  "WorkRemote": "Less than once per month / Never",
                  "WorkLoc": "Other place, such as a coworking space or cafe",
                  "ImpSyn": "Average",
                  "CodeRev": "No",
                  "CodeRevHrs": "nan",
                  "UnitTests": "Yes, it's not part of our process but the developers do it on their own",
                  "PurchaseHow": "The CTO, CIO, or other management purchase new technology typically without the involvement of developers",
                  "PurchaseWhat": "I have little or no influence",
                  "LanguageWorkedWith": "Bash/Shell/PowerShell;C;C++;HTML/CSS;Java;JavaScript;PHP;Python;SQL",
                  "LanguageDesireNextYear": "HTML/CSS;JavaScript;Python",
                  "DatabaseWorkedWith": "Elasticsearch;Firebase;MariaDB;MongoDB;MySQL;Oracle;SQLite;Other(s):",
                  "DatabaseDesireNextYear": "Firebase;PostgreSQL;Redis;Other(s):",
                  "PlatformWorkedWith": "Arduino;AWS;Heroku;Linux;MacOS;Raspberry Pi;WordPress",
                  "PlatformDesireNextYear": "AWS;Docker;Heroku;Kubernetes;Linux;MacOS;WordPress",
                  "WebFrameWorkedWith": "Django;Express;Flask;jQuery",
                  "WebFrameDesireNextYear": "Express;Flask;jQuery;React.js;Vue.js",
                  "MiscTechWorkedWith": "Node.js",
                  "MiscTechDesireNextYear": "Node.js",
                  "DevEnviron": "Notepad++;Visual Studio Code",
                  "OpSys": "MacOS",
                  "Containers": "Testing",
                  "BlockchainOrg": "Not at all",
                  "BlockchainIs": "Useful for immutable record keeping outside of currency",
                  "BetterLife": "Yes",
                  "ITperson": "Also Yes",
                  "OffOn": "What?",
                  "SocialMedia": "YouTube",
                  "Extraversion": "In real life (in person)",
                  "ScreenName": "Username",
                  "SOVisit1st": "2012",
                  "SOVisitFreq": "Daily or almost daily",
                  "SOVisitTo": "Find answers to specific questions;Learn how to do things I didn’t necessarily look for",
                  "SOFindAnswer": "3-5 times per week",
                  "SOTimeSaved": "Stack Overflow was slightly faster",
                  "SOHowMuchTime": "11-30 minutes",
                  "SOAccount": "Yes",
                  "SOPartFreq": "Less than once per month or monthly",
                  "SOJobs": "No, I knew that Stack Overflow had a job board but have never used or visited it",
                  "EntTeams": "No, and I don't know what those are",
                  "SOComm": "Yes, definitely",
                  "WelcomeChange": "Just as welcome now as I felt last year",
                  "SONewContent": "Tech articles written by other developers;Tech meetups or events in your area;Courses on technologies you're interested in",
                  "Age": 23,
                  "Gender": "Man",
                  "Trans": "No",
                  "Sexuality": "nan",
                  "Ethnicity": "South Asian",
                  "Dependents": "No",
                  "SurveyLength": "Too long",
                  "SurveyEase": "Easy",
                  "_deepnote_index_column": 49
                },
                {
                  "Respondent": 65,
                  "MainBranch": "I am a developer by profession",
                  "Hobbyist": "Yes",
                  "OpenSourcer": "Never",
                  "OpenSource": "nan",
                  "Employment": "Employed full-time",
                  "Country": "India",
                  "Student": "No",
                  "EdLevel": "Bachelor’s degree (BA, BS, B.Eng., etc.)",
                  "UndergradMajor": "Information systems, information technology, or system administration",
                  "EduOther": "nan",
                  "OrgSize": "20 to 99 employees",
                  "DevType": "Developer, front-end;Developer, mobile",
                  "YearsCode": "2",
                  "Age1stCode": "17",
                  "YearsCodePro": "2",
                  "CareerSat": "Very satisfied",
                  "JobSat": "Very satisfied",
                  "MgrIdiot": "Very confident",
                  "MgrMoney": "No",
                  "MgrWant": "Not sure",
                  "JobSeek": "I’m not actively looking, but I am open to new opportunities",
                  "LastHireDate": "Less than a year ago",
                  "LastInt": "Write any code;Solve a brain-teaser style puzzle;Interview with people in senior / management roles",
                  "FizzBuzz": "No",
                  "JobFactors": "Languages, frameworks, and other technologies I'd be working with;Opportunities for professional development;How widely used or impactful my work output would be",
                  "ResumeUpdate": "My job status changed (promotion, new job, etc.)",
                  "CurrencySymbol": "INR",
                  "CurrencyDesc": "Indian rupee",
                  "CompTotal": "nan",
                  "CompFreq": "Monthly",
                  "ConvertedComp": "nan",
                  "WorkWeekHrs": 48,
                  "WorkPlan": "There's no schedule or spec; I work on what seems most important or urgent",
                  "WorkChallenge": "nan",
                  "WorkRemote": "About half the time",
                  "WorkLoc": "Office",
                  "ImpSyn": "Average",
                  "CodeRev": "Yes, because I see value in code review",
                  "CodeRevHrs": "nan",
                  "UnitTests": "Yes, it's not part of our process but the developers do it on their own",
                  "PurchaseHow": "Not sure",
                  "PurchaseWhat": "nan",
                  "LanguageWorkedWith": "Assembly;C;C++;C#;HTML/CSS;Java",
                  "LanguageDesireNextYear": "Kotlin",
                  "DatabaseWorkedWith": "Firebase;MySQL;Oracle;SQLite",
                  "DatabaseDesireNextYear": "Firebase;SQLite",
                  "PlatformWorkedWith": "Android",
                  "PlatformDesireNextYear": "Android",
                  "WebFrameWorkedWith": "ASP.NET",
                  "WebFrameDesireNextYear": "nan",
                  "MiscTechWorkedWith": "nan",
                  "MiscTechDesireNextYear": "nan",
                  "DevEnviron": "Android Studio;IntelliJ",
                  "OpSys": "Linux-based",
                  "Containers": "nan",
                  "BlockchainOrg": "nan",
                  "BlockchainIs": "nan",
                  "BetterLife": "Yes",
                  "ITperson": "Yes",
                  "OffOn": "What?",
                  "SocialMedia": "WhatsApp",
                  "Extraversion": "In real life (in person)",
                  "ScreenName": "nan",
                  "SOVisit1st": "2017",
                  "SOVisitFreq": "Multiple times per day",
                  "SOVisitTo": "Find answers to specific questions",
                  "SOFindAnswer": "More than 10 times per week",
                  "SOTimeSaved": "Stack Overflow was slightly faster",
                  "SOHowMuchTime": "11-30 minutes",
                  "SOAccount": "Yes",
                  "SOPartFreq": "A few times per week",
                  "SOJobs": "No, I knew that Stack Overflow had a job board but have never used or visited it",
                  "EntTeams": "No, and I don't know what those are",
                  "SOComm": "Not sure",
                  "WelcomeChange": "A lot more welcome now than last year",
                  "SONewContent": "nan",
                  "Age": 21,
                  "Gender": "Man",
                  "Trans": "No",
                  "Sexuality": "nan",
                  "Ethnicity": "nan",
                  "Dependents": "Yes",
                  "SurveyLength": "Appropriate in length",
                  "SurveyEase": "Neither easy nor difficult",
                  "_deepnote_index_column": 64
                },
                {
                  "Respondent": 68,
                  "MainBranch": "I am a developer by profession",
                  "Hobbyist": "Yes",
                  "OpenSourcer": "Less than once a month but more than once per year",
                  "OpenSource": "OSS is, on average, of LOWER quality than proprietary / closed source software",
                  "Employment": "Employed full-time",
                  "Country": "India",
                  "Student": "No",
                  "EdLevel": "Bachelor’s degree (BA, BS, B.Eng., etc.)",
                  "UndergradMajor": "Web development or web design",
                  "EduOther": "Taken an online course in programming or software development (e.g. a MOOC);Taught yourself a new language, framework, or tool without taking a formal course;Participated in online coding competitions (e.g. HackerRank, CodeChef, TopCoder);Participated in a hackathon",
                  "OrgSize": "10 to 19 employees",
                  "DevType": "Developer, full-stack",
                  "YearsCode": "9",
                  "Age1stCode": "9",
                  "YearsCodePro": "7",
                  "CareerSat": "Slightly satisfied",
                  "JobSat": "Slightly dissatisfied",
                  "MgrIdiot": "Not at all confident",
                  "MgrMoney": "Yes",
                  "MgrWant": "No",
                  "JobSeek": "I am actively looking for a job",
                  "LastHireDate": "1-2 years ago",
                  "LastInt": "Write any code;Complete a take-home project;Interview with people in peer roles;Interview with people in senior / management roles",
                  "FizzBuzz": "No",
                  "JobFactors": "Industry that I'd be working in;Languages, frameworks, and other technologies I'd be working with;Opportunities for professional development",
                  "ResumeUpdate": "I was preparing for a job search",
                  "CurrencySymbol": "INR",
                  "CurrencyDesc": "Indian rupee",
                  "CompTotal": 800000,
                  "CompFreq": "Yearly",
                  "ConvertedComp": 11194,
                  "WorkWeekHrs": 70,
                  "WorkPlan": "There is a schedule and/or spec (made by me or by a colleague), and my work somewhat aligns",
                  "WorkChallenge": "Lack of support from management;Not enough people for the workload;Toxic work environment",
                  "WorkRemote": "Less than once per month / Never",
                  "WorkLoc": "Office",
                  "ImpSyn": "Far above average",
                  "CodeRev": "Yes, because I see value in code review",
                  "CodeRevHrs": 4,
                  "UnitTests": "Yes, it's not part of our process but the developers do it on their own",
                  "PurchaseHow": "The CTO, CIO, or other management purchase new technology typically without the involvement of developers",
                  "PurchaseWhat": "I have little or no influence",
                  "LanguageWorkedWith": "HTML/CSS;Java;JavaScript;Python",
                  "LanguageDesireNextYear": "Elixir;Go;HTML/CSS;Java;JavaScript;Kotlin;Python;R;Scala;TypeScript;WebAssembly",
                  "DatabaseWorkedWith": "Elasticsearch;Firebase",
                  "DatabaseDesireNextYear": "DynamoDB;Elasticsearch;Firebase;Redis",
                  "PlatformWorkedWith": "AWS;Google Cloud Platform;Linux;MacOS",
                  "PlatformDesireNextYear": "Arduino;AWS;Docker;Google Cloud Platform;Kubernetes;Linux;MacOS;Raspberry Pi",
                  "WebFrameWorkedWith": "Express;jQuery;React.js;Vue.js",
                  "WebFrameDesireNextYear": "Express;jQuery;React.js;Vue.js",
                  "MiscTechWorkedWith": "Node.js;TensorFlow",
                  "MiscTechDesireNextYear": "Apache Spark;Hadoop;Node.js;TensorFlow",
                  "DevEnviron": "Vim",
                  "OpSys": "MacOS",
                  "Containers": "Outside of work, for personal projects",
                  "BlockchainOrg": "Not at all",
                  "BlockchainIs": "Useful across many domains and could change many aspects of our lives",
                  "BetterLife": "Yes",
                  "ITperson": "Also Yes",
                  "OffOn": "Yes",
                  "SocialMedia": "WhatsApp",
                  "Extraversion": "In real life (in person)",
                  "ScreenName": "Username",
                  "SOVisit1st": "nan",
                  "SOVisitFreq": "Daily or almost daily",
                  "SOVisitTo": "Find answers to specific questions;Learn how to do things I didn’t necessarily look for;Contribute to a library of information",
                  "SOFindAnswer": "Less than once per week",
                  "SOTimeSaved": "Stack Overflow was much faster",
                  "SOHowMuchTime": "31-60 minutes",
                  "SOAccount": "Yes",
                  "SOPartFreq": "A few times per month or weekly",
                  "SOJobs": "Yes",
                  "EntTeams": "No, and I don't know what those are",
                  "SOComm": "Yes, definitely",
                  "WelcomeChange": "Somewhat more welcome now than last year",
                  "SONewContent": "Tech articles written by other developers;Industry news about technologies you're interested in;Tech meetups or events in your area;Courses on technologies you're interested in",
                  "Age": 29,
                  "Gender": "Man",
                  "Trans": "No",
                  "Sexuality": "Straight / Heterosexual",
                  "Ethnicity": "South Asian",
                  "Dependents": "No",
                  "SurveyLength": "Appropriate in length",
                  "SurveyEase": "Easy",
                  "_deepnote_index_column": 67
                },
                {
                  "Respondent": 75,
                  "MainBranch": "I am a developer by profession",
                  "Hobbyist": "Yes",
                  "OpenSourcer": "Never",
                  "OpenSource": "OSS is, on average, of HIGHER quality than proprietary / closed source software",
                  "Employment": "Employed full-time",
                  "Country": "India",
                  "Student": "Yes, full-time",
                  "EdLevel": "Bachelor’s degree (BA, BS, B.Eng., etc.)",
                  "UndergradMajor": "Computer science, computer engineering, or software engineering",
                  "EduOther": "Taken an online course in programming or software development (e.g. a MOOC);Received on-the-job training in software development",
                  "OrgSize": "10,000 or more employees",
                  "DevType": "Developer, front-end",
                  "YearsCode": "7",
                  "Age1stCode": "19",
                  "YearsCodePro": "7",
                  "CareerSat": "Slightly dissatisfied",
                  "JobSat": "Slightly dissatisfied",
                  "MgrIdiot": "Very confident",
                  "MgrMoney": "No",
                  "MgrWant": "No",
                  "JobSeek": "I am actively looking for a job",
                  "LastHireDate": "3-4 years ago",
                  "LastInt": "Complete a take-home project;Interview with people in peer roles;Interview with people in senior / management roles",
                  "FizzBuzz": "No",
                  "JobFactors": "Languages, frameworks, and other technologies I'd be working with",
                  "ResumeUpdate": "My job status changed (promotion, new job, etc.)",
                  "CurrencySymbol": "INR",
                  "CurrencyDesc": "Indian rupee",
                  "CompTotal": 1250000,
                  "CompFreq": "Yearly",
                  "ConvertedComp": 17491,
                  "WorkWeekHrs": 50,
                  "WorkPlan": "There's no schedule or spec; I work on what seems most important or urgent",
                  "WorkChallenge": "Not enough people for the workload;Time spent commuting;Toxic work environment",
                  "WorkRemote": "Less than once per month / Never",
                  "WorkLoc": "Home",
                  "ImpSyn": "Average",
                  "CodeRev": "Yes, because I was told to do so",
                  "CodeRevHrs": 1,
                  "UnitTests": "No, but I think we should",
                  "PurchaseHow": "Developers and management have nearly equal input into purchasing new technology",
                  "PurchaseWhat": "I have little or no influence",
                  "LanguageWorkedWith": "HTML/CSS;JavaScript",
                  "LanguageDesireNextYear": "HTML/CSS;Java;JavaScript;Python;TypeScript",
                  "DatabaseWorkedWith": "MongoDB",
                  "DatabaseDesireNextYear": "Elasticsearch;Firebase;MongoDB",
                  "PlatformWorkedWith": "Heroku",
                  "PlatformDesireNextYear": "AWS;Docker;Heroku;Kubernetes",
                  "WebFrameWorkedWith": "Express;React.js",
                  "WebFrameDesireNextYear": "Express;React.js",
                  "MiscTechWorkedWith": "nan",
                  "MiscTechDesireNextYear": "React Native",
                  "DevEnviron": "Sublime Text;Visual Studio Code",
                  "OpSys": "Windows",
                  "Containers": "Outside of work, for personal projects",
                  "BlockchainOrg": "nan",
                  "BlockchainIs": "nan",
                  "BetterLife": "Yes",
                  "ITperson": "Fortunately, someone else has that title",
                  "OffOn": "Yes",
                  "SocialMedia": "YouTube",
                  "Extraversion": "In real life (in person)",
                  "ScreenName": "Username",
                  "SOVisit1st": "2012",
                  "SOVisitFreq": "Daily or almost daily",
                  "SOVisitTo": "Find answers to specific questions",
                  "SOFindAnswer": "Less than once per week",
                  "SOTimeSaved": "Stack Overflow was much faster",
                  "SOHowMuchTime": "11-30 minutes",
                  "SOAccount": "Yes",
                  "SOPartFreq": "Less than once per month or monthly",
                  "SOJobs": "Yes",
                  "EntTeams": "No, and I don't know what those are",
                  "SOComm": "Neutral",
                  "WelcomeChange": "Just as welcome now as I felt last year",
                  "SONewContent": "Courses on technologies you're interested in",
                  "Age": 27,
                  "Gender": "Woman",
                  "Trans": "No",
                  "Sexuality": "Straight / Heterosexual",
                  "Ethnicity": "nan",
                  "Dependents": "No",
                  "SurveyLength": "Too long",
                  "SurveyEase": "Neither easy nor difficult",
                  "_deepnote_index_column": 74
                },
                {
                  "Respondent": 78,
                  "MainBranch": "I am a developer by profession",
                  "Hobbyist": "No",
                  "OpenSourcer": "Less than once a month but more than once per year",
                  "OpenSource": "The quality of OSS and closed source software is about the same",
                  "Employment": "Employed full-time",
                  "Country": "India",
                  "Student": "Yes, full-time",
                  "EdLevel": "Bachelor’s degree (BA, BS, B.Eng., etc.)",
                  "UndergradMajor": "Computer science, computer engineering, or software engineering",
                  "EduOther": "Received on-the-job training in software development;Taught yourself a new language, framework, or tool without taking a formal course;Contributed to open source software",
                  "OrgSize": "2-9 employees",
                  "DevType": "Developer, full-stack",
                  "YearsCode": "6",
                  "Age1stCode": "19",
                  "YearsCodePro": "3",
                  "CareerSat": "Neither satisfied nor dissatisfied",
                  "JobSat": "Neither satisfied nor dissatisfied",
                  "MgrIdiot": "Very confident",
                  "MgrMoney": "No",
                  "MgrWant": "Not sure",
                  "JobSeek": "I am actively looking for a job",
                  "LastHireDate": "3-4 years ago",
                  "LastInt": "Write any code;Complete a take-home project",
                  "FizzBuzz": "No",
                  "JobFactors": "Languages, frameworks, and other technologies I'd be working with;Remote work options",
                  "ResumeUpdate": "nan",
                  "CurrencySymbol": "INR",
                  "CurrencyDesc": "Indian rupee",
                  "CompTotal": 550000,
                  "CompFreq": "Yearly",
                  "ConvertedComp": 7696,
                  "WorkWeekHrs": 40,
                  "WorkPlan": "There is a schedule and/or spec (made by me or by a colleague), and I follow it very closely",
                  "WorkChallenge": "Not enough people for the workload;Time spent commuting",
                  "WorkRemote": "A few days each month",
                  "WorkLoc": "Office",
                  "ImpSyn": "Average",
                  "CodeRev": "Yes, because I see value in code review",
                  "CodeRevHrs": 5,
                  "UnitTests": "Yes, it's part of our process",
                  "PurchaseHow": "Not sure",
                  "PurchaseWhat": "I have some influence",
                  "LanguageWorkedWith": "HTML/CSS;Java;JavaScript;Kotlin;Python",
                  "LanguageDesireNextYear": "HTML/CSS;Java;JavaScript;Kotlin;Python",
                  "DatabaseWorkedWith": "MongoDB",
                  "DatabaseDesireNextYear": "MongoDB",
                  "PlatformWorkedWith": "Android;Raspberry Pi",
                  "PlatformDesireNextYear": "Android;Raspberry Pi",
                  "WebFrameWorkedWith": "Express;jQuery;React.js;Vue.js",
                  "WebFrameDesireNextYear": "Express;React.js;Vue.js",
                  "MiscTechWorkedWith": "Cordova;Node.js;React Native",
                  "MiscTechDesireNextYear": "Cordova;Node.js;React Native",
                  "DevEnviron": "Android Studio;IntelliJ;Visual Studio Code",
                  "OpSys": "Linux-based",
                  "Containers": "I do not use containers",
                  "BlockchainOrg": "nan",
                  "BlockchainIs": "nan",
                  "BetterLife": "Yes",
                  "ITperson": "Also Yes",
                  "OffOn": "No",
                  "SocialMedia": "YouTube",
                  "Extraversion": "In real life (in person)",
                  "ScreenName": "UserID",
                  "SOVisit1st": "2015",
                  "SOVisitFreq": "Daily or almost daily",
                  "SOVisitTo": "Find answers to specific questions;Learn how to do things I didn’t necessarily look for;Contribute to a library of information",
                  "SOFindAnswer": "More than 10 times per week",
                  "SOTimeSaved": "Stack Overflow was much faster",
                  "SOHowMuchTime": "31-60 minutes",
                  "SOAccount": "Yes",
                  "SOPartFreq": "I have never participated in Q&A on Stack Overflow",
                  "SOJobs": "Yes",
                  "EntTeams": "No, I've heard of them, but I am not part of a private Q&A instance",
                  "SOComm": "Yes, somewhat",
                  "WelcomeChange": "Somewhat more welcome now than last year",
                  "SONewContent": "Tech articles written by other developers;Industry news about technologies you're interested in;Tech meetups or events in your area;Courses on technologies you're interested in",
                  "Age": 25,
                  "Gender": "Man",
                  "Trans": "No",
                  "Sexuality": "nan",
                  "Ethnicity": "nan",
                  "Dependents": "Yes",
                  "SurveyLength": "Appropriate in length",
                  "SurveyEase": "Easy",
                  "_deepnote_index_column": 77
                },
                {
                  "Respondent": 83,
                  "MainBranch": "I am a developer by profession",
                  "Hobbyist": "Yes",
                  "OpenSourcer": "Less than once a month but more than once per year",
                  "OpenSource": "OSS is, on average, of HIGHER quality than proprietary / closed source software",
                  "Employment": "Employed full-time",
                  "Country": "India",
                  "Student": "No",
                  "EdLevel": "Bachelor’s degree (BA, BS, B.Eng., etc.)",
                  "UndergradMajor": "Web development or web design",
                  "EduOther": "Taken an online course in programming or software development (e.g. a MOOC);Participated in a full-time developer training program or bootcamp;Taught yourself a new language, framework, or tool without taking a formal course;Contributed to open source software",
                  "OrgSize": "20 to 99 employees",
                  "DevType": "Developer, full-stack",
                  "YearsCode": "2",
                  "Age1stCode": "16",
                  "YearsCodePro": "Less than 1 year",
                  "CareerSat": "Very satisfied",
                  "JobSat": "Very satisfied",
                  "MgrIdiot": "Somewhat confident",
                  "MgrMoney": "Not sure",
                  "MgrWant": "Not sure",
                  "JobSeek": "I’m not actively looking, but I am open to new opportunities",
                  "LastHireDate": "Less than a year ago",
                  "LastInt": "Write any code;Solve a brain-teaser style puzzle;Interview with people in peer roles;Interview with people in senior / management roles",
                  "FizzBuzz": "Yes",
                  "JobFactors": "Industry that I'd be working in;Specific department or team I'd be working on;Opportunities for professional development",
                  "ResumeUpdate": "Something else changed (education, award, media, etc.)",
                  "CurrencySymbol": "INR",
                  "CurrencyDesc": "Indian rupee",
                  "CompTotal": 700000,
                  "CompFreq": "Monthly",
                  "ConvertedComp": 117540,
                  "WorkWeekHrs": 45,
                  "WorkPlan": "There is a schedule and/or spec (made by me or by a colleague), and my work somewhat aligns",
                  "WorkChallenge": "Lack of support from management;Non-work commitments (parenting, school work, hobbies, etc.)",
                  "WorkRemote": "Less than once per month / Never",
                  "WorkLoc": "Office",
                  "ImpSyn": "Average",
                  "CodeRev": "Yes, because I see value in code review",
                  "CodeRevHrs": 5,
                  "UnitTests": "Yes, it's part of our process",
                  "PurchaseHow": "Developers typically have the most influence on purchasing new technology",
                  "PurchaseWhat": "I have some influence",
                  "LanguageWorkedWith": "HTML/CSS;JavaScript",
                  "LanguageDesireNextYear": "Elixir;Go;HTML/CSS;JavaScript;Ruby;TypeScript;WebAssembly",
                  "DatabaseWorkedWith": "DynamoDB;Elasticsearch;MongoDB",
                  "DatabaseDesireNextYear": "Cassandra;DynamoDB;MongoDB;MySQL;Redis",
                  "PlatformWorkedWith": "AWS;Docker;Google Cloud Platform;Linux;MacOS;Slack;Windows",
                  "PlatformDesireNextYear": "AWS;Docker;MacOS;Slack",
                  "WebFrameWorkedWith": "Express;React.js",
                  "WebFrameDesireNextYear": "Express;React.js;Ruby on Rails;Vue.js",
                  "MiscTechWorkedWith": "Node.js;React Native",
                  "MiscTechDesireNextYear": "Node.js",
                  "DevEnviron": "Sublime Text;Vim;Visual Studio Code",
                  "OpSys": "MacOS",
                  "Containers": "Development;Testing;Production",
                  "BlockchainOrg": "Not at all",
                  "BlockchainIs": "Useful across many domains and could change many aspects of our lives",
                  "BetterLife": "Yes",
                  "ITperson": "Yes",
                  "OffOn": "What?",
                  "SocialMedia": "Twitter",
                  "Extraversion": "Online",
                  "ScreenName": "Username",
                  "SOVisit1st": "2014",
                  "SOVisitFreq": "Daily or almost daily",
                  "SOVisitTo": "Find answers to specific questions;Learn how to do things I didn’t necessarily look for",
                  "SOFindAnswer": "6-10 times per week",
                  "SOTimeSaved": "Stack Overflow was much faster",
                  "SOHowMuchTime": "0-10 minutes",
                  "SOAccount": "Yes",
                  "SOPartFreq": "Less than once per month or monthly",
                  "SOJobs": "No, I knew that Stack Overflow had a job board but have never used or visited it",
                  "EntTeams": "No, and I don't know what those are",
                  "SOComm": "Neutral",
                  "WelcomeChange": "Just as welcome now as I felt last year",
                  "SONewContent": "Industry news about technologies you're interested in;Tech meetups or events in your area;Courses on technologies you're interested in",
                  "Age": 22,
                  "Gender": "Man",
                  "Trans": "No",
                  "Sexuality": "Straight / Heterosexual",
                  "Ethnicity": "South Asian",
                  "Dependents": "No",
                  "SurveyLength": "Appropriate in length",
                  "SurveyEase": "Neither easy nor difficult",
                  "_deepnote_index_column": 82
                },
                {
                  "Respondent": 89,
                  "MainBranch": "I am a student who is learning to code",
                  "Hobbyist": "Yes",
                  "OpenSourcer": "Never",
                  "OpenSource": "OSS is, on average, of HIGHER quality than proprietary / closed source software",
                  "Employment": "Not employed, and not looking for work",
                  "Country": "India",
                  "Student": "No",
                  "EdLevel": "Some college/university study without earning a degree",
                  "UndergradMajor": "Computer science, computer engineering, or software engineering",
                  "EduOther": "nan",
                  "OrgSize": "nan",
                  "DevType": "nan",
                  "YearsCode": "2",
                  "Age1stCode": "14",
                  "YearsCodePro": "nan",
                  "CareerSat": "nan",
                  "JobSat": "nan",
                  "MgrIdiot": "nan",
                  "MgrMoney": "nan",
                  "MgrWant": "nan",
                  "JobSeek": "nan",
                  "LastHireDate": "nan",
                  "LastInt": "nan",
                  "FizzBuzz": "nan",
                  "JobFactors": "nan",
                  "ResumeUpdate": "nan",
                  "CurrencySymbol": "nan",
                  "CurrencyDesc": "nan",
                  "CompTotal": "nan",
                  "CompFreq": "nan",
                  "ConvertedComp": "nan",
                  "WorkWeekHrs": "nan",
                  "WorkPlan": "nan",
                  "WorkChallenge": "nan",
                  "WorkRemote": "nan",
                  "WorkLoc": "nan",
                  "ImpSyn": "nan",
                  "CodeRev": "nan",
                  "CodeRevHrs": "nan",
                  "UnitTests": "nan",
                  "PurchaseHow": "nan",
                  "PurchaseWhat": "nan",
                  "LanguageWorkedWith": "Bash/Shell/PowerShell;Python",
                  "LanguageDesireNextYear": "Bash/Shell/PowerShell;HTML/CSS;Python;Rust;SQL",
                  "DatabaseWorkedWith": "nan",
                  "DatabaseDesireNextYear": "PostgreSQL",
                  "PlatformWorkedWith": "Linux;Raspberry Pi",
                  "PlatformDesireNextYear": "Docker;Linux;Raspberry Pi",
                  "WebFrameWorkedWith": "nan",
                  "WebFrameDesireNextYear": "Django;jQuery",
                  "MiscTechWorkedWith": "nan",
                  "MiscTechDesireNextYear": "TensorFlow;Other(s):",
                  "DevEnviron": "Vim;Visual Studio Code",
                  "OpSys": "Linux-based",
                  "Containers": "I do not use containers",
                  "BlockchainOrg": "nan",
                  "BlockchainIs": "Useful across many domains and could change many aspects of our lives",
                  "BetterLife": "Yes",
                  "ITperson": "Yes",
                  "OffOn": "Yes",
                  "SocialMedia": "YouTube",
                  "Extraversion": "In real life (in person)",
                  "ScreenName": "Username",
                  "SOVisit1st": "nan",
                  "SOVisitFreq": "Multiple times per day",
                  "SOVisitTo": "Find answers to specific questions;Learn how to do things I didn’t necessarily look for;Contribute to a library of information",
                  "SOFindAnswer": "More than 10 times per week",
                  "SOTimeSaved": "Stack Overflow was much faster",
                  "SOHowMuchTime": "11-30 minutes",
                  "SOAccount": "Yes",
                  "SOPartFreq": "A few times per week",
                  "SOJobs": "No, I knew that Stack Overflow had a job board but have never used or visited it",
                  "EntTeams": "No, and I don't know what those are",
                  "SOComm": "Yes, definitely",
                  "WelcomeChange": "Just as welcome now as I felt last year",
                  "SONewContent": "Tech articles written by other developers;Industry news about technologies you're interested in;Courses on technologies you're interested in",
                  "Age": "nan",
                  "Gender": "Man",
                  "Trans": "No",
                  "Sexuality": "Bisexual",
                  "Ethnicity": "East Asian",
                  "Dependents": "Yes",
                  "SurveyLength": "Too short",
                  "SurveyEase": "Easy",
                  "_deepnote_index_column": 88
                }
              ]
            },
            "text/plain": "       Respondent                              MainBranch Hobbyist  \\\n7               8             I code primarily as a hobby      Yes   \n9              10          I am a developer by profession      Yes   \n14             15  I am a student who is learning to code      Yes   \n49             50          I am a developer by profession      Yes   \n64             65          I am a developer by profession      Yes   \n...           ...                                     ...      ...   \n88808       77339                                     NaN      Yes   \n88825       79795                                     NaN      Yes   \n88852       83862                                     NaN      Yes   \n88853       84299                                     NaN      Yes   \n88864       86012                                     NaN      Yes   \n\n                                             OpenSourcer  \\\n7                                Less than once per year   \n9                             Once a month or more often   \n14                                                 Never   \n49                            Once a month or more often   \n64                                                 Never   \n...                                                  ...   \n88808                            Less than once per year   \n88825  Less than once a month but more than once per ...   \n88852                         Once a month or more often   \n88853                                              Never   \n88864                         Once a month or more often   \n\n                                              OpenSource  \\\n7      OSS is, on average, of HIGHER quality than pro...   \n9      OSS is, on average, of HIGHER quality than pro...   \n14     OSS is, on average, of HIGHER quality than pro...   \n49     OSS is, on average, of LOWER quality than prop...   \n64                                                   NaN   \n...                                                  ...   \n88808  OSS is, on average, of HIGHER quality than pro...   \n88825  OSS is, on average, of HIGHER quality than pro...   \n88852  OSS is, on average, of HIGHER quality than pro...   \n88853  The quality of OSS and closed source software ...   \n88864  OSS is, on average, of HIGHER quality than pro...   \n\n                               Employment Country         Student  \\\n7      Not employed, but looking for work   India             NaN   \n9                      Employed full-time   India              No   \n14     Not employed, but looking for work   India  Yes, full-time   \n49                     Employed full-time   India              No   \n64                     Employed full-time   India              No   \n...                                   ...     ...             ...   \n88808                  Employed full-time   India  Yes, full-time   \n88825                  Employed full-time   India              No   \n88852                  Employed full-time   India  Yes, full-time   \n88853                  Employed full-time   India  Yes, full-time   \n88864                  Employed full-time   India              No   \n\n                                                 EdLevel  \\\n7               Bachelor’s degree (BA, BS, B.Eng., etc.)   \n9            Master’s degree (MA, MS, M.Eng., MBA, etc.)   \n14     Secondary school (e.g. American high school, G...   \n49              Bachelor’s degree (BA, BS, B.Eng., etc.)   \n64              Bachelor’s degree (BA, BS, B.Eng., etc.)   \n...                                                  ...   \n88808           Bachelor’s degree (BA, BS, B.Eng., etc.)   \n88825           Bachelor’s degree (BA, BS, B.Eng., etc.)   \n88852           Bachelor’s degree (BA, BS, B.Eng., etc.)   \n88853           Bachelor’s degree (BA, BS, B.Eng., etc.)   \n88864        Master’s degree (MA, MS, M.Eng., MBA, etc.)   \n\n                                          UndergradMajor  \\\n7      Computer science, computer engineering, or sof...   \n9                                                    NaN   \n14                                                   NaN   \n49     Another engineering discipline (ex. civil, ele...   \n64     Information systems, information technology, o...   \n...                                                  ...   \n88808  Another engineering discipline (ex. civil, ele...   \n88825  Computer science, computer engineering, or sof...   \n88852                                                NaN   \n88853                      Web development or web design   \n88864  Another engineering discipline (ex. civil, ele...   \n\n                                                EduOther  \\\n7      Taught yourself a new language, framework, or ...   \n9                                                    NaN   \n14     Taken an online course in programming or softw...   \n49     Received on-the-job training in software devel...   \n64                                                   NaN   \n...                                                  ...   \n88808  Taken an online course in programming or softw...   \n88825  Taken an online course in programming or softw...   \n88852                        Participated in a hackathon   \n88853  Taken an online course in programming or softw...   \n88864  Taught yourself a new language, framework, or ...   \n\n                        OrgSize  \\\n7                           NaN   \n9      10,000 or more employees   \n14                          NaN   \n49     10,000 or more employees   \n64           20 to 99 employees   \n...                         ...   \n88808  1,000 to 4,999 employees   \n88825      500 to 999 employees   \n88852                       NaN   \n88853      100 to 499 employees   \n88864      100 to 499 employees   \n\n                                                 DevType YearsCode Age1stCode  \\\n7         Developer, back-end;Engineer, site reliability         8         16   \n9      Data or business analyst;Data scientist or mac...        12         20   \n14                                               Student         3         13   \n49                 Developer, back-end;DevOps specialist         7         15   \n64                Developer, front-end;Developer, mobile         2         17   \n...                                                  ...       ...        ...   \n88808                                                NaN         1         27   \n88825                              Developer, QA or test         6         17   \n88852                   Data or business analyst;Student         1         18   \n88853  Developer, back-end;Developer, front-end;Devel...        12         25   \n88864                       Academic researcher;Educator         5         15   \n\n           YearsCodePro              CareerSat                 JobSat  \\\n7                   NaN                    NaN                    NaN   \n9                    10  Slightly dissatisfied  Slightly dissatisfied   \n14                  NaN                    NaN                    NaN   \n49                    2     Slightly satisfied         Very satisfied   \n64                    2         Very satisfied         Very satisfied   \n...                 ...                    ...                    ...   \n88808                 1                    NaN                    NaN   \n88825                 5                    NaN                    NaN   \n88852  Less than 1 year                    NaN                    NaN   \n88853                12                    NaN                    NaN   \n88864               NaN                    NaN                    NaN   \n\n                 MgrIdiot  MgrMoney   MgrWant  \\\n7                     NaN       NaN       NaN   \n9      Somewhat confident       Yes       Yes   \n14                    NaN       NaN       NaN   \n49         Very confident  Not sure       Yes   \n64         Very confident        No  Not sure   \n...                   ...       ...       ...   \n88808  Somewhat confident       Yes       Yes   \n88825  Somewhat confident        No  Not sure   \n88852      Very confident  Not sure       Yes   \n88853                 NaN       NaN       NaN   \n88864  Somewhat confident        No  Not sure   \n\n                                                 JobSeek  \\\n7                                                    NaN   \n9      I’m not actively looking, but I am open to new...   \n14     I’m not actively looking, but I am open to new...   \n49     I’m not actively looking, but I am open to new...   \n64     I’m not actively looking, but I am open to new...   \n...                                                  ...   \n88808                                                NaN   \n88825                                                NaN   \n88852                                                NaN   \n88853                                                NaN   \n88864                                                NaN   \n\n               LastHireDate  \\\n7                       NaN   \n9             3-4 years ago   \n14     I've never had a job   \n49            1-2 years ago   \n64     Less than a year ago   \n...                     ...   \n88808                   NaN   \n88825                   NaN   \n88852                   NaN   \n88853                   NaN   \n88864                   NaN   \n\n                                                 LastInt FizzBuzz  \\\n7                                                    NaN      NaN   \n9                                                    NaN       No   \n14                                                   NaN      NaN   \n49     Write code by hand (e.g., on a whiteboard);Int...       No   \n64     Write any code;Solve a brain-teaser style puzz...       No   \n...                                                  ...      ...   \n88808                                                NaN      NaN   \n88825                                                NaN      NaN   \n88852                                                NaN      NaN   \n88853                                                NaN      NaN   \n88864                                                NaN      NaN   \n\n                                              JobFactors  \\\n7                                                    NaN   \n9      Languages, frameworks, and other technologies ...   \n14     Industry that I'd be working in;Languages, fra...   \n49     Specific department or team I'd be working on;...   \n64     Languages, frameworks, and other technologies ...   \n...                                                  ...   \n88808                                                NaN   \n88825                                                NaN   \n88852                                                NaN   \n88853                                                NaN   \n88864                                                NaN   \n\n                                            ResumeUpdate CurrencySymbol  \\\n7                                                    NaN            NaN   \n9                                                    NaN            INR   \n14     Something else changed (education, award, medi...            NaN   \n49                      I was preparing for a job search            INR   \n64      My job status changed (promotion, new job, etc.)            INR   \n...                                                  ...            ...   \n88808                                                NaN            NaN   \n88825                                                NaN            NaN   \n88852                                                NaN            NaN   \n88853                                                NaN            NaN   \n88864                                                NaN            NaN   \n\n       CurrencyDesc  CompTotal CompFreq  ConvertedComp  WorkWeekHrs  \\\n7               NaN        NaN      NaN            NaN          NaN   \n9      Indian rupee   950000.0   Yearly        13293.0         70.0   \n14              NaN        NaN      NaN            NaN          NaN   \n49     Indian rupee   400000.0   Yearly         5597.0          7.0   \n64     Indian rupee        NaN  Monthly            NaN         48.0   \n...             ...        ...      ...            ...          ...   \n88808           NaN        NaN      NaN            NaN          NaN   \n88825           NaN        NaN      NaN            NaN          NaN   \n88852           NaN        NaN      NaN            NaN          NaN   \n88853           NaN        NaN      NaN            NaN          NaN   \n88864           NaN        NaN      NaN            NaN          NaN   \n\n                                                WorkPlan  \\\n7                                                    NaN   \n9      There's no schedule or spec; I work on what se...   \n14                                                   NaN   \n49     There is a schedule and/or spec (made by me or...   \n64     There's no schedule or spec; I work on what se...   \n...                                                  ...   \n88808                                                NaN   \n88825                                                NaN   \n88852                                                NaN   \n88853                                                NaN   \n88864                                                NaN   \n\n                       WorkChallenge                        WorkRemote  \\\n7                                NaN                               NaN   \n9                                NaN             A few days each month   \n14                               NaN                               NaN   \n49     Meetings;Time spent commuting  Less than once per month / Never   \n64                               NaN               About half the time   \n...                              ...                               ...   \n88808                            NaN                               NaN   \n88825                            NaN                               NaN   \n88852                            NaN                               NaN   \n88853                            NaN                               NaN   \n88864                            NaN                               NaN   \n\n                                              WorkLoc             ImpSyn  \\\n7                                                 NaN                NaN   \n9                                                Home  Far above average   \n14                                                NaN                NaN   \n49     Other place, such as a coworking space or cafe            Average   \n64                                             Office            Average   \n...                                               ...                ...   \n88808                                             NaN                NaN   \n88825                                             NaN                NaN   \n88852                                             NaN                NaN   \n88853                                             NaN                NaN   \n88864                                             NaN                NaN   \n\n                                       CodeRev  CodeRevHrs  \\\n7                                          NaN         NaN   \n9      Yes, because I see value in code review         4.0   \n14                                         NaN         NaN   \n49                                          No         NaN   \n64     Yes, because I see value in code review         NaN   \n...                                        ...         ...   \n88808                                      NaN         NaN   \n88825                                      NaN         NaN   \n88852                                      NaN         NaN   \n88853                                      NaN         NaN   \n88864                                      NaN         NaN   \n\n                                               UnitTests  \\\n7                                                    NaN   \n9                          Yes, it's part of our process   \n14                                                   NaN   \n49     Yes, it's not part of our process but the deve...   \n64     Yes, it's not part of our process but the deve...   \n...                                                  ...   \n88808                                                NaN   \n88825                                                NaN   \n88852                                                NaN   \n88853                                                NaN   \n88864                                                NaN   \n\n                                             PurchaseHow  \\\n7                                                    NaN   \n9                                                    NaN   \n14                                                   NaN   \n49     The CTO, CIO, or other management purchase new...   \n64                                              Not sure   \n...                                                  ...   \n88808                                                NaN   \n88825                                                NaN   \n88852                                                NaN   \n88853                                                NaN   \n88864                                                NaN   \n\n                        PurchaseWhat  \\\n7                                NaN   \n9                                NaN   \n14                               NaN   \n49     I have little or no influence   \n64                               NaN   \n...                              ...   \n88808                            NaN   \n88825                            NaN   \n88852                            NaN   \n88853                            NaN   \n88864                            NaN   \n\n                                      LanguageWorkedWith  \\\n7      Bash/Shell/PowerShell;C;C++;HTML/CSS;Java;Java...   \n9                          C#;Go;JavaScript;Python;R;SQL   \n14     Assembly;Bash/Shell/PowerShell;C;C++;HTML/CSS;...   \n49     Bash/Shell/PowerShell;C;C++;HTML/CSS;Java;Java...   \n64                       Assembly;C;C++;C#;HTML/CSS;Java   \n...                                                  ...   \n88808                                          Other(s):   \n88825               Bash/Shell/PowerShell;Python;SQL;VBA   \n88852  Assembly;C;C++;HTML/CSS;Java;JavaScript;Object...   \n88853   HTML/CSS;Java;JavaScript;Python;Swift;TypeScript   \n88864      Bash/Shell/PowerShell;C++;HTML/CSS;JavaScript   \n\n                                  LanguageDesireNextYear  \\\n7      Bash/Shell/PowerShell;C;C++;Elixir;Erlang;Go;P...   \n9                   C#;Go;JavaScript;Kotlin;Python;R;SQL   \n14     Assembly;Bash/Shell/PowerShell;C;C++;C#;Go;HTM...   \n49                            HTML/CSS;JavaScript;Python   \n64                                                Kotlin   \n...                                                  ...   \n88808                                         Python;SQL   \n88825                                                NaN   \n88852                                                NaN   \n88853                           HTML/CSS;Java;JavaScript   \n88864                                         C++;Python   \n\n                                      DatabaseWorkedWith  \\\n7      Cassandra;Elasticsearch;MongoDB;MySQL;Oracle;R...   \n9      Elasticsearch;MongoDB;Microsoft SQL Server;MyS...   \n14                           MariaDB;MySQL;Oracle;SQLite   \n49     Elasticsearch;Firebase;MariaDB;MongoDB;MySQL;O...   \n64                          Firebase;MySQL;Oracle;SQLite   \n...                                                  ...   \n88808                                                NaN   \n88825                                                NaN   \n88852                                              MySQL   \n88853                               MongoDB;Redis;SQLite   \n88864                                              MySQL   \n\n                                  DatabaseDesireNextYear  \\\n7      Cassandra;DynamoDB;Elasticsearch;Firebase;Mong...   \n9             Elasticsearch;MongoDB;Microsoft SQL Server   \n14     MariaDB;MongoDB;Microsoft SQL Server;MySQL;Ora...   \n49                   Firebase;PostgreSQL;Redis;Other(s):   \n64                                       Firebase;SQLite   \n...                                                  ...   \n88808                                                NaN   \n88825                                                NaN   \n88852                     DynamoDB;Elasticsearch;MongoDB   \n88853                                      MongoDB;Redis   \n88864                                                NaN   \n\n                                      PlatformWorkedWith  \\\n7                    AWS;Docker;Heroku;Linux;MacOS;Slack   \n9                                          Linux;Windows   \n14                                         Linux;Windows   \n49     Arduino;AWS;Heroku;Linux;MacOS;Raspberry Pi;Wo...   \n64                                               Android   \n...                                                  ...   \n88808                                                NaN   \n88825                                                NaN   \n88852        Android;AWS;Google Cloud Platform;WordPress   \n88853                                                NaN   \n88864                                          Other(s):   \n\n                                  PlatformDesireNextYear  \\\n7      Android;Arduino;AWS;Docker;Google Cloud Platfo...   \n9                     Android;Linux;Raspberry Pi;Windows   \n14     Android;Google Cloud Platform;iOS;Linux;MacOS;...   \n49     AWS;Docker;Heroku;Kubernetes;Linux;MacOS;WordP...   \n64                                               Android   \n...                                                  ...   \n88808                                                NaN   \n88825                                                NaN   \n88852                                IBM Cloud or Watson   \n88853                                                NaN   \n88864                                          Other(s):   \n\n                                      WebFrameWorkedWith  \\\n7                          Express;Flask;React.js;Spring   \n9      Angular/Angular.js;ASP.NET;Django;Express;Flas...   \n14                                                   NaN   \n49                           Django;Express;Flask;jQuery   \n64                                               ASP.NET   \n...                                                  ...   \n88808                                                NaN   \n88825                                                NaN   \n88852                                            Laravel   \n88853  Angular/Angular.js;Express;jQuery;React.js;Oth...   \n88864                                                NaN   \n\n                                  WebFrameDesireNextYear  \\\n7                   Django;Express;Flask;React.js;Vue.js   \n9      Angular/Angular.js;ASP.NET;Django;Express;Flas...   \n14     Angular/Angular.js;ASP.NET;Django;Drupal;jQuer...   \n49                  Express;Flask;jQuery;React.js;Vue.js   \n64                                                   NaN   \n...                                                  ...   \n88808                                                NaN   \n88825                                                NaN   \n88852                  Angular/Angular.js;Laravel;Vue.js   \n88853                         Express;React.js;Other(s):   \n88864                                                NaN   \n\n                      MiscTechWorkedWith  \\\n7                  Hadoop;Node.js;Pandas   \n9      .NET;Node.js;Pandas;Torch/PyTorch   \n14                                   NaN   \n49                               Node.js   \n64                                   NaN   \n...                                  ...   \n88808                                NaN   \n88825           Apache Spark;Chef;Puppet   \n88852                                NaN   \n88853                            Node.js   \n88864                                NaN   \n\n                                  MiscTechDesireNextYear  \\\n7      Ansible;Apache Spark;Chef;Hadoop;Node.js;Panda...   \n9                  .NET;Node.js;TensorFlow;Torch/PyTorch   \n14     .NET;.NET Core;Node.js;TensorFlow;Unity 3D;Unr...   \n49                                               Node.js   \n64                                                   NaN   \n...                                                  ...   \n88808                                                NaN   \n88825                                                NaN   \n88852                                            Node.js   \n88853                                            Node.js   \n88864                                                NaN   \n\n                                              DevEnviron        OpSys  \\\n7      Atom;IntelliJ;IPython / Jupyter;PyCharm;Visual...  Linux-based   \n9      Android Studio;Eclipse;IPython / Jupyter;Notep...      Windows   \n14              Atom;NetBeans;Notepad++;Sublime Text;Vim  Linux-based   \n49                          Notepad++;Visual Studio Code        MacOS   \n64                               Android Studio;IntelliJ  Linux-based   \n...                                                  ...          ...   \n88808                                                NaN  Linux-based   \n88825                                        PyCharm;Vim  Linux-based   \n88852  Android Studio;Atom;IntelliJ;Komodo;NetBeans;N...      Windows   \n88853        IntelliJ;Notepad++;Visual Studio Code;Xcode      Windows   \n88864                                          Notepad++  Linux-based   \n\n                                              Containers BlockchainOrg  \\\n7      Development;Testing;Production;Outside of work...           NaN   \n9                                                    NaN    Not at all   \n14                                           Development           NaN   \n49                                               Testing    Not at all   \n64                                                   NaN           NaN   \n...                                                  ...           ...   \n88808                            I do not use containers           NaN   \n88825  Development;Testing;Production;Outside of work...    Not at all   \n88852                            I do not use containers           NaN   \n88853                                                NaN           NaN   \n88864                            I do not use containers           NaN   \n\n                                            BlockchainIs BetterLife  \\\n7      Useful across many domains and could change ma...        Yes   \n9      Useful for immutable record keeping outside of...         No   \n14                                                   NaN        Yes   \n49     Useful for immutable record keeping outside of...        Yes   \n64                                                   NaN        Yes   \n...                                                  ...        ...   \n88808                                                NaN        Yes   \n88825                                                NaN         No   \n88852  Useful across many domains and could change ma...         No   \n88853                                                NaN        Yes   \n88864                                                NaN         No   \n\n                                       ITperson  OffOn  \\\n7                                          SIGH    Yes   \n9                                           Yes    Yes   \n14                                          Yes  What?   \n49                                     Also Yes  What?   \n64                                          Yes  What?   \n...                                         ...    ...   \n88808                                       Yes     No   \n88825                                       Yes  What?   \n88852                                       Yes  What?   \n88853  Fortunately, someone else has that title  What?   \n88864                                  Also Yes  What?   \n\n                    SocialMedia              Extraversion   ScreenName  \\\n7                       YouTube  In real life (in person)       Handle   \n9                       YouTube                   Neither  Screen Name   \n14                      YouTube  In real life (in person)          NaN   \n49                      YouTube  In real life (in person)     Username   \n64                     WhatsApp  In real life (in person)          NaN   \n...                         ...                       ...          ...   \n88808                   YouTube                    Online       UserID   \n88825                 Instagram  In real life (in person)     Username   \n88852                   Twitter                    Online       UserID   \n88853                  LinkedIn                       NaN          NaN   \n88864  I don't use social media                    Online     Username   \n\n      SOVisit1st                          SOVisitFreq  \\\n7           2012                 A few times per week   \n9            NaN               Multiple times per day   \n14          2018                Daily or almost daily   \n49          2012                Daily or almost daily   \n64          2017               Multiple times per day   \n...          ...                                  ...   \n88808       2019  Less than once per month or monthly   \n88825       2018      A few times per month or weekly   \n88852       2012      A few times per month or weekly   \n88853       2011      A few times per month or weekly   \n88864       2014      A few times per month or weekly   \n\n                                               SOVisitTo  \\\n7      Find answers to specific questions;Learn how t...   \n9      Find answers to specific questions;Get a sense...   \n14     Find answers to specific questions;Learn how t...   \n49     Find answers to specific questions;Learn how t...   \n64                    Find answers to specific questions   \n...                                                  ...   \n88808  Find answers to specific questions;Learn how t...   \n88825                 Find answers to specific questions   \n88852  Find answers to specific questions;Learn how t...   \n88853  Find answers to specific questions;Contribute ...   \n88864                 Find answers to specific questions   \n\n                      SOFindAnswer                         SOTimeSaved  \\\n7          Less than once per week  Stack Overflow was slightly faster   \n9               3-5 times per week            They were about the same   \n14     More than 10 times per week            They were about the same   \n49              3-5 times per week  Stack Overflow was slightly faster   \n64     More than 10 times per week  Stack Overflow was slightly faster   \n...                            ...                                 ...   \n88808           1-2 times per week      Stack Overflow was much faster   \n88825      Less than once per week            They were about the same   \n88852      Less than once per week      Stack Overflow was much faster   \n88853      Less than once per week      Stack Overflow was much faster   \n88864      Less than once per week      Stack Overflow was much faster   \n\n       SOHowMuchTime SOAccount  \\\n7      11-30 minutes       Yes   \n9                NaN       Yes   \n14               NaN       Yes   \n49     11-30 minutes       Yes   \n64     11-30 minutes       Yes   \n...              ...       ...   \n88808  31-60 minutes       Yes   \n88825            NaN       Yes   \n88852   0-10 minutes       Yes   \n88853    60+ minutes       Yes   \n88864  11-30 minutes       Yes   \n\n                                              SOPartFreq  \\\n7                    Less than once per month or monthly   \n9                        A few times per month or weekly   \n14                   Less than once per month or monthly   \n49                   Less than once per month or monthly   \n64                                  A few times per week   \n...                                                  ...   \n88808  I have never participated in Q&A on Stack Over...   \n88825  I have never participated in Q&A on Stack Over...   \n88852  I have never participated in Q&A on Stack Over...   \n88853                Less than once per month or monthly   \n88864                                                NaN   \n\n                                                  SOJobs  \\\n7                                                    Yes   \n9                                                    Yes   \n14                                                   Yes   \n49     No, I knew that Stack Overflow had a job board...   \n64     No, I knew that Stack Overflow had a job board...   \n...                                                  ...   \n88808  No, I didn't know that Stack Overflow had a jo...   \n88825  No, I didn't know that Stack Overflow had a jo...   \n88852                                                Yes   \n88853                                                Yes   \n88864  No, I knew that Stack Overflow had a job board...   \n\n                                                EntTeams           SOComm  \\\n7                    No, and I don't know what those are  Yes, definitely   \n9                    No, and I don't know what those are    Yes, somewhat   \n14     No, I've heard of them, but I am not part of a...    Yes, somewhat   \n49                   No, and I don't know what those are  Yes, definitely   \n64                   No, and I don't know what those are         Not sure   \n...                                                  ...              ...   \n88808  No, I've heard of them, but I am not part of a...    Yes, somewhat   \n88825                No, and I don't know what those are          Neutral   \n88852                No, and I don't know what those are  Yes, definitely   \n88853                No, and I don't know what those are    Yes, somewhat   \n88864                                                Yes    Yes, somewhat   \n\n                                           WelcomeChange  \\\n7                  A lot more welcome now than last year   \n9               Somewhat less welcome now than last year   \n14               Just as welcome now as I felt last year   \n49               Just as welcome now as I felt last year   \n64                 A lot more welcome now than last year   \n...                                                  ...   \n88808  Not applicable - I did not use Stack Overflow ...   \n88825           Somewhat more welcome now than last year   \n88852            Just as welcome now as I felt last year   \n88853           Somewhat more welcome now than last year   \n88864  Not applicable - I did not use Stack Overflow ...   \n\n                                            SONewContent   Age Gender Trans  \\\n7      Tech articles written by other developers;Indu...  24.0    Man    No   \n9      Tech articles written by other developers;Tech...   NaN    NaN   NaN   \n14     Tech articles written by other developers;Indu...  20.0    Man    No   \n49     Tech articles written by other developers;Tech...  23.0    Man    No   \n64                                                   NaN  21.0    Man    No   \n...                                                  ...   ...    ...   ...   \n88808  Tech articles written by other developers;Indu...   NaN    NaN   NaN   \n88825  Tech meetups or events in your area;Courses on...   NaN    Man    No   \n88852  Tech articles written by other developers;Indu...  24.0    Man    No   \n88853                                                NaN   NaN    NaN   NaN   \n88864  Industry news about technologies you're intere...  24.0    Man    No   \n\n                     Sexuality    Ethnicity Dependents           SurveyLength  \\\n7      Straight / Heterosexual          NaN        NaN  Appropriate in length   \n9                          NaN          NaN        Yes               Too long   \n14                         NaN          NaN        Yes               Too long   \n49                         NaN  South Asian         No               Too long   \n64                         NaN          NaN        Yes  Appropriate in length   \n...                        ...          ...        ...                    ...   \n88808                      NaN          NaN        NaN                    NaN   \n88825  Straight / Heterosexual          NaN         No               Too long   \n88852  Straight / Heterosexual          NaN        Yes               Too long   \n88853                      NaN          NaN        NaN                    NaN   \n88864                      NaN  South Asian        NaN  Appropriate in length   \n\n                       SurveyEase  \n7      Neither easy nor difficult  \n9                       Difficult  \n14     Neither easy nor difficult  \n49                           Easy  \n64     Neither easy nor difficult  \n...                           ...  \n88808                         NaN  \n88825                   Difficult  \n88852  Neither easy nor difficult  \n88853                         NaN  \n88864                        Easy  \n\n[9061 rows x 85 columns]",
            "text/html": "<div>\n<style scoped>\n    .dataframe tbody tr th:only-of-type {\n        vertical-align: middle;\n    }\n\n    .dataframe tbody tr th {\n        vertical-align: top;\n    }\n\n    .dataframe thead th {\n        text-align: right;\n    }\n</style>\n<table border=\"1\" class=\"dataframe\">\n  <thead>\n    <tr style=\"text-align: right;\">\n      <th></th>\n      <th>Respondent</th>\n      <th>MainBranch</th>\n      <th>Hobbyist</th>\n      <th>OpenSourcer</th>\n      <th>OpenSource</th>\n      <th>Employment</th>\n      <th>Country</th>\n      <th>Student</th>\n      <th>EdLevel</th>\n      <th>UndergradMajor</th>\n      <th>EduOther</th>\n      <th>OrgSize</th>\n      <th>DevType</th>\n      <th>YearsCode</th>\n      <th>Age1stCode</th>\n      <th>YearsCodePro</th>\n      <th>CareerSat</th>\n      <th>JobSat</th>\n      <th>MgrIdiot</th>\n      <th>MgrMoney</th>\n      <th>MgrWant</th>\n      <th>JobSeek</th>\n      <th>LastHireDate</th>\n      <th>LastInt</th>\n      <th>FizzBuzz</th>\n      <th>JobFactors</th>\n      <th>ResumeUpdate</th>\n      <th>CurrencySymbol</th>\n      <th>CurrencyDesc</th>\n      <th>CompTotal</th>\n      <th>CompFreq</th>\n      <th>ConvertedComp</th>\n      <th>WorkWeekHrs</th>\n      <th>WorkPlan</th>\n      <th>WorkChallenge</th>\n      <th>WorkRemote</th>\n      <th>WorkLoc</th>\n      <th>ImpSyn</th>\n      <th>CodeRev</th>\n      <th>CodeRevHrs</th>\n      <th>UnitTests</th>\n      <th>PurchaseHow</th>\n      <th>PurchaseWhat</th>\n      <th>LanguageWorkedWith</th>\n      <th>LanguageDesireNextYear</th>\n      <th>DatabaseWorkedWith</th>\n      <th>DatabaseDesireNextYear</th>\n      <th>PlatformWorkedWith</th>\n      <th>PlatformDesireNextYear</th>\n      <th>WebFrameWorkedWith</th>\n      <th>WebFrameDesireNextYear</th>\n      <th>MiscTechWorkedWith</th>\n      <th>MiscTechDesireNextYear</th>\n      <th>DevEnviron</th>\n      <th>OpSys</th>\n      <th>Containers</th>\n      <th>BlockchainOrg</th>\n      <th>BlockchainIs</th>\n      <th>BetterLife</th>\n      <th>ITperson</th>\n      <th>OffOn</th>\n      <th>SocialMedia</th>\n      <th>Extraversion</th>\n      <th>ScreenName</th>\n      <th>SOVisit1st</th>\n      <th>SOVisitFreq</th>\n      <th>SOVisitTo</th>\n      <th>SOFindAnswer</th>\n      <th>SOTimeSaved</th>\n      <th>SOHowMuchTime</th>\n      <th>SOAccount</th>\n      <th>SOPartFreq</th>\n      <th>SOJobs</th>\n      <th>EntTeams</th>\n      <th>SOComm</th>\n      <th>WelcomeChange</th>\n      <th>SONewContent</th>\n      <th>Age</th>\n      <th>Gender</th>\n      <th>Trans</th>\n      <th>Sexuality</th>\n      <th>Ethnicity</th>\n      <th>Dependents</th>\n      <th>SurveyLength</th>\n      <th>SurveyEase</th>\n    </tr>\n  </thead>\n  <tbody>\n    <tr>\n      <th>7</th>\n      <td>8</td>\n      <td>I code primarily as a hobby</td>\n      <td>Yes</td>\n      <td>Less than once per year</td>\n      <td>OSS is, on average, of HIGHER quality than pro...</td>\n      <td>Not employed, but looking for work</td>\n      <td>India</td>\n      <td>NaN</td>\n      <td>Bachelor’s degree (BA, BS, B.Eng., etc.)</td>\n      <td>Computer science, computer engineering, or sof...</td>\n      <td>Taught yourself a new language, framework, or ...</td>\n      <td>NaN</td>\n      <td>Developer, back-end;Engineer, site reliability</td>\n      <td>8</td>\n      <td>16</td>\n      <td>NaN</td>\n      <td>NaN</td>\n      <td>NaN</td>\n      <td>NaN</td>\n      <td>NaN</td>\n      <td>NaN</td>\n      <td>NaN</td>\n      <td>NaN</td>\n      <td>NaN</td>\n      <td>NaN</td>\n      <td>NaN</td>\n      <td>NaN</td>\n      <td>NaN</td>\n      <td>NaN</td>\n      <td>NaN</td>\n      <td>NaN</td>\n      <td>NaN</td>\n      <td>NaN</td>\n      <td>NaN</td>\n      <td>NaN</td>\n      <td>NaN</td>\n      <td>NaN</td>\n      <td>NaN</td>\n      <td>NaN</td>\n      <td>NaN</td>\n      <td>NaN</td>\n      <td>NaN</td>\n      <td>NaN</td>\n      <td>Bash/Shell/PowerShell;C;C++;HTML/CSS;Java;Java...</td>\n      <td>Bash/Shell/PowerShell;C;C++;Elixir;Erlang;Go;P...</td>\n      <td>Cassandra;Elasticsearch;MongoDB;MySQL;Oracle;R...</td>\n      <td>Cassandra;DynamoDB;Elasticsearch;Firebase;Mong...</td>\n      <td>AWS;Docker;Heroku;Linux;MacOS;Slack</td>\n      <td>Android;Arduino;AWS;Docker;Google Cloud Platfo...</td>\n      <td>Express;Flask;React.js;Spring</td>\n      <td>Django;Express;Flask;React.js;Vue.js</td>\n      <td>Hadoop;Node.js;Pandas</td>\n      <td>Ansible;Apache Spark;Chef;Hadoop;Node.js;Panda...</td>\n      <td>Atom;IntelliJ;IPython / Jupyter;PyCharm;Visual...</td>\n      <td>Linux-based</td>\n      <td>Development;Testing;Production;Outside of work...</td>\n      <td>NaN</td>\n      <td>Useful across many domains and could change ma...</td>\n      <td>Yes</td>\n      <td>SIGH</td>\n      <td>Yes</td>\n      <td>YouTube</td>\n      <td>In real life (in person)</td>\n      <td>Handle</td>\n      <td>2012</td>\n      <td>A few times per week</td>\n      <td>Find answers to specific questions;Learn how t...</td>\n      <td>Less than once per week</td>\n      <td>Stack Overflow was slightly faster</td>\n      <td>11-30 minutes</td>\n      <td>Yes</td>\n      <td>Less than once per month or monthly</td>\n      <td>Yes</td>\n      <td>No, and I don't know what those are</td>\n      <td>Yes, definitely</td>\n      <td>A lot more welcome now than last year</td>\n      <td>Tech articles written by other developers;Indu...</td>\n      <td>24.0</td>\n      <td>Man</td>\n      <td>No</td>\n      <td>Straight / Heterosexual</td>\n      <td>NaN</td>\n      <td>NaN</td>\n      <td>Appropriate in length</td>\n      <td>Neither easy nor difficult</td>\n    </tr>\n    <tr>\n      <th>9</th>\n      <td>10</td>\n      <td>I am a developer by profession</td>\n      <td>Yes</td>\n      <td>Once a month or more often</td>\n      <td>OSS is, on average, of HIGHER quality than pro...</td>\n      <td>Employed full-time</td>\n      <td>India</td>\n      <td>No</td>\n      <td>Master’s degree (MA, MS, M.Eng., MBA, etc.)</td>\n      <td>NaN</td>\n      <td>NaN</td>\n      <td>10,000 or more employees</td>\n      <td>Data or business analyst;Data scientist or mac...</td>\n      <td>12</td>\n      <td>20</td>\n      <td>10</td>\n      <td>Slightly dissatisfied</td>\n      <td>Slightly dissatisfied</td>\n      <td>Somewhat confident</td>\n      <td>Yes</td>\n      <td>Yes</td>\n      <td>I’m not actively looking, but I am open to new...</td>\n      <td>3-4 years ago</td>\n      <td>NaN</td>\n      <td>No</td>\n      <td>Languages, frameworks, and other technologies ...</td>\n      <td>NaN</td>\n      <td>INR</td>\n      <td>Indian rupee</td>\n      <td>950000.0</td>\n      <td>Yearly</td>\n      <td>13293.0</td>\n      <td>70.0</td>\n      <td>There's no schedule or spec; I work on what se...</td>\n      <td>NaN</td>\n      <td>A few days each month</td>\n      <td>Home</td>\n      <td>Far above average</td>\n      <td>Yes, because I see value in code review</td>\n      <td>4.0</td>\n      <td>Yes, it's part of our process</td>\n      <td>NaN</td>\n      <td>NaN</td>\n      <td>C#;Go;JavaScript;Python;R;SQL</td>\n      <td>C#;Go;JavaScript;Kotlin;Python;R;SQL</td>\n      <td>Elasticsearch;MongoDB;Microsoft SQL Server;MyS...</td>\n      <td>Elasticsearch;MongoDB;Microsoft SQL Server</td>\n      <td>Linux;Windows</td>\n      <td>Android;Linux;Raspberry Pi;Windows</td>\n      <td>Angular/Angular.js;ASP.NET;Django;Express;Flas...</td>\n      <td>Angular/Angular.js;ASP.NET;Django;Express;Flas...</td>\n      <td>.NET;Node.js;Pandas;Torch/PyTorch</td>\n      <td>.NET;Node.js;TensorFlow;Torch/PyTorch</td>\n      <td>Android Studio;Eclipse;IPython / Jupyter;Notep...</td>\n      <td>Windows</td>\n      <td>NaN</td>\n      <td>Not at all</td>\n      <td>Useful for immutable record keeping outside of...</td>\n      <td>No</td>\n      <td>Yes</td>\n      <td>Yes</td>\n      <td>YouTube</td>\n      <td>Neither</td>\n      <td>Screen Name</td>\n      <td>NaN</td>\n      <td>Multiple times per day</td>\n      <td>Find answers to specific questions;Get a sense...</td>\n      <td>3-5 times per week</td>\n      <td>They were about the same</td>\n      <td>NaN</td>\n      <td>Yes</td>\n      <td>A few times per month or weekly</td>\n      <td>Yes</td>\n      <td>No, and I don't know what those are</td>\n      <td>Yes, somewhat</td>\n      <td>Somewhat less welcome now than last year</td>\n      <td>Tech articles written by other developers;Tech...</td>\n      <td>NaN</td>\n      <td>NaN</td>\n      <td>NaN</td>\n      <td>NaN</td>\n      <td>NaN</td>\n      <td>Yes</td>\n      <td>Too long</td>\n      <td>Difficult</td>\n    </tr>\n    <tr>\n      <th>14</th>\n      <td>15</td>\n      <td>I am a student who is learning to code</td>\n      <td>Yes</td>\n      <td>Never</td>\n      <td>OSS is, on average, of HIGHER quality than pro...</td>\n      <td>Not employed, but looking for work</td>\n      <td>India</td>\n      <td>Yes, full-time</td>\n      <td>Secondary school (e.g. American high school, G...</td>\n      <td>NaN</td>\n      <td>Taken an online course in programming or softw...</td>\n      <td>NaN</td>\n      <td>Student</td>\n      <td>3</td>\n      <td>13</td>\n      <td>NaN</td>\n      <td>NaN</td>\n      <td>NaN</td>\n      <td>NaN</td>\n      <td>NaN</td>\n      <td>NaN</td>\n      <td>I’m not actively looking, but I am open to new...</td>\n      <td>I've never had a job</td>\n      <td>NaN</td>\n      <td>NaN</td>\n      <td>Industry that I'd be working in;Languages, fra...</td>\n      <td>Something else changed (education, award, medi...</td>\n      <td>NaN</td>\n      <td>NaN</td>\n      <td>NaN</td>\n      <td>NaN</td>\n      <td>NaN</td>\n      <td>NaN</td>\n      <td>NaN</td>\n      <td>NaN</td>\n      <td>NaN</td>\n      <td>NaN</td>\n      <td>NaN</td>\n      <td>NaN</td>\n      <td>NaN</td>\n      <td>NaN</td>\n      <td>NaN</td>\n      <td>NaN</td>\n      <td>Assembly;Bash/Shell/PowerShell;C;C++;HTML/CSS;...</td>\n      <td>Assembly;Bash/Shell/PowerShell;C;C++;C#;Go;HTM...</td>\n      <td>MariaDB;MySQL;Oracle;SQLite</td>\n      <td>MariaDB;MongoDB;Microsoft SQL Server;MySQL;Ora...</td>\n      <td>Linux;Windows</td>\n      <td>Android;Google Cloud Platform;iOS;Linux;MacOS;...</td>\n      <td>NaN</td>\n      <td>Angular/Angular.js;ASP.NET;Django;Drupal;jQuer...</td>\n      <td>NaN</td>\n      <td>.NET;.NET Core;Node.js;TensorFlow;Unity 3D;Unr...</td>\n      <td>Atom;NetBeans;Notepad++;Sublime Text;Vim</td>\n      <td>Linux-based</td>\n      <td>Development</td>\n      <td>NaN</td>\n      <td>NaN</td>\n      <td>Yes</td>\n      <td>Yes</td>\n      <td>What?</td>\n      <td>YouTube</td>\n      <td>In real life (in person)</td>\n      <td>NaN</td>\n      <td>2018</td>\n      <td>Daily or almost daily</td>\n      <td>Find answers to specific questions;Learn how t...</td>\n      <td>More than 10 times per week</td>\n      <td>They were about the same</td>\n      <td>NaN</td>\n      <td>Yes</td>\n      <td>Less than once per month or monthly</td>\n      <td>Yes</td>\n      <td>No, I've heard of them, but I am not part of a...</td>\n      <td>Yes, somewhat</td>\n      <td>Just as welcome now as I felt last year</td>\n      <td>Tech articles written by other developers;Indu...</td>\n      <td>20.0</td>\n      <td>Man</td>\n      <td>No</td>\n      <td>NaN</td>\n      <td>NaN</td>\n      <td>Yes</td>\n      <td>Too long</td>\n      <td>Neither easy nor difficult</td>\n    </tr>\n    <tr>\n      <th>49</th>\n      <td>50</td>\n      <td>I am a developer by profession</td>\n      <td>Yes</td>\n      <td>Once a month or more often</td>\n      <td>OSS is, on average, of LOWER quality than prop...</td>\n      <td>Employed full-time</td>\n      <td>India</td>\n      <td>No</td>\n      <td>Bachelor’s degree (BA, BS, B.Eng., etc.)</td>\n      <td>Another engineering discipline (ex. civil, ele...</td>\n      <td>Received on-the-job training in software devel...</td>\n      <td>10,000 or more employees</td>\n      <td>Developer, back-end;DevOps specialist</td>\n      <td>7</td>\n      <td>15</td>\n      <td>2</td>\n      <td>Slightly satisfied</td>\n      <td>Very satisfied</td>\n      <td>Very confident</td>\n      <td>Not sure</td>\n      <td>Yes</td>\n      <td>I’m not actively looking, but I am open to new...</td>\n      <td>1-2 years ago</td>\n      <td>Write code by hand (e.g., on a whiteboard);Int...</td>\n      <td>No</td>\n      <td>Specific department or team I'd be working on;...</td>\n      <td>I was preparing for a job search</td>\n      <td>INR</td>\n      <td>Indian rupee</td>\n      <td>400000.0</td>\n      <td>Yearly</td>\n      <td>5597.0</td>\n      <td>7.0</td>\n      <td>There is a schedule and/or spec (made by me or...</td>\n      <td>Meetings;Time spent commuting</td>\n      <td>Less than once per month / Never</td>\n      <td>Other place, such as a coworking space or cafe</td>\n      <td>Average</td>\n      <td>No</td>\n      <td>NaN</td>\n      <td>Yes, it's not part of our process but the deve...</td>\n      <td>The CTO, CIO, or other management purchase new...</td>\n      <td>I have little or no influence</td>\n      <td>Bash/Shell/PowerShell;C;C++;HTML/CSS;Java;Java...</td>\n      <td>HTML/CSS;JavaScript;Python</td>\n      <td>Elasticsearch;Firebase;MariaDB;MongoDB;MySQL;O...</td>\n      <td>Firebase;PostgreSQL;Redis;Other(s):</td>\n      <td>Arduino;AWS;Heroku;Linux;MacOS;Raspberry Pi;Wo...</td>\n      <td>AWS;Docker;Heroku;Kubernetes;Linux;MacOS;WordP...</td>\n      <td>Django;Express;Flask;jQuery</td>\n      <td>Express;Flask;jQuery;React.js;Vue.js</td>\n      <td>Node.js</td>\n      <td>Node.js</td>\n      <td>Notepad++;Visual Studio Code</td>\n      <td>MacOS</td>\n      <td>Testing</td>\n      <td>Not at all</td>\n      <td>Useful for immutable record keeping outside of...</td>\n      <td>Yes</td>\n      <td>Also Yes</td>\n      <td>What?</td>\n      <td>YouTube</td>\n      <td>In real life (in person)</td>\n      <td>Username</td>\n      <td>2012</td>\n      <td>Daily or almost daily</td>\n      <td>Find answers to specific questions;Learn how t...</td>\n      <td>3-5 times per week</td>\n      <td>Stack Overflow was slightly faster</td>\n      <td>11-30 minutes</td>\n      <td>Yes</td>\n      <td>Less than once per month or monthly</td>\n      <td>No, I knew that Stack Overflow had a job board...</td>\n      <td>No, and I don't know what those are</td>\n      <td>Yes, definitely</td>\n      <td>Just as welcome now as I felt last year</td>\n      <td>Tech articles written by other developers;Tech...</td>\n      <td>23.0</td>\n      <td>Man</td>\n      <td>No</td>\n      <td>NaN</td>\n      <td>South Asian</td>\n      <td>No</td>\n      <td>Too long</td>\n      <td>Easy</td>\n    </tr>\n    <tr>\n      <th>64</th>\n      <td>65</td>\n      <td>I am a developer by profession</td>\n      <td>Yes</td>\n      <td>Never</td>\n      <td>NaN</td>\n      <td>Employed full-time</td>\n      <td>India</td>\n      <td>No</td>\n      <td>Bachelor’s degree (BA, BS, B.Eng., etc.)</td>\n      <td>Information systems, information technology, o...</td>\n      <td>NaN</td>\n      <td>20 to 99 employees</td>\n      <td>Developer, front-end;Developer, mobile</td>\n      <td>2</td>\n      <td>17</td>\n      <td>2</td>\n      <td>Very satisfied</td>\n      <td>Very satisfied</td>\n      <td>Very confident</td>\n      <td>No</td>\n      <td>Not sure</td>\n      <td>I’m not actively looking, but I am open to new...</td>\n      <td>Less than a year ago</td>\n      <td>Write any code;Solve a brain-teaser style puzz...</td>\n      <td>No</td>\n      <td>Languages, frameworks, and other technologies ...</td>\n      <td>My job status changed (promotion, new job, etc.)</td>\n      <td>INR</td>\n      <td>Indian rupee</td>\n      <td>NaN</td>\n      <td>Monthly</td>\n      <td>NaN</td>\n      <td>48.0</td>\n      <td>There's no schedule or spec; I work on what se...</td>\n      <td>NaN</td>\n      <td>About half the time</td>\n      <td>Office</td>\n      <td>Average</td>\n      <td>Yes, because I see value in code review</td>\n      <td>NaN</td>\n      <td>Yes, it's not part of our process but the deve...</td>\n      <td>Not sure</td>\n      <td>NaN</td>\n      <td>Assembly;C;C++;C#;HTML/CSS;Java</td>\n      <td>Kotlin</td>\n      <td>Firebase;MySQL;Oracle;SQLite</td>\n      <td>Firebase;SQLite</td>\n      <td>Android</td>\n      <td>Android</td>\n      <td>ASP.NET</td>\n      <td>NaN</td>\n      <td>NaN</td>\n      <td>NaN</td>\n      <td>Android Studio;IntelliJ</td>\n      <td>Linux-based</td>\n      <td>NaN</td>\n      <td>NaN</td>\n      <td>NaN</td>\n      <td>Yes</td>\n      <td>Yes</td>\n      <td>What?</td>\n      <td>WhatsApp</td>\n      <td>In real life (in person)</td>\n      <td>NaN</td>\n      <td>2017</td>\n      <td>Multiple times per day</td>\n      <td>Find answers to specific questions</td>\n      <td>More than 10 times per week</td>\n      <td>Stack Overflow was slightly faster</td>\n      <td>11-30 minutes</td>\n      <td>Yes</td>\n      <td>A few times per week</td>\n      <td>No, I knew that Stack Overflow had a job board...</td>\n      <td>No, and I don't know what those are</td>\n      <td>Not sure</td>\n      <td>A lot more welcome now than last year</td>\n      <td>NaN</td>\n      <td>21.0</td>\n      <td>Man</td>\n      <td>No</td>\n      <td>NaN</td>\n      <td>NaN</td>\n      <td>Yes</td>\n      <td>Appropriate in length</td>\n      <td>Neither easy nor difficult</td>\n    </tr>\n    <tr>\n      <th>...</th>\n      <td>...</td>\n      <td>...</td>\n      <td>...</td>\n      <td>...</td>\n      <td>...</td>\n      <td>...</td>\n      <td>...</td>\n      <td>...</td>\n      <td>...</td>\n      <td>...</td>\n      <td>...</td>\n      <td>...</td>\n      <td>...</td>\n      <td>...</td>\n      <td>...</td>\n      <td>...</td>\n      <td>...</td>\n      <td>...</td>\n      <td>...</td>\n      <td>...</td>\n      <td>...</td>\n      <td>...</td>\n      <td>...</td>\n      <td>...</td>\n      <td>...</td>\n      <td>...</td>\n      <td>...</td>\n      <td>...</td>\n      <td>...</td>\n      <td>...</td>\n      <td>...</td>\n      <td>...</td>\n      <td>...</td>\n      <td>...</td>\n      <td>...</td>\n      <td>...</td>\n      <td>...</td>\n      <td>...</td>\n      <td>...</td>\n      <td>...</td>\n      <td>...</td>\n      <td>...</td>\n      <td>...</td>\n      <td>...</td>\n      <td>...</td>\n      <td>...</td>\n      <td>...</td>\n      <td>...</td>\n      <td>...</td>\n      <td>...</td>\n      <td>...</td>\n      <td>...</td>\n      <td>...</td>\n      <td>...</td>\n      <td>...</td>\n      <td>...</td>\n      <td>...</td>\n      <td>...</td>\n      <td>...</td>\n      <td>...</td>\n      <td>...</td>\n      <td>...</td>\n      <td>...</td>\n      <td>...</td>\n      <td>...</td>\n      <td>...</td>\n      <td>...</td>\n      <td>...</td>\n      <td>...</td>\n      <td>...</td>\n      <td>...</td>\n      <td>...</td>\n      <td>...</td>\n      <td>...</td>\n      <td>...</td>\n      <td>...</td>\n      <td>...</td>\n      <td>...</td>\n      <td>...</td>\n      <td>...</td>\n      <td>...</td>\n      <td>...</td>\n      <td>...</td>\n      <td>...</td>\n      <td>...</td>\n    </tr>\n    <tr>\n      <th>88808</th>\n      <td>77339</td>\n      <td>NaN</td>\n      <td>Yes</td>\n      <td>Less than once per year</td>\n      <td>OSS is, on average, of HIGHER quality than pro...</td>\n      <td>Employed full-time</td>\n      <td>India</td>\n      <td>Yes, full-time</td>\n      <td>Bachelor’s degree (BA, BS, B.Eng., etc.)</td>\n      <td>Another engineering discipline (ex. civil, ele...</td>\n      <td>Taken an online course in programming or softw...</td>\n      <td>1,000 to 4,999 employees</td>\n      <td>NaN</td>\n      <td>1</td>\n      <td>27</td>\n      <td>1</td>\n      <td>NaN</td>\n      <td>NaN</td>\n      <td>Somewhat confident</td>\n      <td>Yes</td>\n      <td>Yes</td>\n      <td>NaN</td>\n      <td>NaN</td>\n      <td>NaN</td>\n      <td>NaN</td>\n      <td>NaN</td>\n      <td>NaN</td>\n      <td>NaN</td>\n      <td>NaN</td>\n      <td>NaN</td>\n      <td>NaN</td>\n      <td>NaN</td>\n      <td>NaN</td>\n      <td>NaN</td>\n      <td>NaN</td>\n      <td>NaN</td>\n      <td>NaN</td>\n      <td>NaN</td>\n      <td>NaN</td>\n      <td>NaN</td>\n      <td>NaN</td>\n      <td>NaN</td>\n      <td>NaN</td>\n      <td>Other(s):</td>\n      <td>Python;SQL</td>\n      <td>NaN</td>\n      <td>NaN</td>\n      <td>NaN</td>\n      <td>NaN</td>\n      <td>NaN</td>\n      <td>NaN</td>\n      <td>NaN</td>\n      <td>NaN</td>\n      <td>NaN</td>\n      <td>Linux-based</td>\n      <td>I do not use containers</td>\n      <td>NaN</td>\n      <td>NaN</td>\n      <td>Yes</td>\n      <td>Yes</td>\n      <td>No</td>\n      <td>YouTube</td>\n      <td>Online</td>\n      <td>UserID</td>\n      <td>2019</td>\n      <td>Less than once per month or monthly</td>\n      <td>Find answers to specific questions;Learn how t...</td>\n      <td>1-2 times per week</td>\n      <td>Stack Overflow was much faster</td>\n      <td>31-60 minutes</td>\n      <td>Yes</td>\n      <td>I have never participated in Q&amp;A on Stack Over...</td>\n      <td>No, I didn't know that Stack Overflow had a jo...</td>\n      <td>No, I've heard of them, but I am not part of a...</td>\n      <td>Yes, somewhat</td>\n      <td>Not applicable - I did not use Stack Overflow ...</td>\n      <td>Tech articles written by other developers;Indu...</td>\n      <td>NaN</td>\n      <td>NaN</td>\n      <td>NaN</td>\n      <td>NaN</td>\n      <td>NaN</td>\n      <td>NaN</td>\n      <td>NaN</td>\n      <td>NaN</td>\n    </tr>\n    <tr>\n      <th>88825</th>\n      <td>79795</td>\n      <td>NaN</td>\n      <td>Yes</td>\n      <td>Less than once a month but more than once per ...</td>\n      <td>OSS is, on average, of HIGHER quality than pro...</td>\n      <td>Employed full-time</td>\n      <td>India</td>\n      <td>No</td>\n      <td>Bachelor’s degree (BA, BS, B.Eng., etc.)</td>\n      <td>Computer science, computer engineering, or sof...</td>\n      <td>Taken an online course in programming or softw...</td>\n      <td>500 to 999 employees</td>\n      <td>Developer, QA or test</td>\n      <td>6</td>\n      <td>17</td>\n      <td>5</td>\n      <td>NaN</td>\n      <td>NaN</td>\n      <td>Somewhat confident</td>\n      <td>No</td>\n      <td>Not sure</td>\n      <td>NaN</td>\n      <td>NaN</td>\n      <td>NaN</td>\n      <td>NaN</td>\n      <td>NaN</td>\n      <td>NaN</td>\n      <td>NaN</td>\n      <td>NaN</td>\n      <td>NaN</td>\n      <td>NaN</td>\n      <td>NaN</td>\n      <td>NaN</td>\n      <td>NaN</td>\n      <td>NaN</td>\n      <td>NaN</td>\n      <td>NaN</td>\n      <td>NaN</td>\n      <td>NaN</td>\n      <td>NaN</td>\n      <td>NaN</td>\n      <td>NaN</td>\n      <td>NaN</td>\n      <td>Bash/Shell/PowerShell;Python;SQL;VBA</td>\n      <td>NaN</td>\n      <td>NaN</td>\n      <td>NaN</td>\n      <td>NaN</td>\n      <td>NaN</td>\n      <td>NaN</td>\n      <td>NaN</td>\n      <td>Apache Spark;Chef;Puppet</td>\n      <td>NaN</td>\n      <td>PyCharm;Vim</td>\n      <td>Linux-based</td>\n      <td>Development;Testing;Production;Outside of work...</td>\n      <td>Not at all</td>\n      <td>NaN</td>\n      <td>No</td>\n      <td>Yes</td>\n      <td>What?</td>\n      <td>Instagram</td>\n      <td>In real life (in person)</td>\n      <td>Username</td>\n      <td>2018</td>\n      <td>A few times per month or weekly</td>\n      <td>Find answers to specific questions</td>\n      <td>Less than once per week</td>\n      <td>They were about the same</td>\n      <td>NaN</td>\n      <td>Yes</td>\n      <td>I have never participated in Q&amp;A on Stack Over...</td>\n      <td>No, I didn't know that Stack Overflow had a jo...</td>\n      <td>No, and I don't know what those are</td>\n      <td>Neutral</td>\n      <td>Somewhat more welcome now than last year</td>\n      <td>Tech meetups or events in your area;Courses on...</td>\n      <td>NaN</td>\n      <td>Man</td>\n      <td>No</td>\n      <td>Straight / Heterosexual</td>\n      <td>NaN</td>\n      <td>No</td>\n      <td>Too long</td>\n      <td>Difficult</td>\n    </tr>\n    <tr>\n      <th>88852</th>\n      <td>83862</td>\n      <td>NaN</td>\n      <td>Yes</td>\n      <td>Once a month or more often</td>\n      <td>OSS is, on average, of HIGHER quality than pro...</td>\n      <td>Employed full-time</td>\n      <td>India</td>\n      <td>Yes, full-time</td>\n      <td>Bachelor’s degree (BA, BS, B.Eng., etc.)</td>\n      <td>NaN</td>\n      <td>Participated in a hackathon</td>\n      <td>NaN</td>\n      <td>Data or business analyst;Student</td>\n      <td>1</td>\n      <td>18</td>\n      <td>Less than 1 year</td>\n      <td>NaN</td>\n      <td>NaN</td>\n      <td>Very confident</td>\n      <td>Not sure</td>\n      <td>Yes</td>\n      <td>NaN</td>\n      <td>NaN</td>\n      <td>NaN</td>\n      <td>NaN</td>\n      <td>NaN</td>\n      <td>NaN</td>\n      <td>NaN</td>\n      <td>NaN</td>\n      <td>NaN</td>\n      <td>NaN</td>\n      <td>NaN</td>\n      <td>NaN</td>\n      <td>NaN</td>\n      <td>NaN</td>\n      <td>NaN</td>\n      <td>NaN</td>\n      <td>NaN</td>\n      <td>NaN</td>\n      <td>NaN</td>\n      <td>NaN</td>\n      <td>NaN</td>\n      <td>NaN</td>\n      <td>Assembly;C;C++;HTML/CSS;Java;JavaScript;Object...</td>\n      <td>NaN</td>\n      <td>MySQL</td>\n      <td>DynamoDB;Elasticsearch;MongoDB</td>\n      <td>Android;AWS;Google Cloud Platform;WordPress</td>\n      <td>IBM Cloud or Watson</td>\n      <td>Laravel</td>\n      <td>Angular/Angular.js;Laravel;Vue.js</td>\n      <td>NaN</td>\n      <td>Node.js</td>\n      <td>Android Studio;Atom;IntelliJ;Komodo;NetBeans;N...</td>\n      <td>Windows</td>\n      <td>I do not use containers</td>\n      <td>NaN</td>\n      <td>Useful across many domains and could change ma...</td>\n      <td>No</td>\n      <td>Yes</td>\n      <td>What?</td>\n      <td>Twitter</td>\n      <td>Online</td>\n      <td>UserID</td>\n      <td>2012</td>\n      <td>A few times per month or weekly</td>\n      <td>Find answers to specific questions;Learn how t...</td>\n      <td>Less than once per week</td>\n      <td>Stack Overflow was much faster</td>\n      <td>0-10 minutes</td>\n      <td>Yes</td>\n      <td>I have never participated in Q&amp;A on Stack Over...</td>\n      <td>Yes</td>\n      <td>No, and I don't know what those are</td>\n      <td>Yes, definitely</td>\n      <td>Just as welcome now as I felt last year</td>\n      <td>Tech articles written by other developers;Indu...</td>\n      <td>24.0</td>\n      <td>Man</td>\n      <td>No</td>\n      <td>Straight / Heterosexual</td>\n      <td>NaN</td>\n      <td>Yes</td>\n      <td>Too long</td>\n      <td>Neither easy nor difficult</td>\n    </tr>\n    <tr>\n      <th>88853</th>\n      <td>84299</td>\n      <td>NaN</td>\n      <td>Yes</td>\n      <td>Never</td>\n      <td>The quality of OSS and closed source software ...</td>\n      <td>Employed full-time</td>\n      <td>India</td>\n      <td>Yes, full-time</td>\n      <td>Bachelor’s degree (BA, BS, B.Eng., etc.)</td>\n      <td>Web development or web design</td>\n      <td>Taken an online course in programming or softw...</td>\n      <td>100 to 499 employees</td>\n      <td>Developer, back-end;Developer, front-end;Devel...</td>\n      <td>12</td>\n      <td>25</td>\n      <td>12</td>\n      <td>NaN</td>\n      <td>NaN</td>\n      <td>NaN</td>\n      <td>NaN</td>\n      <td>NaN</td>\n      <td>NaN</td>\n      <td>NaN</td>\n      <td>NaN</td>\n      <td>NaN</td>\n      <td>NaN</td>\n      <td>NaN</td>\n      <td>NaN</td>\n      <td>NaN</td>\n      <td>NaN</td>\n      <td>NaN</td>\n      <td>NaN</td>\n      <td>NaN</td>\n      <td>NaN</td>\n      <td>NaN</td>\n      <td>NaN</td>\n      <td>NaN</td>\n      <td>NaN</td>\n      <td>NaN</td>\n      <td>NaN</td>\n      <td>NaN</td>\n      <td>NaN</td>\n      <td>NaN</td>\n      <td>HTML/CSS;Java;JavaScript;Python;Swift;TypeScript</td>\n      <td>HTML/CSS;Java;JavaScript</td>\n      <td>MongoDB;Redis;SQLite</td>\n      <td>MongoDB;Redis</td>\n      <td>NaN</td>\n      <td>NaN</td>\n      <td>Angular/Angular.js;Express;jQuery;React.js;Oth...</td>\n      <td>Express;React.js;Other(s):</td>\n      <td>Node.js</td>\n      <td>Node.js</td>\n      <td>IntelliJ;Notepad++;Visual Studio Code;Xcode</td>\n      <td>Windows</td>\n      <td>NaN</td>\n      <td>NaN</td>\n      <td>NaN</td>\n      <td>Yes</td>\n      <td>Fortunately, someone else has that title</td>\n      <td>What?</td>\n      <td>LinkedIn</td>\n      <td>NaN</td>\n      <td>NaN</td>\n      <td>2011</td>\n      <td>A few times per month or weekly</td>\n      <td>Find answers to specific questions;Contribute ...</td>\n      <td>Less than once per week</td>\n      <td>Stack Overflow was much faster</td>\n      <td>60+ minutes</td>\n      <td>Yes</td>\n      <td>Less than once per month or monthly</td>\n      <td>Yes</td>\n      <td>No, and I don't know what those are</td>\n      <td>Yes, somewhat</td>\n      <td>Somewhat more welcome now than last year</td>\n      <td>NaN</td>\n      <td>NaN</td>\n      <td>NaN</td>\n      <td>NaN</td>\n      <td>NaN</td>\n      <td>NaN</td>\n      <td>NaN</td>\n      <td>NaN</td>\n      <td>NaN</td>\n    </tr>\n    <tr>\n      <th>88864</th>\n      <td>86012</td>\n      <td>NaN</td>\n      <td>Yes</td>\n      <td>Once a month or more often</td>\n      <td>OSS is, on average, of HIGHER quality than pro...</td>\n      <td>Employed full-time</td>\n      <td>India</td>\n      <td>No</td>\n      <td>Master’s degree (MA, MS, M.Eng., MBA, etc.)</td>\n      <td>Another engineering discipline (ex. civil, ele...</td>\n      <td>Taught yourself a new language, framework, or ...</td>\n      <td>100 to 499 employees</td>\n      <td>Academic researcher;Educator</td>\n      <td>5</td>\n      <td>15</td>\n      <td>NaN</td>\n      <td>NaN</td>\n      <td>NaN</td>\n      <td>Somewhat confident</td>\n      <td>No</td>\n      <td>Not sure</td>\n      <td>NaN</td>\n      <td>NaN</td>\n      <td>NaN</td>\n      <td>NaN</td>\n      <td>NaN</td>\n      <td>NaN</td>\n      <td>NaN</td>\n      <td>NaN</td>\n      <td>NaN</td>\n      <td>NaN</td>\n      <td>NaN</td>\n      <td>NaN</td>\n      <td>NaN</td>\n      <td>NaN</td>\n      <td>NaN</td>\n      <td>NaN</td>\n      <td>NaN</td>\n      <td>NaN</td>\n      <td>NaN</td>\n      <td>NaN</td>\n      <td>NaN</td>\n      <td>NaN</td>\n      <td>Bash/Shell/PowerShell;C++;HTML/CSS;JavaScript</td>\n      <td>C++;Python</td>\n      <td>MySQL</td>\n      <td>NaN</td>\n      <td>Other(s):</td>\n      <td>Other(s):</td>\n      <td>NaN</td>\n      <td>NaN</td>\n      <td>NaN</td>\n      <td>NaN</td>\n      <td>Notepad++</td>\n      <td>Linux-based</td>\n      <td>I do not use containers</td>\n      <td>NaN</td>\n      <td>NaN</td>\n      <td>No</td>\n      <td>Also Yes</td>\n      <td>What?</td>\n      <td>I don't use social media</td>\n      <td>Online</td>\n      <td>Username</td>\n      <td>2014</td>\n      <td>A few times per month or weekly</td>\n      <td>Find answers to specific questions</td>\n      <td>Less than once per week</td>\n      <td>Stack Overflow was much faster</td>\n      <td>11-30 minutes</td>\n      <td>Yes</td>\n      <td>NaN</td>\n      <td>No, I knew that Stack Overflow had a job board...</td>\n      <td>Yes</td>\n      <td>Yes, somewhat</td>\n      <td>Not applicable - I did not use Stack Overflow ...</td>\n      <td>Industry news about technologies you're intere...</td>\n      <td>24.0</td>\n      <td>Man</td>\n      <td>No</td>\n      <td>NaN</td>\n      <td>South Asian</td>\n      <td>NaN</td>\n      <td>Appropriate in length</td>\n      <td>Easy</td>\n    </tr>\n  </tbody>\n</table>\n<p>9061 rows × 85 columns</p>\n</div>"
          },
          "metadata": {}
        }
      ],
      "outputs_reference": null,
      "execution_count": null,
      "block_group": "a135f0886d6e4744aafa82afacff96c6"
    },
    {
      "cell_type": "markdown",
      "source": "## data  ulteration",
      "metadata": {
        "formattedRanges": [],
        "cell_id": "0b5f9f2c569f49acbb353eb87cbc43ac",
        "deepnote_cell_type": "text-cell-h2"
      },
      "block_group": "6a9cd3c2efbc499f89de4676b60a955c"
    },
    {
      "cell_type": "code",
      "source": "people.columns = [x.title() for x in people.columns]",
      "metadata": {
        "source_hash": null,
        "execution_start": 1709700184700,
        "execution_millis": 435,
        "deepnote_to_be_reexecuted": false,
        "cell_id": "c52fd021dbcd4d7ab14bb8fa9e0b0174",
        "deepnote_cell_type": "code"
      },
      "outputs": [],
      "outputs_reference": null,
      "execution_count": null,
      "block_group": "a2da29ce6c524a9a9f92ae122b3cb788"
    },
    {
      "cell_type": "code",
      "source": "people.info()",
      "metadata": {
        "source_hash": null,
        "execution_start": 1709700184701,
        "execution_millis": 435,
        "deepnote_to_be_reexecuted": false,
        "cell_id": "831a8e38ec5d46e8bc09b79062911f15",
        "deepnote_cell_type": "code"
      },
      "outputs": [
        {
          "name": "stdout",
          "text": "<class 'pandas.core.frame.DataFrame'>\nRangeIndex: 3 entries, 0 to 2\nData columns (total 4 columns):\n #   Column  Non-Null Count  Dtype \n---  ------  --------------  ----- \n 0   Index   3 non-null      int64 \n 1   First   3 non-null      object\n 2   Last    3 non-null      object\n 3   Email   3 non-null      object\ndtypes: int64(1), object(3)\nmemory usage: 228.0+ bytes\n",
          "output_type": "stream"
        }
      ],
      "outputs_reference": null,
      "execution_count": null,
      "block_group": "8515bb133d624120b3b86b8146e8e68e"
    },
    {
      "cell_type": "code",
      "source": "# median of data frame list\nmedian = df['ConvertedComp'].median()\nmedian",
      "metadata": {
        "source_hash": null,
        "execution_start": 1709700184701,
        "execution_millis": 435,
        "deepnote_to_be_reexecuted": false,
        "cell_id": "d937ebf4459a4231abd02d0ac36752c6",
        "deepnote_cell_type": "code"
      },
      "outputs": [
        {
          "output_type": "execute_result",
          "execution_count": 15,
          "data": {
            "text/plain": "57287.0"
          },
          "metadata": {}
        }
      ],
      "outputs_reference": null,
      "execution_count": null,
      "block_group": "cd630363a3334b28aa64d765db6e59b3"
    },
    {
      "cell_type": "code",
      "source": "df.describe()",
      "metadata": {
        "source_hash": null,
        "execution_start": 1709700184712,
        "execution_millis": 425,
        "deepnote_to_be_reexecuted": false,
        "cell_id": "6ab7e8565b3d41ce9afe124be21022e3",
        "deepnote_cell_type": "code"
      },
      "outputs": [
        {
          "output_type": "execute_result",
          "execution_count": 16,
          "data": {
            "application/vnd.deepnote.dataframe.v3+json": {
              "column_count": 6,
              "row_count": 8,
              "columns": [
                {
                  "name": "Respondent",
                  "dtype": "float64",
                  "stats": {
                    "unique_count": 6,
                    "nan_count": 0,
                    "min": "1.0",
                    "max": "88883.0",
                    "histogram": [
                      {
                        "bin_start": 1,
                        "bin_end": 8889.2,
                        "count": 1
                      },
                      {
                        "bin_start": 8889.2,
                        "bin_end": 17777.4,
                        "count": 0
                      },
                      {
                        "bin_start": 17777.4,
                        "bin_end": 26665.600000000002,
                        "count": 2
                      },
                      {
                        "bin_start": 26665.600000000002,
                        "bin_end": 35553.8,
                        "count": 0
                      },
                      {
                        "bin_start": 35553.8,
                        "bin_end": 44442,
                        "count": 0
                      },
                      {
                        "bin_start": 44442,
                        "bin_end": 53330.200000000004,
                        "count": 2
                      },
                      {
                        "bin_start": 53330.200000000004,
                        "bin_end": 62218.40000000001,
                        "count": 0
                      },
                      {
                        "bin_start": 62218.40000000001,
                        "bin_end": 71106.6,
                        "count": 1
                      },
                      {
                        "bin_start": 71106.6,
                        "bin_end": 79994.8,
                        "count": 0
                      },
                      {
                        "bin_start": 79994.8,
                        "bin_end": 88883,
                        "count": 2
                      }
                    ]
                  }
                },
                {
                  "name": "CompTotal",
                  "dtype": "float64",
                  "stats": {
                    "unique_count": 8,
                    "nan_count": 0,
                    "min": "0.0",
                    "max": "1e+16",
                    "histogram": [
                      {
                        "bin_start": 0,
                        "bin_end": 1000000000000000,
                        "count": 7
                      },
                      {
                        "bin_start": 1000000000000000,
                        "bin_end": 2000000000000000,
                        "count": 0
                      },
                      {
                        "bin_start": 2000000000000000,
                        "bin_end": 3000000000000000,
                        "count": 0
                      },
                      {
                        "bin_start": 3000000000000000,
                        "bin_end": 4000000000000000,
                        "count": 0
                      },
                      {
                        "bin_start": 4000000000000000,
                        "bin_end": 5000000000000000,
                        "count": 0
                      },
                      {
                        "bin_start": 5000000000000000,
                        "bin_end": 6000000000000000,
                        "count": 0
                      },
                      {
                        "bin_start": 6000000000000000,
                        "bin_end": 7000000000000000,
                        "count": 0
                      },
                      {
                        "bin_start": 7000000000000000,
                        "bin_end": 8000000000000000,
                        "count": 0
                      },
                      {
                        "bin_start": 8000000000000000,
                        "bin_end": 9000000000000000,
                        "count": 0
                      },
                      {
                        "bin_start": 9000000000000000,
                        "bin_end": 10000000000000000,
                        "count": 1
                      }
                    ]
                  }
                },
                {
                  "name": "ConvertedComp",
                  "dtype": "float64",
                  "stats": {
                    "unique_count": 8,
                    "nan_count": 0,
                    "min": "0.0",
                    "max": "2000000.0",
                    "histogram": [
                      {
                        "bin_start": 0,
                        "bin_end": 200000,
                        "count": 6
                      },
                      {
                        "bin_start": 200000,
                        "bin_end": 400000,
                        "count": 1
                      },
                      {
                        "bin_start": 400000,
                        "bin_end": 600000,
                        "count": 0
                      },
                      {
                        "bin_start": 600000,
                        "bin_end": 800000,
                        "count": 0
                      },
                      {
                        "bin_start": 800000,
                        "bin_end": 1000000,
                        "count": 0
                      },
                      {
                        "bin_start": 1000000,
                        "bin_end": 1200000,
                        "count": 0
                      },
                      {
                        "bin_start": 1200000,
                        "bin_end": 1400000,
                        "count": 0
                      },
                      {
                        "bin_start": 1400000,
                        "bin_end": 1600000,
                        "count": 0
                      },
                      {
                        "bin_start": 1600000,
                        "bin_end": 1800000,
                        "count": 0
                      },
                      {
                        "bin_start": 1800000,
                        "bin_end": 2000000,
                        "count": 1
                      }
                    ]
                  }
                },
                {
                  "name": "WorkWeekHrs",
                  "dtype": "float64",
                  "stats": {
                    "unique_count": 7,
                    "nan_count": 0,
                    "min": "1.0",
                    "max": "64503.0",
                    "histogram": [
                      {
                        "bin_start": 1,
                        "bin_end": 6451.2,
                        "count": 7
                      },
                      {
                        "bin_start": 6451.2,
                        "bin_end": 12901.4,
                        "count": 0
                      },
                      {
                        "bin_start": 12901.4,
                        "bin_end": 19351.6,
                        "count": 0
                      },
                      {
                        "bin_start": 19351.6,
                        "bin_end": 25801.8,
                        "count": 0
                      },
                      {
                        "bin_start": 25801.8,
                        "bin_end": 32252,
                        "count": 0
                      },
                      {
                        "bin_start": 32252,
                        "bin_end": 38702.2,
                        "count": 0
                      },
                      {
                        "bin_start": 38702.2,
                        "bin_end": 45152.4,
                        "count": 0
                      },
                      {
                        "bin_start": 45152.4,
                        "bin_end": 51602.6,
                        "count": 0
                      },
                      {
                        "bin_start": 51602.6,
                        "bin_end": 58052.799999999996,
                        "count": 0
                      },
                      {
                        "bin_start": 58052.799999999996,
                        "bin_end": 64503,
                        "count": 1
                      }
                    ]
                  }
                },
                {
                  "name": "CodeRevHrs",
                  "dtype": "float64",
                  "stats": {
                    "unique_count": 8,
                    "nan_count": 0,
                    "min": "0.0",
                    "max": "49790.0",
                    "histogram": [
                      {
                        "bin_start": 0,
                        "bin_end": 4979,
                        "count": 7
                      },
                      {
                        "bin_start": 4979,
                        "bin_end": 9958,
                        "count": 0
                      },
                      {
                        "bin_start": 9958,
                        "bin_end": 14937,
                        "count": 0
                      },
                      {
                        "bin_start": 14937,
                        "bin_end": 19916,
                        "count": 0
                      },
                      {
                        "bin_start": 19916,
                        "bin_end": 24895,
                        "count": 0
                      },
                      {
                        "bin_start": 24895,
                        "bin_end": 29874,
                        "count": 0
                      },
                      {
                        "bin_start": 29874,
                        "bin_end": 34853,
                        "count": 0
                      },
                      {
                        "bin_start": 34853,
                        "bin_end": 39832,
                        "count": 0
                      },
                      {
                        "bin_start": 39832,
                        "bin_end": 44811,
                        "count": 0
                      },
                      {
                        "bin_start": 44811,
                        "bin_end": 49790,
                        "count": 1
                      }
                    ]
                  }
                },
                {
                  "name": "Age",
                  "dtype": "float64",
                  "stats": {
                    "unique_count": 8,
                    "nan_count": 0,
                    "min": "1.0",
                    "max": "79210.0",
                    "histogram": [
                      {
                        "bin_start": 1,
                        "bin_end": 7921.9,
                        "count": 7
                      },
                      {
                        "bin_start": 7921.9,
                        "bin_end": 15842.8,
                        "count": 0
                      },
                      {
                        "bin_start": 15842.8,
                        "bin_end": 23763.699999999997,
                        "count": 0
                      },
                      {
                        "bin_start": 23763.699999999997,
                        "bin_end": 31684.6,
                        "count": 0
                      },
                      {
                        "bin_start": 31684.6,
                        "bin_end": 39605.5,
                        "count": 0
                      },
                      {
                        "bin_start": 39605.5,
                        "bin_end": 47526.399999999994,
                        "count": 0
                      },
                      {
                        "bin_start": 47526.399999999994,
                        "bin_end": 55447.299999999996,
                        "count": 0
                      },
                      {
                        "bin_start": 55447.299999999996,
                        "bin_end": 63368.2,
                        "count": 0
                      },
                      {
                        "bin_start": 63368.2,
                        "bin_end": 71289.09999999999,
                        "count": 0
                      },
                      {
                        "bin_start": 71289.09999999999,
                        "bin_end": 79210,
                        "count": 1
                      }
                    ]
                  }
                },
                {
                  "name": "_deepnote_index_column",
                  "dtype": "object"
                }
              ],
              "rows": [
                {
                  "Respondent": 88883,
                  "CompTotal": 55945,
                  "ConvertedComp": 55823,
                  "WorkWeekHrs": 64503,
                  "CodeRevHrs": 49790,
                  "Age": 79210,
                  "_deepnote_index_column": "count"
                },
                {
                  "Respondent": 44442,
                  "CompTotal": 551901414118.7638,
                  "ConvertedComp": 127110.73842323056,
                  "WorkWeekHrs": 42.12719740950033,
                  "CodeRevHrs": 5.084307692307693,
                  "Age": 30.336698649160457,
                  "_deepnote_index_column": "mean"
                },
                {
                  "Respondent": 25658.456325352076,
                  "CompTotal": 73319262253440.33,
                  "ConvertedComp": 284152.3038420792,
                  "WorkWeekHrs": 37.287610411234226,
                  "CodeRevHrs": 5.513930907567535,
                  "Age": 9.178390165152573,
                  "_deepnote_index_column": "std"
                },
                {
                  "Respondent": 1,
                  "CompTotal": 0,
                  "ConvertedComp": 0,
                  "WorkWeekHrs": 1,
                  "CodeRevHrs": 0,
                  "Age": 1,
                  "_deepnote_index_column": "min"
                },
                {
                  "Respondent": 22221.5,
                  "CompTotal": 20000,
                  "ConvertedComp": 25777.5,
                  "WorkWeekHrs": 40,
                  "CodeRevHrs": 2,
                  "Age": 24,
                  "_deepnote_index_column": "25%"
                },
                {
                  "Respondent": 44442,
                  "CompTotal": 62000,
                  "ConvertedComp": 57287,
                  "WorkWeekHrs": 40,
                  "CodeRevHrs": 4,
                  "Age": 29,
                  "_deepnote_index_column": "50%"
                },
                {
                  "Respondent": 66662.5,
                  "CompTotal": 120000,
                  "ConvertedComp": 100000,
                  "WorkWeekHrs": 44.75,
                  "CodeRevHrs": 6,
                  "Age": 35,
                  "_deepnote_index_column": "75%"
                },
                {
                  "Respondent": 88883,
                  "CompTotal": 10000000000000000,
                  "ConvertedComp": 2000000,
                  "WorkWeekHrs": 4850,
                  "CodeRevHrs": 99,
                  "Age": 99,
                  "_deepnote_index_column": "max"
                }
              ]
            },
            "text/plain": "         Respondent     CompTotal  ConvertedComp   WorkWeekHrs    CodeRevHrs  \\\ncount  88883.000000  5.594500e+04   5.582300e+04  64503.000000  49790.000000   \nmean   44442.000000  5.519014e+11   1.271107e+05     42.127197      5.084308   \nstd    25658.456325  7.331926e+13   2.841523e+05     37.287610      5.513931   \nmin        1.000000  0.000000e+00   0.000000e+00      1.000000      0.000000   \n25%    22221.500000  2.000000e+04   2.577750e+04     40.000000      2.000000   \n50%    44442.000000  6.200000e+04   5.728700e+04     40.000000      4.000000   \n75%    66662.500000  1.200000e+05   1.000000e+05     44.750000      6.000000   \nmax    88883.000000  1.000000e+16   2.000000e+06   4850.000000     99.000000   \n\n                Age  \ncount  79210.000000  \nmean      30.336699  \nstd        9.178390  \nmin        1.000000  \n25%       24.000000  \n50%       29.000000  \n75%       35.000000  \nmax       99.000000  ",
            "text/html": "<div>\n<style scoped>\n    .dataframe tbody tr th:only-of-type {\n        vertical-align: middle;\n    }\n\n    .dataframe tbody tr th {\n        vertical-align: top;\n    }\n\n    .dataframe thead th {\n        text-align: right;\n    }\n</style>\n<table border=\"1\" class=\"dataframe\">\n  <thead>\n    <tr style=\"text-align: right;\">\n      <th></th>\n      <th>Respondent</th>\n      <th>CompTotal</th>\n      <th>ConvertedComp</th>\n      <th>WorkWeekHrs</th>\n      <th>CodeRevHrs</th>\n      <th>Age</th>\n    </tr>\n  </thead>\n  <tbody>\n    <tr>\n      <th>count</th>\n      <td>88883.000000</td>\n      <td>5.594500e+04</td>\n      <td>5.582300e+04</td>\n      <td>64503.000000</td>\n      <td>49790.000000</td>\n      <td>79210.000000</td>\n    </tr>\n    <tr>\n      <th>mean</th>\n      <td>44442.000000</td>\n      <td>5.519014e+11</td>\n      <td>1.271107e+05</td>\n      <td>42.127197</td>\n      <td>5.084308</td>\n      <td>30.336699</td>\n    </tr>\n    <tr>\n      <th>std</th>\n      <td>25658.456325</td>\n      <td>7.331926e+13</td>\n      <td>2.841523e+05</td>\n      <td>37.287610</td>\n      <td>5.513931</td>\n      <td>9.178390</td>\n    </tr>\n    <tr>\n      <th>min</th>\n      <td>1.000000</td>\n      <td>0.000000e+00</td>\n      <td>0.000000e+00</td>\n      <td>1.000000</td>\n      <td>0.000000</td>\n      <td>1.000000</td>\n    </tr>\n    <tr>\n      <th>25%</th>\n      <td>22221.500000</td>\n      <td>2.000000e+04</td>\n      <td>2.577750e+04</td>\n      <td>40.000000</td>\n      <td>2.000000</td>\n      <td>24.000000</td>\n    </tr>\n    <tr>\n      <th>50%</th>\n      <td>44442.000000</td>\n      <td>6.200000e+04</td>\n      <td>5.728700e+04</td>\n      <td>40.000000</td>\n      <td>4.000000</td>\n      <td>29.000000</td>\n    </tr>\n    <tr>\n      <th>75%</th>\n      <td>66662.500000</td>\n      <td>1.200000e+05</td>\n      <td>1.000000e+05</td>\n      <td>44.750000</td>\n      <td>6.000000</td>\n      <td>35.000000</td>\n    </tr>\n    <tr>\n      <th>max</th>\n      <td>88883.000000</td>\n      <td>1.000000e+16</td>\n      <td>2.000000e+06</td>\n      <td>4850.000000</td>\n      <td>99.000000</td>\n      <td>99.000000</td>\n    </tr>\n  </tbody>\n</table>\n</div>"
          },
          "metadata": {}
        }
      ],
      "outputs_reference": null,
      "execution_count": null,
      "block_group": "da5961efe8a34b2eadd7f8068ec7f315"
    },
    {
      "cell_type": "code",
      "source": "country_grp = df.groupby(['Country'])",
      "metadata": {
        "source_hash": null,
        "execution_start": 1709700184777,
        "execution_millis": 360,
        "deepnote_to_be_reexecuted": false,
        "cell_id": "6618a1d13210496387edc5cdaf6a283f",
        "deepnote_cell_type": "code"
      },
      "outputs": [],
      "outputs_reference": null,
      "execution_count": null,
      "block_group": "7f4c24f8a11548b89a3dde39ad73ac57"
    },
    {
      "cell_type": "code",
      "source": "country_grp['ConvertedComp'].agg([\"median\",\"mean\"]).loc['Germany']",
      "metadata": {
        "source_hash": null,
        "execution_start": 1709700184794,
        "execution_millis": 343,
        "deepnote_to_be_reexecuted": false,
        "cell_id": "4b496944fd8e493daf98708da701414d",
        "deepnote_cell_type": "code"
      },
      "outputs": [
        {
          "output_type": "execute_result",
          "execution_count": 18,
          "data": {
            "text/plain": "median     63016.000000\nmean      109256.884066\nName: Germany, dtype: float64"
          },
          "metadata": {}
        }
      ],
      "outputs_reference": null,
      "execution_count": null,
      "block_group": "32c9b9aed1d1465c9647e3ed8a1a15fe"
    },
    {
      "cell_type": "code",
      "source": "country_grp['LanguageWorkedWith'].apply(lambda x:x.str.contains(\"Python\").sum())",
      "metadata": {
        "source_hash": null,
        "execution_start": 1709700184826,
        "execution_millis": 312,
        "deepnote_to_be_reexecuted": false,
        "cell_id": "10be2879fb9848058effcfb49d145a23",
        "deepnote_cell_type": "code"
      },
      "outputs": [
        {
          "output_type": "execute_result",
          "execution_count": 19,
          "data": {
            "text/plain": "Country\nAfghanistan                              8\nAlbania                                 23\nAlgeria                                 40\nAndorra                                  0\nAngola                                   2\n                                        ..\nVenezuela, Bolivarian Republic of...    28\nViet Nam                                78\nYemen                                    3\nZambia                                   4\nZimbabwe                                14\nName: LanguageWorkedWith, Length: 179, dtype: int64"
          },
          "metadata": {}
        }
      ],
      "outputs_reference": null,
      "execution_count": null,
      "block_group": "b855b459bac146839543fb754ab66ea8"
    },
    {
      "cell_type": "code",
      "source": "country_respondent = df[\"Country\"].value_counts()\ncountry_respondent",
      "metadata": {
        "source_hash": null,
        "execution_start": 1709700184944,
        "execution_millis": 504,
        "deepnote_to_be_reexecuted": false,
        "cell_id": "3590ae46d7954e6e9dee77fee6681e6c",
        "deepnote_cell_type": "code"
      },
      "outputs": [
        {
          "output_type": "execute_result",
          "execution_count": 20,
          "data": {
            "text/plain": "Country\nUnited States                       20949\nIndia                                9061\nGermany                              5866\nUnited Kingdom                       5737\nCanada                               3395\n                                    ...  \nDominica                                1\nSaint Vincent and the Grenadines        1\nNorth Korea                             1\nSao Tome and Principe                   1\nChad                                    1\nName: count, Length: 179, dtype: int64"
          },
          "metadata": {}
        }
      ],
      "outputs_reference": null,
      "execution_count": null,
      "block_group": "7d1655f3811748cda2d03dd4c9968415"
    },
    {
      "cell_type": "code",
      "source": "country_users_python = country_grp['LanguageWorkedWith'].apply(lambda x:x.str.contains(\"Python\").sum())\ncountry_users_python",
      "metadata": {
        "source_hash": null,
        "execution_start": 1709700184948,
        "execution_millis": 501,
        "deepnote_to_be_reexecuted": false,
        "cell_id": "8e5a5834d4534ac3ba2e14fb413f0f92",
        "deepnote_cell_type": "code"
      },
      "outputs": [
        {
          "output_type": "execute_result",
          "execution_count": 21,
          "data": {
            "text/plain": "Country\nAfghanistan                              8\nAlbania                                 23\nAlgeria                                 40\nAndorra                                  0\nAngola                                   2\n                                        ..\nVenezuela, Bolivarian Republic of...    28\nViet Nam                                78\nYemen                                    3\nZambia                                   4\nZimbabwe                                14\nName: LanguageWorkedWith, Length: 179, dtype: int64"
          },
          "metadata": {}
        }
      ],
      "outputs_reference": null,
      "execution_count": null,
      "block_group": "65e42b428fe742b58038426bc433fdd2"
    },
    {
      "cell_type": "code",
      "source": "python_df = pd.concat([country_respondent,country_users_python],axis=\"columns\",sort=False)\npython_df",
      "metadata": {
        "source_hash": null,
        "execution_start": 1709700185050,
        "execution_millis": 399,
        "deepnote_to_be_reexecuted": false,
        "cell_id": "057926b37f0d4285a577039dc80b6ea4",
        "deepnote_cell_type": "code"
      },
      "outputs": [
        {
          "output_type": "execute_result",
          "execution_count": 22,
          "data": {
            "application/vnd.deepnote.dataframe.v3+json": {
              "column_count": 2,
              "row_count": 179,
              "columns": [
                {
                  "name": "count",
                  "dtype": "int64",
                  "stats": {
                    "unique_count": 116,
                    "nan_count": 0,
                    "min": "1",
                    "max": "20949",
                    "histogram": [
                      {
                        "bin_start": 1,
                        "bin_end": 2095.8,
                        "count": 173
                      },
                      {
                        "bin_start": 2095.8,
                        "bin_end": 4190.6,
                        "count": 2
                      },
                      {
                        "bin_start": 4190.6,
                        "bin_end": 6285.400000000001,
                        "count": 2
                      },
                      {
                        "bin_start": 6285.400000000001,
                        "bin_end": 8380.2,
                        "count": 0
                      },
                      {
                        "bin_start": 8380.2,
                        "bin_end": 10475,
                        "count": 1
                      },
                      {
                        "bin_start": 10475,
                        "bin_end": 12569.800000000001,
                        "count": 0
                      },
                      {
                        "bin_start": 12569.800000000001,
                        "bin_end": 14664.600000000002,
                        "count": 0
                      },
                      {
                        "bin_start": 14664.600000000002,
                        "bin_end": 16759.4,
                        "count": 0
                      },
                      {
                        "bin_start": 16759.4,
                        "bin_end": 18854.2,
                        "count": 0
                      },
                      {
                        "bin_start": 18854.2,
                        "bin_end": 20949,
                        "count": 1
                      }
                    ]
                  }
                },
                {
                  "name": "LanguageWorkedWith",
                  "dtype": "int64",
                  "stats": {
                    "unique_count": 93,
                    "nan_count": 0,
                    "min": "0",
                    "max": "10083",
                    "histogram": [
                      {
                        "bin_start": 0,
                        "bin_end": 1008.3,
                        "count": 173
                      },
                      {
                        "bin_start": 1008.3,
                        "bin_end": 2016.6,
                        "count": 2
                      },
                      {
                        "bin_start": 2016.6,
                        "bin_end": 3024.8999999999996,
                        "count": 2
                      },
                      {
                        "bin_start": 3024.8999999999996,
                        "bin_end": 4033.2,
                        "count": 1
                      },
                      {
                        "bin_start": 4033.2,
                        "bin_end": 5041.5,
                        "count": 0
                      },
                      {
                        "bin_start": 5041.5,
                        "bin_end": 6049.799999999999,
                        "count": 0
                      },
                      {
                        "bin_start": 6049.799999999999,
                        "bin_end": 7058.099999999999,
                        "count": 0
                      },
                      {
                        "bin_start": 7058.099999999999,
                        "bin_end": 8066.4,
                        "count": 0
                      },
                      {
                        "bin_start": 8066.4,
                        "bin_end": 9074.699999999999,
                        "count": 0
                      },
                      {
                        "bin_start": 9074.699999999999,
                        "bin_end": 10083,
                        "count": 1
                      }
                    ]
                  }
                },
                {
                  "name": "_deepnote_index_column",
                  "dtype": "object"
                }
              ],
              "rows": [
                {
                  "count": 20949,
                  "LanguageWorkedWith": 10083,
                  "_deepnote_index_column": "United States"
                },
                {
                  "count": 9061,
                  "LanguageWorkedWith": 3105,
                  "_deepnote_index_column": "India"
                },
                {
                  "count": 5866,
                  "LanguageWorkedWith": 2451,
                  "_deepnote_index_column": "Germany"
                },
                {
                  "count": 5737,
                  "LanguageWorkedWith": 2384,
                  "_deepnote_index_column": "United Kingdom"
                },
                {
                  "count": 3395,
                  "LanguageWorkedWith": 1558,
                  "_deepnote_index_column": "Canada"
                },
                {
                  "count": 2391,
                  "LanguageWorkedWith": 1054,
                  "_deepnote_index_column": "France"
                },
                {
                  "count": 1948,
                  "LanguageWorkedWith": 767,
                  "_deepnote_index_column": "Brazil"
                },
                {
                  "count": 1922,
                  "LanguageWorkedWith": 751,
                  "_deepnote_index_column": "Poland"
                },
                {
                  "count": 1903,
                  "LanguageWorkedWith": 790,
                  "_deepnote_index_column": "Australia"
                },
                {
                  "count": 1852,
                  "LanguageWorkedWith": 767,
                  "_deepnote_index_column": "Netherlands"
                }
              ]
            },
            "text/plain": "                                  count  LanguageWorkedWith\nCountry                                                    \nUnited States                     20949               10083\nIndia                              9061                3105\nGermany                            5866                2451\nUnited Kingdom                     5737                2384\nCanada                             3395                1558\n...                                 ...                 ...\nDominica                              1                   1\nSaint Vincent and the Grenadines      1                   0\nNorth Korea                           1                   0\nSao Tome and Principe                 1                   1\nChad                                  1                   0\n\n[179 rows x 2 columns]",
            "text/html": "<div>\n<style scoped>\n    .dataframe tbody tr th:only-of-type {\n        vertical-align: middle;\n    }\n\n    .dataframe tbody tr th {\n        vertical-align: top;\n    }\n\n    .dataframe thead th {\n        text-align: right;\n    }\n</style>\n<table border=\"1\" class=\"dataframe\">\n  <thead>\n    <tr style=\"text-align: right;\">\n      <th></th>\n      <th>count</th>\n      <th>LanguageWorkedWith</th>\n    </tr>\n    <tr>\n      <th>Country</th>\n      <th></th>\n      <th></th>\n    </tr>\n  </thead>\n  <tbody>\n    <tr>\n      <th>United States</th>\n      <td>20949</td>\n      <td>10083</td>\n    </tr>\n    <tr>\n      <th>India</th>\n      <td>9061</td>\n      <td>3105</td>\n    </tr>\n    <tr>\n      <th>Germany</th>\n      <td>5866</td>\n      <td>2451</td>\n    </tr>\n    <tr>\n      <th>United Kingdom</th>\n      <td>5737</td>\n      <td>2384</td>\n    </tr>\n    <tr>\n      <th>Canada</th>\n      <td>3395</td>\n      <td>1558</td>\n    </tr>\n    <tr>\n      <th>...</th>\n      <td>...</td>\n      <td>...</td>\n    </tr>\n    <tr>\n      <th>Dominica</th>\n      <td>1</td>\n      <td>1</td>\n    </tr>\n    <tr>\n      <th>Saint Vincent and the Grenadines</th>\n      <td>1</td>\n      <td>0</td>\n    </tr>\n    <tr>\n      <th>North Korea</th>\n      <td>1</td>\n      <td>0</td>\n    </tr>\n    <tr>\n      <th>Sao Tome and Principe</th>\n      <td>1</td>\n      <td>1</td>\n    </tr>\n    <tr>\n      <th>Chad</th>\n      <td>1</td>\n      <td>0</td>\n    </tr>\n  </tbody>\n</table>\n<p>179 rows × 2 columns</p>\n</div>"
          },
          "metadata": {}
        }
      ],
      "outputs_reference": null,
      "execution_count": null,
      "block_group": "74f4562211f849fb81165e5d9f1b51ae"
    },
    {
      "cell_type": "code",
      "source": "python_df.rename(columns=({\"count\":\"totalNoofProgramer\",\"LanguageWorkedWith\":\"TolNoofPyhtonProgramer\"}),inplace=True)",
      "metadata": {
        "source_hash": null,
        "execution_start": 1709700185075,
        "execution_millis": 375,
        "deepnote_to_be_reexecuted": false,
        "cell_id": "7fad32b99d9c437c95067a6195c4fcd7",
        "deepnote_cell_type": "code"
      },
      "outputs": [],
      "outputs_reference": null,
      "execution_count": null,
      "block_group": "d6109c055ced485c9d94ccbecdea45a2"
    },
    {
      "cell_type": "code",
      "source": "#find percentage\npython_df[\"Pyhton_Percentnge\"]=(python_df[\"TolNoofPyhtonProgramer\"]/python_df[\"totalNoofProgramer\"])*100\npython_df",
      "metadata": {
        "source_hash": null,
        "execution_start": 1709700185080,
        "execution_millis": 370,
        "deepnote_to_be_reexecuted": false,
        "cell_id": "848669117dc047c9b7307817bf0ce39c",
        "deepnote_cell_type": "code"
      },
      "outputs": [
        {
          "output_type": "execute_result",
          "execution_count": 24,
          "data": {
            "application/vnd.deepnote.dataframe.v3+json": {
              "column_count": 3,
              "row_count": 179,
              "columns": [
                {
                  "name": "totalNoofProgramer",
                  "dtype": "int64",
                  "stats": {
                    "unique_count": 116,
                    "nan_count": 0,
                    "min": "1",
                    "max": "20949",
                    "histogram": [
                      {
                        "bin_start": 1,
                        "bin_end": 2095.8,
                        "count": 173
                      },
                      {
                        "bin_start": 2095.8,
                        "bin_end": 4190.6,
                        "count": 2
                      },
                      {
                        "bin_start": 4190.6,
                        "bin_end": 6285.400000000001,
                        "count": 2
                      },
                      {
                        "bin_start": 6285.400000000001,
                        "bin_end": 8380.2,
                        "count": 0
                      },
                      {
                        "bin_start": 8380.2,
                        "bin_end": 10475,
                        "count": 1
                      },
                      {
                        "bin_start": 10475,
                        "bin_end": 12569.800000000001,
                        "count": 0
                      },
                      {
                        "bin_start": 12569.800000000001,
                        "bin_end": 14664.600000000002,
                        "count": 0
                      },
                      {
                        "bin_start": 14664.600000000002,
                        "bin_end": 16759.4,
                        "count": 0
                      },
                      {
                        "bin_start": 16759.4,
                        "bin_end": 18854.2,
                        "count": 0
                      },
                      {
                        "bin_start": 18854.2,
                        "bin_end": 20949,
                        "count": 1
                      }
                    ]
                  }
                },
                {
                  "name": "TolNoofPyhtonProgramer",
                  "dtype": "int64",
                  "stats": {
                    "unique_count": 93,
                    "nan_count": 0,
                    "min": "0",
                    "max": "10083",
                    "histogram": [
                      {
                        "bin_start": 0,
                        "bin_end": 1008.3,
                        "count": 173
                      },
                      {
                        "bin_start": 1008.3,
                        "bin_end": 2016.6,
                        "count": 2
                      },
                      {
                        "bin_start": 2016.6,
                        "bin_end": 3024.8999999999996,
                        "count": 2
                      },
                      {
                        "bin_start": 3024.8999999999996,
                        "bin_end": 4033.2,
                        "count": 1
                      },
                      {
                        "bin_start": 4033.2,
                        "bin_end": 5041.5,
                        "count": 0
                      },
                      {
                        "bin_start": 5041.5,
                        "bin_end": 6049.799999999999,
                        "count": 0
                      },
                      {
                        "bin_start": 6049.799999999999,
                        "bin_end": 7058.099999999999,
                        "count": 0
                      },
                      {
                        "bin_start": 7058.099999999999,
                        "bin_end": 8066.4,
                        "count": 0
                      },
                      {
                        "bin_start": 8066.4,
                        "bin_end": 9074.699999999999,
                        "count": 0
                      },
                      {
                        "bin_start": 9074.699999999999,
                        "bin_end": 10083,
                        "count": 1
                      }
                    ]
                  }
                },
                {
                  "name": "Pyhton_Percentnge",
                  "dtype": "float64",
                  "stats": {
                    "unique_count": 131,
                    "nan_count": 0,
                    "min": "0.0",
                    "max": "100.0",
                    "histogram": [
                      {
                        "bin_start": 0,
                        "bin_end": 10,
                        "count": 17
                      },
                      {
                        "bin_start": 10,
                        "bin_end": 20,
                        "count": 6
                      },
                      {
                        "bin_start": 20,
                        "bin_end": 30,
                        "count": 25
                      },
                      {
                        "bin_start": 30,
                        "bin_end": 40,
                        "count": 69
                      },
                      {
                        "bin_start": 40,
                        "bin_end": 50,
                        "count": 38
                      },
                      {
                        "bin_start": 50,
                        "bin_end": 60,
                        "count": 10
                      },
                      {
                        "bin_start": 60,
                        "bin_end": 70,
                        "count": 8
                      },
                      {
                        "bin_start": 70,
                        "bin_end": 80,
                        "count": 1
                      },
                      {
                        "bin_start": 80,
                        "bin_end": 90,
                        "count": 1
                      },
                      {
                        "bin_start": 90,
                        "bin_end": 100,
                        "count": 4
                      }
                    ]
                  }
                },
                {
                  "name": "_deepnote_index_column",
                  "dtype": "object"
                }
              ],
              "rows": [
                {
                  "totalNoofProgramer": 20949,
                  "TolNoofPyhtonProgramer": 10083,
                  "Pyhton_Percentnge": 48.13117571244451,
                  "_deepnote_index_column": "United States"
                },
                {
                  "totalNoofProgramer": 9061,
                  "TolNoofPyhtonProgramer": 3105,
                  "Pyhton_Percentnge": 34.267740867453924,
                  "_deepnote_index_column": "India"
                },
                {
                  "totalNoofProgramer": 5866,
                  "TolNoofPyhtonProgramer": 2451,
                  "Pyhton_Percentnge": 41.783157176951924,
                  "_deepnote_index_column": "Germany"
                },
                {
                  "totalNoofProgramer": 5737,
                  "TolNoofPyhtonProgramer": 2384,
                  "Pyhton_Percentnge": 41.55481959212132,
                  "_deepnote_index_column": "United Kingdom"
                },
                {
                  "totalNoofProgramer": 3395,
                  "TolNoofPyhtonProgramer": 1558,
                  "Pyhton_Percentnge": 45.89101620029455,
                  "_deepnote_index_column": "Canada"
                },
                {
                  "totalNoofProgramer": 2391,
                  "TolNoofPyhtonProgramer": 1054,
                  "Pyhton_Percentnge": 44.08197406942701,
                  "_deepnote_index_column": "France"
                },
                {
                  "totalNoofProgramer": 1948,
                  "TolNoofPyhtonProgramer": 767,
                  "Pyhton_Percentnge": 39.37371663244353,
                  "_deepnote_index_column": "Brazil"
                },
                {
                  "totalNoofProgramer": 1922,
                  "TolNoofPyhtonProgramer": 751,
                  "Pyhton_Percentnge": 39.07388137356919,
                  "_deepnote_index_column": "Poland"
                },
                {
                  "totalNoofProgramer": 1903,
                  "TolNoofPyhtonProgramer": 790,
                  "Pyhton_Percentnge": 41.51339989490278,
                  "_deepnote_index_column": "Australia"
                },
                {
                  "totalNoofProgramer": 1852,
                  "TolNoofPyhtonProgramer": 767,
                  "Pyhton_Percentnge": 41.414686825054,
                  "_deepnote_index_column": "Netherlands"
                }
              ]
            },
            "text/plain": "                                  totalNoofProgramer  TolNoofPyhtonProgramer  \\\nCountry                                                                        \nUnited States                                  20949                   10083   \nIndia                                           9061                    3105   \nGermany                                         5866                    2451   \nUnited Kingdom                                  5737                    2384   \nCanada                                          3395                    1558   \n...                                              ...                     ...   \nDominica                                           1                       1   \nSaint Vincent and the Grenadines                   1                       0   \nNorth Korea                                        1                       0   \nSao Tome and Principe                              1                       1   \nChad                                               1                       0   \n\n                                  Pyhton_Percentnge  \nCountry                                              \nUnited States                             48.131176  \nIndia                                     34.267741  \nGermany                                   41.783157  \nUnited Kingdom                            41.554820  \nCanada                                    45.891016  \n...                                             ...  \nDominica                                 100.000000  \nSaint Vincent and the Grenadines           0.000000  \nNorth Korea                                0.000000  \nSao Tome and Principe                    100.000000  \nChad                                       0.000000  \n\n[179 rows x 3 columns]",
            "text/html": "<div>\n<style scoped>\n    .dataframe tbody tr th:only-of-type {\n        vertical-align: middle;\n    }\n\n    .dataframe tbody tr th {\n        vertical-align: top;\n    }\n\n    .dataframe thead th {\n        text-align: right;\n    }\n</style>\n<table border=\"1\" class=\"dataframe\">\n  <thead>\n    <tr style=\"text-align: right;\">\n      <th></th>\n      <th>totalNoofProgramer</th>\n      <th>TolNoofPyhtonProgramer</th>\n      <th>Pyhton_Percentnge</th>\n    </tr>\n    <tr>\n      <th>Country</th>\n      <th></th>\n      <th></th>\n      <th></th>\n    </tr>\n  </thead>\n  <tbody>\n    <tr>\n      <th>United States</th>\n      <td>20949</td>\n      <td>10083</td>\n      <td>48.131176</td>\n    </tr>\n    <tr>\n      <th>India</th>\n      <td>9061</td>\n      <td>3105</td>\n      <td>34.267741</td>\n    </tr>\n    <tr>\n      <th>Germany</th>\n      <td>5866</td>\n      <td>2451</td>\n      <td>41.783157</td>\n    </tr>\n    <tr>\n      <th>United Kingdom</th>\n      <td>5737</td>\n      <td>2384</td>\n      <td>41.554820</td>\n    </tr>\n    <tr>\n      <th>Canada</th>\n      <td>3395</td>\n      <td>1558</td>\n      <td>45.891016</td>\n    </tr>\n    <tr>\n      <th>...</th>\n      <td>...</td>\n      <td>...</td>\n      <td>...</td>\n    </tr>\n    <tr>\n      <th>Dominica</th>\n      <td>1</td>\n      <td>1</td>\n      <td>100.000000</td>\n    </tr>\n    <tr>\n      <th>Saint Vincent and the Grenadines</th>\n      <td>1</td>\n      <td>0</td>\n      <td>0.000000</td>\n    </tr>\n    <tr>\n      <th>North Korea</th>\n      <td>1</td>\n      <td>0</td>\n      <td>0.000000</td>\n    </tr>\n    <tr>\n      <th>Sao Tome and Principe</th>\n      <td>1</td>\n      <td>1</td>\n      <td>100.000000</td>\n    </tr>\n    <tr>\n      <th>Chad</th>\n      <td>1</td>\n      <td>0</td>\n      <td>0.000000</td>\n    </tr>\n  </tbody>\n</table>\n<p>179 rows × 3 columns</p>\n</div>"
          },
          "metadata": {}
        }
      ],
      "outputs_reference": null,
      "execution_count": null,
      "block_group": "4a7c6bbd8c7047558524a52f720d8476"
    },
    {
      "cell_type": "code",
      "source": "python_df.sort_values(by=\"Pyhton_Percentnge\",ascending=False,inplace=True)\npython_df",
      "metadata": {
        "source_hash": null,
        "execution_start": 1709700185095,
        "execution_millis": 355,
        "deepnote_to_be_reexecuted": false,
        "cell_id": "d922174651694291816710f13ffb2136",
        "deepnote_cell_type": "code"
      },
      "outputs": [
        {
          "output_type": "execute_result",
          "execution_count": 25,
          "data": {
            "application/vnd.deepnote.dataframe.v3+json": {
              "column_count": 3,
              "row_count": 179,
              "columns": [
                {
                  "name": "totalNoofProgramer",
                  "dtype": "int64",
                  "stats": {
                    "unique_count": 116,
                    "nan_count": 0,
                    "min": "1",
                    "max": "20949",
                    "histogram": [
                      {
                        "bin_start": 1,
                        "bin_end": 2095.8,
                        "count": 173
                      },
                      {
                        "bin_start": 2095.8,
                        "bin_end": 4190.6,
                        "count": 2
                      },
                      {
                        "bin_start": 4190.6,
                        "bin_end": 6285.400000000001,
                        "count": 2
                      },
                      {
                        "bin_start": 6285.400000000001,
                        "bin_end": 8380.2,
                        "count": 0
                      },
                      {
                        "bin_start": 8380.2,
                        "bin_end": 10475,
                        "count": 1
                      },
                      {
                        "bin_start": 10475,
                        "bin_end": 12569.800000000001,
                        "count": 0
                      },
                      {
                        "bin_start": 12569.800000000001,
                        "bin_end": 14664.600000000002,
                        "count": 0
                      },
                      {
                        "bin_start": 14664.600000000002,
                        "bin_end": 16759.4,
                        "count": 0
                      },
                      {
                        "bin_start": 16759.4,
                        "bin_end": 18854.2,
                        "count": 0
                      },
                      {
                        "bin_start": 18854.2,
                        "bin_end": 20949,
                        "count": 1
                      }
                    ]
                  }
                },
                {
                  "name": "TolNoofPyhtonProgramer",
                  "dtype": "int64",
                  "stats": {
                    "unique_count": 93,
                    "nan_count": 0,
                    "min": "0",
                    "max": "10083",
                    "histogram": [
                      {
                        "bin_start": 0,
                        "bin_end": 1008.3,
                        "count": 173
                      },
                      {
                        "bin_start": 1008.3,
                        "bin_end": 2016.6,
                        "count": 2
                      },
                      {
                        "bin_start": 2016.6,
                        "bin_end": 3024.8999999999996,
                        "count": 2
                      },
                      {
                        "bin_start": 3024.8999999999996,
                        "bin_end": 4033.2,
                        "count": 1
                      },
                      {
                        "bin_start": 4033.2,
                        "bin_end": 5041.5,
                        "count": 0
                      },
                      {
                        "bin_start": 5041.5,
                        "bin_end": 6049.799999999999,
                        "count": 0
                      },
                      {
                        "bin_start": 6049.799999999999,
                        "bin_end": 7058.099999999999,
                        "count": 0
                      },
                      {
                        "bin_start": 7058.099999999999,
                        "bin_end": 8066.4,
                        "count": 0
                      },
                      {
                        "bin_start": 8066.4,
                        "bin_end": 9074.699999999999,
                        "count": 0
                      },
                      {
                        "bin_start": 9074.699999999999,
                        "bin_end": 10083,
                        "count": 1
                      }
                    ]
                  }
                },
                {
                  "name": "Pyhton_Percentnge",
                  "dtype": "float64",
                  "stats": {
                    "unique_count": 131,
                    "nan_count": 0,
                    "min": "0.0",
                    "max": "100.0",
                    "histogram": [
                      {
                        "bin_start": 0,
                        "bin_end": 10,
                        "count": 17
                      },
                      {
                        "bin_start": 10,
                        "bin_end": 20,
                        "count": 6
                      },
                      {
                        "bin_start": 20,
                        "bin_end": 30,
                        "count": 25
                      },
                      {
                        "bin_start": 30,
                        "bin_end": 40,
                        "count": 69
                      },
                      {
                        "bin_start": 40,
                        "bin_end": 50,
                        "count": 38
                      },
                      {
                        "bin_start": 50,
                        "bin_end": 60,
                        "count": 10
                      },
                      {
                        "bin_start": 60,
                        "bin_end": 70,
                        "count": 8
                      },
                      {
                        "bin_start": 70,
                        "bin_end": 80,
                        "count": 1
                      },
                      {
                        "bin_start": 80,
                        "bin_end": 90,
                        "count": 1
                      },
                      {
                        "bin_start": 90,
                        "bin_end": 100,
                        "count": 4
                      }
                    ]
                  }
                },
                {
                  "name": "_deepnote_index_column",
                  "dtype": "object"
                }
              ],
              "rows": [
                {
                  "totalNoofProgramer": 1,
                  "TolNoofPyhtonProgramer": 1,
                  "Pyhton_Percentnge": 100,
                  "_deepnote_index_column": "Sao Tome and Principe"
                },
                {
                  "totalNoofProgramer": 1,
                  "TolNoofPyhtonProgramer": 1,
                  "Pyhton_Percentnge": 100,
                  "_deepnote_index_column": "Niger"
                },
                {
                  "totalNoofProgramer": 1,
                  "TolNoofPyhtonProgramer": 1,
                  "Pyhton_Percentnge": 100,
                  "_deepnote_index_column": "Timor-Leste"
                },
                {
                  "totalNoofProgramer": 1,
                  "TolNoofPyhtonProgramer": 1,
                  "Pyhton_Percentnge": 100,
                  "_deepnote_index_column": "Dominica"
                },
                {
                  "totalNoofProgramer": 7,
                  "TolNoofPyhtonProgramer": 6,
                  "Pyhton_Percentnge": 85.71428571428571,
                  "_deepnote_index_column": "Turkmenistan"
                },
                {
                  "totalNoofProgramer": 7,
                  "TolNoofPyhtonProgramer": 5,
                  "Pyhton_Percentnge": 71.42857142857143,
                  "_deepnote_index_column": "Mauritania"
                },
                {
                  "totalNoofProgramer": 3,
                  "TolNoofPyhtonProgramer": 2,
                  "Pyhton_Percentnge": 66.66666666666666,
                  "_deepnote_index_column": "Guyana"
                },
                {
                  "totalNoofProgramer": 3,
                  "TolNoofPyhtonProgramer": 2,
                  "Pyhton_Percentnge": 66.66666666666666,
                  "_deepnote_index_column": "Guinea"
                },
                {
                  "totalNoofProgramer": 3,
                  "TolNoofPyhtonProgramer": 2,
                  "Pyhton_Percentnge": 66.66666666666666,
                  "_deepnote_index_column": "Bahamas"
                },
                {
                  "totalNoofProgramer": 72,
                  "TolNoofPyhtonProgramer": 47,
                  "Pyhton_Percentnge": 65.27777777777779,
                  "_deepnote_index_column": "Uganda"
                }
              ]
            },
            "text/plain": "                                  totalNoofProgramer  TolNoofPyhtonProgramer  \\\nCountry                                                                        \nSao Tome and Principe                              1                       1   \nNiger                                              1                       1   \nTimor-Leste                                        1                       1   \nDominica                                           1                       1   \nTurkmenistan                                       7                       6   \n...                                              ...                     ...   \nBurkina Faso                                       4                       0   \nCape Verde                                         3                       0   \nLao People's Democratic Republic                   3                       0   \nBrunei Darussalam                                  1                       0   \nMalawi                                             2                       0   \n\n                                  Pyhton_Percentnge  \nCountry                                              \nSao Tome and Principe                    100.000000  \nNiger                                    100.000000  \nTimor-Leste                              100.000000  \nDominica                                 100.000000  \nTurkmenistan                              85.714286  \n...                                             ...  \nBurkina Faso                               0.000000  \nCape Verde                                 0.000000  \nLao People's Democratic Republic           0.000000  \nBrunei Darussalam                          0.000000  \nMalawi                                     0.000000  \n\n[179 rows x 3 columns]",
            "text/html": "<div>\n<style scoped>\n    .dataframe tbody tr th:only-of-type {\n        vertical-align: middle;\n    }\n\n    .dataframe tbody tr th {\n        vertical-align: top;\n    }\n\n    .dataframe thead th {\n        text-align: right;\n    }\n</style>\n<table border=\"1\" class=\"dataframe\">\n  <thead>\n    <tr style=\"text-align: right;\">\n      <th></th>\n      <th>totalNoofProgramer</th>\n      <th>TolNoofPyhtonProgramer</th>\n      <th>Pyhton_Percentnge</th>\n    </tr>\n    <tr>\n      <th>Country</th>\n      <th></th>\n      <th></th>\n      <th></th>\n    </tr>\n  </thead>\n  <tbody>\n    <tr>\n      <th>Sao Tome and Principe</th>\n      <td>1</td>\n      <td>1</td>\n      <td>100.000000</td>\n    </tr>\n    <tr>\n      <th>Niger</th>\n      <td>1</td>\n      <td>1</td>\n      <td>100.000000</td>\n    </tr>\n    <tr>\n      <th>Timor-Leste</th>\n      <td>1</td>\n      <td>1</td>\n      <td>100.000000</td>\n    </tr>\n    <tr>\n      <th>Dominica</th>\n      <td>1</td>\n      <td>1</td>\n      <td>100.000000</td>\n    </tr>\n    <tr>\n      <th>Turkmenistan</th>\n      <td>7</td>\n      <td>6</td>\n      <td>85.714286</td>\n    </tr>\n    <tr>\n      <th>...</th>\n      <td>...</td>\n      <td>...</td>\n      <td>...</td>\n    </tr>\n    <tr>\n      <th>Burkina Faso</th>\n      <td>4</td>\n      <td>0</td>\n      <td>0.000000</td>\n    </tr>\n    <tr>\n      <th>Cape Verde</th>\n      <td>3</td>\n      <td>0</td>\n      <td>0.000000</td>\n    </tr>\n    <tr>\n      <th>Lao People's Democratic Republic</th>\n      <td>3</td>\n      <td>0</td>\n      <td>0.000000</td>\n    </tr>\n    <tr>\n      <th>Brunei Darussalam</th>\n      <td>1</td>\n      <td>0</td>\n      <td>0.000000</td>\n    </tr>\n    <tr>\n      <th>Malawi</th>\n      <td>2</td>\n      <td>0</td>\n      <td>0.000000</td>\n    </tr>\n  </tbody>\n</table>\n<p>179 rows × 3 columns</p>\n</div>"
          },
          "metadata": {}
        }
      ],
      "outputs_reference": null,
      "execution_count": null,
      "block_group": "851f148263f54a67bab1c5daa3cdb9d1"
    },
    {
      "cell_type": "code",
      "source": "python_df.loc[\"Japan\"]",
      "metadata": {
        "source_hash": null,
        "execution_start": 1709700185107,
        "execution_millis": 344,
        "deepnote_to_be_reexecuted": false,
        "cell_id": "d57956332deb4deca8c8b88e14ad3a91",
        "deepnote_cell_type": "code"
      },
      "outputs": [
        {
          "output_type": "execute_result",
          "execution_count": 26,
          "data": {
            "text/plain": "totalNoofProgramer        391.000000\nTolNoofPyhtonProgramer    182.000000\nPyhton_Percentnge          46.547315\nName: Japan, dtype: float64"
          },
          "metadata": {}
        }
      ],
      "outputs_reference": null,
      "execution_count": null,
      "block_group": "ae524831fa4c4581993070c0abe22780"
    },
    {
      "cell_type": "markdown",
      "source": "# Matplotlib",
      "metadata": {
        "formattedRanges": [],
        "cell_id": "110c9121efe84f94bfc74663a2c9072a",
        "deepnote_cell_type": "text-cell-h1"
      },
      "block_group": "efc4a660ef43484b948326786c47a606"
    },
    {
      "cell_type": "code",
      "source": "import matplotlib.pyplot as plt\n#import pandas as pd",
      "metadata": {
        "source_hash": "a716e614",
        "execution_start": 1711520291654,
        "execution_millis": 471,
        "deepnote_to_be_reexecuted": false,
        "cell_id": "81e7d9492db84f01adda0e93c4ac3d24",
        "deepnote_cell_type": "code"
      },
      "outputs": [],
      "outputs_reference": null,
      "execution_count": 5,
      "block_group": "057d56fe833e44fb97ffb50a7b4f42bc"
    },
    {
      "cell_type": "code",
      "source": "pizza = pd.read_csv(\"pizza_sales.csv\")",
      "metadata": {
        "source_hash": null,
        "execution_start": 1711469762989,
        "execution_millis": 247,
        "deepnote_to_be_reexecuted": false,
        "cell_id": "f161619a317447369df9d7b76764690c",
        "deepnote_cell_type": "code"
      },
      "outputs": [],
      "outputs_reference": null,
      "execution_count": null,
      "block_group": "bf5d89f2537a45518111eb40afab2eb6"
    },
    {
      "cell_type": "code",
      "source": "pizza.head(3)",
      "metadata": {
        "source_hash": null,
        "execution_start": 1711469767221,
        "execution_millis": 340,
        "deepnote_to_be_reexecuted": false,
        "cell_id": "9c2b92eac17b4cebb29757457e44e3ef",
        "deepnote_cell_type": "code"
      },
      "outputs": [
        {
          "output_type": "execute_result",
          "execution_count": 4,
          "data": {
            "application/vnd.deepnote.dataframe.v3+json": {
              "column_count": 12,
              "row_count": 3,
              "columns": [
                {
                  "name": "order_details_id",
                  "dtype": "int64",
                  "stats": {
                    "unique_count": 3,
                    "nan_count": 0,
                    "min": "498",
                    "max": "501",
                    "histogram": [
                      {
                        "bin_start": 498,
                        "bin_end": 498.3,
                        "count": 1
                      },
                      {
                        "bin_start": 498.3,
                        "bin_end": 498.6,
                        "count": 0
                      },
                      {
                        "bin_start": 498.6,
                        "bin_end": 498.9,
                        "count": 0
                      },
                      {
                        "bin_start": 498.9,
                        "bin_end": 499.2,
                        "count": 1
                      },
                      {
                        "bin_start": 499.2,
                        "bin_end": 499.5,
                        "count": 0
                      },
                      {
                        "bin_start": 499.5,
                        "bin_end": 499.8,
                        "count": 0
                      },
                      {
                        "bin_start": 499.8,
                        "bin_end": 500.1,
                        "count": 0
                      },
                      {
                        "bin_start": 500.1,
                        "bin_end": 500.4,
                        "count": 0
                      },
                      {
                        "bin_start": 500.4,
                        "bin_end": 500.7,
                        "count": 0
                      },
                      {
                        "bin_start": 500.7,
                        "bin_end": 501,
                        "count": 1
                      }
                    ]
                  }
                },
                {
                  "name": "order_id",
                  "dtype": "int64",
                  "stats": {
                    "unique_count": 1,
                    "nan_count": 0,
                    "min": "214",
                    "max": "214",
                    "histogram": [
                      {
                        "bin_start": 213.5,
                        "bin_end": 213.6,
                        "count": 0
                      },
                      {
                        "bin_start": 213.6,
                        "bin_end": 213.7,
                        "count": 0
                      },
                      {
                        "bin_start": 213.7,
                        "bin_end": 213.8,
                        "count": 0
                      },
                      {
                        "bin_start": 213.8,
                        "bin_end": 213.9,
                        "count": 0
                      },
                      {
                        "bin_start": 213.9,
                        "bin_end": 214,
                        "count": 0
                      },
                      {
                        "bin_start": 214,
                        "bin_end": 214.1,
                        "count": 3
                      },
                      {
                        "bin_start": 214.1,
                        "bin_end": 214.2,
                        "count": 0
                      },
                      {
                        "bin_start": 214.2,
                        "bin_end": 214.3,
                        "count": 0
                      },
                      {
                        "bin_start": 214.3,
                        "bin_end": 214.4,
                        "count": 0
                      },
                      {
                        "bin_start": 214.4,
                        "bin_end": 214.5,
                        "count": 0
                      }
                    ]
                  }
                },
                {
                  "name": "pizza_id",
                  "dtype": "object",
                  "stats": {
                    "unique_count": 3,
                    "nan_count": 0,
                    "categories": [
                      {
                        "name": "ital_supr_m",
                        "count": 1
                      },
                      {
                        "name": "spin_pesto_m",
                        "count": 1
                      },
                      {
                        "name": "ital_cpcllo_l",
                        "count": 1
                      }
                    ]
                  }
                },
                {
                  "name": "quantity",
                  "dtype": "int64",
                  "stats": {
                    "unique_count": 1,
                    "nan_count": 0,
                    "min": "1",
                    "max": "1",
                    "histogram": [
                      {
                        "bin_start": 0.5,
                        "bin_end": 0.6,
                        "count": 0
                      },
                      {
                        "bin_start": 0.6,
                        "bin_end": 0.7,
                        "count": 0
                      },
                      {
                        "bin_start": 0.7,
                        "bin_end": 0.8,
                        "count": 0
                      },
                      {
                        "bin_start": 0.8,
                        "bin_end": 0.9,
                        "count": 0
                      },
                      {
                        "bin_start": 0.9,
                        "bin_end": 1,
                        "count": 0
                      },
                      {
                        "bin_start": 1,
                        "bin_end": 1.1,
                        "count": 3
                      },
                      {
                        "bin_start": 1.1,
                        "bin_end": 1.2000000000000002,
                        "count": 0
                      },
                      {
                        "bin_start": 1.2000000000000002,
                        "bin_end": 1.3,
                        "count": 0
                      },
                      {
                        "bin_start": 1.3,
                        "bin_end": 1.4,
                        "count": 0
                      },
                      {
                        "bin_start": 1.4,
                        "bin_end": 1.5,
                        "count": 0
                      }
                    ]
                  }
                },
                {
                  "name": "order_date",
                  "dtype": "object",
                  "stats": {
                    "unique_count": 1,
                    "nan_count": 0,
                    "categories": [
                      {
                        "name": "2015-01-04",
                        "count": 3
                      }
                    ]
                  }
                },
                {
                  "name": "order_time",
                  "dtype": "object",
                  "stats": {
                    "unique_count": 1,
                    "nan_count": 0,
                    "categories": [
                      {
                        "name": "13:39:16",
                        "count": 3
                      }
                    ]
                  }
                },
                {
                  "name": "unit_price",
                  "dtype": "int64",
                  "stats": {
                    "unique_count": 2,
                    "nan_count": 0,
                    "min": "17",
                    "max": "21",
                    "histogram": [
                      {
                        "bin_start": 17,
                        "bin_end": 17.4,
                        "count": 2
                      },
                      {
                        "bin_start": 17.4,
                        "bin_end": 17.8,
                        "count": 0
                      },
                      {
                        "bin_start": 17.8,
                        "bin_end": 18.2,
                        "count": 0
                      },
                      {
                        "bin_start": 18.2,
                        "bin_end": 18.6,
                        "count": 0
                      },
                      {
                        "bin_start": 18.6,
                        "bin_end": 19,
                        "count": 0
                      },
                      {
                        "bin_start": 19,
                        "bin_end": 19.4,
                        "count": 0
                      },
                      {
                        "bin_start": 19.4,
                        "bin_end": 19.8,
                        "count": 0
                      },
                      {
                        "bin_start": 19.8,
                        "bin_end": 20.2,
                        "count": 0
                      },
                      {
                        "bin_start": 20.2,
                        "bin_end": 20.6,
                        "count": 0
                      },
                      {
                        "bin_start": 20.6,
                        "bin_end": 21,
                        "count": 1
                      }
                    ]
                  }
                },
                {
                  "name": "total_size",
                  "dtype": "float64",
                  "stats": {
                    "unique_count": 0,
                    "nan_count": 3,
                    "min": null,
                    "max": null,
                    "histogram": [
                      {
                        "bin_start": 0,
                        "bin_end": 0.1,
                        "count": 0
                      },
                      {
                        "bin_start": 0.1,
                        "bin_end": 0.2,
                        "count": 0
                      },
                      {
                        "bin_start": 0.2,
                        "bin_end": 0.30000000000000004,
                        "count": 0
                      },
                      {
                        "bin_start": 0.30000000000000004,
                        "bin_end": 0.4,
                        "count": 0
                      },
                      {
                        "bin_start": 0.4,
                        "bin_end": 0.5,
                        "count": 0
                      },
                      {
                        "bin_start": 0.5,
                        "bin_end": 0.6000000000000001,
                        "count": 0
                      },
                      {
                        "bin_start": 0.6000000000000001,
                        "bin_end": 0.7000000000000001,
                        "count": 0
                      },
                      {
                        "bin_start": 0.7000000000000001,
                        "bin_end": 0.8,
                        "count": 0
                      },
                      {
                        "bin_start": 0.8,
                        "bin_end": 0.9,
                        "count": 0
                      },
                      {
                        "bin_start": 0.9,
                        "bin_end": 1,
                        "count": 0
                      }
                    ]
                  }
                },
                {
                  "name": "pizza_size",
                  "dtype": "object",
                  "stats": {
                    "unique_count": 2,
                    "nan_count": 0,
                    "categories": [
                      {
                        "name": "M",
                        "count": 2
                      },
                      {
                        "name": "L",
                        "count": 1
                      }
                    ]
                  }
                },
                {
                  "name": "pizza_category",
                  "dtype": "object",
                  "stats": {
                    "unique_count": 3,
                    "nan_count": 0,
                    "categories": [
                      {
                        "name": "Supreme",
                        "count": 1
                      },
                      {
                        "name": "Veggie",
                        "count": 1
                      },
                      {
                        "name": "Classic",
                        "count": 1
                      }
                    ]
                  }
                },
                {
                  "name": "pizza_ingredients",
                  "dtype": "object",
                  "stats": {
                    "unique_count": 3,
                    "nan_count": 0,
                    "categories": [
                      {
                        "name": "Calabrese Salami, Capocollo, Tomatoes, Red Onions, Green Olives, Garlic",
                        "count": 1
                      },
                      {
                        "name": "Spinach, Artichokes, Tomatoes, Sun-dried Tomatoes, Garlic, Pesto Sauce",
                        "count": 1
                      },
                      {
                        "name": "Capocollo, Red Peppers, Tomatoes, Goat Cheese, Garlic, Oregano",
                        "count": 1
                      }
                    ]
                  }
                },
                {
                  "name": "pizza_name",
                  "dtype": "object",
                  "stats": {
                    "unique_count": 3,
                    "nan_count": 0,
                    "categories": [
                      {
                        "name": "The Italian Supreme Pizza",
                        "count": 1
                      },
                      {
                        "name": "The Spinach Pesto Pizza",
                        "count": 1
                      },
                      {
                        "name": "The Italian Capocollo Pizza",
                        "count": 1
                      }
                    ]
                  }
                },
                {
                  "name": "_deepnote_index_column",
                  "dtype": "int64"
                }
              ],
              "rows": [
                {
                  "order_details_id": 499,
                  "order_id": 214,
                  "pizza_id": "ital_supr_m",
                  "quantity": 1,
                  "order_date": "2015-01-04",
                  "order_time": "13:39:16",
                  "unit_price": 17,
                  "total_size": "nan",
                  "pizza_size": "M",
                  "pizza_category": "Supreme",
                  "pizza_ingredients": "Calabrese Salami, Capocollo, Tomatoes, Red Onions, Green Olives, Garlic",
                  "pizza_name": "The Italian Supreme Pizza",
                  "_deepnote_index_column": 0
                },
                {
                  "order_details_id": 501,
                  "order_id": 214,
                  "pizza_id": "spin_pesto_m",
                  "quantity": 1,
                  "order_date": "2015-01-04",
                  "order_time": "13:39:16",
                  "unit_price": 17,
                  "total_size": "nan",
                  "pizza_size": "M",
                  "pizza_category": "Veggie",
                  "pizza_ingredients": "Spinach, Artichokes, Tomatoes, Sun-dried Tomatoes, Garlic, Pesto Sauce",
                  "pizza_name": "The Spinach Pesto Pizza",
                  "_deepnote_index_column": 1
                },
                {
                  "order_details_id": 498,
                  "order_id": 214,
                  "pizza_id": "ital_cpcllo_l",
                  "quantity": 1,
                  "order_date": "2015-01-04",
                  "order_time": "13:39:16",
                  "unit_price": 21,
                  "total_size": "nan",
                  "pizza_size": "L",
                  "pizza_category": "Classic",
                  "pizza_ingredients": "Capocollo, Red Peppers, Tomatoes, Goat Cheese, Garlic, Oregano",
                  "pizza_name": "The Italian Capocollo Pizza",
                  "_deepnote_index_column": 2
                }
              ]
            },
            "text/plain": "   order_details_id  order_id       pizza_id  quantity  order_date order_time  \\\n0               499       214    ital_supr_m         1  2015-01-04   13:39:16   \n1               501       214   spin_pesto_m         1  2015-01-04   13:39:16   \n2               498       214  ital_cpcllo_l         1  2015-01-04   13:39:16   \n\n   unit_price  total_size pizza_size pizza_category  \\\n0          17         NaN          M        Supreme   \n1          17         NaN          M         Veggie   \n2          21         NaN          L        Classic   \n\n                                   pizza_ingredients  \\\n0  Calabrese Salami, Capocollo, Tomatoes, Red Oni...   \n1  Spinach, Artichokes, Tomatoes, Sun-dried Tomat...   \n2  Capocollo, Red Peppers, Tomatoes, Goat Cheese,...   \n\n                    pizza_name  \n0    The Italian Supreme Pizza  \n1      The Spinach Pesto Pizza  \n2  The Italian Capocollo Pizza  ",
            "text/html": "<div>\n<style scoped>\n    .dataframe tbody tr th:only-of-type {\n        vertical-align: middle;\n    }\n\n    .dataframe tbody tr th {\n        vertical-align: top;\n    }\n\n    .dataframe thead th {\n        text-align: right;\n    }\n</style>\n<table border=\"1\" class=\"dataframe\">\n  <thead>\n    <tr style=\"text-align: right;\">\n      <th></th>\n      <th>order_details_id</th>\n      <th>order_id</th>\n      <th>pizza_id</th>\n      <th>quantity</th>\n      <th>order_date</th>\n      <th>order_time</th>\n      <th>unit_price</th>\n      <th>total_size</th>\n      <th>pizza_size</th>\n      <th>pizza_category</th>\n      <th>pizza_ingredients</th>\n      <th>pizza_name</th>\n    </tr>\n  </thead>\n  <tbody>\n    <tr>\n      <th>0</th>\n      <td>499</td>\n      <td>214</td>\n      <td>ital_supr_m</td>\n      <td>1</td>\n      <td>2015-01-04</td>\n      <td>13:39:16</td>\n      <td>17</td>\n      <td>NaN</td>\n      <td>M</td>\n      <td>Supreme</td>\n      <td>Calabrese Salami, Capocollo, Tomatoes, Red Oni...</td>\n      <td>The Italian Supreme Pizza</td>\n    </tr>\n    <tr>\n      <th>1</th>\n      <td>501</td>\n      <td>214</td>\n      <td>spin_pesto_m</td>\n      <td>1</td>\n      <td>2015-01-04</td>\n      <td>13:39:16</td>\n      <td>17</td>\n      <td>NaN</td>\n      <td>M</td>\n      <td>Veggie</td>\n      <td>Spinach, Artichokes, Tomatoes, Sun-dried Tomat...</td>\n      <td>The Spinach Pesto Pizza</td>\n    </tr>\n    <tr>\n      <th>2</th>\n      <td>498</td>\n      <td>214</td>\n      <td>ital_cpcllo_l</td>\n      <td>1</td>\n      <td>2015-01-04</td>\n      <td>13:39:16</td>\n      <td>21</td>\n      <td>NaN</td>\n      <td>L</td>\n      <td>Classic</td>\n      <td>Capocollo, Red Peppers, Tomatoes, Goat Cheese,...</td>\n      <td>The Italian Capocollo Pizza</td>\n    </tr>\n  </tbody>\n</table>\n</div>"
          },
          "metadata": {}
        }
      ],
      "outputs_reference": null,
      "execution_count": null,
      "block_group": "465712dfdada4c888cacd3525cd77ddd"
    },
    {
      "cell_type": "code",
      "source": "pizza.isnull().sum()",
      "metadata": {
        "source_hash": null,
        "execution_start": 1711469776018,
        "execution_millis": 78,
        "deepnote_to_be_reexecuted": false,
        "cell_id": "5187469e1b464927bc65e0d4d167eb61",
        "deepnote_cell_type": "code"
      },
      "outputs": [
        {
          "output_type": "execute_result",
          "execution_count": 5,
          "data": {
            "text/plain": "order_details_id       0\norder_id               0\npizza_id               0\nquantity               0\norder_date             0\norder_time             0\nunit_price             0\ntotal_size           100\npizza_size             0\npizza_category         0\npizza_ingredients      0\npizza_name             0\ndtype: int64"
          },
          "metadata": {}
        }
      ],
      "outputs_reference": null,
      "execution_count": null,
      "block_group": "28cd6568b32141e9864f8bd27a033f0d"
    },
    {
      "cell_type": "code",
      "source": "pizza.drop('total_size',axis=1,inplace=True)",
      "metadata": {
        "source_hash": null,
        "execution_start": 1711469783161,
        "execution_millis": 39,
        "deepnote_to_be_reexecuted": false,
        "cell_id": "fc2c53a1a5da469286f389b3cd21615e",
        "deepnote_cell_type": "code"
      },
      "outputs": [],
      "outputs_reference": null,
      "execution_count": null,
      "block_group": "db3ba76b20b4457c8b99882e87975d2c"
    },
    {
      "cell_type": "code",
      "source": "plt.figure(figsize=(10,5))\nplt.grid()\n\nplt.bar(pizza['pizza_size'],pizza['unit_price'],width=0.2,color='#075a5e',mouseover=True,edgecolor='r',linestyle=\"--\",linewidth=2,alpha=0.3,label=\"size\")\nplt.ylabel('Unit Price',fontsize=15,family='serif',c='y',weight='light')\nplt.xlabel('Size',size=15,family='monospace',c='g',weight='book')\nplt.title('comparision between unit price and size',fontsize=20,c='r',weight='bold')\nplt.legend(loc='upper center',title_fontsize='large',shadow=True,borderpad=0.5,fontsize='x-large',title='legend')\nplt.show()",
      "metadata": {
        "source_hash": null,
        "execution_start": 1711469789092,
        "execution_millis": 332,
        "deepnote_to_be_reexecuted": false,
        "cell_id": "34cec3d4efaf4cb985ea56c285ae1843",
        "deepnote_cell_type": "code"
      },
      "outputs": [
        {
          "data": {
            "text/plain": "<Figure size 1000x500 with 1 Axes>",
            "image/png": "[encoded data removed]"
          },
          "metadata": {
            "image/png": {
              "width": 846,
              "height": 484
            }
          },
          "output_type": "display_data"
        }
      ],
      "outputs_reference": null,
      "execution_count": null,
      "block_group": "6332a4c1a4524ab29d6a12d59b42ac1b"
    },
    {
      "cell_type": "markdown",
      "source": "## Scatter plot",
      "metadata": {
        "formattedRanges": [],
        "cell_id": "5f6fd80e8a4241d0b7b5b41e77ead131",
        "deepnote_cell_type": "text-cell-h2"
      },
      "block_group": "2c1ff6dd960a4462960d0b1b32dcef14"
    },
    {
      "cell_type": "code",
      "source": "import numpy as np\nx = np.arange(1,101)",
      "metadata": {
        "source_hash": null,
        "execution_start": 1711469797212,
        "execution_millis": 46,
        "deepnote_to_be_reexecuted": false,
        "cell_id": "c13e115329e1477e837594dc6c8a6001",
        "deepnote_cell_type": "code"
      },
      "outputs": [],
      "outputs_reference": null,
      "execution_count": null,
      "block_group": "75db8984ff2144b8a4f05c7d488f81e6"
    },
    {
      "cell_type": "code",
      "source": "xd = {i:j for i,j in zip(pizza['order_id'],x)}\n\nxaxis = pizza['order_id'].map(xd)\nprint(xaxis)\n",
      "metadata": {
        "source_hash": null,
        "execution_start": 1711469801441,
        "execution_millis": 50,
        "deepnote_to_be_reexecuted": false,
        "cell_id": "0af224e098bd4992994937dee09ff252",
        "deepnote_cell_type": "code"
      },
      "outputs": [
        {
          "name": "stdout",
          "text": "0       3\n1       3\n2       3\n3       4\n4       5\n     ... \n95     98\n96     98\n97     98\n98    100\n99    100\nName: order_id, Length: 100, dtype: int64\n",
          "output_type": "stream"
        }
      ],
      "outputs_reference": null,
      "execution_count": null,
      "block_group": "4b3f705fd2fd4fd783cbe8767b753bae"
    },
    {
      "cell_type": "code",
      "source": "plt.figure(figsize=(10,5))\nplt.scatter(x=pizza['quantity'],y=xaxis,marker=\"*\",edgecolor='b',cmap='BrBG',c=xaxis,label=pizza['pizza_name'])\nx = plt.colorbar()\nx.set_label(\"color bar\")\nplt.legend()\nplt.title(\"order_id quantty\",fontsize=15,c='b')\nplt.xlabel(\"quantity\",fontsize=10)\nplt.ylabel(\"order id\",fontsize=10)\nplt.show()\n",
      "metadata": {
        "source_hash": null,
        "execution_start": 1711469808822,
        "execution_millis": 482,
        "deepnote_to_be_reexecuted": false,
        "cell_id": "703e0811c1624141ac71364f614e1cd0",
        "deepnote_cell_type": "code"
      },
      "outputs": [
        {
          "data": {
            "text/plain": "<Figure size 1000x500 with 2 Axes>",
            "image/png": "[encoded data removed]"
          },
          "metadata": {
            "image/png": {
              "width": 809,
              "height": 472
            }
          },
          "output_type": "display_data"
        }
      ],
      "outputs_reference": null,
      "execution_count": null,
      "block_group": "c357c62e41984c7fac3938c9fa27adb8"
    },
    {
      "cell_type": "markdown",
      "source": "# histo gram plot",
      "metadata": {
        "formattedRanges": [],
        "cell_id": "426c0fe6ba8d44a6b109f35ee67b9914",
        "deepnote_cell_type": "text-cell-h1"
      },
      "block_group": "a3506a13c8514487a972ac262090bd69"
    },
    {
      "cell_type": "code",
      "source": "pizza.head(3)",
      "metadata": {
        "source_hash": null,
        "execution_start": 1711469815938,
        "execution_millis": 194,
        "deepnote_to_be_reexecuted": false,
        "cell_id": "7408ca04a6994e4ea8470aabc960bea2",
        "deepnote_cell_type": "code"
      },
      "outputs": [
        {
          "output_type": "execute_result",
          "execution_count": 11,
          "data": {
            "application/vnd.deepnote.dataframe.v3+json": {
              "column_count": 11,
              "row_count": 3,
              "columns": [
                {
                  "name": "order_details_id",
                  "dtype": "int64",
                  "stats": {
                    "unique_count": 3,
                    "nan_count": 0,
                    "min": "498",
                    "max": "501",
                    "histogram": [
                      {
                        "bin_start": 498,
                        "bin_end": 498.3,
                        "count": 1
                      },
                      {
                        "bin_start": 498.3,
                        "bin_end": 498.6,
                        "count": 0
                      },
                      {
                        "bin_start": 498.6,
                        "bin_end": 498.9,
                        "count": 0
                      },
                      {
                        "bin_start": 498.9,
                        "bin_end": 499.2,
                        "count": 1
                      },
                      {
                        "bin_start": 499.2,
                        "bin_end": 499.5,
                        "count": 0
                      },
                      {
                        "bin_start": 499.5,
                        "bin_end": 499.8,
                        "count": 0
                      },
                      {
                        "bin_start": 499.8,
                        "bin_end": 500.1,
                        "count": 0
                      },
                      {
                        "bin_start": 500.1,
                        "bin_end": 500.4,
                        "count": 0
                      },
                      {
                        "bin_start": 500.4,
                        "bin_end": 500.7,
                        "count": 0
                      },
                      {
                        "bin_start": 500.7,
                        "bin_end": 501,
                        "count": 1
                      }
                    ]
                  }
                },
                {
                  "name": "order_id",
                  "dtype": "int64",
                  "stats": {
                    "unique_count": 1,
                    "nan_count": 0,
                    "min": "214",
                    "max": "214",
                    "histogram": [
                      {
                        "bin_start": 213.5,
                        "bin_end": 213.6,
                        "count": 0
                      },
                      {
                        "bin_start": 213.6,
                        "bin_end": 213.7,
                        "count": 0
                      },
                      {
                        "bin_start": 213.7,
                        "bin_end": 213.8,
                        "count": 0
                      },
                      {
                        "bin_start": 213.8,
                        "bin_end": 213.9,
                        "count": 0
                      },
                      {
                        "bin_start": 213.9,
                        "bin_end": 214,
                        "count": 0
                      },
                      {
                        "bin_start": 214,
                        "bin_end": 214.1,
                        "count": 3
                      },
                      {
                        "bin_start": 214.1,
                        "bin_end": 214.2,
                        "count": 0
                      },
                      {
                        "bin_start": 214.2,
                        "bin_end": 214.3,
                        "count": 0
                      },
                      {
                        "bin_start": 214.3,
                        "bin_end": 214.4,
                        "count": 0
                      },
                      {
                        "bin_start": 214.4,
                        "bin_end": 214.5,
                        "count": 0
                      }
                    ]
                  }
                },
                {
                  "name": "pizza_id",
                  "dtype": "object",
                  "stats": {
                    "unique_count": 3,
                    "nan_count": 0,
                    "categories": [
                      {
                        "name": "ital_supr_m",
                        "count": 1
                      },
                      {
                        "name": "spin_pesto_m",
                        "count": 1
                      },
                      {
                        "name": "ital_cpcllo_l",
                        "count": 1
                      }
                    ]
                  }
                },
                {
                  "name": "quantity",
                  "dtype": "int64",
                  "stats": {
                    "unique_count": 1,
                    "nan_count": 0,
                    "min": "1",
                    "max": "1",
                    "histogram": [
                      {
                        "bin_start": 0.5,
                        "bin_end": 0.6,
                        "count": 0
                      },
                      {
                        "bin_start": 0.6,
                        "bin_end": 0.7,
                        "count": 0
                      },
                      {
                        "bin_start": 0.7,
                        "bin_end": 0.8,
                        "count": 0
                      },
                      {
                        "bin_start": 0.8,
                        "bin_end": 0.9,
                        "count": 0
                      },
                      {
                        "bin_start": 0.9,
                        "bin_end": 1,
                        "count": 0
                      },
                      {
                        "bin_start": 1,
                        "bin_end": 1.1,
                        "count": 3
                      },
                      {
                        "bin_start": 1.1,
                        "bin_end": 1.2000000000000002,
                        "count": 0
                      },
                      {
                        "bin_start": 1.2000000000000002,
                        "bin_end": 1.3,
                        "count": 0
                      },
                      {
                        "bin_start": 1.3,
                        "bin_end": 1.4,
                        "count": 0
                      },
                      {
                        "bin_start": 1.4,
                        "bin_end": 1.5,
                        "count": 0
                      }
                    ]
                  }
                },
                {
                  "name": "order_date",
                  "dtype": "object",
                  "stats": {
                    "unique_count": 1,
                    "nan_count": 0,
                    "categories": [
                      {
                        "name": "2015-01-04",
                        "count": 3
                      }
                    ]
                  }
                },
                {
                  "name": "order_time",
                  "dtype": "object",
                  "stats": {
                    "unique_count": 1,
                    "nan_count": 0,
                    "categories": [
                      {
                        "name": "13:39:16",
                        "count": 3
                      }
                    ]
                  }
                },
                {
                  "name": "unit_price",
                  "dtype": "int64",
                  "stats": {
                    "unique_count": 2,
                    "nan_count": 0,
                    "min": "17",
                    "max": "21",
                    "histogram": [
                      {
                        "bin_start": 17,
                        "bin_end": 17.4,
                        "count": 2
                      },
                      {
                        "bin_start": 17.4,
                        "bin_end": 17.8,
                        "count": 0
                      },
                      {
                        "bin_start": 17.8,
                        "bin_end": 18.2,
                        "count": 0
                      },
                      {
                        "bin_start": 18.2,
                        "bin_end": 18.6,
                        "count": 0
                      },
                      {
                        "bin_start": 18.6,
                        "bin_end": 19,
                        "count": 0
                      },
                      {
                        "bin_start": 19,
                        "bin_end": 19.4,
                        "count": 0
                      },
                      {
                        "bin_start": 19.4,
                        "bin_end": 19.8,
                        "count": 0
                      },
                      {
                        "bin_start": 19.8,
                        "bin_end": 20.2,
                        "count": 0
                      },
                      {
                        "bin_start": 20.2,
                        "bin_end": 20.6,
                        "count": 0
                      },
                      {
                        "bin_start": 20.6,
                        "bin_end": 21,
                        "count": 1
                      }
                    ]
                  }
                },
                {
                  "name": "pizza_size",
                  "dtype": "object",
                  "stats": {
                    "unique_count": 2,
                    "nan_count": 0,
                    "categories": [
                      {
                        "name": "M",
                        "count": 2
                      },
                      {
                        "name": "L",
                        "count": 1
                      }
                    ]
                  }
                },
                {
                  "name": "pizza_category",
                  "dtype": "object",
                  "stats": {
                    "unique_count": 3,
                    "nan_count": 0,
                    "categories": [
                      {
                        "name": "Supreme",
                        "count": 1
                      },
                      {
                        "name": "Veggie",
                        "count": 1
                      },
                      {
                        "name": "Classic",
                        "count": 1
                      }
                    ]
                  }
                },
                {
                  "name": "pizza_ingredients",
                  "dtype": "object",
                  "stats": {
                    "unique_count": 3,
                    "nan_count": 0,
                    "categories": [
                      {
                        "name": "Calabrese Salami, Capocollo, Tomatoes, Red Onions, Green Olives, Garlic",
                        "count": 1
                      },
                      {
                        "name": "Spinach, Artichokes, Tomatoes, Sun-dried Tomatoes, Garlic, Pesto Sauce",
                        "count": 1
                      },
                      {
                        "name": "Capocollo, Red Peppers, Tomatoes, Goat Cheese, Garlic, Oregano",
                        "count": 1
                      }
                    ]
                  }
                },
                {
                  "name": "pizza_name",
                  "dtype": "object",
                  "stats": {
                    "unique_count": 3,
                    "nan_count": 0,
                    "categories": [
                      {
                        "name": "The Italian Supreme Pizza",
                        "count": 1
                      },
                      {
                        "name": "The Spinach Pesto Pizza",
                        "count": 1
                      },
                      {
                        "name": "The Italian Capocollo Pizza",
                        "count": 1
                      }
                    ]
                  }
                },
                {
                  "name": "_deepnote_index_column",
                  "dtype": "int64"
                }
              ],
              "rows": [
                {
                  "order_details_id": 499,
                  "order_id": 214,
                  "pizza_id": "ital_supr_m",
                  "quantity": 1,
                  "order_date": "2015-01-04",
                  "order_time": "13:39:16",
                  "unit_price": 17,
                  "pizza_size": "M",
                  "pizza_category": "Supreme",
                  "pizza_ingredients": "Calabrese Salami, Capocollo, Tomatoes, Red Onions, Green Olives, Garlic",
                  "pizza_name": "The Italian Supreme Pizza",
                  "_deepnote_index_column": 0
                },
                {
                  "order_details_id": 501,
                  "order_id": 214,
                  "pizza_id": "spin_pesto_m",
                  "quantity": 1,
                  "order_date": "2015-01-04",
                  "order_time": "13:39:16",
                  "unit_price": 17,
                  "pizza_size": "M",
                  "pizza_category": "Veggie",
                  "pizza_ingredients": "Spinach, Artichokes, Tomatoes, Sun-dried Tomatoes, Garlic, Pesto Sauce",
                  "pizza_name": "The Spinach Pesto Pizza",
                  "_deepnote_index_column": 1
                },
                {
                  "order_details_id": 498,
                  "order_id": 214,
                  "pizza_id": "ital_cpcllo_l",
                  "quantity": 1,
                  "order_date": "2015-01-04",
                  "order_time": "13:39:16",
                  "unit_price": 21,
                  "pizza_size": "L",
                  "pizza_category": "Classic",
                  "pizza_ingredients": "Capocollo, Red Peppers, Tomatoes, Goat Cheese, Garlic, Oregano",
                  "pizza_name": "The Italian Capocollo Pizza",
                  "_deepnote_index_column": 2
                }
              ]
            },
            "text/plain": "   order_details_id  order_id       pizza_id  quantity  order_date order_time  \\\n0               499       214    ital_supr_m         1  2015-01-04   13:39:16   \n1               501       214   spin_pesto_m         1  2015-01-04   13:39:16   \n2               498       214  ital_cpcllo_l         1  2015-01-04   13:39:16   \n\n   unit_price pizza_size pizza_category  \\\n0          17          M        Supreme   \n1          17          M         Veggie   \n2          21          L        Classic   \n\n                                   pizza_ingredients  \\\n0  Calabrese Salami, Capocollo, Tomatoes, Red Oni...   \n1  Spinach, Artichokes, Tomatoes, Sun-dried Tomat...   \n2  Capocollo, Red Peppers, Tomatoes, Goat Cheese,...   \n\n                    pizza_name  \n0    The Italian Supreme Pizza  \n1      The Spinach Pesto Pizza  \n2  The Italian Capocollo Pizza  ",
            "text/html": "<div>\n<style scoped>\n    .dataframe tbody tr th:only-of-type {\n        vertical-align: middle;\n    }\n\n    .dataframe tbody tr th {\n        vertical-align: top;\n    }\n\n    .dataframe thead th {\n        text-align: right;\n    }\n</style>\n<table border=\"1\" class=\"dataframe\">\n  <thead>\n    <tr style=\"text-align: right;\">\n      <th></th>\n      <th>order_details_id</th>\n      <th>order_id</th>\n      <th>pizza_id</th>\n      <th>quantity</th>\n      <th>order_date</th>\n      <th>order_time</th>\n      <th>unit_price</th>\n      <th>pizza_size</th>\n      <th>pizza_category</th>\n      <th>pizza_ingredients</th>\n      <th>pizza_name</th>\n    </tr>\n  </thead>\n  <tbody>\n    <tr>\n      <th>0</th>\n      <td>499</td>\n      <td>214</td>\n      <td>ital_supr_m</td>\n      <td>1</td>\n      <td>2015-01-04</td>\n      <td>13:39:16</td>\n      <td>17</td>\n      <td>M</td>\n      <td>Supreme</td>\n      <td>Calabrese Salami, Capocollo, Tomatoes, Red Oni...</td>\n      <td>The Italian Supreme Pizza</td>\n    </tr>\n    <tr>\n      <th>1</th>\n      <td>501</td>\n      <td>214</td>\n      <td>spin_pesto_m</td>\n      <td>1</td>\n      <td>2015-01-04</td>\n      <td>13:39:16</td>\n      <td>17</td>\n      <td>M</td>\n      <td>Veggie</td>\n      <td>Spinach, Artichokes, Tomatoes, Sun-dried Tomat...</td>\n      <td>The Spinach Pesto Pizza</td>\n    </tr>\n    <tr>\n      <th>2</th>\n      <td>498</td>\n      <td>214</td>\n      <td>ital_cpcllo_l</td>\n      <td>1</td>\n      <td>2015-01-04</td>\n      <td>13:39:16</td>\n      <td>21</td>\n      <td>L</td>\n      <td>Classic</td>\n      <td>Capocollo, Red Peppers, Tomatoes, Goat Cheese,...</td>\n      <td>The Italian Capocollo Pizza</td>\n    </tr>\n  </tbody>\n</table>\n</div>"
          },
          "metadata": {}
        }
      ],
      "outputs_reference": null,
      "execution_count": null,
      "block_group": "1b03d2aa447a47a7851aa422c6bcbc67"
    },
    {
      "cell_type": "code",
      "source": "x = pizza['order_date']\nplt.figure(figsize=(10,5))\nplt.hist(x=x,color='#f558ac',edgecolor='r',linewidth=3,linestyle=\":\",label='order date frequency')\nplt.title('date no of order item',fontsize=15,fontstyle='oblique',color='#c4eb05',animated=True,backgroundcolor='#9c798c')\nplt.xlabel('date',fontsize=10)\nplt.ylabel(\"frequency count\",fontsize=10)\nplt.axhline(23,color='g',label='line')\nplt.legend()\nplt.xticks(rotation=20)\nplt.show()",
      "metadata": {
        "source_hash": null,
        "execution_start": 1711469826382,
        "execution_millis": 248,
        "deepnote_to_be_reexecuted": false,
        "cell_id": "8ef6ffee0c664395891073d4a4c61428",
        "deepnote_cell_type": "code"
      },
      "outputs": [
        {
          "data": {
            "text/plain": "<Figure size 1000x500 with 1 Axes>",
            "image/png": "[encoded data removed]"
          },
          "metadata": {
            "image/png": {
              "width": 846,
              "height": 499
            }
          },
          "output_type": "display_data"
        }
      ],
      "outputs_reference": null,
      "execution_count": null,
      "block_group": "852c6026b5ba49fba8f1140585f2f4e6"
    },
    {
      "cell_type": "markdown",
      "source": "# pie chart plot",
      "metadata": {
        "formattedRanges": [],
        "cell_id": "02bffb6e37c744deb67c9ace64e021b6",
        "deepnote_cell_type": "text-cell-h1"
      },
      "block_group": "acf9b5d50cfa48c8b9e482bb5af569d0"
    },
    {
      "cell_type": "code",
      "source": "xaxis = pizza.groupby('pizza_category').count()\nprint(xaxis[['pizza_name']])",
      "metadata": {
        "source_hash": null,
        "execution_start": 1711469833512,
        "execution_millis": 90,
        "deepnote_to_be_reexecuted": false,
        "cell_id": "72a7756c662640a6bdd70fc304f1b7e4",
        "deepnote_cell_type": "code"
      },
      "outputs": [
        {
          "name": "stdout",
          "text": "                pizza_name\npizza_category            \nChicken                 26\nClassic                 30\nSupreme                 23\nVeggie                  21\n",
          "output_type": "stream"
        }
      ],
      "outputs_reference": null,
      "execution_count": null,
      "block_group": "89f959d6b2514b1f9cf646bf8222a1f9"
    },
    {
      "cell_type": "code",
      "source": "ex=[0.2,0.0,0.0,0.0]\nplt.figure(figsize=(10,10))\nplt.pie(x=xaxis['order_id'],labels=xaxis.index,\n        explode=ex,autopct='%.1f%%',shadow=True,labeldistance=1,\n        textprops={'fontsize':12},counterclock=False,wedgeprops={'linewidth':3,\"edgecolor\":'b'},\n        rotatelabels=True)\nplt.title(\"percentage of varity of pizza\")\nplt.legend(loc=2)\nplt.show()",
      "metadata": {
        "source_hash": null,
        "execution_start": 1711472867334,
        "execution_millis": 260,
        "deepnote_to_be_reexecuted": false,
        "cell_id": "a69d6bc5255d4026a56a70bc5d0810d0",
        "deepnote_cell_type": "code"
      },
      "outputs": [
        {
          "data": {
            "text/plain": "<Figure size 1000x1000 with 1 Axes>",
            "image/png": "[encoded data removed]"
          },
          "metadata": {
            "image/png": {
              "width": 790,
              "height": 812
            }
          },
          "output_type": "display_data"
        }
      ],
      "outputs_reference": null,
      "execution_count": null,
      "block_group": "b8a52721e62e4a668c8addbbef84e19b"
    },
    {
      "cell_type": "code",
      "source": "df.info()",
      "metadata": {
        "source_hash": "de1e323c",
        "execution_start": 1711520202635,
        "execution_millis": 99,
        "deepnote_to_be_reexecuted": false,
        "cell_id": "5a12f0b0a2bc49bdbd5c65bb4ec7cead",
        "deepnote_cell_type": "code"
      },
      "outputs": [
        {
          "name": "stdout",
          "text": "<class 'pandas.core.frame.DataFrame'>\nRangeIndex: 88883 entries, 0 to 88882\nData columns (total 85 columns):\n #   Column                  Non-Null Count  Dtype  \n---  ------                  --------------  -----  \n 0   Respondent              88883 non-null  int64  \n 1   MainBranch              88331 non-null  object \n 2   Hobbyist                88883 non-null  object \n 3   OpenSourcer             88883 non-null  object \n 4   OpenSource              86842 non-null  object \n 5   Employment              87181 non-null  object \n 6   Country                 88751 non-null  object \n 7   Student                 87014 non-null  object \n 8   EdLevel                 86390 non-null  object \n 9   UndergradMajor          75614 non-null  object \n 10  EduOther                84260 non-null  object \n 11  OrgSize                 71791 non-null  object \n 12  DevType                 81335 non-null  object \n 13  YearsCode               87938 non-null  object \n 14  Age1stCode              87634 non-null  object \n 15  YearsCodePro            74331 non-null  object \n 16  CareerSat               72847 non-null  object \n 17  JobSat                  70988 non-null  object \n 18  MgrIdiot                61159 non-null  object \n 19  MgrMoney                61157 non-null  object \n 20  MgrWant                 61232 non-null  object \n 21  JobSeek                 80555 non-null  object \n 22  LastHireDate            79854 non-null  object \n 23  LastInt                 67155 non-null  object \n 24  FizzBuzz                71344 non-null  object \n 25  JobFactors              79371 non-null  object \n 26  ResumeUpdate            77877 non-null  object \n 27  CurrencySymbol          71392 non-null  object \n 28  CurrencyDesc            71392 non-null  object \n 29  CompTotal               55945 non-null  float64\n 30  CompFreq                63268 non-null  object \n 31  ConvertedComp           55823 non-null  float64\n 32  WorkWeekHrs             64503 non-null  float64\n 33  WorkPlan                68914 non-null  object \n 34  WorkChallenge           68141 non-null  object \n 35  WorkRemote              70284 non-null  object \n 36  WorkLoc                 70055 non-null  object \n 37  ImpSyn                  71779 non-null  object \n 38  CodeRev                 70390 non-null  object \n 39  CodeRevHrs              49790 non-null  float64\n 40  UnitTests               62668 non-null  object \n 41  PurchaseHow             61108 non-null  object \n 42  PurchaseWhat            62029 non-null  object \n 43  LanguageWorkedWith      87569 non-null  object \n 44  LanguageDesireNextYear  84088 non-null  object \n 45  DatabaseWorkedWith      76026 non-null  object \n 46  DatabaseDesireNextYear  69147 non-null  object \n 47  PlatformWorkedWith      80714 non-null  object \n 48  PlatformDesireNextYear  77443 non-null  object \n 49  WebFrameWorkedWith      65022 non-null  object \n 50  WebFrameDesireNextYear  62944 non-null  object \n 51  MiscTechWorkedWith      59586 non-null  object \n 52  MiscTechDesireNextYear  64511 non-null  object \n 53  DevEnviron              87317 non-null  object \n 54  OpSys                   87851 non-null  object \n 55  Containers              85366 non-null  object \n 56  BlockchainOrg           48175 non-null  object \n 57  BlockchainIs            60165 non-null  object \n 58  BetterLife              86269 non-null  object \n 59  ITperson                87141 non-null  object \n 60  OffOn                   86663 non-null  object \n 61  SocialMedia             84437 non-null  object \n 62  Extraversion            87305 non-null  object \n 63  ScreenName              80486 non-null  object \n 64  SOVisit1st              83877 non-null  object \n 65  SOVisitFreq             88263 non-null  object \n 66  SOVisitTo               88086 non-null  object \n 67  SOFindAnswer            87816 non-null  object \n 68  SOTimeSaved             86344 non-null  object \n 69  SOHowMuchTime           68378 non-null  object \n 70  SOAccount               87828 non-null  object \n 71  SOPartFreq              74692 non-null  object \n 72  SOJobs                  88066 non-null  object \n 73  EntTeams                87841 non-null  object \n 74  SOComm                  88131 non-null  object \n 75  WelcomeChange           85855 non-null  object \n 76  SONewContent            69560 non-null  object \n 77  Age                     79210 non-null  float64\n 78  Gender                  85406 non-null  object \n 79  Trans                   83607 non-null  object \n 80  Sexuality               76147 non-null  object \n 81  Ethnicity               76668 non-null  object \n 82  Dependents              83059 non-null  object \n 83  SurveyLength            86984 non-null  object \n 84  SurveyEase              87081 non-null  object \ndtypes: float64(5), int64(1), object(79)\nmemory usage: 57.6+ MB\n",
          "output_type": "stream"
        }
      ],
      "outputs_reference": null,
      "execution_count": 3,
      "block_group": "5128d36361414e0db88cf47c71dbb63f"
    },
    {
      "cell_type": "code",
      "source": "df.head(3)",
      "metadata": {
        "source_hash": "3a1ea484",
        "execution_start": 1711520236447,
        "execution_millis": 105,
        "deepnote_to_be_reexecuted": false,
        "cell_id": "339ed14f6bf647f5bf81bd11c71c31dc",
        "deepnote_cell_type": "code"
      },
      "outputs": [
        {
          "output_type": "execute_result",
          "execution_count": 4,
          "data": {
            "application/vnd.deepnote.dataframe.v3+json": {
              "column_count": 85,
              "row_count": 3,
              "columns": [
                {
                  "name": "Respondent",
                  "dtype": "int64",
                  "stats": {
                    "unique_count": 3,
                    "nan_count": 0,
                    "min": "1",
                    "max": "3",
                    "histogram": [
                      {
                        "bin_start": 1,
                        "bin_end": 1.2,
                        "count": 1
                      },
                      {
                        "bin_start": 1.2,
                        "bin_end": 1.4,
                        "count": 0
                      },
                      {
                        "bin_start": 1.4,
                        "bin_end": 1.6,
                        "count": 0
                      },
                      {
                        "bin_start": 1.6,
                        "bin_end": 1.8,
                        "count": 0
                      },
                      {
                        "bin_start": 1.8,
                        "bin_end": 2,
                        "count": 0
                      },
                      {
                        "bin_start": 2,
                        "bin_end": 2.2,
                        "count": 1
                      },
                      {
                        "bin_start": 2.2,
                        "bin_end": 2.4000000000000004,
                        "count": 0
                      },
                      {
                        "bin_start": 2.4000000000000004,
                        "bin_end": 2.6,
                        "count": 0
                      },
                      {
                        "bin_start": 2.6,
                        "bin_end": 2.8,
                        "count": 0
                      },
                      {
                        "bin_start": 2.8,
                        "bin_end": 3,
                        "count": 1
                      }
                    ]
                  }
                },
                {
                  "name": "MainBranch",
                  "dtype": "object",
                  "stats": {
                    "unique_count": 2,
                    "nan_count": 0,
                    "categories": [
                      {
                        "name": "I am a student who is learning to code",
                        "count": 2
                      },
                      {
                        "name": "I am not primarily a developer, but I write code sometimes as part of my work",
                        "count": 1
                      }
                    ]
                  }
                },
                {
                  "name": "Hobbyist",
                  "dtype": "object",
                  "stats": {
                    "unique_count": 2,
                    "nan_count": 0,
                    "categories": [
                      {
                        "name": "Yes",
                        "count": 2
                      },
                      {
                        "name": "No",
                        "count": 1
                      }
                    ]
                  }
                },
                {
                  "name": "OpenSourcer",
                  "dtype": "object",
                  "stats": {
                    "unique_count": 2,
                    "nan_count": 0,
                    "categories": [
                      {
                        "name": "Never",
                        "count": 2
                      },
                      {
                        "name": "Less than once per year",
                        "count": 1
                      }
                    ]
                  }
                },
                {
                  "name": "OpenSource",
                  "dtype": "object",
                  "stats": {
                    "unique_count": 1,
                    "nan_count": 0,
                    "categories": [
                      {
                        "name": "The quality of OSS and closed source software is about the same",
                        "count": 3
                      }
                    ]
                  }
                },
                {
                  "name": "Employment",
                  "dtype": "object",
                  "stats": {
                    "unique_count": 3,
                    "nan_count": 0,
                    "categories": [
                      {
                        "name": "Not employed, and not looking for work",
                        "count": 1
                      },
                      {
                        "name": "Not employed, but looking for work",
                        "count": 1
                      },
                      {
                        "name": "Employed full-time",
                        "count": 1
                      }
                    ]
                  }
                },
                {
                  "name": "Country",
                  "dtype": "object",
                  "stats": {
                    "unique_count": 3,
                    "nan_count": 0,
                    "categories": [
                      {
                        "name": "United Kingdom",
                        "count": 1
                      },
                      {
                        "name": "Bosnia and Herzegovina",
                        "count": 1
                      },
                      {
                        "name": "Thailand",
                        "count": 1
                      }
                    ]
                  }
                },
                {
                  "name": "Student",
                  "dtype": "object",
                  "stats": {
                    "unique_count": 2,
                    "nan_count": 0,
                    "categories": [
                      {
                        "name": "No",
                        "count": 2
                      },
                      {
                        "name": "Yes, full-time",
                        "count": 1
                      }
                    ]
                  }
                },
                {
                  "name": "EdLevel",
                  "dtype": "object",
                  "stats": {
                    "unique_count": 3,
                    "nan_count": 0,
                    "categories": [
                      {
                        "name": "Primary/elementary school",
                        "count": 1
                      },
                      {
                        "name": "Secondary school (e.g. American high school, German Realschule or Gymnasium, etc.)",
                        "count": 1
                      },
                      {
                        "name": "Bachelor’s degree (BA, BS, B.Eng., etc.)",
                        "count": 1
                      }
                    ]
                  }
                },
                {
                  "name": "UndergradMajor",
                  "dtype": "object",
                  "stats": {
                    "unique_count": 1,
                    "nan_count": 2,
                    "categories": [
                      {
                        "name": "Web development or web design",
                        "count": 1
                      },
                      {
                        "name": "Missing",
                        "count": 2
                      }
                    ]
                  }
                },
                {
                  "name": "EduOther",
                  "dtype": "object",
                  "stats": {
                    "unique_count": 2,
                    "nan_count": 0,
                    "categories": [
                      {
                        "name": "Taught yourself a new language, framework, or tool without taking a formal course",
                        "count": 2
                      },
                      {
                        "name": "Taken an online course in programming or software development (e.g. a MOOC)",
                        "count": 1
                      }
                    ]
                  }
                },
                {
                  "name": "OrgSize",
                  "dtype": "object",
                  "stats": {
                    "unique_count": 1,
                    "nan_count": 2,
                    "categories": [
                      {
                        "name": "100 to 499 employees",
                        "count": 1
                      },
                      {
                        "name": "Missing",
                        "count": 2
                      }
                    ]
                  }
                },
                {
                  "name": "DevType",
                  "dtype": "object",
                  "stats": {
                    "unique_count": 2,
                    "nan_count": 1,
                    "categories": [
                      {
                        "name": "Developer, desktop or enterprise applications;Developer, front-end",
                        "count": 1
                      },
                      {
                        "name": "Designer;Developer, back-end;Developer, front-end;Developer, full-stack",
                        "count": 1
                      },
                      {
                        "name": "Missing",
                        "count": 1
                      }
                    ]
                  }
                },
                {
                  "name": "YearsCode",
                  "dtype": "object",
                  "stats": {
                    "unique_count": 2,
                    "nan_count": 1,
                    "categories": [
                      {
                        "name": "4",
                        "count": 1
                      },
                      {
                        "name": "3",
                        "count": 1
                      },
                      {
                        "name": "Missing",
                        "count": 1
                      }
                    ]
                  }
                },
                {
                  "name": "Age1stCode",
                  "dtype": "object",
                  "stats": {
                    "unique_count": 3,
                    "nan_count": 0,
                    "categories": [
                      {
                        "name": "10",
                        "count": 1
                      },
                      {
                        "name": "17",
                        "count": 1
                      },
                      {
                        "name": "22",
                        "count": 1
                      }
                    ]
                  }
                },
                {
                  "name": "YearsCodePro",
                  "dtype": "object",
                  "stats": {
                    "unique_count": 1,
                    "nan_count": 2,
                    "categories": [
                      {
                        "name": "1",
                        "count": 1
                      },
                      {
                        "name": "Missing",
                        "count": 2
                      }
                    ]
                  }
                },
                {
                  "name": "CareerSat",
                  "dtype": "object",
                  "stats": {
                    "unique_count": 1,
                    "nan_count": 2,
                    "categories": [
                      {
                        "name": "Slightly satisfied",
                        "count": 1
                      },
                      {
                        "name": "Missing",
                        "count": 2
                      }
                    ]
                  }
                },
                {
                  "name": "JobSat",
                  "dtype": "object",
                  "stats": {
                    "unique_count": 1,
                    "nan_count": 2,
                    "categories": [
                      {
                        "name": "Slightly satisfied",
                        "count": 1
                      },
                      {
                        "name": "Missing",
                        "count": 2
                      }
                    ]
                  }
                },
                {
                  "name": "MgrIdiot",
                  "dtype": "object",
                  "stats": {
                    "unique_count": 1,
                    "nan_count": 2,
                    "categories": [
                      {
                        "name": "Not at all confident",
                        "count": 1
                      },
                      {
                        "name": "Missing",
                        "count": 2
                      }
                    ]
                  }
                },
                {
                  "name": "MgrMoney",
                  "dtype": "object",
                  "stats": {
                    "unique_count": 1,
                    "nan_count": 2,
                    "categories": [
                      {
                        "name": "Not sure",
                        "count": 1
                      },
                      {
                        "name": "Missing",
                        "count": 2
                      }
                    ]
                  }
                },
                {
                  "name": "MgrWant",
                  "dtype": "object",
                  "stats": {
                    "unique_count": 1,
                    "nan_count": 2,
                    "categories": [
                      {
                        "name": "Not sure",
                        "count": 1
                      },
                      {
                        "name": "Missing",
                        "count": 2
                      }
                    ]
                  }
                },
                {
                  "name": "JobSeek",
                  "dtype": "object",
                  "stats": {
                    "unique_count": 2,
                    "nan_count": 1,
                    "categories": [
                      {
                        "name": "I am actively looking for a job",
                        "count": 1
                      },
                      {
                        "name": "I’m not actively looking, but I am open to new opportunities",
                        "count": 1
                      },
                      {
                        "name": "Missing",
                        "count": 1
                      }
                    ]
                  }
                },
                {
                  "name": "LastHireDate",
                  "dtype": "object",
                  "stats": {
                    "unique_count": 2,
                    "nan_count": 1,
                    "categories": [
                      {
                        "name": "I've never had a job",
                        "count": 1
                      },
                      {
                        "name": "1-2 years ago",
                        "count": 1
                      },
                      {
                        "name": "Missing",
                        "count": 1
                      }
                    ]
                  }
                },
                {
                  "name": "LastInt",
                  "dtype": "object",
                  "stats": {
                    "unique_count": 1,
                    "nan_count": 2,
                    "categories": [
                      {
                        "name": "Interview with people in peer roles",
                        "count": 1
                      },
                      {
                        "name": "Missing",
                        "count": 2
                      }
                    ]
                  }
                },
                {
                  "name": "FizzBuzz",
                  "dtype": "object",
                  "stats": {
                    "unique_count": 1,
                    "nan_count": 2,
                    "categories": [
                      {
                        "name": "No",
                        "count": 1
                      },
                      {
                        "name": "Missing",
                        "count": 2
                      }
                    ]
                  }
                },
                {
                  "name": "JobFactors",
                  "dtype": "object",
                  "stats": {
                    "unique_count": 2,
                    "nan_count": 1,
                    "categories": [
                      {
                        "name": "Financial performance or funding status of the company or organization;Specific department or team I'd be working on;Languages, frameworks, and other technologies I'd be working with",
                        "count": 1
                      },
                      {
                        "name": "Languages, frameworks, and other technologies I'd be working with;Remote work options;Flex time or a flexible schedule",
                        "count": 1
                      },
                      {
                        "name": "Missing",
                        "count": 1
                      }
                    ]
                  }
                },
                {
                  "name": "ResumeUpdate",
                  "dtype": "object",
                  "stats": {
                    "unique_count": 2,
                    "nan_count": 1,
                    "categories": [
                      {
                        "name": "Something else changed (education, award, media, etc.)",
                        "count": 1
                      },
                      {
                        "name": "I was preparing for a job search",
                        "count": 1
                      },
                      {
                        "name": "Missing",
                        "count": 1
                      }
                    ]
                  }
                },
                {
                  "name": "CurrencySymbol",
                  "dtype": "object",
                  "stats": {
                    "unique_count": 1,
                    "nan_count": 2,
                    "categories": [
                      {
                        "name": "THB",
                        "count": 1
                      },
                      {
                        "name": "Missing",
                        "count": 2
                      }
                    ]
                  }
                },
                {
                  "name": "CurrencyDesc",
                  "dtype": "object",
                  "stats": {
                    "unique_count": 1,
                    "nan_count": 2,
                    "categories": [
                      {
                        "name": "Thai baht",
                        "count": 1
                      },
                      {
                        "name": "Missing",
                        "count": 2
                      }
                    ]
                  }
                },
                {
                  "name": "CompTotal",
                  "dtype": "float64",
                  "stats": {
                    "unique_count": 1,
                    "nan_count": 2,
                    "min": "23000.0",
                    "max": "23000.0",
                    "histogram": [
                      {
                        "bin_start": 22999.5,
                        "bin_end": 22999.6,
                        "count": 0
                      },
                      {
                        "bin_start": 22999.6,
                        "bin_end": 22999.7,
                        "count": 0
                      },
                      {
                        "bin_start": 22999.7,
                        "bin_end": 22999.8,
                        "count": 0
                      },
                      {
                        "bin_start": 22999.8,
                        "bin_end": 22999.9,
                        "count": 0
                      },
                      {
                        "bin_start": 22999.9,
                        "bin_end": 23000,
                        "count": 0
                      },
                      {
                        "bin_start": 23000,
                        "bin_end": 23000.1,
                        "count": 1
                      },
                      {
                        "bin_start": 23000.1,
                        "bin_end": 23000.2,
                        "count": 0
                      },
                      {
                        "bin_start": 23000.2,
                        "bin_end": 23000.3,
                        "count": 0
                      },
                      {
                        "bin_start": 23000.3,
                        "bin_end": 23000.4,
                        "count": 0
                      },
                      {
                        "bin_start": 23000.4,
                        "bin_end": 23000.5,
                        "count": 0
                      }
                    ]
                  }
                },
                {
                  "name": "CompFreq",
                  "dtype": "object",
                  "stats": {
                    "unique_count": 1,
                    "nan_count": 2,
                    "categories": [
                      {
                        "name": "Monthly",
                        "count": 1
                      },
                      {
                        "name": "Missing",
                        "count": 2
                      }
                    ]
                  }
                },
                {
                  "name": "ConvertedComp",
                  "dtype": "float64",
                  "stats": {
                    "unique_count": 1,
                    "nan_count": 2,
                    "min": "8820.0",
                    "max": "8820.0",
                    "histogram": [
                      {
                        "bin_start": 8819.5,
                        "bin_end": 8819.6,
                        "count": 0
                      },
                      {
                        "bin_start": 8819.6,
                        "bin_end": 8819.7,
                        "count": 0
                      },
                      {
                        "bin_start": 8819.7,
                        "bin_end": 8819.8,
                        "count": 0
                      },
                      {
                        "bin_start": 8819.8,
                        "bin_end": 8819.9,
                        "count": 0
                      },
                      {
                        "bin_start": 8819.9,
                        "bin_end": 8820,
                        "count": 0
                      },
                      {
                        "bin_start": 8820,
                        "bin_end": 8820.1,
                        "count": 1
                      },
                      {
                        "bin_start": 8820.1,
                        "bin_end": 8820.2,
                        "count": 0
                      },
                      {
                        "bin_start": 8820.2,
                        "bin_end": 8820.3,
                        "count": 0
                      },
                      {
                        "bin_start": 8820.3,
                        "bin_end": 8820.4,
                        "count": 0
                      },
                      {
                        "bin_start": 8820.4,
                        "bin_end": 8820.5,
                        "count": 0
                      }
                    ]
                  }
                },
                {
                  "name": "WorkWeekHrs",
                  "dtype": "float64",
                  "stats": {
                    "unique_count": 1,
                    "nan_count": 2,
                    "min": "40.0",
                    "max": "40.0",
                    "histogram": [
                      {
                        "bin_start": 39.5,
                        "bin_end": 39.6,
                        "count": 0
                      },
                      {
                        "bin_start": 39.6,
                        "bin_end": 39.7,
                        "count": 0
                      },
                      {
                        "bin_start": 39.7,
                        "bin_end": 39.8,
                        "count": 0
                      },
                      {
                        "bin_start": 39.8,
                        "bin_end": 39.9,
                        "count": 0
                      },
                      {
                        "bin_start": 39.9,
                        "bin_end": 40,
                        "count": 0
                      },
                      {
                        "bin_start": 40,
                        "bin_end": 40.1,
                        "count": 1
                      },
                      {
                        "bin_start": 40.1,
                        "bin_end": 40.2,
                        "count": 0
                      },
                      {
                        "bin_start": 40.2,
                        "bin_end": 40.3,
                        "count": 0
                      },
                      {
                        "bin_start": 40.3,
                        "bin_end": 40.4,
                        "count": 0
                      },
                      {
                        "bin_start": 40.4,
                        "bin_end": 40.5,
                        "count": 0
                      }
                    ]
                  }
                },
                {
                  "name": "WorkPlan",
                  "dtype": "object",
                  "stats": {
                    "unique_count": 1,
                    "nan_count": 2,
                    "categories": [
                      {
                        "name": "There's no schedule or spec; I work on what seems most important or urgent",
                        "count": 1
                      },
                      {
                        "name": "Missing",
                        "count": 2
                      }
                    ]
                  }
                },
                {
                  "name": "WorkChallenge",
                  "dtype": "object",
                  "stats": {
                    "unique_count": 1,
                    "nan_count": 2,
                    "categories": [
                      {
                        "name": "Distracting work environment;Inadequate access to necessary tools;Lack of support from management",
                        "count": 1
                      },
                      {
                        "name": "Missing",
                        "count": 2
                      }
                    ]
                  }
                },
                {
                  "name": "WorkRemote",
                  "dtype": "object",
                  "stats": {
                    "unique_count": 1,
                    "nan_count": 2,
                    "categories": [
                      {
                        "name": "Less than once per month / Never",
                        "count": 1
                      },
                      {
                        "name": "Missing",
                        "count": 2
                      }
                    ]
                  }
                },
                {
                  "name": "WorkLoc",
                  "dtype": "object",
                  "stats": {
                    "unique_count": 1,
                    "nan_count": 2,
                    "categories": [
                      {
                        "name": "Home",
                        "count": 1
                      },
                      {
                        "name": "Missing",
                        "count": 2
                      }
                    ]
                  }
                },
                {
                  "name": "ImpSyn",
                  "dtype": "object",
                  "stats": {
                    "unique_count": 1,
                    "nan_count": 2,
                    "categories": [
                      {
                        "name": "Average",
                        "count": 1
                      },
                      {
                        "name": "Missing",
                        "count": 2
                      }
                    ]
                  }
                },
                {
                  "name": "CodeRev",
                  "dtype": "object",
                  "stats": {
                    "unique_count": 1,
                    "nan_count": 2,
                    "categories": [
                      {
                        "name": "No",
                        "count": 1
                      },
                      {
                        "name": "Missing",
                        "count": 2
                      }
                    ]
                  }
                },
                {
                  "name": "CodeRevHrs",
                  "dtype": "float64",
                  "stats": {
                    "unique_count": 0,
                    "nan_count": 3,
                    "min": null,
                    "max": null,
                    "histogram": [
                      {
                        "bin_start": 0,
                        "bin_end": 0.1,
                        "count": 0
                      },
                      {
                        "bin_start": 0.1,
                        "bin_end": 0.2,
                        "count": 0
                      },
                      {
                        "bin_start": 0.2,
                        "bin_end": 0.30000000000000004,
                        "count": 0
                      },
                      {
                        "bin_start": 0.30000000000000004,
                        "bin_end": 0.4,
                        "count": 0
                      },
                      {
                        "bin_start": 0.4,
                        "bin_end": 0.5,
                        "count": 0
                      },
                      {
                        "bin_start": 0.5,
                        "bin_end": 0.6000000000000001,
                        "count": 0
                      },
                      {
                        "bin_start": 0.6000000000000001,
                        "bin_end": 0.7000000000000001,
                        "count": 0
                      },
                      {
                        "bin_start": 0.7000000000000001,
                        "bin_end": 0.8,
                        "count": 0
                      },
                      {
                        "bin_start": 0.8,
                        "bin_end": 0.9,
                        "count": 0
                      },
                      {
                        "bin_start": 0.9,
                        "bin_end": 1,
                        "count": 0
                      }
                    ]
                  }
                },
                {
                  "name": "UnitTests",
                  "dtype": "object",
                  "stats": {
                    "unique_count": 1,
                    "nan_count": 2,
                    "categories": [
                      {
                        "name": "No, but I think we should",
                        "count": 1
                      },
                      {
                        "name": "Missing",
                        "count": 2
                      }
                    ]
                  }
                },
                {
                  "name": "PurchaseHow",
                  "dtype": "object",
                  "stats": {
                    "unique_count": 1,
                    "nan_count": 2,
                    "categories": [
                      {
                        "name": "Not sure",
                        "count": 1
                      },
                      {
                        "name": "Missing",
                        "count": 2
                      }
                    ]
                  }
                },
                {
                  "name": "PurchaseWhat",
                  "dtype": "object",
                  "stats": {
                    "unique_count": 1,
                    "nan_count": 2,
                    "categories": [
                      {
                        "name": "I have little or no influence",
                        "count": 1
                      },
                      {
                        "name": "Missing",
                        "count": 2
                      }
                    ]
                  }
                },
                {
                  "name": "LanguageWorkedWith",
                  "dtype": "object",
                  "stats": {
                    "unique_count": 3,
                    "nan_count": 0,
                    "categories": [
                      {
                        "name": "HTML/CSS;Java;JavaScript;Python",
                        "count": 1
                      },
                      {
                        "name": "C++;HTML/CSS;Python",
                        "count": 1
                      },
                      {
                        "name": "HTML/CSS",
                        "count": 1
                      }
                    ]
                  }
                },
                {
                  "name": "LanguageDesireNextYear",
                  "dtype": "object",
                  "stats": {
                    "unique_count": 3,
                    "nan_count": 0,
                    "categories": [
                      {
                        "name": "C;C++;C#;Go;HTML/CSS;Java;JavaScript;Python;SQL",
                        "count": 1
                      },
                      {
                        "name": "C++;HTML/CSS;JavaScript;SQL",
                        "count": 1
                      },
                      {
                        "name": "Elixir;HTML/CSS",
                        "count": 1
                      }
                    ]
                  }
                },
                {
                  "name": "DatabaseWorkedWith",
                  "dtype": "object",
                  "stats": {
                    "unique_count": 2,
                    "nan_count": 1,
                    "categories": [
                      {
                        "name": "SQLite",
                        "count": 1
                      },
                      {
                        "name": "PostgreSQL",
                        "count": 1
                      },
                      {
                        "name": "Missing",
                        "count": 1
                      }
                    ]
                  }
                },
                {
                  "name": "DatabaseDesireNextYear",
                  "dtype": "object",
                  "stats": {
                    "unique_count": 2,
                    "nan_count": 0,
                    "categories": [
                      {
                        "name": "MySQL",
                        "count": 2
                      },
                      {
                        "name": "PostgreSQL",
                        "count": 1
                      }
                    ]
                  }
                },
                {
                  "name": "PlatformWorkedWith",
                  "dtype": "object",
                  "stats": {
                    "unique_count": 2,
                    "nan_count": 1,
                    "categories": [
                      {
                        "name": "MacOS;Windows",
                        "count": 1
                      },
                      {
                        "name": "Windows",
                        "count": 1
                      },
                      {
                        "name": "Missing",
                        "count": 1
                      }
                    ]
                  }
                },
                {
                  "name": "PlatformDesireNextYear",
                  "dtype": "object",
                  "stats": {
                    "unique_count": 2,
                    "nan_count": 1,
                    "categories": [
                      {
                        "name": "Android;Arduino;Windows",
                        "count": 1
                      },
                      {
                        "name": "Windows",
                        "count": 1
                      },
                      {
                        "name": "Missing",
                        "count": 1
                      }
                    ]
                  }
                },
                {
                  "name": "WebFrameWorkedWith",
                  "dtype": "object",
                  "stats": {
                    "unique_count": 2,
                    "nan_count": 1,
                    "categories": [
                      {
                        "name": "Django;Flask",
                        "count": 1
                      },
                      {
                        "name": "Django",
                        "count": 1
                      },
                      {
                        "name": "Missing",
                        "count": 1
                      }
                    ]
                  }
                },
                {
                  "name": "WebFrameDesireNextYear",
                  "dtype": "object",
                  "stats": {
                    "unique_count": 3,
                    "nan_count": 0,
                    "categories": [
                      {
                        "name": "Flask;jQuery",
                        "count": 1
                      },
                      {
                        "name": "Django",
                        "count": 1
                      },
                      {
                        "name": "Other(s):",
                        "count": 1
                      }
                    ]
                  }
                },
                {
                  "name": "MiscTechWorkedWith",
                  "dtype": "object",
                  "stats": {
                    "unique_count": 1,
                    "nan_count": 2,
                    "categories": [
                      {
                        "name": "Node.js",
                        "count": 1
                      },
                      {
                        "name": "Missing",
                        "count": 2
                      }
                    ]
                  }
                },
                {
                  "name": "MiscTechDesireNextYear",
                  "dtype": "object",
                  "stats": {
                    "unique_count": 1,
                    "nan_count": 2,
                    "categories": [
                      {
                        "name": "Node.js",
                        "count": 1
                      },
                      {
                        "name": "Missing",
                        "count": 2
                      }
                    ]
                  }
                },
                {
                  "name": "DevEnviron",
                  "dtype": "object",
                  "stats": {
                    "unique_count": 3,
                    "nan_count": 0,
                    "categories": [
                      {
                        "name": "IntelliJ;Notepad++;PyCharm",
                        "count": 1
                      },
                      {
                        "name": "Atom;PyCharm",
                        "count": 1
                      },
                      {
                        "name": "Vim;Visual Studio Code",
                        "count": 1
                      }
                    ]
                  }
                },
                {
                  "name": "OpSys",
                  "dtype": "object",
                  "stats": {
                    "unique_count": 2,
                    "nan_count": 0,
                    "categories": [
                      {
                        "name": "Windows",
                        "count": 2
                      },
                      {
                        "name": "Linux-based",
                        "count": 1
                      }
                    ]
                  }
                },
                {
                  "name": "Containers",
                  "dtype": "object",
                  "stats": {
                    "unique_count": 1,
                    "nan_count": 0,
                    "categories": [
                      {
                        "name": "I do not use containers",
                        "count": 3
                      }
                    ]
                  }
                },
                {
                  "name": "BlockchainOrg",
                  "dtype": "object",
                  "stats": {
                    "unique_count": 0,
                    "nan_count": 3,
                    "categories": [
                      {
                        "name": "Missing",
                        "count": 3
                      }
                    ]
                  }
                },
                {
                  "name": "BlockchainIs",
                  "dtype": "object",
                  "stats": {
                    "unique_count": 1,
                    "nan_count": 2,
                    "categories": [
                      {
                        "name": "Useful across many domains and could change many aspects of our lives",
                        "count": 1
                      },
                      {
                        "name": "Missing",
                        "count": 2
                      }
                    ]
                  }
                },
                {
                  "name": "BetterLife",
                  "dtype": "object",
                  "stats": {
                    "unique_count": 1,
                    "nan_count": 0,
                    "categories": [
                      {
                        "name": "Yes",
                        "count": 3
                      }
                    ]
                  }
                },
                {
                  "name": "ITperson",
                  "dtype": "object",
                  "stats": {
                    "unique_count": 2,
                    "nan_count": 0,
                    "categories": [
                      {
                        "name": "Yes",
                        "count": 2
                      },
                      {
                        "name": "Fortunately, someone else has that title",
                        "count": 1
                      }
                    ]
                  }
                },
                {
                  "name": "OffOn",
                  "dtype": "object",
                  "stats": {
                    "unique_count": 1,
                    "nan_count": 0,
                    "categories": [
                      {
                        "name": "Yes",
                        "count": 3
                      }
                    ]
                  }
                },
                {
                  "name": "SocialMedia",
                  "dtype": "object",
                  "stats": {
                    "unique_count": 3,
                    "nan_count": 0,
                    "categories": [
                      {
                        "name": "Twitter",
                        "count": 1
                      },
                      {
                        "name": "Instagram",
                        "count": 1
                      },
                      {
                        "name": "Reddit",
                        "count": 1
                      }
                    ]
                  }
                },
                {
                  "name": "Extraversion",
                  "dtype": "object",
                  "stats": {
                    "unique_count": 2,
                    "nan_count": 0,
                    "categories": [
                      {
                        "name": "Online",
                        "count": 2
                      },
                      {
                        "name": "In real life (in person)",
                        "count": 1
                      }
                    ]
                  }
                },
                {
                  "name": "ScreenName",
                  "dtype": "object",
                  "stats": {
                    "unique_count": 1,
                    "nan_count": 0,
                    "categories": [
                      {
                        "name": "Username",
                        "count": 3
                      }
                    ]
                  }
                },
                {
                  "name": "SOVisit1st",
                  "dtype": "object",
                  "stats": {
                    "unique_count": 2,
                    "nan_count": 0,
                    "categories": [
                      {
                        "name": "2017",
                        "count": 2
                      },
                      {
                        "name": "2011",
                        "count": 1
                      }
                    ]
                  }
                },
                {
                  "name": "SOVisitFreq",
                  "dtype": "object",
                  "stats": {
                    "unique_count": 3,
                    "nan_count": 0,
                    "categories": [
                      {
                        "name": "A few times per month or weekly",
                        "count": 1
                      },
                      {
                        "name": "Daily or almost daily",
                        "count": 1
                      },
                      {
                        "name": "A few times per week",
                        "count": 1
                      }
                    ]
                  }
                },
                {
                  "name": "SOVisitTo",
                  "dtype": "object",
                  "stats": {
                    "unique_count": 1,
                    "nan_count": 0,
                    "categories": [
                      {
                        "name": "Find answers to specific questions;Learn how to do things I didn’t necessarily look for",
                        "count": 3
                      }
                    ]
                  }
                },
                {
                  "name": "SOFindAnswer",
                  "dtype": "object",
                  "stats": {
                    "unique_count": 2,
                    "nan_count": 0,
                    "categories": [
                      {
                        "name": "3-5 times per week",
                        "count": 2
                      },
                      {
                        "name": "6-10 times per week",
                        "count": 1
                      }
                    ]
                  }
                },
                {
                  "name": "SOTimeSaved",
                  "dtype": "object",
                  "stats": {
                    "unique_count": 2,
                    "nan_count": 0,
                    "categories": [
                      {
                        "name": "Stack Overflow was much faster",
                        "count": 2
                      },
                      {
                        "name": "They were about the same",
                        "count": 1
                      }
                    ]
                  }
                },
                {
                  "name": "SOHowMuchTime",
                  "dtype": "object",
                  "stats": {
                    "unique_count": 2,
                    "nan_count": 1,
                    "categories": [
                      {
                        "name": "31-60 minutes",
                        "count": 1
                      },
                      {
                        "name": "11-30 minutes",
                        "count": 1
                      },
                      {
                        "name": "Missing",
                        "count": 1
                      }
                    ]
                  }
                },
                {
                  "name": "SOAccount",
                  "dtype": "object",
                  "stats": {
                    "unique_count": 2,
                    "nan_count": 0,
                    "categories": [
                      {
                        "name": "Yes",
                        "count": 2
                      },
                      {
                        "name": "No",
                        "count": 1
                      }
                    ]
                  }
                },
                {
                  "name": "SOPartFreq",
                  "dtype": "object",
                  "stats": {
                    "unique_count": 2,
                    "nan_count": 1,
                    "categories": [
                      {
                        "name": "A few times per month or weekly",
                        "count": 1
                      },
                      {
                        "name": "Less than once per month or monthly",
                        "count": 1
                      },
                      {
                        "name": "Missing",
                        "count": 1
                      }
                    ]
                  }
                },
                {
                  "name": "SOJobs",
                  "dtype": "object",
                  "stats": {
                    "unique_count": 3,
                    "nan_count": 0,
                    "categories": [
                      {
                        "name": "No, I didn't know that Stack Overflow had a job board",
                        "count": 1
                      },
                      {
                        "name": "No, I knew that Stack Overflow had a job board but have never used or visited it",
                        "count": 1
                      },
                      {
                        "name": "Yes",
                        "count": 1
                      }
                    ]
                  }
                },
                {
                  "name": "EntTeams",
                  "dtype": "object",
                  "stats": {
                    "unique_count": 2,
                    "nan_count": 0,
                    "categories": [
                      {
                        "name": "No, and I don't know what those are",
                        "count": 2
                      },
                      {
                        "name": "No, I've heard of them, but I am not part of a private Q&A instance",
                        "count": 1
                      }
                    ]
                  }
                },
                {
                  "name": "SOComm",
                  "dtype": "object",
                  "stats": {
                    "unique_count": 2,
                    "nan_count": 0,
                    "categories": [
                      {
                        "name": "Neutral",
                        "count": 2
                      },
                      {
                        "name": "Yes, somewhat",
                        "count": 1
                      }
                    ]
                  }
                },
                {
                  "name": "WelcomeChange",
                  "dtype": "object",
                  "stats": {
                    "unique_count": 1,
                    "nan_count": 0,
                    "categories": [
                      {
                        "name": "Just as welcome now as I felt last year",
                        "count": 3
                      }
                    ]
                  }
                },
                {
                  "name": "SONewContent",
                  "dtype": "object",
                  "stats": {
                    "unique_count": 3,
                    "nan_count": 0,
                    "categories": [
                      {
                        "name": "Tech articles written by other developers;Industry news about technologies you're interested in;Courses on technologies you're interested in",
                        "count": 1
                      },
                      {
                        "name": "Tech articles written by other developers;Industry news about technologies you're interested in;Tech meetups or events in your area;Courses on technologies you're interested in",
                        "count": 1
                      },
                      {
                        "name": "Tech meetups or events in your area;Courses on technologies you're interested in",
                        "count": 1
                      }
                    ]
                  }
                },
                {
                  "name": "Age",
                  "dtype": "float64",
                  "stats": {
                    "unique_count": 3,
                    "nan_count": 0,
                    "min": "14.0",
                    "max": "28.0",
                    "histogram": [
                      {
                        "bin_start": 14,
                        "bin_end": 15.4,
                        "count": 1
                      },
                      {
                        "bin_start": 15.4,
                        "bin_end": 16.8,
                        "count": 0
                      },
                      {
                        "bin_start": 16.8,
                        "bin_end": 18.2,
                        "count": 0
                      },
                      {
                        "bin_start": 18.2,
                        "bin_end": 19.6,
                        "count": 1
                      },
                      {
                        "bin_start": 19.6,
                        "bin_end": 21,
                        "count": 0
                      },
                      {
                        "bin_start": 21,
                        "bin_end": 22.4,
                        "count": 0
                      },
                      {
                        "bin_start": 22.4,
                        "bin_end": 23.799999999999997,
                        "count": 0
                      },
                      {
                        "bin_start": 23.799999999999997,
                        "bin_end": 25.2,
                        "count": 0
                      },
                      {
                        "bin_start": 25.2,
                        "bin_end": 26.6,
                        "count": 0
                      },
                      {
                        "bin_start": 26.6,
                        "bin_end": 28,
                        "count": 1
                      }
                    ]
                  }
                },
                {
                  "name": "Gender",
                  "dtype": "object",
                  "stats": {
                    "unique_count": 1,
                    "nan_count": 0,
                    "categories": [
                      {
                        "name": "Man",
                        "count": 3
                      }
                    ]
                  }
                },
                {
                  "name": "Trans",
                  "dtype": "object",
                  "stats": {
                    "unique_count": 1,
                    "nan_count": 0,
                    "categories": [
                      {
                        "name": "No",
                        "count": 3
                      }
                    ]
                  }
                },
                {
                  "name": "Sexuality",
                  "dtype": "object",
                  "stats": {
                    "unique_count": 1,
                    "nan_count": 0,
                    "categories": [
                      {
                        "name": "Straight / Heterosexual",
                        "count": 3
                      }
                    ]
                  }
                },
                {
                  "name": "Ethnicity",
                  "dtype": "object",
                  "stats": {
                    "unique_count": 0,
                    "nan_count": 3,
                    "categories": [
                      {
                        "name": "Missing",
                        "count": 3
                      }
                    ]
                  }
                },
                {
                  "name": "Dependents",
                  "dtype": "object",
                  "stats": {
                    "unique_count": 2,
                    "nan_count": 0,
                    "categories": [
                      {
                        "name": "No",
                        "count": 2
                      },
                      {
                        "name": "Yes",
                        "count": 1
                      }
                    ]
                  }
                },
                {
                  "name": "SurveyLength",
                  "dtype": "object",
                  "stats": {
                    "unique_count": 1,
                    "nan_count": 0,
                    "categories": [
                      {
                        "name": "Appropriate in length",
                        "count": 3
                      }
                    ]
                  }
                },
                {
                  "name": "SurveyEase",
                  "dtype": "object",
                  "stats": {
                    "unique_count": 1,
                    "nan_count": 0,
                    "categories": [
                      {
                        "name": "Neither easy nor difficult",
                        "count": 3
                      }
                    ]
                  }
                },
                {
                  "name": "_deepnote_index_column",
                  "dtype": "int64"
                }
              ],
              "rows": [
                {
                  "Respondent": 1,
                  "MainBranch": "I am a student who is learning to code",
                  "Hobbyist": "Yes",
                  "OpenSourcer": "Never",
                  "OpenSource": "The quality of OSS and closed source software is about the same",
                  "Employment": "Not employed, and not looking for work",
                  "Country": "United Kingdom",
                  "Student": "No",
                  "EdLevel": "Primary/elementary school",
                  "UndergradMajor": "nan",
                  "EduOther": "Taught yourself a new language, framework, or tool without taking a formal course",
                  "OrgSize": "nan",
                  "DevType": "nan",
                  "YearsCode": "4",
                  "Age1stCode": "10",
                  "YearsCodePro": "nan",
                  "CareerSat": "nan",
                  "JobSat": "nan",
                  "MgrIdiot": "nan",
                  "MgrMoney": "nan",
                  "MgrWant": "nan",
                  "JobSeek": "nan",
                  "LastHireDate": "nan",
                  "LastInt": "nan",
                  "FizzBuzz": "nan",
                  "JobFactors": "nan",
                  "ResumeUpdate": "nan",
                  "CurrencySymbol": "nan",
                  "CurrencyDesc": "nan",
                  "CompTotal": "nan",
                  "CompFreq": "nan",
                  "ConvertedComp": "nan",
                  "WorkWeekHrs": "nan",
                  "WorkPlan": "nan",
                  "WorkChallenge": "nan",
                  "WorkRemote": "nan",
                  "WorkLoc": "nan",
                  "ImpSyn": "nan",
                  "CodeRev": "nan",
                  "CodeRevHrs": "nan",
                  "UnitTests": "nan",
                  "PurchaseHow": "nan",
                  "PurchaseWhat": "nan",
                  "LanguageWorkedWith": "HTML/CSS;Java;JavaScript;Python",
                  "LanguageDesireNextYear": "C;C++;C#;Go;HTML/CSS;Java;JavaScript;Python;SQL",
                  "DatabaseWorkedWith": "SQLite",
                  "DatabaseDesireNextYear": "MySQL",
                  "PlatformWorkedWith": "MacOS;Windows",
                  "PlatformDesireNextYear": "Android;Arduino;Windows",
                  "WebFrameWorkedWith": "Django;Flask",
                  "WebFrameDesireNextYear": "Flask;jQuery",
                  "MiscTechWorkedWith": "Node.js",
                  "MiscTechDesireNextYear": "Node.js",
                  "DevEnviron": "IntelliJ;Notepad++;PyCharm",
                  "OpSys": "Windows",
                  "Containers": "I do not use containers",
                  "BlockchainOrg": "nan",
                  "BlockchainIs": "nan",
                  "BetterLife": "Yes",
                  "ITperson": "Fortunately, someone else has that title",
                  "OffOn": "Yes",
                  "SocialMedia": "Twitter",
                  "Extraversion": "Online",
                  "ScreenName": "Username",
                  "SOVisit1st": "2017",
                  "SOVisitFreq": "A few times per month or weekly",
                  "SOVisitTo": "Find answers to specific questions;Learn how to do things I didn’t necessarily look for",
                  "SOFindAnswer": "3-5 times per week",
                  "SOTimeSaved": "Stack Overflow was much faster",
                  "SOHowMuchTime": "31-60 minutes",
                  "SOAccount": "No",
                  "SOPartFreq": "nan",
                  "SOJobs": "No, I didn't know that Stack Overflow had a job board",
                  "EntTeams": "No, and I don't know what those are",
                  "SOComm": "Neutral",
                  "WelcomeChange": "Just as welcome now as I felt last year",
                  "SONewContent": "Tech articles written by other developers;Industry news about technologies you're interested in;Courses on technologies you're interested in",
                  "Age": 14,
                  "Gender": "Man",
                  "Trans": "No",
                  "Sexuality": "Straight / Heterosexual",
                  "Ethnicity": "nan",
                  "Dependents": "No",
                  "SurveyLength": "Appropriate in length",
                  "SurveyEase": "Neither easy nor difficult",
                  "_deepnote_index_column": 0
                },
                {
                  "Respondent": 2,
                  "MainBranch": "I am a student who is learning to code",
                  "Hobbyist": "No",
                  "OpenSourcer": "Less than once per year",
                  "OpenSource": "The quality of OSS and closed source software is about the same",
                  "Employment": "Not employed, but looking for work",
                  "Country": "Bosnia and Herzegovina",
                  "Student": "Yes, full-time",
                  "EdLevel": "Secondary school (e.g. American high school, German Realschule or Gymnasium, etc.)",
                  "UndergradMajor": "nan",
                  "EduOther": "Taken an online course in programming or software development (e.g. a MOOC)",
                  "OrgSize": "nan",
                  "DevType": "Developer, desktop or enterprise applications;Developer, front-end",
                  "YearsCode": "nan",
                  "Age1stCode": "17",
                  "YearsCodePro": "nan",
                  "CareerSat": "nan",
                  "JobSat": "nan",
                  "MgrIdiot": "nan",
                  "MgrMoney": "nan",
                  "MgrWant": "nan",
                  "JobSeek": "I am actively looking for a job",
                  "LastHireDate": "I've never had a job",
                  "LastInt": "nan",
                  "FizzBuzz": "nan",
                  "JobFactors": "Financial performance or funding status of the company or organization;Specific department or team I'd be working on;Languages, frameworks, and other technologies I'd be working with",
                  "ResumeUpdate": "Something else changed (education, award, media, etc.)",
                  "CurrencySymbol": "nan",
                  "CurrencyDesc": "nan",
                  "CompTotal": "nan",
                  "CompFreq": "nan",
                  "ConvertedComp": "nan",
                  "WorkWeekHrs": "nan",
                  "WorkPlan": "nan",
                  "WorkChallenge": "nan",
                  "WorkRemote": "nan",
                  "WorkLoc": "nan",
                  "ImpSyn": "nan",
                  "CodeRev": "nan",
                  "CodeRevHrs": "nan",
                  "UnitTests": "nan",
                  "PurchaseHow": "nan",
                  "PurchaseWhat": "nan",
                  "LanguageWorkedWith": "C++;HTML/CSS;Python",
                  "LanguageDesireNextYear": "C++;HTML/CSS;JavaScript;SQL",
                  "DatabaseWorkedWith": "nan",
                  "DatabaseDesireNextYear": "MySQL",
                  "PlatformWorkedWith": "Windows",
                  "PlatformDesireNextYear": "Windows",
                  "WebFrameWorkedWith": "Django",
                  "WebFrameDesireNextYear": "Django",
                  "MiscTechWorkedWith": "nan",
                  "MiscTechDesireNextYear": "nan",
                  "DevEnviron": "Atom;PyCharm",
                  "OpSys": "Windows",
                  "Containers": "I do not use containers",
                  "BlockchainOrg": "nan",
                  "BlockchainIs": "Useful across many domains and could change many aspects of our lives",
                  "BetterLife": "Yes",
                  "ITperson": "Yes",
                  "OffOn": "Yes",
                  "SocialMedia": "Instagram",
                  "Extraversion": "Online",
                  "ScreenName": "Username",
                  "SOVisit1st": "2017",
                  "SOVisitFreq": "Daily or almost daily",
                  "SOVisitTo": "Find answers to specific questions;Learn how to do things I didn’t necessarily look for",
                  "SOFindAnswer": "3-5 times per week",
                  "SOTimeSaved": "Stack Overflow was much faster",
                  "SOHowMuchTime": "11-30 minutes",
                  "SOAccount": "Yes",
                  "SOPartFreq": "A few times per month or weekly",
                  "SOJobs": "No, I knew that Stack Overflow had a job board but have never used or visited it",
                  "EntTeams": "No, and I don't know what those are",
                  "SOComm": "Yes, somewhat",
                  "WelcomeChange": "Just as welcome now as I felt last year",
                  "SONewContent": "Tech articles written by other developers;Industry news about technologies you're interested in;Tech meetups or events in your area;Courses on technologies you're interested in",
                  "Age": 19,
                  "Gender": "Man",
                  "Trans": "No",
                  "Sexuality": "Straight / Heterosexual",
                  "Ethnicity": "nan",
                  "Dependents": "No",
                  "SurveyLength": "Appropriate in length",
                  "SurveyEase": "Neither easy nor difficult",
                  "_deepnote_index_column": 1
                },
                {
                  "Respondent": 3,
                  "MainBranch": "I am not primarily a developer, but I write code sometimes as part of my work",
                  "Hobbyist": "Yes",
                  "OpenSourcer": "Never",
                  "OpenSource": "The quality of OSS and closed source software is about the same",
                  "Employment": "Employed full-time",
                  "Country": "Thailand",
                  "Student": "No",
                  "EdLevel": "Bachelor’s degree (BA, BS, B.Eng., etc.)",
                  "UndergradMajor": "Web development or web design",
                  "EduOther": "Taught yourself a new language, framework, or tool without taking a formal course",
                  "OrgSize": "100 to 499 employees",
                  "DevType": "Designer;Developer, back-end;Developer, front-end;Developer, full-stack",
                  "YearsCode": "3",
                  "Age1stCode": "22",
                  "YearsCodePro": "1",
                  "CareerSat": "Slightly satisfied",
                  "JobSat": "Slightly satisfied",
                  "MgrIdiot": "Not at all confident",
                  "MgrMoney": "Not sure",
                  "MgrWant": "Not sure",
                  "JobSeek": "I’m not actively looking, but I am open to new opportunities",
                  "LastHireDate": "1-2 years ago",
                  "LastInt": "Interview with people in peer roles",
                  "FizzBuzz": "No",
                  "JobFactors": "Languages, frameworks, and other technologies I'd be working with;Remote work options;Flex time or a flexible schedule",
                  "ResumeUpdate": "I was preparing for a job search",
                  "CurrencySymbol": "THB",
                  "CurrencyDesc": "Thai baht",
                  "CompTotal": 23000,
                  "CompFreq": "Monthly",
                  "ConvertedComp": 8820,
                  "WorkWeekHrs": 40,
                  "WorkPlan": "There's no schedule or spec; I work on what seems most important or urgent",
                  "WorkChallenge": "Distracting work environment;Inadequate access to necessary tools;Lack of support from management",
                  "WorkRemote": "Less than once per month / Never",
                  "WorkLoc": "Home",
                  "ImpSyn": "Average",
                  "CodeRev": "No",
                  "CodeRevHrs": "nan",
                  "UnitTests": "No, but I think we should",
                  "PurchaseHow": "Not sure",
                  "PurchaseWhat": "I have little or no influence",
                  "LanguageWorkedWith": "HTML/CSS",
                  "LanguageDesireNextYear": "Elixir;HTML/CSS",
                  "DatabaseWorkedWith": "PostgreSQL",
                  "DatabaseDesireNextYear": "PostgreSQL",
                  "PlatformWorkedWith": "nan",
                  "PlatformDesireNextYear": "nan",
                  "WebFrameWorkedWith": "nan",
                  "WebFrameDesireNextYear": "Other(s):",
                  "MiscTechWorkedWith": "nan",
                  "MiscTechDesireNextYear": "nan",
                  "DevEnviron": "Vim;Visual Studio Code",
                  "OpSys": "Linux-based",
                  "Containers": "I do not use containers",
                  "BlockchainOrg": "nan",
                  "BlockchainIs": "nan",
                  "BetterLife": "Yes",
                  "ITperson": "Yes",
                  "OffOn": "Yes",
                  "SocialMedia": "Reddit",
                  "Extraversion": "In real life (in person)",
                  "ScreenName": "Username",
                  "SOVisit1st": "2011",
                  "SOVisitFreq": "A few times per week",
                  "SOVisitTo": "Find answers to specific questions;Learn how to do things I didn’t necessarily look for",
                  "SOFindAnswer": "6-10 times per week",
                  "SOTimeSaved": "They were about the same",
                  "SOHowMuchTime": "nan",
                  "SOAccount": "Yes",
                  "SOPartFreq": "Less than once per month or monthly",
                  "SOJobs": "Yes",
                  "EntTeams": "No, I've heard of them, but I am not part of a private Q&A instance",
                  "SOComm": "Neutral",
                  "WelcomeChange": "Just as welcome now as I felt last year",
                  "SONewContent": "Tech meetups or events in your area;Courses on technologies you're interested in",
                  "Age": 28,
                  "Gender": "Man",
                  "Trans": "No",
                  "Sexuality": "Straight / Heterosexual",
                  "Ethnicity": "nan",
                  "Dependents": "Yes",
                  "SurveyLength": "Appropriate in length",
                  "SurveyEase": "Neither easy nor difficult",
                  "_deepnote_index_column": 2
                }
              ]
            },
            "text/plain": "   Respondent                                         MainBranch Hobbyist  \\\n0           1             I am a student who is learning to code      Yes   \n1           2             I am a student who is learning to code       No   \n2           3  I am not primarily a developer, but I write co...      Yes   \n\n               OpenSourcer                                         OpenSource  \\\n0                    Never  The quality of OSS and closed source software ...   \n1  Less than once per year  The quality of OSS and closed source software ...   \n2                    Never  The quality of OSS and closed source software ...   \n\n                               Employment                 Country  \\\n0  Not employed, and not looking for work          United Kingdom   \n1      Not employed, but looking for work  Bosnia and Herzegovina   \n2                      Employed full-time                Thailand   \n\n          Student                                            EdLevel  \\\n0              No                          Primary/elementary school   \n1  Yes, full-time  Secondary school (e.g. American high school, G...   \n2              No           Bachelor’s degree (BA, BS, B.Eng., etc.)   \n\n                  UndergradMajor  ...  \\\n0                            NaN  ...   \n1                            NaN  ...   \n2  Web development or web design  ...   \n\n                             WelcomeChange  \\\n0  Just as welcome now as I felt last year   \n1  Just as welcome now as I felt last year   \n2  Just as welcome now as I felt last year   \n\n                                        SONewContent   Age Gender Trans  \\\n0  Tech articles written by other developers;Indu...  14.0    Man    No   \n1  Tech articles written by other developers;Indu...  19.0    Man    No   \n2  Tech meetups or events in your area;Courses on...  28.0    Man    No   \n\n                 Sexuality Ethnicity Dependents           SurveyLength  \\\n0  Straight / Heterosexual       NaN         No  Appropriate in length   \n1  Straight / Heterosexual       NaN         No  Appropriate in length   \n2  Straight / Heterosexual       NaN        Yes  Appropriate in length   \n\n                   SurveyEase  \n0  Neither easy nor difficult  \n1  Neither easy nor difficult  \n2  Neither easy nor difficult  \n\n[3 rows x 85 columns]",
            "text/html": "<div>\n<style scoped>\n    .dataframe tbody tr th:only-of-type {\n        vertical-align: middle;\n    }\n\n    .dataframe tbody tr th {\n        vertical-align: top;\n    }\n\n    .dataframe thead th {\n        text-align: right;\n    }\n</style>\n<table border=\"1\" class=\"dataframe\">\n  <thead>\n    <tr style=\"text-align: right;\">\n      <th></th>\n      <th>Respondent</th>\n      <th>MainBranch</th>\n      <th>Hobbyist</th>\n      <th>OpenSourcer</th>\n      <th>OpenSource</th>\n      <th>Employment</th>\n      <th>Country</th>\n      <th>Student</th>\n      <th>EdLevel</th>\n      <th>UndergradMajor</th>\n      <th>...</th>\n      <th>WelcomeChange</th>\n      <th>SONewContent</th>\n      <th>Age</th>\n      <th>Gender</th>\n      <th>Trans</th>\n      <th>Sexuality</th>\n      <th>Ethnicity</th>\n      <th>Dependents</th>\n      <th>SurveyLength</th>\n      <th>SurveyEase</th>\n    </tr>\n  </thead>\n  <tbody>\n    <tr>\n      <th>0</th>\n      <td>1</td>\n      <td>I am a student who is learning to code</td>\n      <td>Yes</td>\n      <td>Never</td>\n      <td>The quality of OSS and closed source software ...</td>\n      <td>Not employed, and not looking for work</td>\n      <td>United Kingdom</td>\n      <td>No</td>\n      <td>Primary/elementary school</td>\n      <td>NaN</td>\n      <td>...</td>\n      <td>Just as welcome now as I felt last year</td>\n      <td>Tech articles written by other developers;Indu...</td>\n      <td>14.0</td>\n      <td>Man</td>\n      <td>No</td>\n      <td>Straight / Heterosexual</td>\n      <td>NaN</td>\n      <td>No</td>\n      <td>Appropriate in length</td>\n      <td>Neither easy nor difficult</td>\n    </tr>\n    <tr>\n      <th>1</th>\n      <td>2</td>\n      <td>I am a student who is learning to code</td>\n      <td>No</td>\n      <td>Less than once per year</td>\n      <td>The quality of OSS and closed source software ...</td>\n      <td>Not employed, but looking for work</td>\n      <td>Bosnia and Herzegovina</td>\n      <td>Yes, full-time</td>\n      <td>Secondary school (e.g. American high school, G...</td>\n      <td>NaN</td>\n      <td>...</td>\n      <td>Just as welcome now as I felt last year</td>\n      <td>Tech articles written by other developers;Indu...</td>\n      <td>19.0</td>\n      <td>Man</td>\n      <td>No</td>\n      <td>Straight / Heterosexual</td>\n      <td>NaN</td>\n      <td>No</td>\n      <td>Appropriate in length</td>\n      <td>Neither easy nor difficult</td>\n    </tr>\n    <tr>\n      <th>2</th>\n      <td>3</td>\n      <td>I am not primarily a developer, but I write co...</td>\n      <td>Yes</td>\n      <td>Never</td>\n      <td>The quality of OSS and closed source software ...</td>\n      <td>Employed full-time</td>\n      <td>Thailand</td>\n      <td>No</td>\n      <td>Bachelor’s degree (BA, BS, B.Eng., etc.)</td>\n      <td>Web development or web design</td>\n      <td>...</td>\n      <td>Just as welcome now as I felt last year</td>\n      <td>Tech meetups or events in your area;Courses on...</td>\n      <td>28.0</td>\n      <td>Man</td>\n      <td>No</td>\n      <td>Straight / Heterosexual</td>\n      <td>NaN</td>\n      <td>Yes</td>\n      <td>Appropriate in length</td>\n      <td>Neither easy nor difficult</td>\n    </tr>\n  </tbody>\n</table>\n<p>3 rows × 85 columns</p>\n</div>"
          },
          "metadata": {}
        }
      ],
      "outputs_reference": null,
      "execution_count": 4,
      "block_group": "9bde1d2c10a34fd6839d40e0e114c91b"
    },
    {
      "cell_type": "markdown",
      "source": "# stem plot",
      "metadata": {
        "formattedRanges": [],
        "cell_id": "078ecbbb5030408aaa398e410bda9da8",
        "deepnote_cell_type": "text-cell-h1"
      },
      "block_group": "2937e45ee8f94e62881e49c9e8b9832a"
    },
    {
      "cell_type": "code",
      "source": "df[['Country','YearsCode']].isnull().sum()",
      "metadata": {
        "source_hash": "474dcad3",
        "execution_start": 1711520984741,
        "execution_millis": 218,
        "deepnote_to_be_reexecuted": false,
        "cell_id": "c3655ef1ffb04376a73926407f6b40fa",
        "deepnote_cell_type": "code"
      },
      "outputs": [
        {
          "output_type": "execute_result",
          "execution_count": 18,
          "data": {
            "text/plain": "Country      132\nYearsCode    945\ndtype: int64"
          },
          "metadata": {}
        }
      ],
      "outputs_reference": null,
      "execution_count": 18,
      "block_group": "95bb18869ce6482b915a35dfcf451fa0"
    },
    {
      "cell_type": "code",
      "source": "refres = df[['Country','YearsCode']].dropna(axis=0)",
      "metadata": {
        "source_hash": "f7520da",
        "execution_start": 1711521188822,
        "execution_millis": 48,
        "deepnote_to_be_reexecuted": false,
        "cell_id": "f96c954d487e4cf987c7bdad40797de6",
        "deepnote_cell_type": "code"
      },
      "outputs": [],
      "outputs_reference": null,
      "execution_count": 19,
      "block_group": "e28084811fae4158924514b84cdb5780"
    },
    {
      "cell_type": "code",
      "source": "refres[['Country','YearsCode']].isnull().sum()",
      "metadata": {
        "source_hash": "fd313f85",
        "execution_start": 1711522437193,
        "execution_millis": 31,
        "deepnote_to_be_reexecuted": false,
        "cell_id": "5ea9f28eb53244c58e6c223ee6adba08",
        "deepnote_cell_type": "code"
      },
      "outputs": [
        {
          "output_type": "execute_result",
          "execution_count": 24,
          "data": {
            "text/plain": "Country      0\nYearsCode    0\ndtype: int64"
          },
          "metadata": {}
        }
      ],
      "outputs_reference": null,
      "execution_count": 24,
      "block_group": "3e539f3ce3a04f61a04a0421f6ec1fb4"
    },
    {
      "cell_type": "code",
      "source": "refres['Country'] = refres['Country'].astype(str)\n\nrefres['YearsCode'] = refres['YearsCode'].astype(str)\nprint(refres['Country'].dtype ,refres['YearsCode'].dtype)",
      "metadata": {
        "source_hash": "2c781674",
        "execution_start": 1711523778728,
        "execution_millis": 116,
        "deepnote_to_be_reexecuted": false,
        "cell_id": "6a5c3a6d8489465e87125fdbb050b6b2",
        "deepnote_cell_type": "code"
      },
      "outputs": [
        {
          "name": "stdout",
          "text": "object object\n",
          "output_type": "stream"
        }
      ],
      "outputs_reference": null,
      "execution_count": 33,
      "block_group": "f986b7b0d85a47b4b2238c0f2e655eb2"
    },
    {
      "cell_type": "code",
      "source": "import numpy as np\nxaxis = np.arange(0,178,1)\ndic_country = {i:j for i,j in zip(refres['Country'].unique(),xaxis)}\nrefres['country_m_c'] = refres['Country'].map(dic_country)",
      "metadata": {
        "source_hash": "10e5be01",
        "execution_start": 1711524364631,
        "execution_millis": 165,
        "deepnote_to_be_reexecuted": false,
        "cell_id": "394f097cc98c41f3abd21de953d96a11",
        "deepnote_cell_type": "code"
      },
      "outputs": [],
      "outputs_reference": null,
      "execution_count": 44,
      "block_group": "a2daa06583474236a3ca9f4ce02c9cbd"
    },
    {
      "cell_type": "code",
      "source": "refres['YearsCode'] = refres['YearsCode'].replace('<NA>','0')\nrefres['YearsCode'].unique()",
      "metadata": {
        "source_hash": "27a7f24d",
        "execution_start": 1711524651312,
        "execution_millis": 134,
        "deepnote_to_be_reexecuted": false,
        "cell_id": "7559c5b15790461c9091aab072e208c4",
        "deepnote_cell_type": "code"
      },
      "outputs": [
        {
          "output_type": "execute_result",
          "execution_count": 50,
          "data": {
            "text/plain": "array(['4', '3', '16', '13', '6', '8', '12', '2', '5', '17', '10', '14',\n       '35', '7', '0', '30', '9', '26', '40', '19', '15', '20', '28',\n       '25', '1', '22', '11', '33', '50', '41', '18', '34', '24', '23',\n       '42', '27', '21', '36', '32', '39', '38', '31', '37', '29', '44',\n       '45', '48', '46', '43', '47', '49'], dtype=object)"
          },
          "metadata": {}
        }
      ],
      "outputs_reference": null,
      "execution_count": 50,
      "block_group": "f1ad14105ffb4e13baf1923bade69f91"
    },
    {
      "cell_type": "code",
      "source": "plt.figure(figsize=(10,20))\nplt.stem(refres['country_m_c'],refres['YearsCode'])\nplt.show()",
      "metadata": {
        "source_hash": "ad697fff",
        "execution_start": 1711524725249,
        "execution_millis": 5022,
        "deepnote_to_be_reexecuted": false,
        "cell_id": "2b43d13945d04f5889060f7a26d232d7",
        "deepnote_cell_type": "code"
      },
      "outputs": [
        {
          "data": {
            "text/plain": "<Figure size 1000x2000 with 1 Axes>",
            "image/png": "[encoded data removed]"
          },
          "metadata": {
            "image/png": {
              "width": 822,
              "height": 1583
            }
          },
          "output_type": "display_data"
        }
      ],
      "outputs_reference": null,
      "execution_count": 53,
      "block_group": "bb92646305d04a5a9081162e117da0a2"
    },
    {
      "cell_type": "markdown",
      "source": "<a style='text-decoration:none;line-height:16px;display:flex;color:#5B5B62;padding:10px;justify-content:end;' href='https://deepnote.com?utm_source=created-in-deepnote-cell&projectId=3128c5e9-85ba-4136-aeb8-73f1853178e0' target=\"_blank\">\n<img alt='Created in deepnote.com' style='display:inline;max-height:16px;margin:0px;margin-right:7.5px;' src='data:image/svg+xml;base64,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' > </img>\nCreated in <span style='font-weight:600;margin-left:4px;'>Deepnote</span></a>",
      "metadata": {
        "created_in_deepnote_cell": true,
        "deepnote_cell_type": "markdown"
      }
    }
  ],
  "nbformat": 4,
  "nbformat_minor": 0,
  "metadata": {
    "deepnote_persisted_session": {
      "createdAt": "2024-03-26T17:30:38.008Z"
    },
    "deepnote_notebook_id": "1058672322724f268d5ca5e50e0af755",
    "deepnote_execution_queue": []
  }
}